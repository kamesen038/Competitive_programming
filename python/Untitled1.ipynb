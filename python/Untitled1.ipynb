{
 "cells": [
  {
   "cell_type": "code",
   "execution_count": 1,
   "metadata": {},
   "outputs": [],
   "source": [
    "from ipywidgets import Textarea\n",
    "import compe"
   ]
  },
  {
   "cell_type": "code",
   "execution_count": 2,
   "metadata": {},
   "outputs": [
    {
     "data": {
      "application/vnd.jupyter.widget-view+json": {
       "model_id": "c821d67943844873b6427c22f23b8ff3",
       "version_major": 2,
       "version_minor": 0
      },
      "text/plain": [
       "Textarea(value='')"
      ]
     },
     "metadata": {},
     "output_type": "display_data"
    }
   ],
   "source": [
    "open = compe.custom_open()\n",
    "input = compe.custom_input()\n",
    "\n",
    "text_area = Textarea()\n",
    "text_area.observe(open.updater, names='value')\n",
    "display(text_area)\n"
   ]
  },
  {
   "cell_type": "code",
   "execution_count": 1,
   "metadata": {},
   "outputs": [
    {
     "ename": "SyntaxError",
     "evalue": "invalid syntax (<ipython-input-1-1628180bd792>, line 1)",
     "output_type": "error",
     "traceback": [
      "\u001b[0;36m  File \u001b[0;32m\"<ipython-input-1-1628180bd792>\"\u001b[0;36m, line \u001b[0;32m1\u001b[0m\n\u001b[0;31m    import static org.hamcrest.CoreMatchers.is;\u001b[0m\n\u001b[0m                    ^\u001b[0m\n\u001b[0;31mSyntaxError\u001b[0m\u001b[0;31m:\u001b[0m invalid syntax\n"
     ]
    }
   ],
   "source": [
    "import static org.hamcrest.CoreMatchers.is;\n",
    "\n",
    "import java.io.ByteArrayInputStream;\n",
    "import java.io.ByteArrayOutputStream;\n",
    "import java.io.PrintStream;\n",
    "\n",
    "import org.junit.Assert;\n",
    "import org.junit.Test;\n",
    "\n",
    "public class MainTest {\n",
    "\n",
    "\t@Test\n",
    "\tpublic void 入力例_1() throws Exception {\n",
    "\t\tString input = \n",
    "\t\t\t\"4 3\" + System.lineSeparator() +\n",
    "\t\t\t\"3 3 -4 -2\";\n",
    "\t\tString output = \n",
    "\t\t\t\"-6\";\n",
    "\n",
    "\t\tassertIO(input, output);\n",
    "\t}\n",
    "\n",
    "\t@Test\n",
    "\tpublic void 入力例_2() throws Exception {\n",
    "\t\tString input = \n",
    "\t\t\t\"10 40\" + System.lineSeparator() +\n",
    "\t\t\t\"5 4 3 2 -1 0 0 0 0 0\";\n",
    "\t\tString output = \n",
    "\t\t\t\"6\";\n",
    "\n",
    "\t\tassertIO(input, output);\n",
    "\t}\n",
    "\n",
    "\t@Test\n",
    "\tpublic void 入力例_3() throws Exception {\n",
    "\t\tString input = \n",
    "\t\t\t\"30 413\" + System.lineSeparator() +\n",
    "\t\t\t\"-170202098 -268409015 537203564 983211703 21608710 -443999067 -937727165 -97596546 -372334013 398994917 -972141167 798607104 -949068442 -959948616 37909651 0 886627544 -20098238 0 -948955241 0 -214720580 277222296 -18897162 834475626 0 -425610555 110117526 663621752 0\";\n",
    "\t\tString output = \n",
    "\t\t\t\"448283280358331064\";\n",
    "\n",
    "\t\tassertIO(input, output);\n",
    "\t}\n",
    "\n",
    "\tprivate void assertIO(String input, String output) throws Exception {\n",
    "\t\tByteArrayInputStream in = new ByteArrayInputStream(input.getBytes());\n",
    "\t\tSystem.setIn(in);\n",
    "\n",
    "\t\tByteArrayOutputStream out = new ByteArrayOutputStream();\n",
    "\t\tSystem.setOut(new PrintStream(out));\n",
    "\n",
    "\t\tMain.main(new String[0]);\n",
    "\n",
    "\t\tAssert.assertThat(out.toString(), is(output + System.lineSeparator()));\n",
    "\t}\n",
    "}\n"
   ]
  },
  {
   "cell_type": "code",
   "execution_count": 7,
   "metadata": {},
   "outputs": [
    {
     "name": "stdout",
     "output_type": "stream",
     "text": [
      "-6\n"
     ]
    }
   ],
   "source": [
    "import numpy as np\n",
    "N,K=map(int,input().split())\n",
    "A=list(map(int,input().split()))\n",
    "\n",
    "A=np.array(A)\n",
    "\n",
    "A_pos=np.sort(A[A>0])\n",
    "A_neg=np.sort(A[A<0])\n",
    "A_neg2=-A_neg[::-1]\n",
    "n_pos=len(A_pos)\n",
    "n_neg=len(A_neg)\n",
    "n_zero=N-n_pos-n_neg\n",
    "\n",
    "def position_in_neg(x):\n",
    "    y=n_pos-np.searchsorted(A_pos,x//A_neg,side='right')\n",
    "    return y.sum()\n",
    "\n",
    "def position_in_pos(x):\n",
    "    z=np.searchsorted(A_pos,-(-x//A_pos),side='left')\n",
    "    w=np.searchsorted(A_neg2,-(-x//A_neg2),side='left')\n",
    "    tmp=len(A_pos[A_pos**2<x])+len(A_neg2[A_neg2**2<x])\n",
    "    return (z.sum()+w.sum()-tmp)//2\n",
    "\n",
    "def position(x):\n",
    "    if x<0:\n",
    "        return position_in_neg(x)\n",
    "    elif x==0:\n",
    "        return n_pos*n_neg\n",
    "    else:\n",
    "        return position_in_pos(x)+n_pos*n_neg+(n_pos+n_neg)*n_zero+n_zero*(n_zero-1)//2\n",
    "\n",
    "l=-pow(10,18)\n",
    "r=pow(10,18)\n",
    "while(r-l>1):\n",
    "    mid=(l+r)//2\n",
    "    if position(mid)<K:\n",
    "        l=mid\n",
    "    else:\n",
    "        r=mid\n",
    "print(l)"
   ]
  },
  {
   "cell_type": "code",
   "execution_count": 6,
   "metadata": {},
   "outputs": [
    {
     "data": {
      "text/plain": [
       "array([2, 4])"
      ]
     },
     "execution_count": 6,
     "metadata": {},
     "output_type": "execute_result"
    }
   ],
   "source": [
    "-A_neg[::-1]"
   ]
  },
  {
   "cell_type": "code",
   "execution_count": 391,
   "metadata": {},
   "outputs": [
    {
     "data": {
      "text/plain": [
       "array([7, 6, 5, 4, 3, 2, 1])"
      ]
     },
     "execution_count": 391,
     "metadata": {},
     "output_type": "execute_result"
    }
   ],
   "source": [
    "np.flip([1,2,3,4,5,6,7])"
   ]
  },
  {
   "cell_type": "code",
   "execution_count": null,
   "metadata": {},
   "outputs": [],
   "source": []
  },
  {
   "cell_type": "code",
   "execution_count": 2,
   "metadata": {},
   "outputs": [],
   "source": [
    "    def numTest(x):\n",
    "        if x.isdigit():\n",
    "            return x\n",
    "        else:\n",
    "            return \"Not a number!\""
   ]
  },
  {
   "cell_type": "code",
   "execution_count": 3,
   "metadata": {},
   "outputs": [
    {
     "ename": "AttributeError",
     "evalue": "'int' object has no attribute 'isdigit'",
     "output_type": "error",
     "traceback": [
      "\u001b[0;31m---------------------------------------------------------------------------\u001b[0m",
      "\u001b[0;31mAttributeError\u001b[0m                            Traceback (most recent call last)",
      "\u001b[0;32m<ipython-input-3-536d2dcb1607>\u001b[0m in \u001b[0;36m<module>\u001b[0;34m\u001b[0m\n\u001b[0;32m----> 1\u001b[0;31m \u001b[0mnumTest\u001b[0m\u001b[0;34m(\u001b[0m\u001b[0;36m12313\u001b[0m\u001b[0;34m)\u001b[0m\u001b[0;34m\u001b[0m\u001b[0;34m\u001b[0m\u001b[0m\n\u001b[0m",
      "\u001b[0;32m<ipython-input-2-97cf77e53e87>\u001b[0m in \u001b[0;36mnumTest\u001b[0;34m(x)\u001b[0m\n\u001b[1;32m      1\u001b[0m \u001b[0;32mdef\u001b[0m \u001b[0mnumTest\u001b[0m\u001b[0;34m(\u001b[0m\u001b[0mx\u001b[0m\u001b[0;34m)\u001b[0m\u001b[0;34m:\u001b[0m\u001b[0;34m\u001b[0m\u001b[0;34m\u001b[0m\u001b[0m\n\u001b[0;32m----> 2\u001b[0;31m     \u001b[0;32mif\u001b[0m \u001b[0mx\u001b[0m\u001b[0;34m.\u001b[0m\u001b[0misdigit\u001b[0m\u001b[0;34m(\u001b[0m\u001b[0;34m)\u001b[0m\u001b[0;34m:\u001b[0m\u001b[0;34m\u001b[0m\u001b[0;34m\u001b[0m\u001b[0m\n\u001b[0m\u001b[1;32m      3\u001b[0m         \u001b[0;32mreturn\u001b[0m \u001b[0mx\u001b[0m\u001b[0;34m\u001b[0m\u001b[0;34m\u001b[0m\u001b[0m\n\u001b[1;32m      4\u001b[0m     \u001b[0;32melse\u001b[0m\u001b[0;34m:\u001b[0m\u001b[0;34m\u001b[0m\u001b[0;34m\u001b[0m\u001b[0m\n\u001b[1;32m      5\u001b[0m         \u001b[0;32mreturn\u001b[0m \u001b[0;34m\"Not a number!\"\u001b[0m\u001b[0;34m\u001b[0m\u001b[0;34m\u001b[0m\u001b[0m\n",
      "\u001b[0;31mAttributeError\u001b[0m: 'int' object has no attribute 'isdigit'"
     ]
    }
   ],
   "source": [
    "numTest(12313)"
   ]
  },
  {
   "cell_type": "code",
   "execution_count": null,
   "metadata": {},
   "outputs": [],
   "source": []
  },
  {
   "cell_type": "code",
   "execution_count": null,
   "metadata": {},
   "outputs": [],
   "source": []
  },
  {
   "cell_type": "code",
   "execution_count": null,
   "metadata": {},
   "outputs": [],
   "source": []
  },
  {
   "cell_type": "code",
   "execution_count": 360,
   "metadata": {},
   "outputs": [
    {
     "name": "stdout",
     "output_type": "stream",
     "text": [
      "0 1000000000000000001\n",
      "0 500000000000000000\n",
      "250000000000000000 500000000000000000\n",
      "375000000000000000 500000000000000000\n",
      "437500000000000000 500000000000000000\n",
      "437500000000000000 468750000000000000\n",
      "437500000000000000 453125000000000000\n",
      "445312500000000000 453125000000000000\n",
      "445312500000000000 449218750000000000\n",
      "447265625000000000 449218750000000000\n",
      "448242187500000000 449218750000000000\n",
      "448242187500000000 448730468750000000\n",
      "448242187500000000 448486328125000000\n",
      "448242187500000000 448364257812500000\n",
      "448242187500000000 448303222656250000\n",
      "448272705078125000 448303222656250000\n",
      "448272705078125000 448287963867187500\n",
      "448280334472656250 448287963867187500\n",
      "448280334472656250 448284149169921875\n",
      "448282241821289062 448284149169921875\n",
      "448283195495605468 448284149169921875\n",
      "448283195495605468 448283672332763671\n",
      "448283195495605468 448283433914184569\n",
      "448283195495605468 448283314704895018\n",
      "448283255100250243 448283314704895018\n",
      "448283255100250243 448283284902572630\n",
      "448283270001411436 448283284902572630\n",
      "448283277451992033 448283284902572630\n",
      "448283277451992033 448283281177282331\n",
      "448283279314637182 448283281177282331\n",
      "448283280245959756 448283281177282331\n",
      "448283280245959756 448283280711621043\n",
      "448283280245959756 448283280478790399\n",
      "448283280245959756 448283280362375077\n",
      "448283280304167416 448283280362375077\n",
      "448283280333271246 448283280362375077\n",
      "448283280347823161 448283280362375077\n",
      "448283280355099119 448283280362375077\n",
      "448283280355099119 448283280358737098\n",
      "448283280356918108 448283280358737098\n",
      "448283280357827603 448283280358737098\n",
      "448283280358282350 448283280358737098\n",
      "448283280358282350 448283280358509724\n",
      "448283280358282350 448283280358396037\n",
      "448283280358282350 448283280358339193\n",
      "448283280358310771 448283280358339193\n",
      "448283280358324982 448283280358339193\n",
      "448283280358324982 448283280358332087\n",
      "448283280358328534 448283280358332087\n",
      "448283280358330310 448283280358332087\n",
      "448283280358330310 448283280358331198\n",
      "448283280358330754 448283280358331198\n",
      "448283280358330976 448283280358331198\n",
      "448283280358330976 448283280358331087\n",
      "448283280358331031 448283280358331087\n",
      "448283280358331059 448283280358331087\n",
      "448283280358331059 448283280358331073\n",
      "448283280358331059 448283280358331066\n",
      "448283280358331062 448283280358331066\n",
      "448283280358331064 448283280358331066\n",
      "448283280358331064 448283280358331065\n",
      "448283280358331064\n"
     ]
    }
   ],
   "source": [
    "import numpy as np\n",
    "\n",
    "# x未満のA[i]*A[j]の数\n",
    "def count_pair(x):\n",
    "    # A内のペアで積がxより小さいものの個数\n",
    "    # まず(i,j)と(j,i)を重複して数える\n",
    "    cnt = 0\n",
    "    # B=x/A[i]はA[j]の候補\n",
    "    # A[i]<0なる各iに対してA[j]>x/A[i]なるA[j]達の位置\n",
    "    p=np.searchsorted(A, x//A_nega, side='right')\n",
    "    # 上のA[j]達より大きいAの要素\n",
    "    p=N-p\n",
    "    # 上のA[j]達より大きいAの要素の数\n",
    "    cnt += p.sum()\n",
    "    if x > 0:\n",
    "        # 各iに対してA[j]=0なるjの個数\n",
    "        cnt += len(A_zero)*N\n",
    "    # A[i]>0なる各iに対してA[j]<x/A[i]なるjの個数\n",
    "    cnt += np.searchsorted(A, -(-x//A_posi), side='left').sum()\n",
    "    # i=jを除いてから2で割る\n",
    "    cnt = (cnt-(A**2 < x).sum())//2\n",
    "    return cnt\n",
    "\n",
    "\n",
    "# count_pair(x)<Kをみたすxの最大値を二分探索で求める\n",
    "N, K = map(int, input().split())\n",
    "* A, = map(int, input().split())\n",
    "A = np.array(A)\n",
    "A = np.sort(A)\n",
    "A_posi = A[A > 0]\n",
    "A_zero = A[A == 0]\n",
    "A_nega = A[A < 0]\n",
    "inf = 10**18+1\n",
    "l, r = -inf, inf\n",
    "# しゃくとり法\n",
    "while r - l > 1:\n",
    "    c = (l + r) // 2\n",
    "    if count_pair(c) < K:\n",
    "        l = c\n",
    "    else:\n",
    "        r = c\n",
    "    print(l,r)\n",
    "print(l)\n",
    "\n"
   ]
  },
  {
   "cell_type": "code",
   "execution_count": null,
   "metadata": {},
   "outputs": [],
   "source": []
  },
  {
   "cell_type": "code",
   "execution_count": 15,
   "metadata": {},
   "outputs": [
    {
     "name": "stdout",
     "output_type": "stream",
     "text": [
      "-6\n"
     ]
    }
   ],
   "source": [
    "\n",
    "\n",
    "import numpy as np\n",
    "N,K=map(int,input().split())\n",
    "A=list(map(int,input().split()))\n",
    "\n",
    "A=np.array(A)\n",
    "\n",
    "A_pos=np.sort(A[A>0])\n",
    "A_neg=np.sort(A[A<0])\n",
    "A_neg2=np.sort(-A_neg)\n",
    "\n",
    "np=len(A_pos)\n",
    "nn=len(A_neg)\n",
    "nz=N-np-nn\n",
    "n_post=np*(np-1)//2+(nn*(nn-1))//2\n",
    "n_zero=nz*(np+nn)+nz*(nz-1)//2\n",
    "n_neg=np*nn\n",
    "\n",
    "\n",
    "\n",
    "#array内で積がx未満になるペアの数\n",
    "def syakutori_pos1(x):\n",
    "    res=0\n",
    "    j=np-1\n",
    "    y1=-(-x//A_pos)\n",
    "    for i in range(np):\n",
    "        tmp=0\n",
    "#         j=n-1\n",
    "\n",
    "        while j!=-1:\n",
    "            \n",
    "            if A_pos[j]>=y1[i]:\n",
    "                j-=1\n",
    "            else:\n",
    "                break\n",
    "        \n",
    "        tmp+=j+1\n",
    "        if A_pos[i]**2<x:\n",
    "            tmp-=1\n",
    "\n",
    "        res+=tmp\n",
    "    res=res//2\n",
    "    return res\n",
    "\n",
    "\n",
    "def syakutori_pos2(x):\n",
    "    res=0\n",
    "    j=nn-1\n",
    "    y2=-(-x//A_neg2)\n",
    "    for i in range(nn):\n",
    "        tmp=0\n",
    "#         j=n-1\n",
    "\n",
    "        while j!=-1:\n",
    "            \n",
    "            if A_neg2[j]>=y2[i]:\n",
    "                j-=1\n",
    "            else:\n",
    "                break\n",
    "        \n",
    "        tmp+=j+1\n",
    "        if A_neg2[i]**2<x:\n",
    "            tmp-=1\n",
    "\n",
    "        res+=tmp\n",
    "    res=res//2\n",
    "    return res\n",
    "\n",
    "\n",
    "#array内で積がx未満になるペアの数\n",
    "\n",
    "def syakutori_neg(x):\n",
    "    yn=x//A_neg\n",
    "#     print(A_pos,y)\n",
    "    res=0\n",
    "    i=0\n",
    "    j=np-1\n",
    "    for z in reversed(yn):\n",
    "        while(j!=-1):\n",
    "            if z<A_pos[j]:\n",
    "                j-=1\n",
    "            else:\n",
    "                break\n",
    "#         print(z,j+1)\n",
    "        res+=j+1\n",
    "    return np*nn-res\n",
    "\n",
    "\n",
    "\n",
    "def syakutori(x):\n",
    "    if x>0:\n",
    "        return syakutori_pos1(x)+syakutori_pos2(x)+n_neg+n_zero\n",
    "    elif x==0:\n",
    "        return n_neg\n",
    "    else:\n",
    "        return syakutori_neg(x)\n",
    "\n",
    "\n",
    "\n",
    "\n",
    "r=10**18\n",
    "l=-10**18\n",
    "while(r-l>1):\n",
    "    mid=(l+r)//2\n",
    "    z=syakutori(mid)\n",
    "#     z= count_pair(mid)\n",
    "#     print(l,r)\n",
    "    if z < K:\n",
    "        l=mid\n",
    "    else:\n",
    "        r=mid\n",
    "print(l)"
   ]
  },
  {
   "cell_type": "code",
   "execution_count": 12,
   "metadata": {},
   "outputs": [
    {
     "data": {
      "text/plain": [
       "4"
      ]
     },
     "execution_count": 12,
     "metadata": {},
     "output_type": "execute_result"
    }
   ],
   "source": [
    "syakutori(-2)"
   ]
  },
  {
   "cell_type": "code",
   "execution_count": 10,
   "metadata": {},
   "outputs": [
    {
     "ename": "NameError",
     "evalue": "name 'count_pair' is not defined",
     "output_type": "error",
     "traceback": [
      "\u001b[0;31m---------------------------------------------------------------------------\u001b[0m",
      "\u001b[0;31mNameError\u001b[0m                                 Traceback (most recent call last)",
      "\u001b[0;32m<ipython-input-10-8b790cecd453>\u001b[0m in \u001b[0;36m<module>\u001b[0;34m\u001b[0m\n\u001b[0;32m----> 1\u001b[0;31m \u001b[0mcount_pair\u001b[0m\u001b[0;34m(\u001b[0m\u001b[0;34m-\u001b[0m\u001b[0;36m10\u001b[0m\u001b[0;34m)\u001b[0m\u001b[0;34m\u001b[0m\u001b[0;34m\u001b[0m\u001b[0m\n\u001b[0m",
      "\u001b[0;31mNameError\u001b[0m: name 'count_pair' is not defined"
     ]
    }
   ],
   "source": [
    "count_pair(-10)"
   ]
  },
  {
   "cell_type": "code",
   "execution_count": null,
   "metadata": {},
   "outputs": [],
   "source": []
  },
  {
   "cell_type": "code",
   "execution_count": null,
   "metadata": {},
   "outputs": [],
   "source": []
  },
  {
   "cell_type": "code",
   "execution_count": null,
   "metadata": {},
   "outputs": [],
   "source": []
  },
  {
   "cell_type": "code",
   "execution_count": null,
   "metadata": {},
   "outputs": [],
   "source": []
  },
  {
   "cell_type": "code",
   "execution_count": 1750,
   "metadata": {},
   "outputs": [],
   "source": [
    "#array内で積がx未満になるペアの数\n",
    "def syakutori_neg2(x,array_pos,array_neg):\n",
    "    n_pos=len(array_pos)\n",
    "    n_neg=len(array_neg)\n",
    "    y=x//array_neg\n",
    "#     print(A_pos,y)\n",
    "    res=0\n",
    "    i=0\n",
    "    j=n_pos-1\n",
    "    for z in reversed(y):\n",
    "        while(j!=-1):\n",
    "            if z<array_pos[j]:\n",
    "                j-=1\n",
    "            else:\n",
    "                break\n",
    "#         print(z,j+1)\n",
    "        res+=j+1\n",
    "    return n_pos*n_neg-res"
   ]
  },
  {
   "cell_type": "code",
   "execution_count": 1782,
   "metadata": {},
   "outputs": [],
   "source": [
    "x=-30"
   ]
  },
  {
   "cell_type": "code",
   "execution_count": 1783,
   "metadata": {},
   "outputs": [
    {
     "data": {
      "text/plain": [
       "0"
      ]
     },
     "execution_count": 1783,
     "metadata": {},
     "output_type": "execute_result"
    }
   ],
   "source": [
    "syakutori_neg(x,A_pos,A_neg)"
   ]
  },
  {
   "cell_type": "code",
   "execution_count": 1784,
   "metadata": {},
   "outputs": [
    {
     "name": "stdout",
     "output_type": "stream",
     "text": [
      "[3 5] [ 7 15]\n",
      "15 2\n",
      "7 2\n"
     ]
    },
    {
     "data": {
      "text/plain": [
       "0"
      ]
     },
     "execution_count": 1784,
     "metadata": {},
     "output_type": "execute_result"
    }
   ],
   "source": [
    "syakutori_neg2(x,A_pos,A_neg)"
   ]
  },
  {
   "cell_type": "code",
   "execution_count": null,
   "metadata": {},
   "outputs": [],
   "source": []
  },
  {
   "cell_type": "code",
   "execution_count": 1603,
   "metadata": {},
   "outputs": [],
   "source": [
    "A_pos=[3,5]\n",
    "A_pos=np.array(A_pos)"
   ]
  },
  {
   "cell_type": "code",
   "execution_count": 1515,
   "metadata": {},
   "outputs": [
    {
     "data": {
      "text/plain": [
       "array([-4, -2])"
      ]
     },
     "execution_count": 1515,
     "metadata": {},
     "output_type": "execute_result"
    }
   ],
   "source": [
    "A_neg"
   ]
  },
  {
   "cell_type": "code",
   "execution_count": null,
   "metadata": {},
   "outputs": [],
   "source": []
  },
  {
   "cell_type": "code",
   "execution_count": 1447,
   "metadata": {},
   "outputs": [
    {
     "data": {
      "text/plain": [
       "array([-4, -2])"
      ]
     },
     "execution_count": 1447,
     "metadata": {},
     "output_type": "execute_result"
    }
   ],
   "source": [
    "A_neg"
   ]
  },
  {
   "cell_type": "code",
   "execution_count": null,
   "metadata": {},
   "outputs": [],
   "source": []
  },
  {
   "cell_type": "code",
   "execution_count": null,
   "metadata": {},
   "outputs": [],
   "source": []
  },
  {
   "cell_type": "code",
   "execution_count": null,
   "metadata": {},
   "outputs": [],
   "source": []
  },
  {
   "cell_type": "code",
   "execution_count": null,
   "metadata": {},
   "outputs": [],
   "source": []
  },
  {
   "cell_type": "code",
   "execution_count": null,
   "metadata": {},
   "outputs": [],
   "source": []
  },
  {
   "cell_type": "code",
   "execution_count": 1231,
   "metadata": {},
   "outputs": [
    {
     "name": "stdout",
     "output_type": "stream",
     "text": [
      "pos\n"
     ]
    }
   ],
   "source": [
    "if K<n_neg:\n",
    "    print(\"neg\")\n",
    "    syakutori_neg()\n",
    "elif n_neg<=K and K< n_neg+n_zero:\n",
    "    print(0)\n",
    "else:\n",
    "    print(\"pos\")\n",
    "    k=K-n_neg-n_zero"
   ]
  },
  {
   "cell_type": "code",
   "execution_count": 480,
   "metadata": {},
   "outputs": [
    {
     "data": {
      "text/plain": [
       "[1, 3, 3, 8, 9, 11]"
      ]
     },
     "execution_count": 480,
     "metadata": {},
     "output_type": "execute_result"
    }
   ],
   "source": [
    "A_pos"
   ]
  },
  {
   "cell_type": "code",
   "execution_count": 526,
   "metadata": {},
   "outputs": [],
   "source": [
    "x=10"
   ]
  },
  {
   "cell_type": "code",
   "execution_count": 527,
   "metadata": {},
   "outputs": [
    {
     "name": "stdout",
     "output_type": "stream",
     "text": [
      "0 4 9\n",
      "1 4 27\n",
      "2 4 27\n",
      "3 4 72\n",
      "4 4 81\n",
      "5 5 121\n"
     ]
    }
   ],
   "source": [
    "res=0\n",
    "right=0\n",
    "count=0\n",
    "for left in range(n-1):\n",
    "    while(right < len(A_pos)-1 and A_pos[left]*A_pos[right+1]<x):\n",
    "        right+=1\n",
    "    print(left,right, A_pos[left]*A_pos[right])\n",
    "    res=max(res,right - left)\n",
    "    if left<right and A_pos[left]*A_pos[right]<x:\n",
    "        count+=right - left\n",
    "    if left == right:\n",
    "        right+=1"
   ]
  },
  {
   "cell_type": "code",
   "execution_count": 528,
   "metadata": {},
   "outputs": [
    {
     "data": {
      "text/plain": [
       "4"
      ]
     },
     "execution_count": 528,
     "metadata": {},
     "output_type": "execute_result"
    }
   ],
   "source": [
    "count"
   ]
  },
  {
   "cell_type": "code",
   "execution_count": 537,
   "metadata": {},
   "outputs": [
    {
     "name": "stdout",
     "output_type": "stream",
     "text": [
      "6\n"
     ]
    }
   ],
   "source": [
    "n,k=map(int,input().split())\n",
    "arr=list(map(int,input().split()))\n",
    "arr=sorted(arr)\n",
    "nc=0\n",
    "zc=0\n",
    "pc=0\n",
    "for i in range(n):\n",
    "  if arr[i]<0:\n",
    "    nc+=1\n",
    "  elif arr[i]==0:\n",
    "    zc+=1\n",
    "  else:\n",
    "    pc+=1\n",
    "ncc=nc*pc\n",
    "zcc=zc*(nc+pc)+(zc*(zc-1))//2\n",
    "pcc=(nc*(nc-1))//2+(pc*(pc-1))//2\n",
    "if k<=ncc:\n",
    "  arr1=[]\n",
    "  arr2=[]\n",
    "  for i in range(n):\n",
    "    if arr[i]<0:\n",
    "      arr1.append(-arr[i])\n",
    "    elif arr[i]>0:\n",
    "      arr2.append(arr[i])\n",
    "  arr1=arr1[::-1]\n",
    "  c1=len(arr1)\n",
    "  c2=len(arr2)\n",
    "  l=0\n",
    "  r=10**18+1\n",
    "  k=ncc-k\n",
    "  while r-l!=1:\n",
    "    mid=(l+r)//2\n",
    "    cnt=0\n",
    "    pos=c2-1\n",
    "    for i in range(c1):\n",
    "      while pos!=-1:\n",
    "        if arr2[pos]>mid//arr1[i]:\n",
    "          pos-=1\n",
    "        else:\n",
    "          break        \n",
    "      cnt+=pos+1\n",
    "    if cnt>k:\n",
    "      r=mid\n",
    "    else:\n",
    "      l=mid\n",
    "  print(-r)\n",
    "elif k<=(ncc+zcc):\n",
    "  print(0)\n",
    "else:\n",
    "  arr1=[]\n",
    "  arr2=[]\n",
    "  for i in range(n):\n",
    "    if arr[i]<0:\n",
    "      arr1.append(-arr[i])\n",
    "    elif arr[i]>0:\n",
    "      arr2.append(arr[i])\n",
    "  arr1=arr1[::-1]\n",
    "  c1=len(arr1)\n",
    "  c2=len(arr2)\n",
    "  l=0\n",
    "  r=10**18+1\n",
    "  k-=(ncc+zcc)\n",
    "  while r-l!=1:\n",
    "    mid=(l+r)//2\n",
    "    cnt1=0\n",
    "    pos1=c1-1\n",
    "    for i in range(c1):\n",
    "      tmp=0\n",
    "      while pos1!=-1:\n",
    "        if arr1[pos1]>mid//arr1[i]:\n",
    "          pos1-=1\n",
    "        else:\n",
    "          break\n",
    "      tmp+=pos1+1\n",
    "      if arr1[i]**2<mid:\n",
    "        tmp-=1\n",
    "      cnt1+=tmp\n",
    "    cnt1=cnt1//2\n",
    "    cnt2=0\n",
    "    pos2=c2-1\n",
    "    for i in range(c2):\n",
    "      tmp=0\n",
    "      while pos2!=-1:\n",
    "        if arr2[pos2]>mid//arr2[i]:\n",
    "          pos2-=1\n",
    "        else:\n",
    "          break\n",
    "      tmp+=pos2+1\n",
    "      if arr2[i]**2<mid:\n",
    "        tmp-=1\n",
    "      cnt2+=tmp\n",
    "    cnt2=cnt2//2\n",
    "    cnt=cnt1+cnt2\n",
    "    if cnt>=k:\n",
    "      r=mid\n",
    "    else:\n",
    "      l=mid\n",
    "  print(r)\n"
   ]
  },
  {
   "cell_type": "code",
   "execution_count": null,
   "metadata": {},
   "outputs": [],
   "source": []
  },
  {
   "cell_type": "code",
   "execution_count": null,
   "metadata": {},
   "outputs": [],
   "source": []
  },
  {
   "cell_type": "code",
   "execution_count": 531,
   "metadata": {},
   "outputs": [
    {
     "ename": "IndentationError",
     "evalue": "expected an indented block (<ipython-input-531-3642cf2a60bd>, line 4)",
     "output_type": "error",
     "traceback": [
      "\u001b[0;36m  File \u001b[0;32m\"<ipython-input-531-3642cf2a60bd>\"\u001b[0;36m, line \u001b[0;32m4\u001b[0m\n\u001b[0;31m    if arr[i]<0:\u001b[0m\n\u001b[0m     ^\u001b[0m\n\u001b[0;31mIndentationError\u001b[0m\u001b[0;31m:\u001b[0m expected an indented block\n"
     ]
    }
   ],
   "source": [
    "arr1=[]\n",
    "arr2=[]\n",
    "for i in range(n):\n",
    "if arr[i]<0:\n",
    "  arr1.append(-arr[i])\n",
    "elif arr[i]>0:\n",
    "  arr2.append(arr[i])\n",
    "arr1=arr1[::-1]\n",
    "c1=len(arr1)\n",
    "c2=len(arr2)\n",
    "l=0\n",
    "r=10**18+1\n",
    "k=ncc-k\n",
    "while r-l!=1:\n",
    "mid=(l+r)//2\n",
    "cnt=0\n",
    "pos=c2-1\n",
    "for i in range(c1):\n",
    "  while pos!=-1:\n",
    "    if arr2[pos]>mid//arr1[i]:\n",
    "      pos-=1\n",
    "    else:\n",
    "      break        \n",
    "  cnt+=pos+1\n",
    "if cnt>k:\n",
    "  r=mid\n",
    "else:\n",
    "  l=mid\n",
    "print(-r)"
   ]
  },
  {
   "cell_type": "code",
   "execution_count": 553,
   "metadata": {},
   "outputs": [],
   "source": [
    "  n,k=map(int,input().split())\n",
    "  arr=list(map(int,input().split()))\n",
    "  arr=sorted(arr)\n",
    "  nc=0\n",
    "  zc=0\n",
    "  pc=0\n",
    "  for i in range(n):\n",
    "    if arr[i]<0:\n",
    "      nc+=1\n",
    "    elif arr[i]==0:\n",
    "      zc+=1\n",
    "    else:\n",
    "      pc+=1\n",
    "  ncc=nc*pc\n",
    "  zcc=zc*(nc+pc)+(zc*(zc-1))//2\n",
    "  pcc=(nc*(nc-1))//2+(pc*(pc-1))//2\n",
    "  arr1=[] # 負の数\n",
    "  arr2=[] # 正の数\n",
    "  for i in range(n):\n",
    "    if arr[i]<0:\n",
    "      arr1.append(-arr[i])\n",
    "    elif arr[i]>0:\n",
    "      arr2.append(arr[i])\n"
   ]
  },
  {
   "cell_type": "code",
   "execution_count": 554,
   "metadata": {},
   "outputs": [
    {
     "data": {
      "text/plain": [
       "[-1, 0, 0, 0, 0, 0, 2, 3, 4, 5]"
      ]
     },
     "execution_count": 554,
     "metadata": {},
     "output_type": "execute_result"
    }
   ],
   "source": [
    "arr"
   ]
  },
  {
   "cell_type": "code",
   "execution_count": 555,
   "metadata": {},
   "outputs": [
    {
     "data": {
      "text/plain": [
       "[1]"
      ]
     },
     "execution_count": 555,
     "metadata": {},
     "output_type": "execute_result"
    }
   ],
   "source": [
    "arr1"
   ]
  },
  {
   "cell_type": "code",
   "execution_count": 556,
   "metadata": {},
   "outputs": [],
   "source": [
    "arr1=arr1[::-1]"
   ]
  },
  {
   "cell_type": "code",
   "execution_count": 549,
   "metadata": {},
   "outputs": [
    {
     "data": {
      "text/plain": [
       "[2, 3, 4, 5]"
      ]
     },
     "execution_count": 549,
     "metadata": {},
     "output_type": "execute_result"
    }
   ],
   "source": [
    "arr2"
   ]
  },
  {
   "cell_type": "code",
   "execution_count": 543,
   "metadata": {},
   "outputs": [
    {
     "name": "stdout",
     "output_type": "stream",
     "text": [
      "6\n"
     ]
    }
   ],
   "source": [
    "  \n",
    "  c1=len(arr1)\n",
    "  c2=len(arr2)\n",
    "  l=0\n",
    "  r=10**18+1\n",
    "  k-=(ncc+zcc)\n",
    "  while r-l!=1:#２分探索\n",
    "    mid=(l+r)//2\n",
    "    cnt1=0\n",
    "    pos1=c1-1\n",
    "    for i in range(c1):\n",
    "      tmp=0\n",
    "      while pos1!=-1:\n",
    "        if arr1[pos1]>mid//arr1[i]:\n",
    "          pos1-=1\n",
    "        else:\n",
    "          break\n",
    "      tmp+=pos1+1\n",
    "      if arr1[i]**2<mid:\n",
    "        tmp-=1\n",
    "      cnt1+=tmp\n",
    "    cnt1=cnt1//2\n",
    "    cnt2=0\n",
    "    pos2=c2-1\n",
    "    for i in range(c2):\n",
    "      tmp=0\n",
    "      while pos2!=-1:\n",
    "        if arr2[pos2]>mid//arr2[i]:\n",
    "          pos2-=1\n",
    "        else:\n",
    "          break\n",
    "      tmp+=pos2+1\n",
    "      if arr2[i]**2<mid:\n",
    "        tmp-=1\n",
    "      cnt2+=tmp\n",
    "    cnt2=cnt2//2\n",
    "    cnt=cnt1+cnt2\n",
    "    if cnt>=k:\n",
    "      r=mid\n",
    "    else:\n",
    "      l=mid\n",
    "  print(r)\n",
    "\n",
    "\n"
   ]
  },
  {
   "cell_type": "code",
   "execution_count": null,
   "metadata": {},
   "outputs": [],
   "source": []
  },
  {
   "cell_type": "code",
   "execution_count": null,
   "metadata": {},
   "outputs": [],
   "source": []
  },
  {
   "cell_type": "code",
   "execution_count": 591,
   "metadata": {},
   "outputs": [],
   "source": [
    "mid=10000"
   ]
  },
  {
   "cell_type": "code",
   "execution_count": 592,
   "metadata": {},
   "outputs": [],
   "source": [
    "cnt2=0\n",
    "pos2=c2-1\n",
    "for i in range(c2):\n",
    "    tmp=0\n",
    "    while pos2!=-1:\n",
    "        if arr2[pos2]>mid//arr2[i]:\n",
    "            pos2-=1\n",
    "        else:\n",
    "            break\n",
    "    tmp+=pos2+1\n",
    "    if arr2[i]**2<mid:\n",
    "        tmp-=1\n",
    "    cnt2+=tmp\n",
    "cnt2=cnt2//2\n",
    "\n"
   ]
  },
  {
   "cell_type": "code",
   "execution_count": 593,
   "metadata": {},
   "outputs": [
    {
     "data": {
      "text/plain": [
       "6"
      ]
     },
     "execution_count": 593,
     "metadata": {},
     "output_type": "execute_result"
    }
   ],
   "source": [
    "cnt2"
   ]
  },
  {
   "cell_type": "code",
   "execution_count": 1288,
   "metadata": {},
   "outputs": [],
   "source": [
    "#array内で積がx未満になるペアの数\n",
    "def syakutori_pos(x,array):\n",
    "    n=len(array)\n",
    "    res=0\n",
    "    j=n-1\n",
    "    for i in range(n):\n",
    "        tmp=0\n",
    "#         j=n-1\n",
    "        y=-(-x//array[i])\n",
    "        while j!=-1:\n",
    "            \n",
    "            if array[j]>=y:\n",
    "                j-=1\n",
    "            else:\n",
    "                break\n",
    "        \n",
    "        tmp+=j+1\n",
    "        if array[i]**2<x:\n",
    "            tmp-=1\n",
    "        res+=tmp\n",
    "    res=res//2\n",
    "    return res\n",
    "\n",
    "\n",
    "\n",
    "#array内で積がx未満になるペアの数\n",
    "def syakutori_neg(x,array_pos,array_neg):\n",
    "    n_pos=len(array_pos)\n",
    "    n_neg=len(array_neg)\n",
    "    y=-(-x//array_neg)\n",
    "    print(array_pos)\n",
    "    print(y)\n",
    "    res=0\n",
    "    j=0\n",
    "    k=-1\n",
    "    for i in range(n_pos):\n",
    "        tmp=0\n",
    "\n",
    "        while k<n_neg-1:     \n",
    "            if y[k+1]<=array_pos[i]:\n",
    "                k+=1\n",
    "            else:\n",
    "                break\n",
    "        j=max(j,k)\n",
    "        while j<n_neg-1:\n",
    "            if array_pos[i]<=y[j]:\n",
    "                j+=1\n",
    "            else:\n",
    "                break\n",
    "        print(k,j)\n",
    "        res+=j-k\n",
    "    print(res)\n",
    "    return n_pos*n_neg-res"
   ]
  },
  {
   "cell_type": "code",
   "execution_count": 1289,
   "metadata": {},
   "outputs": [
    {
     "name": "stdout",
     "output_type": "stream",
     "text": [
      "[2 3 4 5]\n",
      "[ 5 15]\n",
      "-1 1\n",
      "-1 1\n",
      "-1 1\n",
      "0 1\n",
      "7\n"
     ]
    },
    {
     "data": {
      "text/plain": [
       "1"
      ]
     },
     "execution_count": 1289,
     "metadata": {},
     "output_type": "execute_result"
    }
   ],
   "source": [
    "syakutori_neg(-15,A_pos,A_neg)"
   ]
  },
  {
   "cell_type": "code",
   "execution_count": 1268,
   "metadata": {},
   "outputs": [
    {
     "data": {
      "text/plain": [
       "array([2, 3, 4, 5])"
      ]
     },
     "execution_count": 1268,
     "metadata": {},
     "output_type": "execute_result"
    }
   ],
   "source": [
    "A_pos"
   ]
  },
  {
   "cell_type": "code",
   "execution_count": 1269,
   "metadata": {},
   "outputs": [
    {
     "data": {
      "text/plain": [
       "array([-3, -1])"
      ]
     },
     "execution_count": 1269,
     "metadata": {},
     "output_type": "execute_result"
    }
   ],
   "source": [
    "A_neg"
   ]
  },
  {
   "cell_type": "code",
   "execution_count": null,
   "metadata": {},
   "outputs": [],
   "source": []
  },
  {
   "cell_type": "code",
   "execution_count": null,
   "metadata": {},
   "outputs": [],
   "source": []
  },
  {
   "cell_type": "code",
   "execution_count": 461,
   "metadata": {},
   "outputs": [],
   "source": [
    "n=7\n",
    "K=6\n",
    "a=[4,3,1,1,2,10,2]"
   ]
  },
  {
   "cell_type": "code",
   "execution_count": 462,
   "metadata": {},
   "outputs": [],
   "source": [
    "res=0\n",
    "right=0\n",
    "mul=1\n",
    "for left in range(n):\n",
    "    while(right < n and mul*a[right]<=K):\n",
    "        mul*=a[right]\n",
    "        right+=1\n",
    "    res=max(res,right - left)\n",
    "    if left == right:\n",
    "        right+=1\n",
    "    else:\n"
   ]
  },
  {
   "cell_type": "code",
   "execution_count": 598,
   "metadata": {},
   "outputs": [],
   "source": [
    "\n",
    "\n"
   ]
  },
  {
   "cell_type": "code",
   "execution_count": 692,
   "metadata": {},
   "outputs": [],
   "source": [
    "arr=np.array(arr)"
   ]
  },
  {
   "cell_type": "code",
   "execution_count": 693,
   "metadata": {},
   "outputs": [],
   "source": [
    "import bisect"
   ]
  },
  {
   "cell_type": "code",
   "execution_count": 796,
   "metadata": {},
   "outputs": [],
   "source": [
    "x=8"
   ]
  },
  {
   "cell_type": "code",
   "execution_count": 798,
   "metadata": {},
   "outputs": [
    {
     "name": "stdout",
     "output_type": "stream",
     "text": [
      "6 3\n"
     ]
    }
   ],
   "source": [
    "#x以下のペアの数\n",
    "n=len(arr)\n",
    "res=0\n",
    "for i in range(n):\n",
    "    b=x//arr[i]\n",
    "    j=bisect.bisect_right(arr, b)\n",
    "    res+=j\n",
    "for j in range(n):\n",
    "    if arr[j]**2<=x:\n",
    "        res-=1\n",
    "print(res,res//2)"
   ]
  },
  {
   "cell_type": "code",
   "execution_count": 795,
   "metadata": {},
   "outputs": [
    {
     "data": {
      "text/plain": [
       "10"
      ]
     },
     "execution_count": 795,
     "metadata": {},
     "output_type": "execute_result"
    }
   ],
   "source": [
    "res"
   ]
  },
  {
   "cell_type": "code",
   "execution_count": 802,
   "metadata": {},
   "outputs": [],
   "source": [
    "x=9"
   ]
  },
  {
   "cell_type": "code",
   "execution_count": 805,
   "metadata": {},
   "outputs": [
    {
     "name": "stdout",
     "output_type": "stream",
     "text": [
      "9 0 4 2\n",
      "3 1 1 5\n",
      "3 2 1 5\n",
      "1 3 0 6\n",
      "1 4 0 6\n",
      "0 5 0 6\n",
      "5 2\n"
     ]
    }
   ],
   "source": [
    "#x未満のペアの数\n",
    "n=len(arr)\n",
    "res=0\n",
    "for i in range(n):\n",
    "    b=x//arr[i]\n",
    "    j=bisect.bisect_left(arr, b)\n",
    "    res+=j\n",
    "    print(b,i,j,n-j)\n",
    "for j in range(n):\n",
    "    if arr[j]**2<x:\n",
    "        res-=1\n",
    "print(res,res//2)"
   ]
  },
  {
   "cell_type": "code",
   "execution_count": null,
   "metadata": {},
   "outputs": [],
   "source": []
  },
  {
   "cell_type": "code",
   "execution_count": null,
   "metadata": {},
   "outputs": [],
   "source": []
  },
  {
   "cell_type": "code",
   "execution_count": null,
   "metadata": {},
   "outputs": [],
   "source": []
  },
  {
   "cell_type": "code",
   "execution_count": null,
   "metadata": {},
   "outputs": [],
   "source": []
  },
  {
   "cell_type": "code",
   "execution_count": 361,
   "metadata": {},
   "outputs": [],
   "source": [
    "def my_length(list):\n",
    "    print(list)\n",
    "    if list:\n",
    "        tmp = my_length(list[1:])+1\n",
    "        print(tmp)\n",
    "        return tmp\n",
    "    else:\n",
    "        return 0"
   ]
  },
  {
   "cell_type": "code",
   "execution_count": 364,
   "metadata": {},
   "outputs": [
    {
     "name": "stdout",
     "output_type": "stream",
     "text": [
      "[1, 2, 3, 4]\n",
      "[2, 3, 4]\n",
      "[3, 4]\n",
      "[4]\n",
      "[]\n",
      "1\n",
      "2\n",
      "3\n",
      "4\n"
     ]
    },
    {
     "data": {
      "text/plain": [
       "4"
      ]
     },
     "execution_count": 364,
     "metadata": {},
     "output_type": "execute_result"
    }
   ],
   "source": [
    "my_length([1,2,3,4])"
   ]
  },
  {
   "cell_type": "code",
   "execution_count": null,
   "metadata": {},
   "outputs": [],
   "source": []
  },
  {
   "cell_type": "code",
   "execution_count": null,
   "metadata": {},
   "outputs": [],
   "source": []
  },
  {
   "cell_type": "code",
   "execution_count": 337,
   "metadata": {},
   "outputs": [],
   "source": [
    "N,T=map(int,input().split())\n",
    "AB=[]\n",
    "for i in range(N):\n",
    "    AB.append(list(map(int,input().split())))"
   ]
  },
  {
   "cell_type": "code",
   "execution_count": 340,
   "metadata": {},
   "outputs": [],
   "source": [
    "dfs=[0]*(N+1)"
   ]
  },
  {
   "cell_type": "code",
   "execution_count": 342,
   "metadata": {},
   "outputs": [
    {
     "data": {
      "text/plain": [
       "[0, 0, 0, 0]"
      ]
     },
     "execution_count": 342,
     "metadata": {},
     "output_type": "execute_result"
    }
   ],
   "source": [
    "dfs"
   ]
  },
  {
   "cell_type": "code",
   "execution_count": 343,
   "metadata": {},
   "outputs": [],
   "source": [
    "def time(i,t):\n",
    "    return AB[i][0]*t+AB[i][1]"
   ]
  },
  {
   "cell_type": "code",
   "execution_count": 344,
   "metadata": {},
   "outputs": [
    {
     "data": {
      "text/plain": [
       "5"
      ]
     },
     "execution_count": 344,
     "metadata": {},
     "output_type": "execute_result"
    }
   ],
   "source": [
    "time(1,1)"
   ]
  },
  {
   "cell_type": "code",
   "execution_count": null,
   "metadata": {},
   "outputs": [],
   "source": [
    "def dfs(i,t):\n",
    "\n",
    "    tmp=time(i,t)\n",
    "    if t+tmp<=T:\n",
    "        count+=1\n",
    "        return "
   ]
  },
  {
   "cell_type": "code",
   "execution_count": null,
   "metadata": {},
   "outputs": [],
   "source": []
  },
  {
   "cell_type": "code",
   "execution_count": 289,
   "metadata": {},
   "outputs": [],
   "source": [
    "N=int(input())\n",
    "edge=np.zeros((N,N),int)\n",
    "for i in range(N-1):\n",
    "    i,j=map(int, input().split())\n",
    "    edge[i-1][j-1]=1"
   ]
  },
  {
   "cell_type": "code",
   "execution_count": 290,
   "metadata": {},
   "outputs": [
    {
     "data": {
      "text/plain": [
       "array([[0, 1, 1, 0, 0],\n",
       "       [0, 0, 0, 0, 0],\n",
       "       [0, 0, 0, 1, 1],\n",
       "       [0, 0, 0, 0, 0],\n",
       "       [0, 0, 0, 0, 0]])"
      ]
     },
     "execution_count": 290,
     "metadata": {},
     "output_type": "execute_result"
    }
   ],
   "source": [
    "edge"
   ]
  },
  {
   "cell_type": "code",
   "execution_count": 291,
   "metadata": {},
   "outputs": [],
   "source": [
    "import numpy as np\n",
    "from scipy.sparse import csr_matrix\n",
    "from scipy.sparse.csgraph import dijkstra"
   ]
  },
  {
   "cell_type": "code",
   "execution_count": 292,
   "metadata": {},
   "outputs": [],
   "source": [
    "graph = csr_matrix(edge)"
   ]
  },
  {
   "cell_type": "code",
   "execution_count": 293,
   "metadata": {},
   "outputs": [
    {
     "name": "stdout",
     "output_type": "stream",
     "text": [
      "  (0, 1)\t1\n",
      "  (0, 2)\t1\n",
      "  (2, 3)\t1\n",
      "  (2, 4)\t1\n"
     ]
    }
   ],
   "source": [
    "print(graph)"
   ]
  },
  {
   "cell_type": "code",
   "execution_count": 303,
   "metadata": {},
   "outputs": [],
   "source": [
    "dist_matrix= dijkstra(csgraph=graph, directed=False)"
   ]
  },
  {
   "cell_type": "code",
   "execution_count": 304,
   "metadata": {},
   "outputs": [],
   "source": [
    "position[dist_matrix==3]=1"
   ]
  },
  {
   "cell_type": "code",
   "execution_count": 305,
   "metadata": {},
   "outputs": [],
   "source": [
    "for i in range(N):\n",
    "    position[i][:i]=0"
   ]
  },
  {
   "cell_type": "code",
   "execution_count": 306,
   "metadata": {},
   "outputs": [],
   "source": [
    "p=np.argwhere(position==1)"
   ]
  },
  {
   "cell_type": "code",
   "execution_count": 307,
   "metadata": {},
   "outputs": [
    {
     "data": {
      "text/plain": [
       "array([[1, 3],\n",
       "       [1, 4]])"
      ]
     },
     "execution_count": 307,
     "metadata": {},
     "output_type": "execute_result"
    }
   ],
   "source": [
    "p"
   ]
  },
  {
   "cell_type": "code",
   "execution_count": null,
   "metadata": {},
   "outputs": [],
   "source": []
  },
  {
   "cell_type": "code",
   "execution_count": null,
   "metadata": {},
   "outputs": [],
   "source": []
  },
  {
   "cell_type": "code",
   "execution_count": 298,
   "metadata": {},
   "outputs": [
    {
     "data": {
      "text/plain": [
       "array([[1, 3],\n",
       "       [1, 4],\n",
       "       [3, 1],\n",
       "       [4, 1]])"
      ]
     },
     "execution_count": 298,
     "metadata": {},
     "output_type": "execute_result"
    }
   ],
   "source": []
  },
  {
   "cell_type": "code",
   "execution_count": 296,
   "metadata": {},
   "outputs": [],
   "source": [
    "position[dist_matrix==3]=1"
   ]
  },
  {
   "cell_type": "code",
   "execution_count": 284,
   "metadata": {},
   "outputs": [],
   "source": [
    "for i in range(N):\n",
    "    position[i][:i]=0"
   ]
  },
  {
   "cell_type": "code",
   "execution_count": 287,
   "metadata": {},
   "outputs": [],
   "source": [
    "p=position.sum(axis=0)"
   ]
  },
  {
   "cell_type": "code",
   "execution_count": 333,
   "metadata": {},
   "outputs": [
    {
     "data": {
      "text/plain": [
       "array([[1, 3],\n",
       "       [1, 4]])"
      ]
     },
     "execution_count": 333,
     "metadata": {},
     "output_type": "execute_result"
    }
   ],
   "source": [
    "p"
   ]
  },
  {
   "cell_type": "code",
   "execution_count": 309,
   "metadata": {},
   "outputs": [],
   "source": [
    "unique, counts = np.unique(p, return_counts=True)"
   ]
  },
  {
   "cell_type": "code",
   "execution_count": 312,
   "metadata": {},
   "outputs": [],
   "source": [
    "ans=[0]*N"
   ]
  },
  {
   "cell_type": "code",
   "execution_count": 318,
   "metadata": {},
   "outputs": [],
   "source": [
    "three=unique[counts.argmax()]"
   ]
  },
  {
   "cell_type": "code",
   "execution_count": 325,
   "metadata": {},
   "outputs": [],
   "source": [
    "rest=[]\n",
    "for i in range(N):\n",
    "    rest.append(i+1)"
   ]
  },
  {
   "cell_type": "code",
   "execution_count": 326,
   "metadata": {},
   "outputs": [],
   "source": [
    "ans[three]=rest.pop(2)"
   ]
  },
  {
   "cell_type": "code",
   "execution_count": 330,
   "metadata": {},
   "outputs": [],
   "source": [
    "used=[]"
   ]
  },
  {
   "cell_type": "code",
   "execution_count": 331,
   "metadata": {},
   "outputs": [],
   "source": [
    "used.append(3)"
   ]
  },
  {
   "cell_type": "code",
   "execution_count": 332,
   "metadata": {},
   "outputs": [
    {
     "data": {
      "text/plain": [
       "[3]"
      ]
     },
     "execution_count": 332,
     "metadata": {},
     "output_type": "execute_result"
    }
   ],
   "source": [
    "used"
   ]
  },
  {
   "cell_type": "code",
   "execution_count": 317,
   "metadata": {},
   "outputs": [
    {
     "data": {
      "text/plain": [
       "array([[1, 3],\n",
       "       [1, 4]])"
      ]
     },
     "execution_count": 317,
     "metadata": {},
     "output_type": "execute_result"
    }
   ],
   "source": [
    "for x in p:\n",
    "    if x[0]!=three and x[1]!=three:\n",
    "        ans[x[0]]=\n",
    "        ans[x[1]]="
   ]
  },
  {
   "cell_type": "code",
   "execution_count": null,
   "metadata": {},
   "outputs": [],
   "source": []
  },
  {
   "cell_type": "code",
   "execution_count": 334,
   "metadata": {},
   "outputs": [
    {
     "data": {
      "text/plain": [
       "array([2, 1, 1])"
      ]
     },
     "execution_count": 334,
     "metadata": {},
     "output_type": "execute_result"
    }
   ],
   "source": [
    "counts"
   ]
  },
  {
   "cell_type": "code",
   "execution_count": null,
   "metadata": {},
   "outputs": [],
   "source": []
  },
  {
   "cell_type": "code",
   "execution_count": null,
   "metadata": {},
   "outputs": [],
   "source": []
  },
  {
   "cell_type": "code",
   "execution_count": null,
   "metadata": {},
   "outputs": [],
   "source": []
  },
  {
   "cell_type": "code",
   "execution_count": null,
   "metadata": {},
   "outputs": [],
   "source": []
  },
  {
   "cell_type": "code",
   "execution_count": null,
   "metadata": {},
   "outputs": [],
   "source": []
  },
  {
   "cell_type": "code",
   "execution_count": null,
   "metadata": {},
   "outputs": [],
   "source": []
  },
  {
   "cell_type": "code",
   "execution_count": 244,
   "metadata": {},
   "outputs": [
    {
     "name": "stdout",
     "output_type": "stream",
     "text": [
      "6\n"
     ]
    }
   ],
   "source": [
    "A,B,M=map(int, input().split())\n",
    "a=list(map(int, input().split()))\n",
    "b=list(map(int, input().split()))\n",
    "ans=min(a)+min(b)\n",
    "for i in range(M):\n",
    "    x,y,c=map(int, input().split())\n",
    "    tmp=a[x-1]+b[y-1]-c\n",
    "    if ans > tmp:\n",
    "        ans=tmp\n",
    "print(ans)"
   ]
  },
  {
   "cell_type": "code",
   "execution_count": 242,
   "metadata": {},
   "outputs": [
    {
     "data": {
      "text/plain": [
       "5"
      ]
     },
     "execution_count": 242,
     "metadata": {},
     "output_type": "execute_result"
    }
   ],
   "source": []
  },
  {
   "cell_type": "code",
   "execution_count": null,
   "metadata": {},
   "outputs": [],
   "source": []
  },
  {
   "cell_type": "code",
   "execution_count": 236,
   "metadata": {},
   "outputs": [],
   "source": []
  },
  {
   "cell_type": "code",
   "execution_count": 238,
   "metadata": {},
   "outputs": [],
   "source": []
  },
  {
   "cell_type": "code",
   "execution_count": 239,
   "metadata": {},
   "outputs": [
    {
     "data": {
      "text/plain": [
       "6"
      ]
     },
     "execution_count": 239,
     "metadata": {},
     "output_type": "execute_result"
    }
   ],
   "source": []
  },
  {
   "cell_type": "code",
   "execution_count": null,
   "metadata": {},
   "outputs": [],
   "source": []
  },
  {
   "cell_type": "code",
   "execution_count": null,
   "metadata": {},
   "outputs": [],
   "source": []
  },
  {
   "cell_type": "code",
   "execution_count": null,
   "metadata": {},
   "outputs": [],
   "source": []
  },
  {
   "cell_type": "code",
   "execution_count": null,
   "metadata": {},
   "outputs": [],
   "source": []
  },
  {
   "cell_type": "code",
   "execution_count": 218,
   "metadata": {},
   "outputs": [
    {
     "name": "stdout",
     "output_type": "stream",
     "text": [
      "ans\n",
      "cpa\n"
     ]
    }
   ],
   "source": [
    "from collections import deque\n",
    "S=input()\n",
    "Q=int(input())\n",
    "d = deque([S])\n",
    "flag=0\n",
    "for i in range(Q):\n",
    "    x=input().split()\n",
    "    if len(x)==1:\n",
    "        flag=(flag+1)%2\n",
    "    else:\n",
    "        if int(x[1])==2:\n",
    "            if flag==0:\n",
    "                d.appendleft(x[2])\n",
    "            else:\n",
    "                d.append(x[2])\n",
    "        else:\n",
    "            if flag==0:\n",
    "                d.append(x[2])\n",
    "            else:\n",
    "                d.appendleft(x[2])\n",
    "\n",
    "        \n",
    "print(\"ans\")\n",
    "if flag==1:\n",
    "    print(*d, sep=\"\")\n",
    "else:\n",
    "    d=list(reversed(d))\n",
    "    print(*d, sep=\"\")"
   ]
  },
  {
   "cell_type": "code",
   "execution_count": null,
   "metadata": {},
   "outputs": [],
   "source": []
  },
  {
   "cell_type": "code",
   "execution_count": null,
   "metadata": {},
   "outputs": [],
   "source": []
  },
  {
   "cell_type": "code",
   "execution_count": null,
   "metadata": {},
   "outputs": [],
   "source": []
  },
  {
   "cell_type": "code",
   "execution_count": null,
   "metadata": {},
   "outputs": [],
   "source": []
  },
  {
   "cell_type": "code",
   "execution_count": null,
   "metadata": {},
   "outputs": [],
   "source": []
  },
  {
   "cell_type": "code",
   "execution_count": 207,
   "metadata": {},
   "outputs": [],
   "source": [
    "N,P=map(int,input().split())\n",
    "S=input()\n",
    "\n",
    "count=0\n",
    "c_zero=1\n",
    "for i in range(N):\n",
    "    tmp=0\n",
    "    flag=0\n",
    "    for j in range(i,N):\n",
    "#         print(int(S[i:j+1]),int(S[i:j+1])%P,c_zero)\n",
    "        if int(S[i])==0:\n",
    "            count+=c_zero\n",
    "            c_zero+=1\n",
    "            flag=1\n",
    "            break\n",
    "        else:\n",
    "            if int(S[i:j+1])%P==0:\n",
    "                tmp+=1\n",
    "    count+=tmp*c_zero\n",
    "#     print(count)\n",
    "    if flag==0:\n",
    "        c_zero=1\n",
    "print(count)"
   ]
  },
  {
   "cell_type": "code",
   "execution_count": 214,
   "metadata": {},
   "outputs": [
    {
     "data": {
      "text/plain": [
       "68"
      ]
     },
     "execution_count": 214,
     "metadata": {},
     "output_type": "execute_result"
    }
   ],
   "source": [
    "count"
   ]
  },
  {
   "cell_type": "code",
   "execution_count": null,
   "metadata": {},
   "outputs": [],
   "source": []
  },
  {
   "cell_type": "code",
   "execution_count": null,
   "metadata": {},
   "outputs": [],
   "source": []
  },
  {
   "cell_type": "code",
   "execution_count": 163,
   "metadata": {},
   "outputs": [
    {
     "name": "stdout",
     "output_type": "stream",
     "text": [
      "zxy\n"
     ]
    }
   ],
   "source": [
    "from collections import deque\n",
    "S=input()\n",
    "Q=int(input())\n",
    "d = deque([S])\n",
    "flag=0\n",
    "dic={}\n",
    "dic[S]=1\n",
    "for i in range(Q):\n",
    "    x=input().split()\n",
    "#     print(x)\n",
    "    if len(x)==1:\n",
    "        if len(dic.keys()) >1:\n",
    "            flag=(flag+1)%2\n",
    "    else:\n",
    "        if len(dic.keys()) ==1:\n",
    "            dic[x[2]]=1\n",
    "            \n",
    "        if int(x[1])==1:\n",
    "            if flag==0:\n",
    "                d.appendleft(x[2])\n",
    "            else:\n",
    "                d.append(x[2])\n",
    "        else:\n",
    "            if flag==0:\n",
    "                d.append(x[2])\n",
    "            else:\n",
    "                d.appendleft(x[2])\n",
    "if flag==0:\n",
    "    print(*d, sep=\"\")\n",
    "else:\n",
    "    d=list(reversed(d))\n",
    "    print(*d, sep=\"\")"
   ]
  },
  {
   "cell_type": "code",
   "execution_count": null,
   "metadata": {},
   "outputs": [],
   "source": []
  },
  {
   "cell_type": "code",
   "execution_count": null,
   "metadata": {},
   "outputs": [],
   "source": []
  },
  {
   "cell_type": "code",
   "execution_count": null,
   "metadata": {},
   "outputs": [],
   "source": []
  },
  {
   "cell_type": "code",
   "execution_count": null,
   "metadata": {},
   "outputs": [],
   "source": []
  },
  {
   "cell_type": "code",
   "execution_count": 126,
   "metadata": {},
   "outputs": [
    {
     "name": "stdout",
     "output_type": "stream",
     "text": [
      "xy\n"
     ]
    }
   ],
   "source": [
    "from collections import deque\n",
    "S=input()\n",
    "Q=int(input())\n",
    "d = deque([S])\n",
    "flag=0\n",
    "for i in range(Q):\n",
    "    x=input().split()\n",
    "    if len(x)==1:\n",
    "        d=deque(reversed(d))\n",
    "    else:\n",
    "        if int(x[1])==1:\n",
    "            d.appendleft(x[2])\n",
    "        else:\n",
    "            d.append(x[2])\n",
    "print(*d, sep=\"\")"
   ]
  },
  {
   "cell_type": "code",
   "execution_count": 127,
   "metadata": {},
   "outputs": [
    {
     "data": {
      "text/plain": [
       "deque(['x', 'y'])"
      ]
     },
     "execution_count": 127,
     "metadata": {},
     "output_type": "execute_result"
    }
   ],
   "source": [
    "d"
   ]
  },
  {
   "cell_type": "code",
   "execution_count": null,
   "metadata": {},
   "outputs": [],
   "source": []
  },
  {
   "cell_type": "code",
   "execution_count": null,
   "metadata": {},
   "outputs": [],
   "source": []
  },
  {
   "cell_type": "code",
   "execution_count": null,
   "metadata": {},
   "outputs": [],
   "source": []
  },
  {
   "cell_type": "code",
   "execution_count": 216,
   "metadata": {},
   "outputs": [
    {
     "ename": "IndexError",
     "evalue": "list index out of range",
     "output_type": "error",
     "traceback": [
      "\u001b[0;31m---------------------------------------------------------------------------\u001b[0m",
      "\u001b[0;31mIndexError\u001b[0m                                Traceback (most recent call last)",
      "\u001b[0;32m<ipython-input-216-aca744634535>\u001b[0m in \u001b[0;36m<module>\u001b[0;34m\u001b[0m\n\u001b[1;32m      9\u001b[0m         \u001b[0mflag\u001b[0m\u001b[0;34m=\u001b[0m\u001b[0;34m(\u001b[0m\u001b[0mflag\u001b[0m\u001b[0;34m+\u001b[0m\u001b[0;36m1\u001b[0m\u001b[0;34m)\u001b[0m\u001b[0;34m%\u001b[0m\u001b[0;36m2\u001b[0m\u001b[0;34m\u001b[0m\u001b[0;34m\u001b[0m\u001b[0m\n\u001b[1;32m     10\u001b[0m     \u001b[0;32melse\u001b[0m\u001b[0;34m:\u001b[0m\u001b[0;34m\u001b[0m\u001b[0;34m\u001b[0m\u001b[0m\n\u001b[0;32m---> 11\u001b[0;31m         \u001b[0;32mif\u001b[0m \u001b[0mint\u001b[0m\u001b[0;34m(\u001b[0m\u001b[0mx\u001b[0m\u001b[0;34m[\u001b[0m\u001b[0;36m1\u001b[0m\u001b[0;34m]\u001b[0m\u001b[0;34m)\u001b[0m\u001b[0;34m==\u001b[0m\u001b[0;36m2\u001b[0m\u001b[0;34m:\u001b[0m\u001b[0;34m\u001b[0m\u001b[0;34m\u001b[0m\u001b[0m\n\u001b[0m\u001b[1;32m     12\u001b[0m             \u001b[0;32mif\u001b[0m \u001b[0mflag\u001b[0m\u001b[0;34m==\u001b[0m\u001b[0;36m0\u001b[0m\u001b[0;34m:\u001b[0m\u001b[0;34m\u001b[0m\u001b[0;34m\u001b[0m\u001b[0m\n\u001b[1;32m     13\u001b[0m                 \u001b[0md\u001b[0m\u001b[0;34m.\u001b[0m\u001b[0mappendleft\u001b[0m\u001b[0;34m(\u001b[0m\u001b[0mx\u001b[0m\u001b[0;34m[\u001b[0m\u001b[0;36m2\u001b[0m\u001b[0;34m]\u001b[0m\u001b[0;34m)\u001b[0m\u001b[0;34m\u001b[0m\u001b[0;34m\u001b[0m\u001b[0m\n",
      "\u001b[0;31mIndexError\u001b[0m: list index out of range"
     ]
    }
   ],
   "source": [
    "from collections import deque\n",
    "S=input()\n",
    "Q=int(input())\n",
    "d = deque([S])\n",
    "flag=0\n",
    "for i in range(Q):\n",
    "    x=input().split()\n",
    "    if len(x)==1:\n",
    "        flag=(flag+1)%2\n",
    "    else:\n",
    "        if int(x[1])==2:\n",
    "            if flag==0:\n",
    "                d.appendleft(x[2])\n",
    "            else:\n",
    "                d.append(x[2])\n",
    "        else:\n",
    "            if flag==0:\n",
    "                d.append(x[2])\n",
    "            else:\n",
    "                d.appendleft(x[2])\n",
    "\n",
    "        \n",
    "print(\"ans\")\n",
    "print(flag)   \n",
    "if flag==1:\n",
    "    print(*d, sep=\"\")\n",
    "else:\n",
    "    d=list(reversed(d))\n",
    "    print(*d, sep=\"\")"
   ]
  },
  {
   "cell_type": "code",
   "execution_count": 130,
   "metadata": {},
   "outputs": [
    {
     "data": {
      "text/plain": [
       "deque(['x', 'y'])"
      ]
     },
     "execution_count": 130,
     "metadata": {},
     "output_type": "execute_result"
    }
   ],
   "source": [
    "d"
   ]
  },
  {
   "cell_type": "code",
   "execution_count": null,
   "metadata": {},
   "outputs": [],
   "source": []
  },
  {
   "cell_type": "code",
   "execution_count": null,
   "metadata": {},
   "outputs": [],
   "source": []
  },
  {
   "cell_type": "code",
   "execution_count": null,
   "metadata": {},
   "outputs": [],
   "source": []
  },
  {
   "cell_type": "code",
   "execution_count": 73,
   "metadata": {},
   "outputs": [
    {
     "name": "stdout",
     "output_type": "stream",
     "text": [
      "xy\n"
     ]
    }
   ],
   "source": []
  },
  {
   "cell_type": "code",
   "execution_count": 97,
   "metadata": {},
   "outputs": [
    {
     "name": "stdout",
     "output_type": "stream",
     "text": [
      "<list_reverseiterator object at 0x112a90f50>\n"
     ]
    }
   ],
   "source": [
    "print(reversed(d), sep=\"\")"
   ]
  },
  {
   "cell_type": "code",
   "execution_count": null,
   "metadata": {},
   "outputs": [],
   "source": []
  },
  {
   "cell_type": "code",
   "execution_count": null,
   "metadata": {},
   "outputs": [],
   "source": []
  },
  {
   "cell_type": "code",
   "execution_count": null,
   "metadata": {},
   "outputs": [],
   "source": []
  },
  {
   "cell_type": "code",
   "execution_count": null,
   "metadata": {},
   "outputs": [],
   "source": []
  },
  {
   "cell_type": "code",
   "execution_count": 51,
   "metadata": {},
   "outputs": [
    {
     "data": {
      "text/plain": [
       "[['2', '1', 'p'], ['1'], ['2', '2', 'c'], ['1']]"
      ]
     },
     "execution_count": 51,
     "metadata": {},
     "output_type": "execute_result"
    }
   ],
   "source": [
    "query"
   ]
  },
  {
   "cell_type": "code",
   "execution_count": null,
   "metadata": {},
   "outputs": [],
   "source": []
  },
  {
   "cell_type": "code",
   "execution_count": 39,
   "metadata": {},
   "outputs": [],
   "source": []
  },
  {
   "cell_type": "code",
   "execution_count": 40,
   "metadata": {},
   "outputs": [],
   "source": [
    "A_pos=list(reversed(A_pos))"
   ]
  },
  {
   "cell_type": "code",
   "execution_count": 43,
   "metadata": {},
   "outputs": [
    {
     "data": {
      "text/plain": [
       "[4, 3]"
      ]
     },
     "execution_count": 43,
     "metadata": {},
     "output_type": "execute_result"
    }
   ],
   "source": [
    "A_pos"
   ]
  },
  {
   "cell_type": "code",
   "execution_count": 44,
   "metadata": {},
   "outputs": [
    {
     "data": {
      "text/plain": [
       "[-4, -2]"
      ]
     },
     "execution_count": 44,
     "metadata": {},
     "output_type": "execute_result"
    }
   ],
   "source": [
    "A_neg"
   ]
  },
  {
   "cell_type": "code",
   "execution_count": null,
   "metadata": {},
   "outputs": [],
   "source": [
    "i=0\n",
    "j=0\n",
    "s=0\n",
    "while(i<n_pos-1):\n",
    "    while(j<n_neg-1 and s<K):\n",
    "        s"
   ]
  },
  {
   "cell_type": "code",
   "execution_count": null,
   "metadata": {},
   "outputs": [],
   "source": []
  },
  {
   "cell_type": "code",
   "execution_count": 169,
   "metadata": {},
   "outputs": [
    {
     "name": "stdout",
     "output_type": "stream",
     "text": [
      "-6\n"
     ]
    }
   ],
   "source": [
    "import numpy as np\n",
    "n,k=map(int,input().split())\n",
    "a=list(map(int,input().split()))\n",
    "a=np.array(a)\n",
    "a.sort()\n",
    "nega=a[a<0]\n",
    "zera=a[a==0]\n",
    "posa=a[a>0]\n",
    "\n",
    "def cnt(x):\n",
    "  y=0\n",
    "  if x>=0:\n",
    "    y+=n*len(zera)\n",
    "  y+=np.searchsorted(a,x//posa,side=\"right\").sum()\n",
    "  y+=n*len(nega)-np.searchsorted(a,-(-x//nega)).sum() \n",
    "  y-=len(a[a*a<=x])\n",
    "  return y//2\n",
    "\n",
    "r=10**18\n",
    "l=-r-1\n",
    "while r-l>1:\n",
    "  c=(r+l)//2\n",
    "  if cnt(c)>=k:\n",
    "    r=c\n",
    "  else:\n",
    "    l=c\n",
    "print(r)\n"
   ]
  },
  {
   "cell_type": "code",
   "execution_count": 172,
   "metadata": {},
   "outputs": [
    {
     "data": {
      "text/plain": [
       "array([11, 11])"
      ]
     },
     "execution_count": 172,
     "metadata": {},
     "output_type": "execute_result"
    }
   ],
   "source": [
    "33//posa"
   ]
  },
  {
   "cell_type": "code",
   "execution_count": 167,
   "metadata": {},
   "outputs": [
    {
     "data": {
      "text/plain": [
       "6"
      ]
     },
     "execution_count": 167,
     "metadata": {},
     "output_type": "execute_result"
    }
   ],
   "source": [
    "cnt(10)"
   ]
  },
  {
   "cell_type": "code",
   "execution_count": null,
   "metadata": {},
   "outputs": [],
   "source": []
  },
  {
   "cell_type": "code",
   "execution_count": null,
   "metadata": {},
   "outputs": [],
   "source": []
  },
  {
   "cell_type": "code",
   "execution_count": 174,
   "metadata": {},
   "outputs": [
    {
     "name": "stdout",
     "output_type": "stream",
     "text": [
      "[2 2]\n",
      "0\n",
      "[0 0]\n",
      "0\n",
      "[0 0]\n",
      "0\n",
      "[0 0]\n",
      "0\n",
      "[0 0]\n",
      "0\n",
      "[0 0]\n",
      "0\n",
      "[0 0]\n",
      "0\n",
      "[0 0]\n",
      "0\n",
      "[0 0]\n",
      "0\n",
      "[0 0]\n",
      "0\n",
      "[0 0]\n",
      "0\n",
      "[0 0]\n",
      "0\n",
      "[0 0]\n",
      "0\n",
      "[0 0]\n",
      "0\n",
      "[0 0]\n",
      "0\n",
      "[0 0]\n",
      "0\n",
      "[0 0]\n",
      "0\n",
      "[0 0]\n",
      "0\n",
      "[0 0]\n",
      "0\n",
      "[0 0]\n",
      "0\n",
      "[0 0]\n",
      "0\n",
      "[0 0]\n",
      "0\n",
      "[0 0]\n",
      "0\n",
      "[0 0]\n",
      "0\n",
      "[0 0]\n",
      "0\n",
      "[0 0]\n",
      "0\n",
      "[0 0]\n",
      "0\n",
      "[0 0]\n",
      "0\n",
      "[0 0]\n",
      "0\n",
      "[0 0]\n",
      "0\n",
      "[0 0]\n",
      "0\n",
      "[0 0]\n",
      "0\n",
      "[0 0]\n",
      "0\n",
      "[0 0]\n",
      "0\n",
      "[0 0]\n",
      "0\n",
      "[0 0]\n",
      "0\n",
      "[0 0]\n",
      "0\n",
      "[0 0]\n",
      "0\n",
      "[0 0]\n",
      "0\n",
      "[0 0]\n",
      "0\n",
      "[0 0]\n",
      "0\n",
      "[0 0]\n",
      "0\n",
      "[0 0]\n",
      "0\n",
      "[0 0]\n",
      "0\n",
      "[0 0]\n",
      "0\n",
      "[0 0]\n",
      "0\n",
      "[0 0]\n",
      "0\n",
      "[0 0]\n",
      "0\n",
      "[0 0]\n",
      "0\n",
      "[0 0]\n",
      "0\n",
      "[0 0]\n",
      "0\n",
      "[0 0]\n",
      "0\n",
      "[0 0]\n",
      "0\n",
      "[0 0]\n",
      "0\n",
      "[0 0]\n",
      "0\n",
      "[0 0]\n",
      "0\n",
      "[0 0]\n",
      "0\n",
      "[1 1]\n",
      "0\n",
      "[2 2]\n",
      "-4\n",
      "[2 2]\n",
      "-6\n",
      "-6\n"
     ]
    }
   ],
   "source": [
    "import numpy as np\n",
    "from bisect import bisect_right as br\n",
    "from bisect import bisect_left as bl\n",
    "n,k=map(int,input().split())\n",
    "a=np.sort(np.array(list((map(int,input().split())))))\n",
    "q=len(a[a==0])\n",
    "d=a[a<0]\n",
    "e=a[a>0]\n",
    "l,r=10**18,-10**18\n",
    "while l-r>1:\n",
    "    t=(l+r)//2\n",
    "    p=0\n",
    "    if t>=0:\n",
    "        p+=q*n\n",
    "    p+=np.searchsorted(a,t//e,side=\"right\").sum()+(n-np.searchsorted(a,(-t-1)//(-d),side=\"right\")).sum()\n",
    "    p-=np.count_nonzero(a*a<=t)\n",
    "    p//=2\n",
    "    if p>=k:\n",
    "        l=t\n",
    "    else:\n",
    "        r=t\n",
    "    print(l)\n",
    "print(l)\n"
   ]
  },
  {
   "cell_type": "code",
   "execution_count": null,
   "metadata": {},
   "outputs": [],
   "source": []
  },
  {
   "cell_type": "code",
   "execution_count": null,
   "metadata": {},
   "outputs": [],
   "source": []
  },
  {
   "cell_type": "code",
   "execution_count": 145,
   "metadata": {},
   "outputs": [],
   "source": [
    "n=10\n",
    "S=15\n",
    "a=[5,1,3,5,10,7,4,9,2,8]"
   ]
  },
  {
   "cell_type": "code",
   "execution_count": 162,
   "metadata": {},
   "outputs": [],
   "source": [
    "res=n+1\n",
    "s=0\n",
    "t=0\n",
    "summation=0"
   ]
  },
  {
   "cell_type": "code",
   "execution_count": 163,
   "metadata": {},
   "outputs": [
    {
     "name": "stdout",
     "output_type": "stream",
     "text": [
      "2\n"
     ]
    }
   ],
   "source": [
    "while(s<n-1):\n",
    "    while(t<n-1 and summation<S):\n",
    "        summation+=a[t]\n",
    "        t+=1\n",
    "\n",
    "    if summation < S:\n",
    "#         print(\"now\")\n",
    "        break\n",
    "            \n",
    "    res=min(res,t-s)\n",
    "#     print(s,t,t-s,summation)\n",
    "    summation-=a[s]\n",
    "    s+=1\n",
    "\n",
    "\n",
    "    \n",
    "if res > n:\n",
    "    print(-1)\n",
    "else:\n",
    "    print(res)"
   ]
  },
  {
   "cell_type": "code",
   "execution_count": null,
   "metadata": {},
   "outputs": [],
   "source": []
  },
  {
   "cell_type": "code",
   "execution_count": 1312,
   "metadata": {},
   "outputs": [
    {
     "name": "stdout",
     "output_type": "stream",
     "text": [
      "3\n"
     ]
    }
   ],
   "source": [
    "import numpy as np\n",
    "\n",
    "# x未満のA[i]*A[j]の数\n",
    "def count_pair(x):\n",
    "    # A内のペアで積がxより小さいものの個数\n",
    "    # まず(i,j)と(j,i)を重複して数える\n",
    "    cnt = 0\n",
    "    # B=x/A[i]はA[j]の候補\n",
    "    # A[i]<0なる各iに対してA[j]>x/A[i]なるA[j]達の位置\n",
    "    p=np.searchsorted(A, x//A_nega, side='right')\n",
    "    # 上のA[j]達より大きいAの要素\n",
    "    p=N-p\n",
    "    # 上のA[j]達より大きいAの要素の数\n",
    "    cnt += p.sum()\n",
    "    if x > 0:\n",
    "        # 各iに対してA[j]=0なるjの個数\n",
    "        cnt += len(A_zero)*N\n",
    "    # A[i]>0なる各iに対してA[j]<x/A[i]なるjの個数\n",
    "    cnt += np.searchsorted(A, -(-x//A_posi), side='left').sum()\n",
    "    # i=jを除いてから2で割る\n",
    "    cnt = (cnt-(A**2 < x).sum())//2\n",
    "    return cnt\n",
    "\n",
    "\n",
    "# count_pair(x)<Kをみたすxの最大値を二分探索で求める\n",
    "N, K = map(int, input().split())\n",
    "* A, = map(int, input().split())\n",
    "A = np.array(A)\n",
    "A = np.sort(A)\n",
    "A_posi = A[A > 0]\n",
    "A_zero = A[A == 0]\n",
    "A_nega = A[A < 0]\n",
    "inf = 10**18+1\n",
    "l, r = -inf, inf\n",
    "# しゃくとり法\n",
    "while r - l > 1:\n",
    "    c = (l + r) // 2\n",
    "    if count_pair(c) < K:\n",
    "        l = c\n",
    "    else:\n",
    "        r = c\n",
    "print(l)\n"
   ]
  },
  {
   "cell_type": "code",
   "execution_count": 1313,
   "metadata": {},
   "outputs": [
    {
     "ename": "TypeError",
     "evalue": "'int' object is not callable",
     "output_type": "error",
     "traceback": [
      "\u001b[0;31m---------------------------------------------------------------------------\u001b[0m",
      "\u001b[0;31mTypeError\u001b[0m                                 Traceback (most recent call last)",
      "\u001b[0;32m<ipython-input-1313-d545e5856999>\u001b[0m in \u001b[0;36m<module>\u001b[0;34m\u001b[0m\n\u001b[0;32m----> 1\u001b[0;31m \u001b[0mcnt\u001b[0m\u001b[0;34m(\u001b[0m\u001b[0;36m0\u001b[0m\u001b[0;34m)\u001b[0m\u001b[0;34m\u001b[0m\u001b[0;34m\u001b[0m\u001b[0m\n\u001b[0m",
      "\u001b[0;31mTypeError\u001b[0m: 'int' object is not callable"
     ]
    }
   ],
   "source": [
    "cnt(0)"
   ]
  },
  {
   "cell_type": "code",
   "execution_count": 815,
   "metadata": {},
   "outputs": [],
   "source": [
    "x=9"
   ]
  },
  {
   "cell_type": "code",
   "execution_count": 816,
   "metadata": {},
   "outputs": [],
   "source": [
    "A=[1,3,3,8,9,11]\n",
    "A_pos=[1,3,3,8,9,11]"
   ]
  },
  {
   "cell_type": "code",
   "execution_count": 818,
   "metadata": {},
   "outputs": [],
   "source": [
    "A=np.array(A)\n",
    "A_pos=np.array(A_pos)"
   ]
  },
  {
   "cell_type": "code",
   "execution_count": 819,
   "metadata": {},
   "outputs": [
    {
     "data": {
      "text/plain": [
       "array([4, 1, 1, 0, 0, 0])"
      ]
     },
     "execution_count": 819,
     "metadata": {},
     "output_type": "execute_result"
    }
   ],
   "source": [
    "np.searchsorted(A, x//A_pos, side='left')"
   ]
  },
  {
   "cell_type": "code",
   "execution_count": 825,
   "metadata": {},
   "outputs": [
    {
     "data": {
      "text/plain": [
       "3"
      ]
     },
     "execution_count": 825,
     "metadata": {},
     "output_type": "execute_result"
    }
   ],
   "source": [
    "(sum(np.searchsorted(A, -(-x//A_pos), side='left'))-(A**2 < x).sum())//2"
   ]
  },
  {
   "cell_type": "code",
   "execution_count": 827,
   "metadata": {},
   "outputs": [
    {
     "data": {
      "text/plain": [
       "array([9, 3, 3, 1, 1, 0])"
      ]
     },
     "execution_count": 827,
     "metadata": {},
     "output_type": "execute_result"
    }
   ],
   "source": [
    "(x//A_pos)"
   ]
  },
  {
   "cell_type": "code",
   "execution_count": 826,
   "metadata": {},
   "outputs": [
    {
     "data": {
      "text/plain": [
       "array([9, 3, 3, 2, 1, 1])"
      ]
     },
     "execution_count": 826,
     "metadata": {},
     "output_type": "execute_result"
    }
   ],
   "source": [
    "-(-x//A_pos)"
   ]
  },
  {
   "cell_type": "code",
   "execution_count": null,
   "metadata": {},
   "outputs": [],
   "source": []
  },
  {
   "cell_type": "code",
   "execution_count": null,
   "metadata": {},
   "outputs": [],
   "source": []
  },
  {
   "cell_type": "code",
   "execution_count": null,
   "metadata": {},
   "outputs": [],
   "source": []
  },
  {
   "cell_type": "code",
   "execution_count": 808,
   "metadata": {},
   "outputs": [
    {
     "data": {
      "text/plain": [
       "39"
      ]
     },
     "execution_count": 808,
     "metadata": {},
     "output_type": "execute_result"
    }
   ],
   "source": [
    "count_pair(3)"
   ]
  },
  {
   "cell_type": "code",
   "execution_count": 257,
   "metadata": {},
   "outputs": [
    {
     "data": {
      "text/plain": [
       "154"
      ]
     },
     "execution_count": 257,
     "metadata": {},
     "output_type": "execute_result"
    }
   ],
   "source": [
    "count_pair(0)"
   ]
  },
  {
   "cell_type": "code",
   "execution_count": 245,
   "metadata": {},
   "outputs": [],
   "source": [
    "x=886627544*37909651"
   ]
  },
  {
   "cell_type": "code",
   "execution_count": null,
   "metadata": {},
   "outputs": [],
   "source": []
  },
  {
   "cell_type": "code",
   "execution_count": 246,
   "metadata": {},
   "outputs": [
    {
     "data": {
      "text/plain": [
       "array([  -34574959,   -35014105,   -35415508,   -35419733,   -35843839,\n",
       "         -75702278,   -78972997,   -90273088,  -125225827,  -156537118,\n",
       "        -197481354,  -344394778, -1672372512, -1778666065])"
      ]
     },
     "execution_count": 246,
     "metadata": {},
     "output_type": "execute_result"
    }
   ],
   "source": [
    "x//A_nega"
   ]
  },
  {
   "cell_type": "code",
   "execution_count": 247,
   "metadata": {},
   "outputs": [
    {
     "data": {
      "text/plain": [
       "array([12, 12, 12, 12, 12, 12, 12, 12, 11, 11, 10,  8,  0,  0])"
      ]
     },
     "execution_count": 247,
     "metadata": {},
     "output_type": "execute_result"
    }
   ],
   "source": [
    "np.searchsorted(A, x//A_nega, side='right')"
   ]
  },
  {
   "cell_type": "code",
   "execution_count": 248,
   "metadata": {},
   "outputs": [
    {
     "data": {
      "text/plain": [
       "array([18, 18, 18, 18, 18, 18, 18, 18, 19, 19, 20, 22, 30, 30])"
      ]
     },
     "execution_count": 248,
     "metadata": {},
     "output_type": "execute_result"
    }
   ],
   "source": [
    "(N-np.searchsorted(A, x//A_nega, side='right'))"
   ]
  },
  {
   "cell_type": "code",
   "execution_count": 249,
   "metadata": {},
   "outputs": [
    {
     "data": {
      "text/plain": [
       "284"
      ]
     },
     "execution_count": 249,
     "metadata": {},
     "output_type": "execute_result"
    }
   ],
   "source": [
    "(N-np.searchsorted(A, x//A_nega, side='right')).sum()"
   ]
  },
  {
   "cell_type": "code",
   "execution_count": 250,
   "metadata": {},
   "outputs": [
    {
     "data": {
      "text/plain": [
       "array([ 21608710,  37909651, 110117526, 277222296, 398994917, 537203564,\n",
       "       663621752, 798607104, 834475626, 886627544, 983211703])"
      ]
     },
     "execution_count": 250,
     "metadata": {},
     "output_type": "execute_result"
    }
   ],
   "source": [
    "A_posi"
   ]
  },
  {
   "cell_type": "code",
   "execution_count": 251,
   "metadata": {},
   "outputs": [
    {
     "data": {
      "text/plain": [
       "array([-972141167, -959948616, -949068442, -948955241, -937727165,\n",
       "       -443999067, -425610555, -372334013, -268409015, -214720580,\n",
       "       -170202098,  -97596546,  -20098238,  -18897162])"
      ]
     },
     "execution_count": 251,
     "metadata": {},
     "output_type": "execute_result"
    }
   ],
   "source": [
    "A_nega"
   ]
  },
  {
   "cell_type": "code",
   "execution_count": 252,
   "metadata": {},
   "outputs": [
    {
     "data": {
      "text/plain": [
       "30"
      ]
     },
     "execution_count": 252,
     "metadata": {},
     "output_type": "execute_result"
    }
   ],
   "source": [
    "N"
   ]
  },
  {
   "cell_type": "code",
   "execution_count": 253,
   "metadata": {},
   "outputs": [
    {
     "data": {
      "text/plain": [
       "array([1555471880,  886627544,  305235161,  121244724,   84241025,\n",
       "         62567978,   50648944,   42087957,   40278877,   37909651,\n",
       "         34185660])"
      ]
     },
     "execution_count": 253,
     "metadata": {},
     "output_type": "execute_result"
    }
   ],
   "source": [
    "-(-x//A_posi)"
   ]
  },
  {
   "cell_type": "code",
   "execution_count": 254,
   "metadata": {},
   "outputs": [
    {
     "data": {
      "text/plain": [
       "248"
      ]
     },
     "execution_count": 254,
     "metadata": {},
     "output_type": "execute_result"
    }
   ],
   "source": [
    "np.searchsorted(A, -(-x//A_posi), side='left').sum()"
   ]
  },
  {
   "cell_type": "code",
   "execution_count": null,
   "metadata": {},
   "outputs": [],
   "source": []
  },
  {
   "cell_type": "code",
   "execution_count": null,
   "metadata": {},
   "outputs": [],
   "source": []
  },
  {
   "cell_type": "code",
   "execution_count": null,
   "metadata": {},
   "outputs": [],
   "source": []
  },
  {
   "cell_type": "code",
   "execution_count": 255,
   "metadata": {},
   "outputs": [],
   "source": [
    "# しゃくとり法xでB={A[i]*A[j]: i!=j}の中でどの位置か知る\n",
    "# x<0ならi \\in A_posとj \\in A_negの限界を知れば良い\n",
    "# x>0ならi,j \\in A_posとi,j \\in A_negの限界を調べて和を取れば良い\n",
    "# 二分探索でxを大きくしたり小さくしたりして位置がKになるように絞り込む"
   ]
  },
  {
   "cell_type": "code",
   "execution_count": 551,
   "metadata": {},
   "outputs": [],
   "source": []
  },
  {
   "cell_type": "code",
   "execution_count": 552,
   "metadata": {},
   "outputs": [],
   "source": [
    "import numpy as np\n",
    "N,K=map(int,input().split())\n",
    "A=list(map(int,input().split()))"
   ]
  },
  {
   "cell_type": "code",
   "execution_count": 562,
   "metadata": {},
   "outputs": [],
   "source": [
    "A=[-100,-10,-1,1,10,100]"
   ]
  },
  {
   "cell_type": "code",
   "execution_count": 563,
   "metadata": {},
   "outputs": [],
   "source": [
    "A=np.array(A)"
   ]
  },
  {
   "cell_type": "code",
   "execution_count": 564,
   "metadata": {},
   "outputs": [],
   "source": [
    "A_pos=sorted(A[A>0])\n",
    "A_neg=sorted(A[A<0])\n",
    "n_pos=len(A_pos)\n",
    "n_neg=len(A_neg)\n",
    "# n_pos=len(A_pos)*(len(A_pos)-1)//2+len(A_neg)*(len(A_neg)-1)//2\n",
    "# n_zero=len(A[A==0])*(len(A_pos)+len(A_neg))\n",
    "# n_neg=len(A_pos)*len(A_neg)"
   ]
  },
  {
   "cell_type": "code",
   "execution_count": 565,
   "metadata": {},
   "outputs": [
    {
     "name": "stdout",
     "output_type": "stream",
     "text": [
      "0\n"
     ]
    }
   ],
   "source": [
    "if K<n_neg:\n",
    "    print(\"neg\")\n",
    "elif n_neg<=K and K< n_neg+n_zero:\n",
    "    print(0)\n",
    "else:\n",
    "    print(\"pos\")\n",
    "    k=K-n_neg-n_zero"
   ]
  },
  {
   "cell_type": "code",
   "execution_count": 566,
   "metadata": {},
   "outputs": [],
   "source": [
    "A_pos=list(reversed(A_pos))"
   ]
  },
  {
   "cell_type": "code",
   "execution_count": 592,
   "metadata": {},
   "outputs": [],
   "source": [
    "x=-5"
   ]
  },
  {
   "cell_type": "code",
   "execution_count": 593,
   "metadata": {},
   "outputs": [
    {
     "name": "stdout",
     "output_type": "stream",
     "text": [
      "8\n"
     ]
    }
   ],
   "source": [
    "i=0\n",
    "j=0\n",
    "res=N**2\n",
    "prod=A_pos[i]*A_neg[j]  \n",
    "while(i<n_pos-1 and prod<x):\n",
    "    while(j<n_neg-1 and prod<=x):\n",
    "        j+=1\n",
    "        prod=A_pos[i]*A_neg[j]       \n",
    "    i+=1\n",
    "    prod=A_pos[i]*A_neg[j-1]\n",
    "\n",
    "print(n_pos*n_neg-(n_pos-i)*(n_neg-j))"
   ]
  },
  {
   "cell_type": "code",
   "execution_count": 594,
   "metadata": {},
   "outputs": [
    {
     "data": {
      "text/plain": [
       "[100, 10, 1]"
      ]
     },
     "execution_count": 594,
     "metadata": {},
     "output_type": "execute_result"
    }
   ],
   "source": [
    "A_pos"
   ]
  },
  {
   "cell_type": "code",
   "execution_count": 595,
   "metadata": {},
   "outputs": [
    {
     "data": {
      "text/plain": [
       "[-100, -10, -1]"
      ]
     },
     "execution_count": 595,
     "metadata": {},
     "output_type": "execute_result"
    }
   ],
   "source": [
    "A_neg"
   ]
  },
  {
   "cell_type": "code",
   "execution_count": 596,
   "metadata": {},
   "outputs": [
    {
     "data": {
      "text/plain": [
       "2"
      ]
     },
     "execution_count": 596,
     "metadata": {},
     "output_type": "execute_result"
    }
   ],
   "source": [
    "i"
   ]
  },
  {
   "cell_type": "code",
   "execution_count": 597,
   "metadata": {},
   "outputs": [
    {
     "data": {
      "text/plain": [
       "2"
      ]
     },
     "execution_count": 597,
     "metadata": {},
     "output_type": "execute_result"
    }
   ],
   "source": [
    "j"
   ]
  },
  {
   "cell_type": "code",
   "execution_count": 598,
   "metadata": {},
   "outputs": [
    {
     "data": {
      "text/plain": [
       "-5"
      ]
     },
     "execution_count": 598,
     "metadata": {},
     "output_type": "execute_result"
    }
   ],
   "source": [
    "x"
   ]
  },
  {
   "cell_type": "code",
   "execution_count": 599,
   "metadata": {},
   "outputs": [
    {
     "data": {
      "text/plain": [
       "-100"
      ]
     },
     "execution_count": 599,
     "metadata": {},
     "output_type": "execute_result"
    }
   ],
   "source": [
    "A_pos[i-1]*A_neg[j-1]"
   ]
  },
  {
   "cell_type": "code",
   "execution_count": 575,
   "metadata": {},
   "outputs": [
    {
     "data": {
      "text/plain": [
       "-1000"
      ]
     },
     "execution_count": 575,
     "metadata": {},
     "output_type": "execute_result"
    }
   ],
   "source": [
    "A_pos[i]*A_neg[j]"
   ]
  },
  {
   "cell_type": "code",
   "execution_count": 576,
   "metadata": {},
   "outputs": [
    {
     "data": {
      "text/plain": [
       "False"
      ]
     },
     "execution_count": 576,
     "metadata": {},
     "output_type": "execute_result"
    }
   ],
   "source": [
    "A_pos[i]*A_neg[j]<x"
   ]
  },
  {
   "cell_type": "code",
   "execution_count": 577,
   "metadata": {},
   "outputs": [
    {
     "data": {
      "text/plain": [
       "False"
      ]
     },
     "execution_count": 577,
     "metadata": {},
     "output_type": "execute_result"
    }
   ],
   "source": [
    "A_pos[i-1]*A_neg[j-1]<x"
   ]
  },
  {
   "cell_type": "code",
   "execution_count": 578,
   "metadata": {},
   "outputs": [
    {
     "data": {
      "text/plain": [
       "False"
      ]
     },
     "execution_count": 578,
     "metadata": {},
     "output_type": "execute_result"
    }
   ],
   "source": [
    "A_pos[i-1]*A_neg[j]<x"
   ]
  },
  {
   "cell_type": "code",
   "execution_count": 579,
   "metadata": {},
   "outputs": [
    {
     "data": {
      "text/plain": [
       "True"
      ]
     },
     "execution_count": 579,
     "metadata": {},
     "output_type": "execute_result"
    }
   ],
   "source": [
    "A_pos[i]*A_neg[j-1]<x"
   ]
  },
  {
   "cell_type": "code",
   "execution_count": 580,
   "metadata": {},
   "outputs": [
    {
     "data": {
      "text/plain": [
       "3"
      ]
     },
     "execution_count": 580,
     "metadata": {},
     "output_type": "execute_result"
    }
   ],
   "source": [
    "n_neg"
   ]
  },
  {
   "cell_type": "code",
   "execution_count": null,
   "metadata": {},
   "outputs": [],
   "source": []
  },
  {
   "cell_type": "code",
   "execution_count": 600,
   "metadata": {},
   "outputs": [
    {
     "data": {
      "text/plain": [
       "24356848165022712132477606520104725518533453128685640844505130879576720609150223301256150373"
      ]
     },
     "execution_count": 600,
     "metadata": {},
     "output_type": "execute_result"
    }
   ],
   "source": [
    "53**53"
   ]
  },
  {
   "cell_type": "code",
   "execution_count": null,
   "metadata": {},
   "outputs": [],
   "source": []
  }
 ],
 "metadata": {
  "kernelspec": {
   "display_name": "Python 3",
   "language": "python",
   "name": "python3"
  },
  "language_info": {
   "codemirror_mode": {
    "name": "ipython",
    "version": 3
   },
   "file_extension": ".py",
   "mimetype": "text/x-python",
   "name": "python",
   "nbconvert_exporter": "python",
   "pygments_lexer": "ipython3",
   "version": "3.7.5"
  }
 },
 "nbformat": 4,
 "nbformat_minor": 2
}

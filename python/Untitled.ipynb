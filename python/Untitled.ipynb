{
 "cells": [
  {
   "cell_type": "code",
   "execution_count": 10,
   "metadata": {
    "code_folding": []
   },
   "outputs": [
    {
     "data": {
      "application/vnd.jupyter.widget-view+json": {
       "model_id": "9bdd8edb20034411b21ae5413b336605",
       "version_major": 2,
       "version_minor": 0
      },
      "text/plain": [
       "Textarea(value='')"
      ]
     },
     "metadata": {},
     "output_type": "display_data"
    }
   ],
   "source": [
    "from ipywidgets import Textarea\n",
    "import io\n",
    "\n",
    "if 'open' in globals():\n",
    "    del open\n",
    "if 'input' in globals():\n",
    "    del input\n",
    "\n",
    "original_open = open\n",
    "\n",
    "class custom_open():\n",
    "    def __init__(self):\n",
    "        self.text = ''\n",
    "\n",
    "    def __call__(self, file, *args, **kwargs):\n",
    "        if file == 0:\n",
    "            return io.StringIO(self.text)\n",
    "        return original_open(file, *args, **kwargs)\n",
    "\n",
    "    def updater(self, change):\n",
    "        self.text = change[\"new\"]\n",
    "\n",
    "class custom_input():\n",
    "    def __init__(self):\n",
    "        self.__sio = io.StringIO('')\n",
    "        self.shell = get_ipython()\n",
    "        if self.shell.events.callbacks['pre_run_cell'] != []:\n",
    "            self.shell.events.callbacks['pre_run_cell'] = []\n",
    "        self.shell.events.register('pre_run_cell', self.pre_run_cell)\n",
    "\n",
    "    def __call__(self):\n",
    "        return self.__sio.readline().strip()\n",
    "\n",
    "    def pre_run_cell(self, info):\n",
    "        text = self.shell.user_ns.get('text_area', None).value\n",
    "        self.__sio = io.StringIO(text)\n",
    "\n",
    "open = custom_open()\n",
    "input = custom_input()\n",
    "\n",
    "text_area = Textarea()\n",
    "text_area.observe(open.updater, names='value')\n",
    "display(text_area)"
   ]
  },
  {
   "cell_type": "code",
   "execution_count": 5,
   "metadata": {},
   "outputs": [],
   "source": [
    "N=int(input())\n",
    "X=int(input(),2)"
   ]
  },
  {
   "cell_type": "code",
   "execution_count": 6,
   "metadata": {},
   "outputs": [
    {
     "data": {
      "text/plain": [
       "242079196"
      ]
     },
     "execution_count": 6,
     "metadata": {},
     "output_type": "execute_result"
    }
   ],
   "source": [
    "X"
   ]
  },
  {
   "cell_type": "code",
   "execution_count": 4,
   "metadata": {},
   "outputs": [],
   "source": [
    "def op(k):\n",
    "    if k%2==0:\n",
    "        return k//2 + 2**(N-1)\n",
    "    else:\n",
    "        return (k-1)//2"
   ]
  },
  {
   "cell_type": "code",
   "execution_count": null,
   "metadata": {},
   "outputs": [],
   "source": [
    "import numpy as np\n",
    "N=int(input())\n",
    "X=int(input(),2)\n",
    "def op(k):\n",
    "    if k%2==0:\n",
    "        return k//2 + 2**(N-1)\n",
    "    else:\n",
    "        return (k-1)//2\n",
    "def loop(k):\n",
    "    if memo[k]!=-1:\n",
    "        return memo[k]\n",
    "    else:\n",
    "        x=op(k)\n",
    "        count=1\n",
    "        L=[k,x]\n",
    "        while(x!=k):\n",
    "            if memo[x]!=-1:\n",
    "                count=0\n",
    "                if x in L:\n",
    "                    L.remove(x)\n",
    "                break\n",
    "            x=op(x)\n",
    "            L.append(x)\n",
    "            count+=1\n",
    "        \n",
    "#         print(L)\n",
    "        for l in L:\n",
    "            memo[l]=count\n",
    "        return memo[k]\n",
    "ans=0\n",
    "memo=np.full(2**N,-1)\n",
    "for i in range(X+1):\n",
    "    ans+=loop(i)\n",
    "print(ans)"
   ]
  },
  {
   "cell_type": "code",
   "execution_count": 8,
   "metadata": {},
   "outputs": [
    {
     "data": {
      "text/plain": [
       "array([-1, -1, -1, -1, -1, -1, -1, -1, -1, -1, -1, -1, -1, -1, -1, -1, -1,\n",
       "       -1, -1, -1, -1, -1, -1, -1, -1, -1, -1, -1, -1, -1, -1, -1, -1, -1,\n",
       "       -1, -1, -1, -1, -1, -1, -1, -1, -1, -1, -1, -1, -1, -1, -1, -1, -1,\n",
       "       -1, -1, -1, -1, -1, -1, -1, -1, -1, -1, -1, -1, -1])"
      ]
     },
     "execution_count": 8,
     "metadata": {},
     "output_type": "execute_result"
    }
   ],
   "source": [
    "np.full(2**N,-1)"
   ]
  },
  {
   "cell_type": "code",
   "execution_count": 1,
   "metadata": {},
   "outputs": [],
   "source": [
    "memo=[-1]*(2**20)"
   ]
  },
  {
   "cell_type": "code",
   "execution_count": null,
   "metadata": {},
   "outputs": [],
   "source": []
  },
  {
   "cell_type": "code",
   "execution_count": null,
   "metadata": {},
   "outputs": [],
   "source": []
  },
  {
   "cell_type": "code",
   "execution_count": 154,
   "metadata": {},
   "outputs": [
    {
     "name": "stdout",
     "output_type": "stream",
     "text": [
      "2 4 6\n",
      "10\n"
     ]
    }
   ],
   "source": [
    "S=input()\n",
    "K=int(input())\n",
    "count=1\n",
    "ans=0\n",
    "old='old'\n",
    "for x in S:\n",
    "    if old==x:\n",
    "        count+=1\n",
    "    else:\n",
    "        ans+=count//2\n",
    "        count=1\n",
    "    old=x\n",
    "\n",
    "ans+=count//2\n",
    "check1=0\n",
    "check1+=ans\n",
    "\n",
    "ans-=count//2\n",
    "\n",
    "for x in S:\n",
    "    if old==x:\n",
    "        count+=1\n",
    "    else:\n",
    "        ans+=count//2\n",
    "        count=1\n",
    "#     print(count)\n",
    "    old=x\n",
    "\n",
    "ans+=count//2\n",
    "check2=0\n",
    "check2+=ans\n",
    "\n",
    "ans-=count//2\n",
    "\n",
    "for x in S:\n",
    "    if old==x:\n",
    "        count+=1\n",
    "    else:\n",
    "        ans+=count//2\n",
    "        count=1\n",
    "#     print(count)\n",
    "    old=x\n",
    "\n",
    "ans+=count//2\n",
    "\n",
    "# print(check1,check2,ans)\n",
    "\n",
    "if K==1:\n",
    "    print(check1)\n",
    "elif K==2:\n",
    "    print(check2)\n",
    "elif K==3:\n",
    "    print(ans)\n",
    "else:\n",
    "    if (check2-check1)==(ans-check2):\n",
    "        print((check2-check1)*(K-1)+check1)\n",
    "    else:\n",
    "        print((check2-check1)*((K-1)//2+(K-1)%2)+ (ans-check2)*((K-1)//2) +check1)\n"
   ]
  },
  {
   "cell_type": "code",
   "execution_count": 151,
   "metadata": {},
   "outputs": [
    {
     "data": {
      "text/plain": [
       "3"
      ]
     },
     "execution_count": 151,
     "metadata": {},
     "output_type": "execute_result"
    }
   ],
   "source": [
    "(K//2+K%2)"
   ]
  },
  {
   "cell_type": "code",
   "execution_count": 153,
   "metadata": {},
   "outputs": [
    {
     "data": {
      "text/plain": [
       "12"
      ]
     },
     "execution_count": 153,
     "metadata": {},
     "output_type": "execute_result"
    }
   ],
   "source": [
    "25//2"
   ]
  },
  {
   "cell_type": "code",
   "execution_count": null,
   "metadata": {},
   "outputs": [],
   "source": []
  },
  {
   "cell_type": "code",
   "execution_count": null,
   "metadata": {},
   "outputs": [],
   "source": []
  },
  {
   "cell_type": "code",
   "execution_count": null,
   "metadata": {},
   "outputs": [],
   "source": []
  },
  {
   "cell_type": "code",
   "execution_count": 88,
   "metadata": {},
   "outputs": [
    {
     "name": "stdout",
     "output_type": "stream",
     "text": [
      "5 2\n"
     ]
    }
   ],
   "source": [
    "print(ans,check)"
   ]
  },
  {
   "cell_type": "code",
   "execution_count": 146,
   "metadata": {},
   "outputs": [
    {
     "data": {
      "text/plain": [
       "12"
      ]
     },
     "execution_count": 146,
     "metadata": {},
     "output_type": "execute_result"
    }
   ],
   "source": [
    "25//2"
   ]
  },
  {
   "cell_type": "code",
   "execution_count": null,
   "metadata": {},
   "outputs": [],
   "source": []
  },
  {
   "cell_type": "code",
   "execution_count": null,
   "metadata": {},
   "outputs": [],
   "source": []
  },
  {
   "cell_type": "code",
   "execution_count": null,
   "metadata": {},
   "outputs": [],
   "source": []
  },
  {
   "cell_type": "code",
   "execution_count": null,
   "metadata": {},
   "outputs": [],
   "source": []
  },
  {
   "cell_type": "code",
   "execution_count": null,
   "metadata": {},
   "outputs": [],
   "source": []
  },
  {
   "cell_type": "code",
   "execution_count": null,
   "metadata": {},
   "outputs": [],
   "source": []
  },
  {
   "cell_type": "code",
   "execution_count": null,
   "metadata": {},
   "outputs": [],
   "source": []
  },
  {
   "cell_type": "code",
   "execution_count": 89,
   "metadata": {},
   "outputs": [
    {
     "name": "stdout",
     "output_type": "stream",
     "text": [
      "2\n"
     ]
    }
   ],
   "source": [
    "if ans==check*2:\n",
    "    print(check*K)\n",
    "if ans==check*2+1 and K!=1:\n",
    "    print(check*K+1)\n",
    "if ans==check*2+1 and K==1:\n",
    "    print(check*K)\n",
    "\n"
   ]
  },
  {
   "cell_type": "code",
   "execution_count": null,
   "metadata": {},
   "outputs": [],
   "source": []
  },
  {
   "cell_type": "code",
   "execution_count": 5,
   "metadata": {},
   "outputs": [
    {
     "name": "stdout",
     "output_type": "stream",
     "text": [
      "3\n"
     ]
    }
   ],
   "source": [
    " def gcd(a,b):\n",
    "        while b!=0:\n",
    "            a,b=b,a%b\n",
    "        return a\n",
    "\n",
    "    \n",
    "def make_divisors(n):\n",
    "    divisors = []\n",
    "    for i in range(1, int(n**0.5)+1):\n",
    "        if n % i == 0:\n",
    "            divisors.append(i)\n",
    "            if i != n // i:\n",
    "                divisors.append(n//i)\n",
    "\n",
    "    # divisors.sort()\n",
    "    return divisors\n",
    "\n",
    "A,B=map(int, input().split())\n",
    "C=max(A,B)\n",
    "D=min(A,B)\n",
    "lis=make_divisors(D)\n",
    "lis.sort()\n",
    "l=len(lis)\n",
    "ans=[1]\n",
    "j=1\n",
    "\n",
    "for i in range(2,gcd(A,B)+1):\n",
    "    if A % i == 0 and B % i == 0:\n",
    "        j=i\n",
    "        break\n",
    "\n",
    "if j==1:\n",
    "    print(1)\n",
    "else:\n",
    "    for i in range(l):\n",
    "            if C%lis[i]==0 and pow(j,lis[i]-1,lis[i])==1:\n",
    "                ans.append(lis[i])\n",
    "    if C%j==0:\n",
    "        ans.append(j)\n",
    "    print(len(ans))\n"
   ]
  },
  {
   "cell_type": "code",
   "execution_count": 55,
   "metadata": {},
   "outputs": [
    {
     "data": {
      "text/plain": [
       "[1, 2]"
      ]
     },
     "execution_count": 55,
     "metadata": {},
     "output_type": "execute_result"
    }
   ],
   "source": [
    "ans"
   ]
  },
  {
   "cell_type": "code",
   "execution_count": null,
   "metadata": {},
   "outputs": [],
   "source": []
  },
  {
   "cell_type": "code",
   "execution_count": null,
   "metadata": {},
   "outputs": [],
   "source": []
  },
  {
   "cell_type": "code",
   "execution_count": null,
   "metadata": {},
   "outputs": [],
   "source": []
  },
  {
   "cell_type": "code",
   "execution_count": null,
   "metadata": {},
   "outputs": [],
   "source": []
  },
  {
   "cell_type": "code",
   "execution_count": 32,
   "metadata": {},
   "outputs": [],
   "source": [
    "for i in range(1,math.gcd(A,B)+1):\n",
    "    if A % i == 0 and B % i == 0:\n",
    "        j=i\n",
    "        break"
   ]
  },
  {
   "cell_type": "code",
   "execution_count": 33,
   "metadata": {},
   "outputs": [
    {
     "data": {
      "text/plain": [
       "1"
      ]
     },
     "execution_count": 33,
     "metadata": {},
     "output_type": "execute_result"
    }
   ],
   "source": [
    "j"
   ]
  },
  {
   "cell_type": "code",
   "execution_count": null,
   "metadata": {},
   "outputs": [],
   "source": []
  },
  {
   "cell_type": "code",
   "execution_count": null,
   "metadata": {},
   "outputs": [],
   "source": []
  },
  {
   "cell_type": "code",
   "execution_count": 6,
   "metadata": {},
   "outputs": [
    {
     "name": "stdout",
     "output_type": "stream",
     "text": [
      "2\n"
     ]
    }
   ],
   "source": [
    "def make_divisors(n):\n",
    "    divisors = []\n",
    "    for i in range(1, int(n**0.5)+1):\n",
    "        if n % i == 0:\n",
    "            divisors.append(i)\n",
    "            if i != n // i:\n",
    "                divisors.append(n//i)\n",
    "\n",
    "    # divisors.sort()\n",
    "    return divisors\n",
    "\n",
    "A,B=map(int, input().split())\n",
    "C=max(A,B)\n",
    "lis=make_divisors(min(A,B))\n",
    "lis.sort()\n",
    "l=len(lis)\n",
    "ans=[1]\n",
    "if l>1:\n",
    "    j=lis[1]\n",
    "    for i in range(l):\n",
    "            if C%lis[i]==0 and pow(j,lis[i]-1,lis[i])==1:\n",
    "                ans.append(lis[i])\n",
    "    ans.append(j)\n",
    "    print(len(ans))\n",
    "else:\n",
    "    print(1)\n",
    "    "
   ]
  },
  {
   "cell_type": "code",
   "execution_count": null,
   "metadata": {},
   "outputs": [],
   "source": []
  },
  {
   "cell_type": "code",
   "execution_count": null,
   "metadata": {},
   "outputs": [],
   "source": []
  },
  {
   "cell_type": "code",
   "execution_count": null,
   "metadata": {},
   "outputs": [],
   "source": []
  },
  {
   "cell_type": "code",
   "execution_count": 229,
   "metadata": {},
   "outputs": [],
   "source": [
    "A,B=map(int, input().split())\n",
    "C=max(A,B)\n",
    "lis=make_divisors(min(A,B))\n",
    "lis.sort()\n",
    "l=len(lis)\n",
    "ans=[1]\n",
    "if l>1:\n",
    "    j=lis[1]\n",
    "    for i in range(l):\n",
    "            if C%lis[i]==0 and pow(j,lis[i]-1,lis[i])==1:\n",
    "                ans.append(lis[i])\n",
    "    ans.append(j)\n",
    "    print(len(ans))\n",
    "else:\n",
    "    print(1)\n",
    "    "
   ]
  },
  {
   "cell_type": "code",
   "execution_count": 230,
   "metadata": {},
   "outputs": [],
   "source": [
    "lis=make_divisors(min(A,B))\n",
    "lis.sort()\n",
    "l=len(lis)\n",
    "ans=[1]\n",
    "if l>1:\n",
    "    j=lis[1]\n",
    "    for i in range(l):\n",
    "            if C%lis[i]==0 and pow(j,lis[i]-1,lis[i])==1:\n",
    "                ans.append(lis[i])\n",
    "    ans.append(j)\n",
    "    print(len(ans))\n",
    "else:\n",
    "    print(1)\n",
    "    "
   ]
  },
  {
   "cell_type": "code",
   "execution_count": 231,
   "metadata": {},
   "outputs": [
    {
     "name": "stdout",
     "output_type": "stream",
     "text": [
      "4\n"
     ]
    }
   ],
   "source": [
    "ans=[1]\n",
    "if l>1:\n",
    "    j=lis[1]\n",
    "    for i in range(l):\n",
    "            if C%lis[i]==0 and pow(j,lis[i]-1,lis[i])==1:\n",
    "                ans.append(lis[i])\n",
    "    ans.append(j)\n",
    "    print(len(ans))\n",
    "else:\n",
    "    print(1)\n",
    "    "
   ]
  },
  {
   "cell_type": "code",
   "execution_count": 232,
   "metadata": {},
   "outputs": [
    {
     "data": {
      "text/plain": [
       "[1, 3, 5, 2]"
      ]
     },
     "execution_count": 232,
     "metadata": {},
     "output_type": "execute_result"
    }
   ],
   "source": [
    "ans"
   ]
  },
  {
   "cell_type": "code",
   "execution_count": null,
   "metadata": {},
   "outputs": [],
   "source": []
  },
  {
   "cell_type": "code",
   "execution_count": null,
   "metadata": {},
   "outputs": [],
   "source": []
  },
  {
   "cell_type": "code",
   "execution_count": 224,
   "metadata": {},
   "outputs": [
    {
     "name": "stdout",
     "output_type": "stream",
     "text": [
      "3\n"
     ]
    }
   ],
   "source": [
    "def cf(x1,x2):\n",
    "    cf=[]\n",
    "    for i in range(2,min(x1,x2)+1):\n",
    "        if x1 % i == 0 and x2 % i == 0:\n",
    "            cf.append(i)\n",
    "    return cf\n",
    "A,B=map(int, input().split())\n",
    "\n",
    "ans=[]\n",
    "if l>1:\n",
    "    j=koyakusu[1]\n",
    "    for i in range(l):\n",
    "            if pow(j,koyakusu[i]-1,koyakusu[i])==1:\n",
    "                ans.append(koyakusu[i])\n",
    "    ans.append(j)\n",
    "    print(len(ans))\n",
    "else:\n",
    "    print(1)"
   ]
  },
  {
   "cell_type": "code",
   "execution_count": null,
   "metadata": {},
   "outputs": [],
   "source": []
  },
  {
   "cell_type": "code",
   "execution_count": null,
   "metadata": {},
   "outputs": [],
   "source": []
  },
  {
   "cell_type": "code",
   "execution_count": 205,
   "metadata": {},
   "outputs": [
    {
     "data": {
      "text/plain": [
       "60"
      ]
     },
     "execution_count": 205,
     "metadata": {},
     "output_type": "execute_result"
    }
   ],
   "source": [
    "import math\n",
    "math.gcd(A,B)"
   ]
  },
  {
   "cell_type": "code",
   "execution_count": null,
   "metadata": {},
   "outputs": [],
   "source": []
  },
  {
   "cell_type": "code",
   "execution_count": 156,
   "metadata": {},
   "outputs": [],
   "source": [
    "def cf(x1,x2):\n",
    "    cf=[]\n",
    "    for i in range(2,min(x1,x2)+1):\n",
    "        if x1 % i == 0 and x2 % i == 0:\n",
    "            cf.append(i)\n",
    "            break\n",
    "    return cf"
   ]
  },
  {
   "cell_type": "code",
   "execution_count": 209,
   "metadata": {},
   "outputs": [],
   "source": [
    "A,B=map(int, input().split())\n",
    "x=math.gcd(A,B)\n",
    "for i in range(2,x+1):\n",
    "    if A % i == 0 and B % i == 0:\n",
    "        y=i\n",
    "        break\n",
    "        "
   ]
  },
  {
   "cell_type": "code",
   "execution_count": 210,
   "metadata": {},
   "outputs": [
    {
     "data": {
      "text/plain": [
       "2"
      ]
     },
     "execution_count": 210,
     "metadata": {},
     "output_type": "execute_result"
    }
   ],
   "source": [
    "y"
   ]
  },
  {
   "cell_type": "code",
   "execution_count": 207,
   "metadata": {},
   "outputs": [],
   "source": [
    "A,B=map(int, input().split())\n",
    "x=math.gcd(A,B)"
   ]
  },
  {
   "cell_type": "code",
   "execution_count": 208,
   "metadata": {},
   "outputs": [
    {
     "data": {
      "text/plain": [
       "1000000000"
      ]
     },
     "execution_count": 208,
     "metadata": {},
     "output_type": "execute_result"
    }
   ],
   "source": [
    "x"
   ]
  },
  {
   "cell_type": "code",
   "execution_count": null,
   "metadata": {},
   "outputs": [],
   "source": []
  },
  {
   "cell_type": "code",
   "execution_count": 178,
   "metadata": {},
   "outputs": [],
   "source": [
    "koyakusu=cf(A,B)\n",
    "l=len(koyakusu)"
   ]
  },
  {
   "cell_type": "code",
   "execution_count": 179,
   "metadata": {},
   "outputs": [],
   "source": [
    "koyakusu.insert(0,1)"
   ]
  },
  {
   "cell_type": "code",
   "execution_count": 180,
   "metadata": {},
   "outputs": [
    {
     "data": {
      "text/plain": [
       "[1, 2, 3, 4, 5, 6, 10, 12, 15, 20, 30, 60]"
      ]
     },
     "execution_count": 180,
     "metadata": {},
     "output_type": "execute_result"
    }
   ],
   "source": [
    "koyakusu"
   ]
  },
  {
   "cell_type": "code",
   "execution_count": 173,
   "metadata": {},
   "outputs": [
    {
     "name": "stdout",
     "output_type": "stream",
     "text": [
      "3\n"
     ]
    }
   ],
   "source": [
    "ans=[]\n",
    "if l>1:\n",
    "    j=koyakusu[1]\n",
    "    for i in range(l):\n",
    "            if pow(j,koyakusu[i]-1,koyakusu[i])==1:\n",
    "                ans.append(koyakusu[i])\n",
    "    ans.append(j)\n",
    "    print(len(ans))\n",
    "else:\n",
    "    print(1)"
   ]
  },
  {
   "cell_type": "code",
   "execution_count": 150,
   "metadata": {},
   "outputs": [
    {
     "data": {
      "text/plain": [
       "[1, 2]"
      ]
     },
     "execution_count": 150,
     "metadata": {},
     "output_type": "execute_result"
    }
   ],
   "source": [
    "ans"
   ]
  },
  {
   "cell_type": "code",
   "execution_count": null,
   "metadata": {},
   "outputs": [],
   "source": []
  },
  {
   "cell_type": "code",
   "execution_count": null,
   "metadata": {},
   "outputs": [],
   "source": []
  },
  {
   "cell_type": "code",
   "execution_count": null,
   "metadata": {},
   "outputs": [],
   "source": []
  },
  {
   "cell_type": "code",
   "execution_count": 49,
   "metadata": {},
   "outputs": [
    {
     "name": "stdout",
     "output_type": "stream",
     "text": [
      "3 1 2\n"
     ]
    }
   ],
   "source": [
    "import numpy as np\n",
    "N=int(input())\n",
    "A=np.array(list(map(int, input().split())))\n",
    "list1=list(enumerate(A))\n",
    "list2 = np.array(sorted(list1, key=lambda x:x[1]))\n",
    "print(*list2[:,0]+1)"
   ]
  },
  {
   "cell_type": "code",
   "execution_count": null,
   "metadata": {},
   "outputs": [],
   "source": []
  },
  {
   "cell_type": "code",
   "execution_count": 24,
   "metadata": {},
   "outputs": [
    {
     "name": "stdout",
     "output_type": "stream",
     "text": [
      "5\n"
     ]
    }
   ],
   "source": [
    "import numpy as np\n",
    "N,K=map(int, input().split())\n",
    "H=np.array(list(map(int, input().split())))\n",
    "print(np.count_nonzero(H>=K))"
   ]
  },
  {
   "cell_type": "code",
   "execution_count": 23,
   "metadata": {},
   "outputs": [
    {
     "name": "stdout",
     "output_type": "stream",
     "text": [
      "2\n"
     ]
    }
   ],
   "source": []
  },
  {
   "cell_type": "code",
   "execution_count": null,
   "metadata": {},
   "outputs": [],
   "source": []
  },
  {
   "cell_type": "code",
   "execution_count": null,
   "metadata": {},
   "outputs": [],
   "source": []
  },
  {
   "cell_type": "code",
   "execution_count": null,
   "metadata": {},
   "outputs": [],
   "source": []
  },
  {
   "cell_type": "code",
   "execution_count": 17,
   "metadata": {},
   "outputs": [
    {
     "name": "stdout",
     "output_type": "stream",
     "text": [
      "1.0\n"
     ]
    }
   ],
   "source": [
    "N=int(input())\n",
    "print((N//2+N%2)/N)"
   ]
  },
  {
   "cell_type": "code",
   "execution_count": 15,
   "metadata": {},
   "outputs": [
    {
     "data": {
      "text/plain": [
       "0.6"
      ]
     },
     "execution_count": 15,
     "metadata": {},
     "output_type": "execute_result"
    }
   ],
   "source": [
    "print((N//2+N%2)/N)"
   ]
  },
  {
   "cell_type": "code",
   "execution_count": null,
   "metadata": {},
   "outputs": [],
   "source": []
  },
  {
   "cell_type": "code",
   "execution_count": null,
   "metadata": {},
   "outputs": [],
   "source": []
  },
  {
   "cell_type": "code",
   "execution_count": null,
   "metadata": {},
   "outputs": [],
   "source": []
  },
  {
   "cell_type": "code",
   "execution_count": null,
   "metadata": {},
   "outputs": [],
   "source": []
  },
  {
   "cell_type": "code",
   "execution_count": null,
   "metadata": {},
   "outputs": [],
   "source": []
  },
  {
   "cell_type": "code",
   "execution_count": null,
   "metadata": {},
   "outputs": [],
   "source": []
  },
  {
   "cell_type": "code",
   "execution_count": null,
   "metadata": {},
   "outputs": [],
   "source": []
  },
  {
   "cell_type": "code",
   "execution_count": null,
   "metadata": {},
   "outputs": [],
   "source": []
  },
  {
   "cell_type": "code",
   "execution_count": null,
   "metadata": {},
   "outputs": [],
   "source": []
  },
  {
   "cell_type": "code",
   "execution_count": null,
   "metadata": {},
   "outputs": [],
   "source": []
  },
  {
   "cell_type": "code",
   "execution_count": null,
   "metadata": {},
   "outputs": [],
   "source": []
  },
  {
   "cell_type": "code",
   "execution_count": null,
   "metadata": {},
   "outputs": [],
   "source": []
  },
  {
   "cell_type": "code",
   "execution_count": null,
   "metadata": {},
   "outputs": [],
   "source": []
  },
  {
   "cell_type": "code",
   "execution_count": null,
   "metadata": {},
   "outputs": [],
   "source": []
  },
  {
   "cell_type": "code",
   "execution_count": null,
   "metadata": {},
   "outputs": [],
   "source": []
  },
  {
   "cell_type": "code",
   "execution_count": null,
   "metadata": {},
   "outputs": [],
   "source": []
  },
  {
   "cell_type": "code",
   "execution_count": null,
   "metadata": {},
   "outputs": [],
   "source": []
  },
  {
   "cell_type": "code",
   "execution_count": null,
   "metadata": {},
   "outputs": [],
   "source": []
  },
  {
   "cell_type": "code",
   "execution_count": null,
   "metadata": {},
   "outputs": [],
   "source": []
  },
  {
   "cell_type": "code",
   "execution_count": null,
   "metadata": {},
   "outputs": [],
   "source": []
  },
  {
   "cell_type": "code",
   "execution_count": null,
   "metadata": {},
   "outputs": [],
   "source": []
  },
  {
   "cell_type": "code",
   "execution_count": null,
   "metadata": {},
   "outputs": [],
   "source": []
  },
  {
   "cell_type": "code",
   "execution_count": null,
   "metadata": {},
   "outputs": [],
   "source": []
  },
  {
   "cell_type": "code",
   "execution_count": 2,
   "metadata": {},
   "outputs": [],
   "source": [
    "#A"
   ]
  },
  {
   "cell_type": "code",
   "execution_count": 64,
   "metadata": {},
   "outputs": [
    {
     "data": {
      "text/plain": [
       "True"
      ]
     },
     "execution_count": 64,
     "metadata": {},
     "output_type": "execute_result"
    }
   ],
   "source": [
    "type(\"No\")==str"
   ]
  },
  {
   "cell_type": "code",
   "execution_count": 6,
   "metadata": {},
   "outputs": [
    {
     "name": "stdout",
     "output_type": "stream",
     "text": [
      "Sunny\n"
     ]
    }
   ],
   "source": [
    "S=input()\n",
    "if S=='Sunny':\n",
    "    print('Cloudy')\n",
    "elif S=='Cloudy':\n",
    "    print('Rainy')\n",
    "else:\n",
    "    print('Sunny')\n",
    " "
   ]
  },
  {
   "cell_type": "code",
   "execution_count": 7,
   "metadata": {},
   "outputs": [],
   "source": [
    "#B"
   ]
  },
  {
   "cell_type": "code",
   "execution_count": 13,
   "metadata": {},
   "outputs": [],
   "source": []
  },
  {
   "cell_type": "code",
   "execution_count": 21,
   "metadata": {},
   "outputs": [
    {
     "name": "stdout",
     "output_type": "stream",
     "text": [
      "No\n"
     ]
    }
   ],
   "source": [
    "S=input()\n",
    "flag=0\n",
    "for i in range(len(S)):\n",
    "    if i%2==0:\n",
    "        if not (S[i]=='R' or S[i]=='U' or S[i]=='D'):\n",
    "            flag=1\n",
    "    else:\n",
    "        if not (S[i]=='L' or S[i]=='U' or S[i]=='D'):\n",
    "            flag=1\n",
    "if flag==0:\n",
    "    print('Yes')\n",
    "else:\n",
    "    print('No')"
   ]
  },
  {
   "cell_type": "code",
   "execution_count": 16,
   "metadata": {},
   "outputs": [
    {
     "data": {
      "text/plain": [
       "7"
      ]
     },
     "execution_count": 16,
     "metadata": {},
     "output_type": "execute_result"
    }
   ],
   "source": [
    "len(S)"
   ]
  },
  {
   "cell_type": "code",
   "execution_count": 22,
   "metadata": {},
   "outputs": [],
   "source": [
    "#C"
   ]
  },
  {
   "cell_type": "code",
   "execution_count": 28,
   "metadata": {},
   "outputs": [],
   "source": [
    "import numpy as np\n",
    "N,K,Q=map(int, input().split())\n",
    "A=np.array([int(input()) for _ in range(Q)])"
   ]
  },
  {
   "cell_type": "code",
   "execution_count": 35,
   "metadata": {},
   "outputs": [],
   "source": [
    "P=np.array([K]*N)"
   ]
  },
  {
   "cell_type": "code",
   "execution_count": 30,
   "metadata": {},
   "outputs": [
    {
     "data": {
      "text/plain": [
       "array([3, 3, 3, 3, 3, 3])"
      ]
     },
     "execution_count": 30,
     "metadata": {},
     "output_type": "execute_result"
    }
   ],
   "source": [
    "P"
   ]
  },
  {
   "cell_type": "code",
   "execution_count": 31,
   "metadata": {},
   "outputs": [],
   "source": [
    "for a in A:\n",
    "    p=np.array([1]*N)\n",
    "    p[a-1]=0\n",
    "    P-=p"
   ]
  },
  {
   "cell_type": "code",
   "execution_count": 33,
   "metadata": {},
   "outputs": [
    {
     "name": "stdout",
     "output_type": "stream",
     "text": [
      "No\n",
      "No\n",
      "Yes\n",
      "No\n",
      "No\n",
      "No\n"
     ]
    }
   ],
   "source": [
    "for x in P:\n",
    "    if x>0:\n",
    "        print('Yes')\n",
    "    else:\n",
    "        print('No')"
   ]
  },
  {
   "cell_type": "code",
   "execution_count": 42,
   "metadata": {},
   "outputs": [
    {
     "name": "stdout",
     "output_type": "stream",
     "text": [
      "Yes\n",
      "Yes\n",
      "Yes\n",
      "Yes\n",
      "Yes\n",
      "Yes\n"
     ]
    }
   ],
   "source": [
    "N,K,Q=map(int, input().split())\n",
    "A=[int(input()) for _ in range(Q)]\n",
    "P=[0]*N\n",
    "for a in A:\n",
    "    P[a-1]+=1\n",
    "for x in P:\n",
    "    if K-Q+x>0:\n",
    "        print('Yes')\n",
    "    else:\n",
    "        print('No')    \n"
   ]
  },
  {
   "cell_type": "code",
   "execution_count": 40,
   "metadata": {},
   "outputs": [
    {
     "data": {
      "text/plain": [
       "[2, 1, 2, 1, 3, 1, 1, 1, 3, 0]"
      ]
     },
     "execution_count": 40,
     "metadata": {},
     "output_type": "execute_result"
    }
   ],
   "source": [
    "P"
   ]
  },
  {
   "cell_type": "code",
   "execution_count": 43,
   "metadata": {},
   "outputs": [],
   "source": [
    "#D"
   ]
  },
  {
   "cell_type": "code",
   "execution_count": 86,
   "metadata": {},
   "outputs": [],
   "source": [
    "import numpy as np\n",
    "N,M=map(int, input().split())\n",
    "A=np.array(list(map(int, input().split())))"
   ]
  },
  {
   "cell_type": "code",
   "execution_count": 104,
   "metadata": {},
   "outputs": [
    {
     "name": "stdout",
     "output_type": "stream",
     "text": [
      "9500000000\n",
      "CPU times: user 315 µs, sys: 79 µs, total: 394 µs\n",
      "Wall time: 448 µs\n"
     ]
    }
   ],
   "source": [
    "%%time\n",
    "import numpy as np\n",
    "N,M=map(int, input().split())\n",
    "A=np.array(list(map(int, input().split())))\n",
    "for i in range(M):\n",
    "    x=A.argmax()\n",
    "    A[x]=A[x]//2\n",
    "print(sum(A))"
   ]
  },
  {
   "cell_type": "code",
   "execution_count": 105,
   "metadata": {},
   "outputs": [
    {
     "name": "stdout",
     "output_type": "stream",
     "text": [
      "9500000000\n",
      "CPU times: user 538 µs, sys: 264 µs, total: 802 µs\n",
      "Wall time: 632 µs\n"
     ]
    }
   ],
   "source": [
    "%%time\n",
    "import numpy as np\n",
    "N,M=map(int, input().split())\n",
    "A=np.array(list(map(int, input().split())))\n",
    "for i in range(M):\n",
    "    x=np.argmax(A)\n",
    "    A[x]=A[x]//2\n",
    "print(sum(A))"
   ]
  },
  {
   "cell_type": "code",
   "execution_count": 3,
   "metadata": {},
   "outputs": [
    {
     "name": "stdout",
     "output_type": "stream",
     "text": [
      "9500000000\n"
     ]
    }
   ],
   "source": [
    "N,M=map(int, input().split())\n",
    "A=list(map(int, input().split()))\n",
    "A.index(max(A))\n",
    "A.sort()\n",
    "a=A.pop()\n",
    "b=A.pop()\n",
    "for i in range(M):\n",
    "    if a>=b:\n",
    "        a=a//2\n",
    "    else:\n",
    "        A.append(a)\n",
    "        A.append(b//2)\n",
    "        A.sort()\n",
    "        a=A.pop()\n",
    "        b=A.pop()\n",
    "        \n",
    "print(sum(A)+a+b)"
   ]
  },
  {
   "cell_type": "code",
   "execution_count": 80,
   "metadata": {},
   "outputs": [
    {
     "data": {
      "text/plain": [
       "[1, 3, 5]"
      ]
     },
     "execution_count": 80,
     "metadata": {},
     "output_type": "execute_result"
    }
   ],
   "source": [
    "A"
   ]
  },
  {
   "cell_type": "code",
   "execution_count": 81,
   "metadata": {},
   "outputs": [
    {
     "data": {
      "text/plain": [
       "9"
      ]
     },
     "execution_count": 81,
     "metadata": {},
     "output_type": "execute_result"
    }
   ],
   "source": [
    "a"
   ]
  },
  {
   "cell_type": "code",
   "execution_count": 55,
   "metadata": {},
   "outputs": [
    {
     "name": "stdout",
     "output_type": "stream",
     "text": [
      "9500000000\n",
      "CPU times: user 315 µs, sys: 123 µs, total: 438 µs\n",
      "Wall time: 371 µs\n"
     ]
    }
   ],
   "source": [
    "%%time\n",
    "N,M=map(int, input().split())\n",
    "A=list(map(int, input().split()))\n",
    "A.index(max(A))\n",
    "A.sort()\n",
    "B=[A.pop()//2]\n",
    "M-=1\n",
    "\n",
    "while(M):\n",
    "    if A[-1]>B[-1]:\n",
    "        B.insert(0,A.pop()//2)\n",
    "    else:\n",
    "        b=B.pop()//2\n",
    "        B.insert(0,b)\n",
    "    M-=1\n",
    "    \n",
    "print(sum(A)+sum(B))\n"
   ]
  },
  {
   "cell_type": "code",
   "execution_count": 52,
   "metadata": {},
   "outputs": [
    {
     "data": {
      "text/plain": [
       "[1]"
      ]
     },
     "execution_count": 52,
     "metadata": {},
     "output_type": "execute_result"
    }
   ],
   "source": [
    "A"
   ]
  },
  {
   "cell_type": "code",
   "execution_count": 53,
   "metadata": {},
   "outputs": [
    {
     "data": {
      "text/plain": [
       "[1, 2, 2]"
      ]
     },
     "execution_count": 53,
     "metadata": {},
     "output_type": "execute_result"
    }
   ],
   "source": [
    "B"
   ]
  },
  {
   "cell_type": "code",
   "execution_count": 127,
   "metadata": {},
   "outputs": [
    {
     "name": "stdout",
     "output_type": "stream",
     "text": [
      "10\n"
     ]
    }
   ],
   "source": [
    "import numpy as np\n",
    "N,M=map(int, input().split())\n",
    "A=np.array(list(map(int, input().split())))\n",
    "while(M):\n",
    "    a=A[np.argmax(A)]//2\n",
    "    L=(A>=a)\n",
    "    if M-len(L)>=0:\n",
    "        A[L]=A[L]//2\n",
    "        M-=len(L)\n",
    "    else:\n",
    "        x=np.argmax(A)\n",
    "        A[x]=A[x]//2\n",
    "        M-=1\n",
    "print(sum(A))\n"
   ]
  },
  {
   "cell_type": "code",
   "execution_count": 129,
   "metadata": {},
   "outputs": [
    {
     "data": {
      "text/plain": [
       "array([1, 4, 3, 2])"
      ]
     },
     "execution_count": 129,
     "metadata": {},
     "output_type": "execute_result"
    }
   ],
   "source": [
    "A"
   ]
  },
  {
   "cell_type": "code",
   "execution_count": 125,
   "metadata": {},
   "outputs": [
    {
     "data": {
      "text/plain": [
       "4"
      ]
     },
     "execution_count": 125,
     "metadata": {},
     "output_type": "execute_result"
    }
   ],
   "source": [
    "len(A>=a)"
   ]
  },
  {
   "cell_type": "code",
   "execution_count": 126,
   "metadata": {},
   "outputs": [
    {
     "ename": "SyntaxError",
     "evalue": "invalid syntax (<ipython-input-126-e330338694a4>, line 1)",
     "output_type": "error",
     "traceback": [
      "\u001b[0;36m  File \u001b[0;32m\"<ipython-input-126-e330338694a4>\"\u001b[0;36m, line \u001b[0;32m1\u001b[0m\n\u001b[0;31m    1 9 3 5\u001b[0m\n\u001b[0m      ^\u001b[0m\n\u001b[0;31mSyntaxError\u001b[0m\u001b[0;31m:\u001b[0m invalid syntax\n"
     ]
    }
   ],
   "source": [
    "1 9 3 5"
   ]
  },
  {
   "cell_type": "code",
   "execution_count": 152,
   "metadata": {},
   "outputs": [
    {
     "name": "stdout",
     "output_type": "stream",
     "text": [
      "6\n"
     ]
    }
   ],
   "source": [
    "import heapq\n",
    "\n",
    "N,M = map(int, input().split())\n",
    "A = list(-int(i) for i in input().split()) \n",
    "\n",
    "heapq.heapify(A)\n",
    "\n",
    "for i in range(M):\n",
    "    x=heapq.heappop(A)//(-2)\n",
    "    heapq.heappush(A, -x)\n",
    "\n",
    "print(-sum(A))\n"
   ]
  },
  {
   "cell_type": "code",
   "execution_count": 149,
   "metadata": {},
   "outputs": [
    {
     "data": {
      "text/plain": [
       "[-5, -4, -3, -1]"
      ]
     },
     "execution_count": 149,
     "metadata": {},
     "output_type": "execute_result"
    }
   ],
   "source": [
    "A"
   ]
  },
  {
   "cell_type": "code",
   "execution_count": 151,
   "metadata": {},
   "outputs": [
    {
     "data": {
      "text/plain": [
       "4"
      ]
     },
     "execution_count": 151,
     "metadata": {},
     "output_type": "execute_result"
    }
   ],
   "source": [
    "x"
   ]
  },
  {
   "cell_type": "code",
   "execution_count": 2,
   "metadata": {},
   "outputs": [],
   "source": [
    "import numpy as np\n",
    "H,W,A,B = map(int, input().split())"
   ]
  },
  {
   "cell_type": "code",
   "execution_count": 3,
   "metadata": {},
   "outputs": [],
   "source": [
    "matrix=np.zeros([H,W], int)"
   ]
  },
  {
   "cell_type": "code",
   "execution_count": 9,
   "metadata": {},
   "outputs": [
    {
     "data": {
      "text/plain": [
       "array([[0, 0, 0],\n",
       "       [0, 0, 0],\n",
       "       [0, 0, 0]])"
      ]
     },
     "execution_count": 9,
     "metadata": {},
     "output_type": "execute_result"
    }
   ],
   "source": []
  },
  {
   "cell_type": "code",
   "execution_count": 56,
   "metadata": {},
   "outputs": [
    {
     "name": "stdout",
     "output_type": "stream",
     "text": [
      "[[1 1 1 0 0 0]\n",
      " [1 1 1 0 0 0]\n",
      " [1 1 1 0 0 0]\n",
      " [0 0 0 1 1 1]\n",
      " [0 0 0 1 1 1]\n",
      " [0 0 0 1 1 1]]\n"
     ]
    }
   ],
   "source": [
    "import numpy as np\n",
    "H,W,A,B = map(int, input().split())\n",
    "def check(H,W,A,B):\n",
    "    matrix=np.zeros([H,W], int)\n",
    "    flag=0\n",
    "    if A==0:\n",
    "        flag=1\n",
    "        matrix[:B,:]=1\n",
    "        return matrix\n",
    "    \n",
    "    if B==0:\n",
    "        flag=1\n",
    "        matrix[:,:A]=1\n",
    "        return matrix\n",
    "        \n",
    "    if H==W and A==B:\n",
    "        flag=1\n",
    "        for i in range(H//A):\n",
    "            x=i*A\n",
    "            matrix[x:x+A,x:x+A]=1\n",
    "        return matrix\n",
    "    \n",
    "\n",
    "    if H==W and A==W//2 and B<=H//2:\n",
    "        matrix[:B,:A]=1\n",
    "        matrix[B:,A:]=1\n",
    "        return matrix\n",
    "            \n",
    "    if A==W//2 and B==H//2:\n",
    "        flag=1\n",
    "        for i in range(H):\n",
    "            for j in range(W):\n",
    "                if (i+j)%2==0:\n",
    "                    matrix[i][j]=1\n",
    "        return matrix\n",
    "    \n",
    "    return \"No\"\n",
    "\n",
    "if B<=H//2 and A<=W//2:\n",
    "    print(check())\n",
    "else:\n",
    "    print(\"No\")"
   ]
  },
  {
   "cell_type": "code",
   "execution_count": 77,
   "metadata": {},
   "outputs": [],
   "source": [
    "def make_divisors(n):\n",
    "    divisors = []\n",
    "    for i in range(1, int(n**0.5)+1):\n",
    "        if n % i == 0:\n",
    "            divisors.append(i)\n",
    "            if i != n // i:\n",
    "                divisors.append(n//i)\n",
    "\n",
    "    # divisors.sort()\n",
    "    return divisors"
   ]
  },
  {
   "cell_type": "code",
   "execution_count": 123,
   "metadata": {},
   "outputs": [
    {
     "name": "stdout",
     "output_type": "stream",
     "text": [
      "011111111\n",
      "100000000\n",
      "100000000\n",
      "100000000\n",
      "100000000\n",
      "100000000\n",
      "100000000\n",
      "100000000\n",
      "100000000\n"
     ]
    }
   ],
   "source": [
    "import numpy as np\n",
    "H,W,A,B = map(int, input().split())\n",
    "ans=np.zeros([H,W], int)\n",
    "ans[:B,A:]=1\n",
    "ans[B:,:A]=1\n",
    "for x in ans:\n",
    "    maped_num = map(str, x)\n",
    "    mojiretsu = ''.join(maped_num)\n",
    "    print(mojiretsu)\n",
    "\n"
   ]
  },
  {
   "cell_type": "code",
   "execution_count": 125,
   "metadata": {},
   "outputs": [
    {
     "name": "stdout",
     "output_type": "stream",
     "text": [
      "<map object at 0x10b7e2630>\n"
     ]
    }
   ],
   "source": [
    "print(maped_num)"
   ]
  },
  {
   "cell_type": "code",
   "execution_count": 120,
   "metadata": {},
   "outputs": [
    {
     "name": "stdout",
     "output_type": "stream",
     "text": [
      "011111111\n",
      "100000000\n",
      "100000000\n",
      "100000000\n",
      "100000000\n",
      "100000000\n",
      "100000000\n",
      "100000000\n",
      "100000000\n"
     ]
    }
   ],
   "source": [
    "H, W, A, B = map(int, input().split())\n",
    "\n",
    "for _ in range(B):\n",
    "  print(''.join(['0'] * A + ['1'] * (W-A)))\n",
    "for _ in range(H-B):\n",
    "  print(''.join(['1'] * A + ['0'] * (W-A)))\n"
   ]
  },
  {
   "cell_type": "code",
   "execution_count": null,
   "metadata": {},
   "outputs": [],
   "source": []
  }
 ],
 "metadata": {
  "kernelspec": {
   "display_name": "Python 3",
   "language": "python",
   "name": "python3"
  },
  "language_info": {
   "codemirror_mode": {
    "name": "ipython",
    "version": 3
   },
   "file_extension": ".py",
   "mimetype": "text/x-python",
   "name": "python",
   "nbconvert_exporter": "python",
   "pygments_lexer": "ipython3",
   "version": "3.7.5"
  }
 },
 "nbformat": 4,
 "nbformat_minor": 2
}

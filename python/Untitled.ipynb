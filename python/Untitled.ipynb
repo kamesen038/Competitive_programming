{
 "cells": [
  {
   "cell_type": "code",
   "execution_count": 1,
   "metadata": {
    "code_folding": []
   },
   "outputs": [
    {
     "data": {
      "application/vnd.jupyter.widget-view+json": {
       "model_id": "749835f502864228b03e6822d6dd2391",
       "version_major": 2,
       "version_minor": 0
      },
      "text/plain": [
       "Textarea(value='')"
      ]
     },
     "metadata": {},
     "output_type": "display_data"
    }
   ],
   "source": [
    "from ipywidgets import Textarea\n",
    "import io\n",
    "\n",
    "if 'open' in globals():\n",
    "    del open\n",
    "if 'input' in globals():\n",
    "    del input\n",
    "\n",
    "original_open = open\n",
    "\n",
    "class custom_open():\n",
    "    def __init__(self):\n",
    "        self.text = ''\n",
    "\n",
    "    def __call__(self, file, *args, **kwargs):\n",
    "        if file == 0:\n",
    "            return io.StringIO(self.text)\n",
    "        return original_open(file, *args, **kwargs)\n",
    "\n",
    "    def updater(self, change):\n",
    "        self.text = change[\"new\"]\n",
    "\n",
    "class custom_input():\n",
    "    def __init__(self):\n",
    "        self.__sio = io.StringIO('')\n",
    "        self.shell = get_ipython()\n",
    "        if self.shell.events.callbacks['pre_run_cell'] != []:\n",
    "            self.shell.events.callbacks['pre_run_cell'] = []\n",
    "        self.shell.events.register('pre_run_cell', self.pre_run_cell)\n",
    "\n",
    "    def __call__(self):\n",
    "        return self.__sio.readline().strip()\n",
    "\n",
    "    def pre_run_cell(self, info):\n",
    "        text = self.shell.user_ns.get('text_area', None).value\n",
    "        self.__sio = io.StringIO(text)\n",
    "\n",
    "open = custom_open()\n",
    "input = custom_input()\n",
    "\n",
    "text_area = Textarea()\n",
    "text_area.observe(open.updater, names='value')\n",
    "display(text_area)"
   ]
  },
  {
   "cell_type": "code",
   "execution_count": null,
   "metadata": {},
   "outputs": [],
   "source": []
  },
  {
   "cell_type": "code",
   "execution_count": null,
   "metadata": {},
   "outputs": [],
   "source": []
  },
  {
   "cell_type": "code",
   "execution_count": null,
   "metadata": {},
   "outputs": [],
   "source": []
  },
  {
   "cell_type": "code",
   "execution_count": null,
   "metadata": {},
   "outputs": [],
   "source": []
  },
  {
   "cell_type": "code",
   "execution_count": 198,
   "metadata": {},
   "outputs": [
    {
     "name": "stdout",
     "output_type": "stream",
     "text": [
      "40812\n"
     ]
    }
   ],
   "source": [
    "N = int(input())\n",
    "A = [[0 for i in range(11)] for j in range(11)]\n",
    "for i in range(1, N+1):\n",
    "  A[int(str(i)[0])][int(str(i)[-1])] +=1\n",
    "\n",
    "\n",
    "ans = 0\n",
    "for i in range(10):\n",
    "  for j in range(10):\n",
    "    ans += A[i][j] * A[j][i]\n",
    "  \n",
    "print(ans)\n"
   ]
  },
  {
   "cell_type": "code",
   "execution_count": 201,
   "metadata": {},
   "outputs": [],
   "source": [
    "A = [[0 for i in range(11)] for j in range(11)]\n"
   ]
  },
  {
   "cell_type": "code",
   "execution_count": 202,
   "metadata": {},
   "outputs": [
    {
     "data": {
      "text/plain": [
       "[[0, 0, 0, 0, 0, 0, 0, 0, 0, 0, 0],\n",
       " [0, 0, 0, 0, 0, 0, 0, 0, 0, 0, 0],\n",
       " [0, 0, 0, 0, 0, 0, 0, 0, 0, 0, 0],\n",
       " [0, 0, 0, 0, 0, 0, 0, 0, 0, 0, 0],\n",
       " [0, 0, 0, 0, 0, 0, 0, 0, 0, 0, 0],\n",
       " [0, 0, 0, 0, 0, 0, 0, 0, 0, 0, 0],\n",
       " [0, 0, 0, 0, 0, 0, 0, 0, 0, 0, 0],\n",
       " [0, 0, 0, 0, 0, 0, 0, 0, 0, 0, 0],\n",
       " [0, 0, 0, 0, 0, 0, 0, 0, 0, 0, 0],\n",
       " [0, 0, 0, 0, 0, 0, 0, 0, 0, 0, 0],\n",
       " [0, 0, 0, 0, 0, 0, 0, 0, 0, 0, 0]]"
      ]
     },
     "execution_count": 202,
     "metadata": {},
     "output_type": "execute_result"
    }
   ],
   "source": [
    "A"
   ]
  },
  {
   "cell_type": "code",
   "execution_count": 203,
   "metadata": {},
   "outputs": [],
   "source": [
    "for i in range(1, N+1):\n",
    "  A[int(str(i)[0])][int(str(i)[-1])] +=1"
   ]
  },
  {
   "cell_type": "code",
   "execution_count": 204,
   "metadata": {},
   "outputs": [
    {
     "data": {
      "text/plain": [
       "[[0, 0, 0, 0, 0, 0, 0, 0, 0, 0, 0],\n",
       " [111, 112, 111, 111, 111, 111, 111, 111, 111, 111, 0],\n",
       " [14, 13, 14, 13, 13, 13, 13, 13, 13, 13, 0],\n",
       " [11, 11, 11, 12, 11, 11, 11, 11, 11, 11, 0],\n",
       " [11, 11, 11, 11, 12, 11, 11, 11, 11, 11, 0],\n",
       " [11, 11, 11, 11, 11, 12, 11, 11, 11, 11, 0],\n",
       " [11, 11, 11, 11, 11, 11, 12, 11, 11, 11, 0],\n",
       " [11, 11, 11, 11, 11, 11, 11, 12, 11, 11, 0],\n",
       " [11, 11, 11, 11, 11, 11, 11, 11, 12, 11, 0],\n",
       " [11, 11, 11, 11, 11, 11, 11, 11, 11, 12, 0],\n",
       " [0, 0, 0, 0, 0, 0, 0, 0, 0, 0, 0]]"
      ]
     },
     "execution_count": 204,
     "metadata": {},
     "output_type": "execute_result"
    }
   ],
   "source": [
    "A"
   ]
  },
  {
   "cell_type": "code",
   "execution_count": 190,
   "metadata": {},
   "outputs": [
    {
     "name": "stdout",
     "output_type": "stream",
     "text": [
      "40812\n"
     ]
    }
   ],
   "source": [
    "d=[0]*100\n",
    "N=int(input())\n",
    "for i in range(N+1):\n",
    "  s=str(i)\n",
    "  d[int(s[0])*10+int(s[-1])]+=1\n",
    "r=range(1,10)\n",
    "print(sum(d[i*10+j]*d[j*10+i] for i in r for j in r))\n"
   ]
  },
  {
   "cell_type": "code",
   "execution_count": 191,
   "metadata": {},
   "outputs": [
    {
     "data": {
      "text/plain": [
       "[1,\n",
       " 0,\n",
       " 0,\n",
       " 0,\n",
       " 0,\n",
       " 0,\n",
       " 0,\n",
       " 0,\n",
       " 0,\n",
       " 0,\n",
       " 111,\n",
       " 112,\n",
       " 111,\n",
       " 111,\n",
       " 111,\n",
       " 111,\n",
       " 111,\n",
       " 111,\n",
       " 111,\n",
       " 111,\n",
       " 14,\n",
       " 13,\n",
       " 14,\n",
       " 13,\n",
       " 13,\n",
       " 13,\n",
       " 13,\n",
       " 13,\n",
       " 13,\n",
       " 13,\n",
       " 11,\n",
       " 11,\n",
       " 11,\n",
       " 12,\n",
       " 11,\n",
       " 11,\n",
       " 11,\n",
       " 11,\n",
       " 11,\n",
       " 11,\n",
       " 11,\n",
       " 11,\n",
       " 11,\n",
       " 11,\n",
       " 12,\n",
       " 11,\n",
       " 11,\n",
       " 11,\n",
       " 11,\n",
       " 11,\n",
       " 11,\n",
       " 11,\n",
       " 11,\n",
       " 11,\n",
       " 11,\n",
       " 12,\n",
       " 11,\n",
       " 11,\n",
       " 11,\n",
       " 11,\n",
       " 11,\n",
       " 11,\n",
       " 11,\n",
       " 11,\n",
       " 11,\n",
       " 11,\n",
       " 12,\n",
       " 11,\n",
       " 11,\n",
       " 11,\n",
       " 11,\n",
       " 11,\n",
       " 11,\n",
       " 11,\n",
       " 11,\n",
       " 11,\n",
       " 11,\n",
       " 12,\n",
       " 11,\n",
       " 11,\n",
       " 11,\n",
       " 11,\n",
       " 11,\n",
       " 11,\n",
       " 11,\n",
       " 11,\n",
       " 11,\n",
       " 11,\n",
       " 12,\n",
       " 11,\n",
       " 11,\n",
       " 11,\n",
       " 11,\n",
       " 11,\n",
       " 11,\n",
       " 11,\n",
       " 11,\n",
       " 11,\n",
       " 11,\n",
       " 12]"
      ]
     },
     "execution_count": 191,
     "metadata": {},
     "output_type": "execute_result"
    }
   ],
   "source": [
    "d"
   ]
  },
  {
   "cell_type": "code",
   "execution_count": null,
   "metadata": {},
   "outputs": [],
   "source": []
  },
  {
   "cell_type": "code",
   "execution_count": 207,
   "metadata": {},
   "outputs": [
    {
     "name": "stdout",
     "output_type": "stream",
     "text": [
      "40812\n"
     ]
    }
   ],
   "source": [
    "N=int(input())\n",
    "def f(n):\n",
    "    s=str(n)\n",
    "    return int(s[0]),int(s[-1])\n",
    "\n",
    "def g(x,y,N):\n",
    "    ans=0\n",
    "    for i in range(1,N+1):\n",
    "        a,b=f(i)\n",
    "        if a==x and b==y:\n",
    "            ans+=1\n",
    "    return ans\n",
    "\n",
    "A=[[0 for _ in range(10)] for __ in range(10)]\n",
    "\n",
    "\n",
    "for i in range(10):\n",
    "    for j in range(10):\n",
    "        A[i][j]=g(i,j,N)\n",
    "\n",
    "ans=0\n",
    "for i in range(10):\n",
    "    for j in range(10):\n",
    "        ans+=A[i][j]*A[j][i]\n",
    "\n",
    "\n",
    "\n",
    "print(ans)"
   ]
  },
  {
   "cell_type": "code",
   "execution_count": 193,
   "metadata": {},
   "outputs": [
    {
     "data": {
      "text/plain": [
       "('1', '1')"
      ]
     },
     "execution_count": 193,
     "metadata": {},
     "output_type": "execute_result"
    }
   ],
   "source": [
    "f(1)"
   ]
  },
  {
   "cell_type": "code",
   "execution_count": 154,
   "metadata": {},
   "outputs": [],
   "source": [
    "N=list(input())\n",
    "l=len(N)\n",
    "for i in range(l):\n",
    "    N[i]=int(N[i])"
   ]
  },
  {
   "cell_type": "code",
   "execution_count": 158,
   "metadata": {},
   "outputs": [],
   "source": [
    "ans=108\n",
    "if N[0]<=N[2]:\n",
    "    ans+=4*N[0]*N[1]\n",
    "else:\n",
    "ans+=2*8*N[1]"
   ]
  },
  {
   "cell_type": "code",
   "execution_count": 159,
   "metadata": {},
   "outputs": [
    {
     "data": {
      "text/plain": [
       "128"
      ]
     },
     "execution_count": 159,
     "metadata": {},
     "output_type": "execute_result"
    }
   ],
   "source": [
    "ans"
   ]
  },
  {
   "cell_type": "code",
   "execution_count": null,
   "metadata": {},
   "outputs": [],
   "source": []
  },
  {
   "cell_type": "code",
   "execution_count": 145,
   "metadata": {},
   "outputs": [],
   "source": [
    "N=int(input())"
   ]
  },
  {
   "cell_type": "code",
   "execution_count": 146,
   "metadata": {},
   "outputs": [],
   "source": [
    "import math\n",
    "a=int(math.log10(N)+1)\n",
    "b=N//(10**(a-1))\n",
    "c=N%10"
   ]
  },
  {
   "cell_type": "code",
   "execution_count": 147,
   "metadata": {},
   "outputs": [],
   "source": [
    "ans=0\n",
    "if a<=1:\n",
    "    ans=min(9,N)"
   ]
  },
  {
   "cell_type": "code",
   "execution_count": 148,
   "metadata": {},
   "outputs": [],
   "source": [
    "if a<=2:\n",
    "    ans=9\n",
    "    if b<=c:\n",
    "        ans+=3*b+(b-1)*b\n",
    "    else:\n",
    "        ans+=3*(b-1)+(b-2)*(b-1)+2*c"
   ]
  },
  {
   "cell_type": "code",
   "execution_count": 149,
   "metadata": {},
   "outputs": [
    {
     "data": {
      "text/plain": [
       "(2, 9, 9)"
      ]
     },
     "execution_count": 149,
     "metadata": {},
     "output_type": "execute_result"
    }
   ],
   "source": [
    "a,b,c"
   ]
  },
  {
   "cell_type": "code",
   "execution_count": 150,
   "metadata": {},
   "outputs": [
    {
     "data": {
      "text/plain": [
       "108"
      ]
     },
     "execution_count": 150,
     "metadata": {},
     "output_type": "execute_result"
    }
   ],
   "source": [
    "ans"
   ]
  },
  {
   "cell_type": "code",
   "execution_count": 72,
   "metadata": {},
   "outputs": [
    {
     "data": {
      "text/plain": [
       "2"
      ]
     },
     "execution_count": 72,
     "metadata": {},
     "output_type": "execute_result"
    }
   ],
   "source": []
  },
  {
   "cell_type": "code",
   "execution_count": 161,
   "metadata": {},
   "outputs": [],
   "source": [
    "N=int(input())"
   ]
  },
  {
   "cell_type": "code",
   "execution_count": 164,
   "metadata": {},
   "outputs": [],
   "source": [
    "def f(n):\n",
    "    a=int(math.log10(n)+1)\n",
    "    b=n//(10**(a-1))\n",
    "    c=n%10\n",
    "    return b,c"
   ]
  },
  {
   "cell_type": "code",
   "execution_count": 176,
   "metadata": {},
   "outputs": [],
   "source": [
    "ans=0\n",
    "for i in range(1,N+1):\n",
    "    a,b=f(i)\n",
    "    for j in range(1,N+1):\n",
    "        x,y=f(j)\n",
    "        if a==y and b==x:\n",
    "            ans+=1"
   ]
  },
  {
   "cell_type": "code",
   "execution_count": 177,
   "metadata": {},
   "outputs": [
    {
     "data": {
      "text/plain": [
       "40812"
      ]
     },
     "execution_count": 177,
     "metadata": {},
     "output_type": "execute_result"
    }
   ],
   "source": [
    "ans"
   ]
  },
  {
   "cell_type": "code",
   "execution_count": 181,
   "metadata": {},
   "outputs": [],
   "source": [
    "def right(i,j,N):\n",
    "    ans=0\n",
    "    for i in range(1,N+1):\n",
    "        a,b=f(i)\n",
    "        for j in range(1,N+1):\n",
    "            x,y=f(j)\n",
    "            if a==y and b==x:\n",
    "                ans+=1\n",
    "    return ans"
   ]
  },
  {
   "cell_type": "code",
   "execution_count": 182,
   "metadata": {},
   "outputs": [
    {
     "name": "stdout",
     "output_type": "stream",
     "text": [
      "0 0\n",
      "1 1\n",
      "2 2\n",
      "3 3\n",
      "4 4\n",
      "5 5\n",
      "6 6\n",
      "7 7\n",
      "8 8\n",
      "9 9\n",
      "10 9\n",
      "11 12\n",
      "12 12\n",
      "13 12\n",
      "14 12\n",
      "15 12\n",
      "16 12\n",
      "17 12\n",
      "18 12\n",
      "19 12\n",
      "20 12\n",
      "21 14\n",
      "22 17\n",
      "23 17\n",
      "24 17\n",
      "25 17\n",
      "26 17\n",
      "27 17\n",
      "28 17\n",
      "29 17\n",
      "30 17\n",
      "31 19\n",
      "32 21\n",
      "33 24\n",
      "34 24\n",
      "35 24\n",
      "36 24\n",
      "37 24\n",
      "38 24\n",
      "39 24\n",
      "40 24\n",
      "41 26\n",
      "42 28\n",
      "43 30\n",
      "44 33\n",
      "45 33\n",
      "46 33\n",
      "47 33\n",
      "48 33\n",
      "49 33\n",
      "50 33\n",
      "51 35\n",
      "52 37\n",
      "53 39\n",
      "54 41\n",
      "55 44\n",
      "56 44\n",
      "57 44\n",
      "58 44\n",
      "59 44\n",
      "60 44\n",
      "61 46\n",
      "62 48\n",
      "63 50\n",
      "64 52\n",
      "65 54\n",
      "66 57\n",
      "67 57\n",
      "68 57\n",
      "69 57\n",
      "70 57\n",
      "71 59\n",
      "72 61\n",
      "73 63\n",
      "74 65\n",
      "75 67\n",
      "76 69\n",
      "77 72\n",
      "78 72\n",
      "79 72\n",
      "80 72\n",
      "81 74\n",
      "82 76\n",
      "83 78\n",
      "84 80\n",
      "85 82\n",
      "86 84\n",
      "87 86\n",
      "88 89\n",
      "89 89\n",
      "90 89\n",
      "91 91\n",
      "92 93\n",
      "93 95\n",
      "94 97\n",
      "95 99\n",
      "96 101\n",
      "97 103\n",
      "98 105\n",
      "99 108\n",
      "100 108\n",
      "101 113\n",
      "102 115\n",
      "103 117\n",
      "104 119\n",
      "105 121\n",
      "106 123\n",
      "107 125\n",
      "108 127\n",
      "109 129\n",
      "110 129\n",
      "111 136\n",
      "112 138\n",
      "113 140\n",
      "114 142\n",
      "115 144\n",
      "116 146\n",
      "117 148\n",
      "118 150\n",
      "119 152\n",
      "120 152\n",
      "121 161\n",
      "122 163\n",
      "123 165\n",
      "124 167\n",
      "125 169\n",
      "126 171\n",
      "127 173\n",
      "128 175\n",
      "129 177\n",
      "130 177\n",
      "131 188\n",
      "132 190\n",
      "133 192\n",
      "134 194\n",
      "135 196\n",
      "136 198\n",
      "137 200\n",
      "138 202\n",
      "139 204\n",
      "140 204\n",
      "141 217\n",
      "142 219\n",
      "143 221\n",
      "144 223\n",
      "145 225\n",
      "146 227\n",
      "147 229\n",
      "148 231\n",
      "149 233\n",
      "150 233\n",
      "151 248\n",
      "152 250\n",
      "153 252\n",
      "154 254\n",
      "155 256\n",
      "156 258\n",
      "157 260\n",
      "158 262\n",
      "159 264\n",
      "160 264\n",
      "161 281\n",
      "162 283\n",
      "163 285\n",
      "164 287\n",
      "165 289\n",
      "166 291\n",
      "167 293\n",
      "168 295\n",
      "169 297\n",
      "170 297\n",
      "171 316\n",
      "172 318\n",
      "173 320\n",
      "174 322\n",
      "175 324\n",
      "176 326\n",
      "177 328\n",
      "178 330\n",
      "179 332\n",
      "180 332\n",
      "181 353\n",
      "182 355\n",
      "183 357\n",
      "184 359\n",
      "185 361\n",
      "186 363\n",
      "187 365\n",
      "188 367\n",
      "189 369\n",
      "190 369\n",
      "191 392\n",
      "192 394\n",
      "193 396\n",
      "194 398\n",
      "195 400\n",
      "196 402\n",
      "197 404\n",
      "198 406\n",
      "199 408\n",
      "200 408\n",
      "201 430\n",
      "202 435\n",
      "203 437\n",
      "204 439\n",
      "205 441\n",
      "206 443\n",
      "207 445\n",
      "208 447\n",
      "209 449\n",
      "210 449\n",
      "211 471\n",
      "212 478\n",
      "213 480\n",
      "214 482\n",
      "215 484\n",
      "216 486\n",
      "217 488\n",
      "218 490\n",
      "219 492\n",
      "220 492\n",
      "221 514\n",
      "222 523\n",
      "223 525\n",
      "224 527\n",
      "225 529\n",
      "226 531\n",
      "227 533\n",
      "228 535\n",
      "229 537\n",
      "230 537\n",
      "231 559\n",
      "232 570\n",
      "233 572\n",
      "234 574\n",
      "235 576\n",
      "236 578\n",
      "237 580\n",
      "238 582\n",
      "239 584\n",
      "240 584\n",
      "241 606\n",
      "242 619\n",
      "243 621\n",
      "244 623\n",
      "245 625\n",
      "246 627\n",
      "247 629\n",
      "248 631\n",
      "249 633\n",
      "250 633\n",
      "251 655\n",
      "252 670\n",
      "253 672\n",
      "254 674\n",
      "255 676\n",
      "256 678\n",
      "257 680\n",
      "258 682\n",
      "259 684\n",
      "260 684\n",
      "261 706\n",
      "262 723\n",
      "263 725\n",
      "264 727\n",
      "265 729\n",
      "266 731\n",
      "267 733\n",
      "268 735\n",
      "269 737\n",
      "270 737\n",
      "271 759\n",
      "272 778\n",
      "273 780\n",
      "274 782\n",
      "275 784\n",
      "276 786\n",
      "277 788\n",
      "278 790\n",
      "279 792\n",
      "280 792\n",
      "281 814\n",
      "282 835\n",
      "283 837\n",
      "284 839\n",
      "285 841\n",
      "286 843\n",
      "287 845\n",
      "288 847\n",
      "289 849\n",
      "290 849\n",
      "291 871\n",
      "292 894\n",
      "293 896\n",
      "294 898\n",
      "295 900\n",
      "296 902\n",
      "297 904\n",
      "298 906\n",
      "299 908\n",
      "300 908\n",
      "301 930\n",
      "302 952\n",
      "303 957\n",
      "304 959\n",
      "305 961\n",
      "306 963\n",
      "307 965\n",
      "308 967\n",
      "309 969\n",
      "310 969\n",
      "311 991\n",
      "312 1013\n",
      "313 1020\n",
      "314 1022\n",
      "315 1024\n",
      "316 1026\n",
      "317 1028\n",
      "318 1030\n",
      "319 1032\n",
      "320 1032\n",
      "321 1054\n",
      "322 1076\n",
      "323 1085\n",
      "324 1087\n",
      "325 1089\n",
      "326 1091\n",
      "327 1093\n",
      "328 1095\n",
      "329 1097\n",
      "330 1097\n",
      "331 1119\n",
      "332 1141\n",
      "333 1152\n",
      "334 1154\n",
      "335 1156\n",
      "336 1158\n",
      "337 1160\n",
      "338 1162\n",
      "339 1164\n",
      "340 1164\n",
      "341 1186\n",
      "342 1208\n",
      "343 1221\n",
      "344 1223\n",
      "345 1225\n",
      "346 1227\n",
      "347 1229\n",
      "348 1231\n",
      "349 1233\n",
      "350 1233\n",
      "351 1255\n",
      "352 1277\n",
      "353 1292\n",
      "354 1294\n",
      "355 1296\n",
      "356 1298\n",
      "357 1300\n",
      "358 1302\n",
      "359 1304\n",
      "360 1304\n",
      "361 1326\n",
      "362 1348\n",
      "363 1365\n",
      "364 1367\n",
      "365 1369\n",
      "366 1371\n",
      "367 1373\n",
      "368 1375\n",
      "369 1377\n",
      "370 1377\n",
      "371 1399\n",
      "372 1421\n",
      "373 1440\n",
      "374 1442\n",
      "375 1444\n",
      "376 1446\n",
      "377 1448\n",
      "378 1450\n",
      "379 1452\n",
      "380 1452\n",
      "381 1474\n",
      "382 1496\n",
      "383 1517\n",
      "384 1519\n",
      "385 1521\n",
      "386 1523\n",
      "387 1525\n",
      "388 1527\n",
      "389 1529\n",
      "390 1529\n",
      "391 1551\n",
      "392 1573\n",
      "393 1596\n",
      "394 1598\n",
      "395 1600\n",
      "396 1602\n",
      "397 1604\n",
      "398 1606\n",
      "399 1608\n",
      "400 1608\n",
      "401 1630\n",
      "402 1652\n",
      "403 1674\n",
      "404 1679\n",
      "405 1681\n",
      "406 1683\n",
      "407 1685\n",
      "408 1687\n",
      "409 1689\n",
      "410 1689\n",
      "411 1711\n",
      "412 1733\n",
      "413 1755\n",
      "414 1762\n",
      "415 1764\n",
      "416 1766\n",
      "417 1768\n",
      "418 1770\n",
      "419 1772\n",
      "420 1772\n",
      "421 1794\n",
      "422 1816\n",
      "423 1838\n",
      "424 1847\n",
      "425 1849\n",
      "426 1851\n",
      "427 1853\n",
      "428 1855\n",
      "429 1857\n",
      "430 1857\n",
      "431 1879\n",
      "432 1901\n",
      "433 1923\n",
      "434 1934\n",
      "435 1936\n",
      "436 1938\n",
      "437 1940\n",
      "438 1942\n",
      "439 1944\n",
      "440 1944\n",
      "441 1966\n",
      "442 1988\n",
      "443 2010\n",
      "444 2023\n",
      "445 2025\n",
      "446 2027\n",
      "447 2029\n",
      "448 2031\n",
      "449 2033\n",
      "450 2033\n",
      "451 2055\n",
      "452 2077\n",
      "453 2099\n",
      "454 2114\n",
      "455 2116\n",
      "456 2118\n",
      "457 2120\n",
      "458 2122\n",
      "459 2124\n",
      "460 2124\n",
      "461 2146\n",
      "462 2168\n",
      "463 2190\n",
      "464 2207\n",
      "465 2209\n",
      "466 2211\n",
      "467 2213\n",
      "468 2215\n",
      "469 2217\n",
      "470 2217\n",
      "471 2239\n",
      "472 2261\n",
      "473 2283\n",
      "474 2302\n",
      "475 2304\n",
      "476 2306\n",
      "477 2308\n",
      "478 2310\n",
      "479 2312\n",
      "480 2312\n",
      "481 2334\n",
      "482 2356\n",
      "483 2378\n",
      "484 2399\n",
      "485 2401\n",
      "486 2403\n",
      "487 2405\n",
      "488 2407\n",
      "489 2409\n",
      "490 2409\n",
      "491 2431\n",
      "492 2453\n",
      "493 2475\n",
      "494 2498\n",
      "495 2500\n",
      "496 2502\n",
      "497 2504\n",
      "498 2506\n",
      "499 2508\n",
      "500 2508\n",
      "501 2530\n",
      "502 2552\n",
      "503 2574\n",
      "504 2596\n",
      "505 2601\n",
      "506 2603\n",
      "507 2605\n",
      "508 2607\n",
      "509 2609\n",
      "510 2609\n",
      "511 2631\n",
      "512 2653\n",
      "513 2675\n",
      "514 2697\n",
      "515 2704\n",
      "516 2706\n",
      "517 2708\n",
      "518 2710\n",
      "519 2712\n",
      "520 2712\n",
      "521 2734\n",
      "522 2756\n",
      "523 2778\n",
      "524 2800\n",
      "525 2809\n",
      "526 2811\n",
      "527 2813\n",
      "528 2815\n",
      "529 2817\n",
      "530 2817\n",
      "531 2839\n",
      "532 2861\n",
      "533 2883\n",
      "534 2905\n",
      "535 2916\n",
      "536 2918\n",
      "537 2920\n",
      "538 2922\n",
      "539 2924\n",
      "540 2924\n",
      "541 2946\n",
      "542 2968\n",
      "543 2990\n",
      "544 3012\n",
      "545 3025\n",
      "546 3027\n",
      "547 3029\n",
      "548 3031\n",
      "549 3033\n",
      "550 3033\n",
      "551 3055\n",
      "552 3077\n",
      "553 3099\n",
      "554 3121\n",
      "555 3136\n",
      "556 3138\n",
      "557 3140\n",
      "558 3142\n",
      "559 3144\n",
      "560 3144\n",
      "561 3166\n",
      "562 3188\n",
      "563 3210\n",
      "564 3232\n",
      "565 3249\n",
      "566 3251\n",
      "567 3253\n",
      "568 3255\n",
      "569 3257\n",
      "570 3257\n",
      "571 3279\n",
      "572 3301\n",
      "573 3323\n",
      "574 3345\n",
      "575 3364\n",
      "576 3366\n",
      "577 3368\n",
      "578 3370\n",
      "579 3372\n",
      "580 3372\n",
      "581 3394\n",
      "582 3416\n",
      "583 3438\n",
      "584 3460\n",
      "585 3481\n",
      "586 3483\n",
      "587 3485\n",
      "588 3487\n",
      "589 3489\n",
      "590 3489\n",
      "591 3511\n",
      "592 3533\n",
      "593 3555\n",
      "594 3577\n",
      "595 3600\n",
      "596 3602\n",
      "597 3604\n",
      "598 3606\n",
      "599 3608\n",
      "600 3608\n",
      "601 3630\n",
      "602 3652\n",
      "603 3674\n",
      "604 3696\n",
      "605 3718\n",
      "606 3723\n",
      "607 3725\n",
      "608 3727\n",
      "609 3729\n",
      "610 3729\n",
      "611 3751\n",
      "612 3773\n",
      "613 3795\n",
      "614 3817\n",
      "615 3839\n",
      "616 3846\n",
      "617 3848\n",
      "618 3850\n",
      "619 3852\n",
      "620 3852\n",
      "621 3874\n",
      "622 3896\n",
      "623 3918\n",
      "624 3940\n",
      "625 3962\n",
      "626 3971\n",
      "627 3973\n",
      "628 3975\n",
      "629 3977\n",
      "630 3977\n",
      "631 3999\n",
      "632 4021\n",
      "633 4043\n",
      "634 4065\n",
      "635 4087\n",
      "636 4098\n",
      "637 4100\n",
      "638 4102\n",
      "639 4104\n",
      "640 4104\n",
      "641 4126\n",
      "642 4148\n",
      "643 4170\n",
      "644 4192\n",
      "645 4214\n",
      "646 4227\n",
      "647 4229\n",
      "648 4231\n",
      "649 4233\n",
      "650 4233\n",
      "651 4255\n",
      "652 4277\n",
      "653 4299\n",
      "654 4321\n",
      "655 4343\n",
      "656 4358\n",
      "657 4360\n",
      "658 4362\n",
      "659 4364\n",
      "660 4364\n",
      "661 4386\n",
      "662 4408\n",
      "663 4430\n",
      "664 4452\n",
      "665 4474\n",
      "666 4491\n",
      "667 4493\n",
      "668 4495\n",
      "669 4497\n",
      "670 4497\n",
      "671 4519\n",
      "672 4541\n",
      "673 4563\n",
      "674 4585\n",
      "675 4607\n",
      "676 4626\n",
      "677 4628\n",
      "678 4630\n",
      "679 4632\n",
      "680 4632\n",
      "681 4654\n",
      "682 4676\n",
      "683 4698\n",
      "684 4720\n",
      "685 4742\n",
      "686 4763\n",
      "687 4765\n",
      "688 4767\n",
      "689 4769\n",
      "690 4769\n",
      "691 4791\n",
      "692 4813\n",
      "693 4835\n",
      "694 4857\n",
      "695 4879\n",
      "696 4902\n",
      "697 4904\n",
      "698 4906\n",
      "699 4908\n",
      "700 4908\n",
      "701 4930\n",
      "702 4952\n",
      "703 4974\n",
      "704 4996\n",
      "705 5018\n",
      "706 5040\n",
      "707 5045\n",
      "708 5047\n",
      "709 5049\n",
      "710 5049\n",
      "711 5071\n",
      "712 5093\n",
      "713 5115\n",
      "714 5137\n",
      "715 5159\n",
      "716 5181\n",
      "717 5188\n",
      "718 5190\n",
      "719 5192\n",
      "720 5192\n",
      "721 5214\n",
      "722 5236\n",
      "723 5258\n",
      "724 5280\n",
      "725 5302\n",
      "726 5324\n",
      "727 5333\n",
      "728 5335\n",
      "729 5337\n",
      "730 5337\n",
      "731 5359\n",
      "732 5381\n",
      "733 5403\n",
      "734 5425\n",
      "735 5447\n",
      "736 5469\n",
      "737 5480\n",
      "738 5482\n",
      "739 5484\n",
      "740 5484\n",
      "741 5506\n",
      "742 5528\n",
      "743 5550\n",
      "744 5572\n",
      "745 5594\n",
      "746 5616\n",
      "747 5629\n",
      "748 5631\n",
      "749 5633\n",
      "750 5633\n",
      "751 5655\n",
      "752 5677\n",
      "753 5699\n",
      "754 5721\n",
      "755 5743\n",
      "756 5765\n",
      "757 5780\n",
      "758 5782\n",
      "759 5784\n",
      "760 5784\n",
      "761 5806\n",
      "762 5828\n",
      "763 5850\n",
      "764 5872\n",
      "765 5894\n",
      "766 5916\n",
      "767 5933\n",
      "768 5935\n",
      "769 5937\n",
      "770 5937\n",
      "771 5959\n",
      "772 5981\n",
      "773 6003\n",
      "774 6025\n",
      "775 6047\n",
      "776 6069\n",
      "777 6088\n",
      "778 6090\n",
      "779 6092\n",
      "780 6092\n",
      "781 6114\n",
      "782 6136\n",
      "783 6158\n",
      "784 6180\n",
      "785 6202\n",
      "786 6224\n"
     ]
    },
    {
     "ename": "KeyboardInterrupt",
     "evalue": "",
     "output_type": "error",
     "traceback": [
      "\u001b[0;31m---------------------------------------------------------------------------\u001b[0m",
      "\u001b[0;31mKeyboardInterrupt\u001b[0m                         Traceback (most recent call last)",
      "\u001b[0;32m<ipython-input-182-9c1326e646a6>\u001b[0m in \u001b[0;36m<module>\u001b[0;34m\u001b[0m\n\u001b[1;32m      1\u001b[0m \u001b[0;32mfor\u001b[0m \u001b[0mi\u001b[0m \u001b[0;32min\u001b[0m \u001b[0mrange\u001b[0m\u001b[0;34m(\u001b[0m\u001b[0;36m2020\u001b[0m\u001b[0;34m)\u001b[0m\u001b[0;34m:\u001b[0m\u001b[0;34m\u001b[0m\u001b[0;34m\u001b[0m\u001b[0m\n\u001b[0;32m----> 2\u001b[0;31m     \u001b[0mprint\u001b[0m\u001b[0;34m(\u001b[0m\u001b[0mi\u001b[0m\u001b[0;34m,\u001b[0m\u001b[0mright\u001b[0m\u001b[0;34m(\u001b[0m\u001b[0mi\u001b[0m\u001b[0;34m)\u001b[0m\u001b[0;34m)\u001b[0m\u001b[0;34m\u001b[0m\u001b[0;34m\u001b[0m\u001b[0m\n\u001b[0m",
      "\u001b[0;32m<ipython-input-181-2bc4a803b841>\u001b[0m in \u001b[0;36mright\u001b[0;34m(N)\u001b[0m\n\u001b[1;32m      4\u001b[0m         \u001b[0ma\u001b[0m\u001b[0;34m,\u001b[0m\u001b[0mb\u001b[0m\u001b[0;34m=\u001b[0m\u001b[0mf\u001b[0m\u001b[0;34m(\u001b[0m\u001b[0mi\u001b[0m\u001b[0;34m)\u001b[0m\u001b[0;34m\u001b[0m\u001b[0;34m\u001b[0m\u001b[0m\n\u001b[1;32m      5\u001b[0m         \u001b[0;32mfor\u001b[0m \u001b[0mj\u001b[0m \u001b[0;32min\u001b[0m \u001b[0mrange\u001b[0m\u001b[0;34m(\u001b[0m\u001b[0;36m1\u001b[0m\u001b[0;34m,\u001b[0m\u001b[0mN\u001b[0m\u001b[0;34m+\u001b[0m\u001b[0;36m1\u001b[0m\u001b[0;34m)\u001b[0m\u001b[0;34m:\u001b[0m\u001b[0;34m\u001b[0m\u001b[0;34m\u001b[0m\u001b[0m\n\u001b[0;32m----> 6\u001b[0;31m             \u001b[0mx\u001b[0m\u001b[0;34m,\u001b[0m\u001b[0my\u001b[0m\u001b[0;34m=\u001b[0m\u001b[0mf\u001b[0m\u001b[0;34m(\u001b[0m\u001b[0mj\u001b[0m\u001b[0;34m)\u001b[0m\u001b[0;34m\u001b[0m\u001b[0;34m\u001b[0m\u001b[0m\n\u001b[0m\u001b[1;32m      7\u001b[0m             \u001b[0;32mif\u001b[0m \u001b[0ma\u001b[0m\u001b[0;34m==\u001b[0m\u001b[0my\u001b[0m \u001b[0;32mand\u001b[0m \u001b[0mb\u001b[0m\u001b[0;34m==\u001b[0m\u001b[0mx\u001b[0m\u001b[0;34m:\u001b[0m\u001b[0;34m\u001b[0m\u001b[0;34m\u001b[0m\u001b[0m\n\u001b[1;32m      8\u001b[0m                 \u001b[0mans\u001b[0m\u001b[0;34m+=\u001b[0m\u001b[0;36m1\u001b[0m\u001b[0;34m\u001b[0m\u001b[0;34m\u001b[0m\u001b[0m\n",
      "\u001b[0;32m<ipython-input-164-5d8036583171>\u001b[0m in \u001b[0;36mf\u001b[0;34m(n)\u001b[0m\n\u001b[1;32m      1\u001b[0m \u001b[0;32mdef\u001b[0m \u001b[0mf\u001b[0m\u001b[0;34m(\u001b[0m\u001b[0mn\u001b[0m\u001b[0;34m)\u001b[0m\u001b[0;34m:\u001b[0m\u001b[0;34m\u001b[0m\u001b[0;34m\u001b[0m\u001b[0m\n\u001b[0;32m----> 2\u001b[0;31m     \u001b[0ma\u001b[0m\u001b[0;34m=\u001b[0m\u001b[0mint\u001b[0m\u001b[0;34m(\u001b[0m\u001b[0mmath\u001b[0m\u001b[0;34m.\u001b[0m\u001b[0mlog10\u001b[0m\u001b[0;34m(\u001b[0m\u001b[0mn\u001b[0m\u001b[0;34m)\u001b[0m\u001b[0;34m+\u001b[0m\u001b[0;36m1\u001b[0m\u001b[0;34m)\u001b[0m\u001b[0;34m\u001b[0m\u001b[0;34m\u001b[0m\u001b[0m\n\u001b[0m\u001b[1;32m      3\u001b[0m     \u001b[0mb\u001b[0m\u001b[0;34m=\u001b[0m\u001b[0mn\u001b[0m\u001b[0;34m//\u001b[0m\u001b[0;34m(\u001b[0m\u001b[0;36m10\u001b[0m\u001b[0;34m**\u001b[0m\u001b[0;34m(\u001b[0m\u001b[0ma\u001b[0m\u001b[0;34m-\u001b[0m\u001b[0;36m1\u001b[0m\u001b[0;34m)\u001b[0m\u001b[0;34m)\u001b[0m\u001b[0;34m\u001b[0m\u001b[0;34m\u001b[0m\u001b[0m\n\u001b[1;32m      4\u001b[0m     \u001b[0mc\u001b[0m\u001b[0;34m=\u001b[0m\u001b[0mn\u001b[0m\u001b[0;34m%\u001b[0m\u001b[0;36m10\u001b[0m\u001b[0;34m\u001b[0m\u001b[0;34m\u001b[0m\u001b[0m\n\u001b[1;32m      5\u001b[0m     \u001b[0;32mreturn\u001b[0m \u001b[0mb\u001b[0m\u001b[0;34m,\u001b[0m\u001b[0mc\u001b[0m\u001b[0;34m\u001b[0m\u001b[0;34m\u001b[0m\u001b[0m\n",
      "\u001b[0;31mKeyboardInterrupt\u001b[0m: "
     ]
    }
   ],
   "source": [
    "for i in range(2020):\n",
    "    print(i,right(i))"
   ]
  },
  {
   "cell_type": "code",
   "execution_count": null,
   "metadata": {},
   "outputs": [],
   "source": []
  },
  {
   "cell_type": "code",
   "execution_count": 183,
   "metadata": {},
   "outputs": [],
   "source": []
  },
  {
   "cell_type": "code",
   "execution_count": 185,
   "metadata": {},
   "outputs": [
    {
     "data": {
      "text/plain": [
       "40812"
      ]
     },
     "execution_count": 185,
     "metadata": {},
     "output_type": "execute_result"
    }
   ],
   "source": []
  },
  {
   "cell_type": "code",
   "execution_count": 50,
   "metadata": {},
   "outputs": [
    {
     "name": "stdout",
     "output_type": "stream",
     "text": [
      "1\n"
     ]
    }
   ],
   "source": [
    "N=int(input())\n",
    "P=list(map(int, input().split()))\n",
    "\n",
    "\n",
    "ans=0\n",
    "p_min=P[0]\n",
    "for i in range(N):\n",
    "    if P[i]<=p_min:\n",
    "        ans+=1\n",
    "    p_min=min(p_min,P[i])\n",
    "print(ans)"
   ]
  },
  {
   "cell_type": "code",
   "execution_count": null,
   "metadata": {},
   "outputs": [],
   "source": []
  },
  {
   "cell_type": "code",
   "execution_count": null,
   "metadata": {},
   "outputs": [],
   "source": []
  },
  {
   "cell_type": "code",
   "execution_count": 31,
   "metadata": {},
   "outputs": [],
   "source": [
    "import numpy as np\n",
    "P=np.array(P)"
   ]
  },
  {
   "cell_type": "code",
   "execution_count": 38,
   "metadata": {},
   "outputs": [
    {
     "name": "stdout",
     "output_type": "stream",
     "text": [
      "3\n"
     ]
    }
   ],
   "source": [
    "ans=0\n",
    "for i in range(N):\n",
    "    if P[:i+1][P[:i+1]>=P[i]].size==i+1:\n",
    "        ans+=1\n",
    "print(ans)"
   ]
  },
  {
   "cell_type": "code",
   "execution_count": null,
   "metadata": {},
   "outputs": [],
   "source": []
  },
  {
   "cell_type": "code",
   "execution_count": 18,
   "metadata": {},
   "outputs": [
    {
     "name": "stdout",
     "output_type": "stream",
     "text": [
      "44444\n"
     ]
    }
   ],
   "source": [
    "a,b=input().split()\n",
    "\n",
    "X=\"\"\n",
    "for i in range(int(b)):\n",
    "    X+=a\n",
    "Y=\"\"\n",
    "for i in range(int(a)):\n",
    "    Y+=b\n",
    "\n",
    "\n",
    "if X>Y:\n",
    "    print(Y)\n",
    "else:\n",
    "    print(X)"
   ]
  },
  {
   "cell_type": "code",
   "execution_count": null,
   "metadata": {},
   "outputs": [],
   "source": []
  },
  {
   "cell_type": "code",
   "execution_count": null,
   "metadata": {},
   "outputs": [],
   "source": []
  },
  {
   "cell_type": "code",
   "execution_count": 4,
   "metadata": {},
   "outputs": [
    {
     "name": "stdout",
     "output_type": "stream",
     "text": [
      "Yes\n"
     ]
    }
   ],
   "source": [
    "N,M=map(int, input().split())\n",
    "if N==M:\n",
    "    print(\"Yes\")\n",
    "else:\n",
    "    print(\"No\")\n"
   ]
  },
  {
   "cell_type": "code",
   "execution_count": null,
   "metadata": {},
   "outputs": [],
   "source": []
  },
  {
   "cell_type": "code",
   "execution_count": null,
   "metadata": {},
   "outputs": [],
   "source": []
  },
  {
   "cell_type": "code",
   "execution_count": 15,
   "metadata": {},
   "outputs": [
    {
     "name": "stdout",
     "output_type": "stream",
     "text": [
      "2 2\n"
     ]
    }
   ],
   "source": [
    "N,M=map(int, input().split())\n",
    "wa={}\n",
    "ac=[]\n",
    "key=[]\n",
    "for i in range(M):\n",
    "    p,s=input().split()\n",
    "    if p not in ac:        \n",
    "        if s==\"WA\":\n",
    "            if s not in key:\n",
    "                wa[p]=1\n",
    "                key.append(p)\n",
    "            else:\n",
    "                wa[p]+=1\n",
    "        else:\n",
    "            ac.append(p)\n",
    "ans=0\n",
    "for i in ac:\n",
    "    if i in key:\n",
    "        ans+=wa[i]\n",
    "print(len(ac),ans)  "
   ]
  },
  {
   "cell_type": "code",
   "execution_count": 16,
   "metadata": {},
   "outputs": [
    {
     "data": {
      "text/plain": [
       "{'1': 1, '2': 1}"
      ]
     },
     "execution_count": 16,
     "metadata": {},
     "output_type": "execute_result"
    }
   ],
   "source": [
    "wa"
   ]
  },
  {
   "cell_type": "code",
   "execution_count": null,
   "metadata": {},
   "outputs": [],
   "source": []
  },
  {
   "cell_type": "code",
   "execution_count": null,
   "metadata": {},
   "outputs": [],
   "source": []
  },
  {
   "cell_type": "code",
   "execution_count": null,
   "metadata": {},
   "outputs": [],
   "source": []
  },
  {
   "cell_type": "code",
   "execution_count": 3,
   "metadata": {},
   "outputs": [
    {
     "name": "stdout",
     "output_type": "stream",
     "text": [
      "2 2\n"
     ]
    }
   ],
   "source": [
    "N,M=map(int, input().split())\n",
    "wa={}\n",
    "ac=[]\n",
    "key=[]\n",
    "\n",
    "    \n",
    "for i in range(M):\n",
    "    p,s=input().split()\n",
    "    if p not in ac:\n",
    "        if p not in key:\n",
    "            key.append(p)\n",
    "            wa[p]=0\n",
    "\n",
    "        if s==\"WA\":\n",
    "            wa[p]+=1\n",
    "        else:\n",
    "            ac.append(p)\n",
    "ans=0\n",
    "for i in key:\n",
    "    if i in ac:\n",
    "        ans+=wa[i]\n",
    "print(len(ac),ans)\n",
    "\n"
   ]
  },
  {
   "cell_type": "code",
   "execution_count": null,
   "metadata": {},
   "outputs": [],
   "source": []
  },
  {
   "cell_type": "code",
   "execution_count": null,
   "metadata": {},
   "outputs": [],
   "source": []
  },
  {
   "cell_type": "code",
   "execution_count": null,
   "metadata": {},
   "outputs": [],
   "source": []
  },
  {
   "cell_type": "code",
   "execution_count": null,
   "metadata": {},
   "outputs": [],
   "source": []
  },
  {
   "cell_type": "code",
   "execution_count": 28,
   "metadata": {},
   "outputs": [],
   "source": [
    "sx,sy =1,1\n",
    "gx,gy=20,20"
   ]
  },
  {
   "cell_type": "code",
   "execution_count": 29,
   "metadata": {},
   "outputs": [],
   "source": [
    "from collections import deque\n",
    "import numpy as np\n",
    "R,C = map(int, input().split())\n",
    "# sx,sy = map(int, input().split())\n",
    "# gx,gy = map(int, input().split())\n",
    "maze = [list(input()) for _ in range(R)]\n",
    "\n",
    "sx-=1\n",
    "sy-=1\n",
    "gx-=1\n",
    "gy-=1\n",
    "\n",
    "\n",
    "\n",
    "INF=10**5\n",
    "d=[[INF for i in range(C)] for j in range(R)]\n",
    "\n",
    "d[sx][sy]=0\n",
    "que=deque(maxlen=100)\n",
    "que.append([sx,sy])\n",
    "\n",
    "dx=[0,0,1,-1]\n",
    "dy=[1,-1,0,0]\n",
    "\n",
    "while(len(que)>0):\n",
    "    p=que.popleft()\n",
    "    \n",
    "    if p==[gx,gy]:\n",
    "        break\n",
    "    for i in range(4):\n",
    "        x=p[0]+dx[i]\n",
    "        y=p[1]+dy[i]\n",
    "        \n",
    "        if 0<=x and x<R and 0<=y and y<C and maze[x][y] == '.' and d[x][y] ==INF:\n",
    "            d[x][y]=d[p[0]][p[1]]+1\n",
    "            que.append([x,y])\n",
    "            \n",
    "#print(d[gx][gy])\n"
   ]
  },
  {
   "cell_type": "code",
   "execution_count": 30,
   "metadata": {},
   "outputs": [
    {
     "data": {
      "text/plain": [
       "[[0, 1, 2, 100000, 8], [1, 100000, 3, 100000, 7], [2, 100000, 4, 5, 6]]"
      ]
     },
     "execution_count": 30,
     "metadata": {},
     "output_type": "execute_result"
    }
   ],
   "source": [
    "d"
   ]
  },
  {
   "cell_type": "code",
   "execution_count": 43,
   "metadata": {},
   "outputs": [],
   "source": [
    "dd=np.array(d)"
   ]
  },
  {
   "cell_type": "code",
   "execution_count": 44,
   "metadata": {},
   "outputs": [
    {
     "data": {
      "text/plain": [
       "(array([0, 0, 0, 0, 1, 1, 1, 2, 2, 2, 2]),\n",
       " array([0, 1, 2, 4, 0, 2, 4, 0, 2, 3, 4]))"
      ]
     },
     "execution_count": 44,
     "metadata": {},
     "output_type": "execute_result"
    }
   ],
   "source": [
    "np.where(dd<INF)"
   ]
  },
  {
   "cell_type": "code",
   "execution_count": null,
   "metadata": {},
   "outputs": [],
   "source": []
  },
  {
   "cell_type": "code",
   "execution_count": null,
   "metadata": {},
   "outputs": [],
   "source": []
  },
  {
   "cell_type": "code",
   "execution_count": null,
   "metadata": {},
   "outputs": [],
   "source": []
  },
  {
   "cell_type": "code",
   "execution_count": 41,
   "metadata": {},
   "outputs": [
    {
     "data": {
      "text/plain": [
       "array([[ True,  True,  True, False,  True],\n",
       "       [ True, False,  True, False,  True],\n",
       "       [ True, False,  True,  True,  True]])"
      ]
     },
     "execution_count": 41,
     "metadata": {},
     "output_type": "execute_result"
    }
   ],
   "source": [
    "dd!=INF"
   ]
  },
  {
   "cell_type": "code",
   "execution_count": 9,
   "metadata": {},
   "outputs": [],
   "source": [
    "from collections import deque\n",
    "import numpy as np\n",
    "R,C = map(int, input().split())\n",
    "# sx,sy = map(int, input().split())\n",
    "# gx,gy = map(int, input().split())\n",
    "maze = [list(input()) for _ in range(R)]\n",
    "\n",
    "sx-=1\n",
    "sy-=1\n",
    "gx-=1\n",
    "gy-=1\n",
    "\n",
    "\n",
    "\n",
    "INF=10**5\n",
    "d=[[INF for i in range(C)] for j in range(R)]\n",
    "\n",
    "d[sx][sy]=0\n",
    "que=deque(maxlen=100)\n",
    "que.append([sx,sy])\n",
    "\n",
    "dx=[0,0,1,-1]\n",
    "dy=[1,-1,0,0]\n",
    "\n",
    "\n",
    "\n",
    "while(len(que)>0):\n",
    "    p=que.popleft()\n",
    "    \n",
    "    if p==[gx,gy]:\n",
    "        break\n",
    "    for i in range(4):\n",
    "        x=p[0]+dx[i]\n",
    "        y=p[1]+dy[i]\n",
    "        \n",
    "        if 0<=x and x<R and 0<=y and y<C and maze[x][y] == '.' and d[x][y] ==INF:\n",
    "            d[x][y]=d[p[0]][p[1]]+1\n",
    "            que.append([x,y])\n",
    "            \n",
    "#print(d[gx][gy])\n",
    "\n"
   ]
  },
  {
   "cell_type": "code",
   "execution_count": 13,
   "metadata": {},
   "outputs": [],
   "source": [
    "dd=np.array(d)"
   ]
  },
  {
   "cell_type": "code",
   "execution_count": 14,
   "metadata": {},
   "outputs": [
    {
     "data": {
      "text/plain": [
       "array([[100000, 100000, 100000, 100000, 100000],\n",
       "       [100000, 100000, 100000, 100000, 100000],\n",
       "       [100000, 100000, 100000, 100000,      0]])"
      ]
     },
     "execution_count": 14,
     "metadata": {},
     "output_type": "execute_result"
    }
   ],
   "source": [
    "dd"
   ]
  },
  {
   "cell_type": "code",
   "execution_count": 12,
   "metadata": {},
   "outputs": [
    {
     "data": {
      "text/plain": [
       "array([0])"
      ]
     },
     "execution_count": 12,
     "metadata": {},
     "output_type": "execute_result"
    }
   ],
   "source": [
    "dd[dd!=INF]"
   ]
  },
  {
   "cell_type": "code",
   "execution_count": null,
   "metadata": {},
   "outputs": [],
   "source": []
  },
  {
   "cell_type": "code",
   "execution_count": null,
   "metadata": {},
   "outputs": [],
   "source": []
  },
  {
   "cell_type": "code",
   "execution_count": null,
   "metadata": {},
   "outputs": [],
   "source": []
  },
  {
   "cell_type": "code",
   "execution_count": 391,
   "metadata": {},
   "outputs": [
    {
     "name": "stdout",
     "output_type": "stream",
     "text": [
      "1 0\n",
      "CPU times: user 564 µs, sys: 269 µs, total: 833 µs\n",
      "Wall time: 621 µs\n"
     ]
    }
   ],
   "source": [
    "%%time\n",
    "N,M=map(int, input().split())\n",
    "P=[]\n",
    "S=[]\n",
    "for i in range(M):\n",
    "    p,s=input().split()\n",
    "    P.append(int(p))\n",
    "    S.append(s)\n",
    "\n",
    "\n",
    "import numpy as np\n",
    "P=np.array(P)\n",
    "S=np.array(S)\n",
    "\n",
    "if M>0:\n",
    "    ans=np.unique(P[S==\"AC\"])\n",
    "\n",
    "    wa=0\n",
    "    for j in ans:\n",
    "        for i in S[P==j]:\n",
    "            if i==\"WA\":\n",
    "                wa+=1\n",
    "            else:\n",
    "                break\n",
    "\n",
    "    print(len(ans),wa)\n",
    "else:\n",
    "    print(0,0)"
   ]
  },
  {
   "cell_type": "code",
   "execution_count": null,
   "metadata": {},
   "outputs": [],
   "source": []
  },
  {
   "cell_type": "code",
   "execution_count": 49,
   "metadata": {},
   "outputs": [
    {
     "name": "stdout",
     "output_type": "stream",
     "text": [
      "2 2\n"
     ]
    }
   ],
   "source": [
    "N,M=map(int, input().split())\n",
    "wa={}\n",
    "ac=[]\n",
    "key=[]\n",
    "\n",
    "    \n",
    "for i in range(M):\n",
    "    p,s=input().split()\n",
    "    if p not in ac:\n",
    "        if p not in key:\n",
    "            key.append(p)\n",
    "            wa[P[i]]=0\n",
    "\n",
    "        if s==\"WA\":\n",
    "            wa[p]+=1\n",
    "        else:\n",
    "            ac.append(p)\n",
    "ans=0\n",
    "for i in key:\n",
    "    if i in ac:\n",
    "        ans+=wa[i]\n",
    "print(len(ac),ans)\n"
   ]
  },
  {
   "cell_type": "code",
   "execution_count": null,
   "metadata": {},
   "outputs": [],
   "source": []
  },
  {
   "cell_type": "code",
   "execution_count": null,
   "metadata": {},
   "outputs": [],
   "source": []
  },
  {
   "cell_type": "code",
   "execution_count": 388,
   "metadata": {},
   "outputs": [
    {
     "name": "stdout",
     "output_type": "stream",
     "text": [
      "CPU times: user 95 µs, sys: 1e+03 ns, total: 96 µs\n",
      "Wall time: 100 µs\n"
     ]
    }
   ],
   "source": [
    "%%time\n",
    "import numpy as np\n",
    "N,M=map(int, input().split())\n",
    "A = np.array([input().split() for i in range(M)])\n",
    "P=A[:,0]\n",
    "S=A[:,1]"
   ]
  },
  {
   "cell_type": "code",
   "execution_count": 389,
   "metadata": {},
   "outputs": [
    {
     "name": "stdout",
     "output_type": "stream",
     "text": [
      "CPU times: user 98 µs, sys: 0 ns, total: 98 µs\n",
      "Wall time: 102 µs\n"
     ]
    }
   ],
   "source": [
    "%%time\n",
    "N,M=map(int, input().split())\n",
    "P=[]\n",
    "S=[]\n",
    "for i in range(M):\n",
    "    p,s=input().split()\n",
    "    P.append(int(p))\n",
    "    S.append(s)\n",
    "import numpy as np\n",
    "P=np.array(P)\n",
    "S=np.array(S)"
   ]
  },
  {
   "cell_type": "code",
   "execution_count": null,
   "metadata": {},
   "outputs": [],
   "source": []
  },
  {
   "cell_type": "code",
   "execution_count": null,
   "metadata": {},
   "outputs": [],
   "source": []
  },
  {
   "cell_type": "code",
   "execution_count": null,
   "metadata": {},
   "outputs": [],
   "source": []
  },
  {
   "cell_type": "code",
   "execution_count": 322,
   "metadata": {},
   "outputs": [],
   "source": [
    "A = np.array([input().split() for i in range(M)])\n",
    "\n"
   ]
  },
  {
   "cell_type": "code",
   "execution_count": 325,
   "metadata": {},
   "outputs": [
    {
     "data": {
      "text/plain": [
       "array([1, 1, 2, 2, 2])"
      ]
     },
     "execution_count": 325,
     "metadata": {},
     "output_type": "execute_result"
    }
   ],
   "source": [
    "A[:,0].astype(int)"
   ]
  },
  {
   "cell_type": "code",
   "execution_count": 335,
   "metadata": {},
   "outputs": [
    {
     "name": "stdout",
     "output_type": "stream",
     "text": [
      "2 2\n",
      "CPU times: user 418 µs, sys: 197 µs, total: 615 µs\n",
      "Wall time: 482 µs\n"
     ]
    }
   ],
   "source": [
    "%%time\n",
    "\n",
    "import numpy as np\n",
    "N,M=map(int, input().split())\n",
    "A = np.array([input().split() for i in range(M)])\n",
    "if M>0:\n",
    "    P=A[:,0]\n",
    "    S=A[:,1]\n",
    "    ans=np.unique(P[S==\"AC\"])\n",
    "\n",
    "    wa=0\n",
    "    for j in ans:\n",
    "        for i in S[P==j]:\n",
    "            if i==\"WA\":\n",
    "                wa+=1\n",
    "            else:\n",
    "                break\n",
    "\n",
    "    print(len(ans),wa)\n",
    "else:\n",
    "    print(0,0)"
   ]
  },
  {
   "cell_type": "code",
   "execution_count": null,
   "metadata": {},
   "outputs": [],
   "source": []
  },
  {
   "cell_type": "code",
   "execution_count": null,
   "metadata": {},
   "outputs": [],
   "source": []
  },
  {
   "cell_type": "code",
   "execution_count": null,
   "metadata": {},
   "outputs": [],
   "source": []
  },
  {
   "cell_type": "code",
   "execution_count": 284,
   "metadata": {},
   "outputs": [
    {
     "name": "stdout",
     "output_type": "stream",
     "text": [
      "-1\n"
     ]
    }
   ],
   "source": [
    "N,K,M=map(int, input().split())\n",
    "A=list(map(int, input().split()))\n",
    "\n",
    "ans=N*M-sum(A)\n",
    "if ans>=0 and ans<=K:\n",
    "    print(ans)\n",
    "elif ans<0:\n",
    "    print(0)\n",
    "else:\n",
    "    print(-1)"
   ]
  },
  {
   "cell_type": "code",
   "execution_count": 285,
   "metadata": {},
   "outputs": [
    {
     "data": {
      "text/plain": [
       "240"
      ]
     },
     "execution_count": 285,
     "metadata": {},
     "output_type": "execute_result"
    }
   ],
   "source": [
    "ans"
   ]
  },
  {
   "cell_type": "code",
   "execution_count": 274,
   "metadata": {},
   "outputs": [
    {
     "data": {
      "text/plain": [
       "10"
      ]
     },
     "execution_count": 274,
     "metadata": {},
     "output_type": "execute_result"
    }
   ],
   "source": [
    "K"
   ]
  },
  {
   "cell_type": "code",
   "execution_count": null,
   "metadata": {},
   "outputs": [],
   "source": []
  },
  {
   "cell_type": "code",
   "execution_count": 267,
   "metadata": {},
   "outputs": [
    {
     "name": "stdout",
     "output_type": "stream",
     "text": [
      "z\n"
     ]
    }
   ],
   "source": [
    "x=input()\n",
    "print(chN,M=map(int, input().split())r(ord(x)+1))"
   ]
  },
  {
   "cell_type": "code",
   "execution_count": 262,
   "metadata": {},
   "outputs": [
    {
     "name": "stdout",
     "output_type": "stream",
     "text": [
      "a\n"
     ]
    }
   ],
   "source": [
    "print(x)"
   ]
  },
  {
   "cell_type": "code",
   "execution_count": null,
   "metadata": {},
   "outputs": [],
   "source": []
  },
  {
   "cell_type": "code",
   "execution_count": 256,
   "metadata": {},
   "outputs": [
    {
     "name": "stdout",
     "output_type": "stream",
     "text": [
      "50\n"
     ]
    },
    {
     "name": "stderr",
     "output_type": "stream",
     "text": [
      "/Users/masaya/.pyenv/versions/3.7.5/lib/python3.7/site-packages/ipykernel_launcher.py:12: DeprecationWarning: fractions.gcd() is deprecated. Use math.gcd() instead.\n",
      "  if sys.path[0] == '':\n"
     ]
    }
   ],
   "source": [
    "N,M=map(int, input().split())\n",
    "A=list(map(int, input().split()))\n",
    "\n",
    "import numpy as np\n",
    "import fractions\n",
    "A=np.array(A)\n",
    "\n",
    "if len(A[A%2==0])!=len(A):\n",
    "    ans=0\n",
    "else:\n",
    "    def lcm(x, y):\n",
    "        return (x * y) // fractions.gcd(x, y)\n",
    "\n",
    "    mm=1\n",
    "    for x in A//2:\n",
    "        mm=lcm(mm,x)\n",
    "\n",
    "    ans=(M//mm+1)//2\n",
    "print(ans)\n"
   ]
  },
  {
   "cell_type": "code",
   "execution_count": 258,
   "metadata": {},
   "outputs": [
    {
     "name": "stdout",
     "output_type": "stream",
     "text": [
      "50\n"
     ]
    },
    {
     "name": "stderr",
     "output_type": "stream",
     "text": [
      "/Users/masaya/.pyenv/versions/3.7.5/lib/python3.7/site-packages/ipykernel_launcher.py:9: DeprecationWarning: fractions.gcd() is deprecated. Use math.gcd() instead.\n",
      "  if __name__ == '__main__':\n"
     ]
    }
   ],
   "source": [
    "N,M=map(int, input().split())\n",
    "A=list(map(int, input().split()))\n",
    "\n",
    "import numpy as np\n",
    "import fractions\n",
    "A=np.array(A)\n",
    "\n",
    "def lcm(x, y):\n",
    "    return (x * y) // fractions.gcd(x, y)\n",
    "\n",
    "mm=1\n",
    "for x in A//2:\n",
    "    mm=lcm(mm,x)\n",
    "\n",
    "if mm%2==0:\n",
    "    ans=0\n",
    "else:\n",
    "    ans=int((M/mm-1)//2)+1\n",
    "\n",
    "\n",
    "print(ans)\n"
   ]
  },
  {
   "cell_type": "code",
   "execution_count": null,
   "metadata": {},
   "outputs": [],
   "source": []
  },
  {
   "cell_type": "code",
   "execution_count": 249,
   "metadata": {},
   "outputs": [
    {
     "data": {
      "text/plain": [
       "6"
      ]
     },
     "execution_count": 249,
     "metadata": {},
     "output_type": "execute_result"
    }
   ],
   "source": [
    "mm"
   ]
  },
  {
   "cell_type": "code",
   "execution_count": null,
   "metadata": {},
   "outputs": [],
   "source": []
  },
  {
   "cell_type": "code",
   "execution_count": null,
   "metadata": {},
   "outputs": [],
   "source": []
  },
  {
   "cell_type": "code",
   "execution_count": 247,
   "metadata": {},
   "outputs": [
    {
     "name": "stderr",
     "output_type": "stream",
     "text": [
      "/Users/masaya/.pyenv/versions/3.7.5/lib/python3.7/site-packages/ipykernel_launcher.py:9: DeprecationWarning: fractions.gcd() is deprecated. Use math.gcd() instead.\n",
      "  if __name__ == '__main__':\n"
     ]
    },
    {
     "data": {
      "text/plain": [
       "3"
      ]
     },
     "execution_count": 247,
     "metadata": {},
     "output_type": "execute_result"
    }
   ],
   "source": [
    "lcm(3,1)"
   ]
  },
  {
   "cell_type": "code",
   "execution_count": 220,
   "metadata": {},
   "outputs": [
    {
     "data": {
      "text/plain": [
       "45"
      ]
     },
     "execution_count": 220,
     "metadata": {},
     "output_type": "execute_result"
    }
   ],
   "source": [
    "mm"
   ]
  },
  {
   "cell_type": "code",
   "execution_count": null,
   "metadata": {},
   "outputs": [],
   "source": []
  },
  {
   "cell_type": "code",
   "execution_count": 213,
   "metadata": {},
   "outputs": [
    {
     "data": {
      "text/plain": [
       "90"
      ]
     },
     "execution_count": 213,
     "metadata": {},
     "output_type": "execute_result"
    }
   ],
   "source": [
    "mm"
   ]
  },
  {
   "cell_type": "code",
   "execution_count": 56,
   "metadata": {},
   "outputs": [
    {
     "name": "stdout",
     "output_type": "stream",
     "text": [
      "0\n"
     ]
    }
   ],
   "source": [
    "N=int(input())\n",
    "P=list(map(int, input().split()))\n",
    "Q=list(map(int, input().split()))\n",
    "\n",
    "import itertools\n",
    "import numpy as np\n",
    "\n",
    "X=np.array(list(itertools.permutations(list(range(1,N+1)))))\n",
    "\n",
    "pp=\"\"\n",
    "for p in P:\n",
    "    pp+=str(p)\n",
    "qq=\"\"\n",
    "for q in Q:\n",
    "    qq+=str(q)\n",
    "for i in range(len(X)):\n",
    "    y=\"\"\n",
    "    for x in X[i]:\n",
    "        y+=str(x)\n",
    "    if y==pp:\n",
    "        a=len(X)-i\n",
    "    if y==qq:\n",
    "        b=len(X)-i\n",
    "print(abs(a-b))\n",
    "        "
   ]
  },
  {
   "cell_type": "code",
   "execution_count": 49,
   "metadata": {},
   "outputs": [],
   "source": []
  },
  {
   "cell_type": "code",
   "execution_count": 50,
   "metadata": {},
   "outputs": [
    {
     "data": {
      "text/plain": [
       "'312'"
      ]
     },
     "execution_count": 50,
     "metadata": {},
     "output_type": "execute_result"
    }
   ],
   "source": [
    "qq"
   ]
  },
  {
   "cell_type": "code",
   "execution_count": null,
   "metadata": {},
   "outputs": [],
   "source": []
  },
  {
   "cell_type": "code",
   "execution_count": null,
   "metadata": {},
   "outputs": [],
   "source": []
  },
  {
   "cell_type": "code",
   "execution_count": 30,
   "metadata": {},
   "outputs": [
    {
     "name": "stdout",
     "output_type": "stream",
     "text": [
      "0\n"
     ]
    }
   ],
   "source": [
    "N=int(input())\n",
    "S=input()\n",
    "ans=0\n",
    "c=0\n",
    "for s in S:\n",
    "    \n",
    "    if s==\"A\":\n",
    "        c=1\n",
    "    elif s==\"B\" and c==1:\n",
    "        c=2\n",
    "    elif s==\"C\" and c==2:\n",
    "        ans+=1\n",
    "        c=0\n",
    "    else:\n",
    "        c=0\n",
    "\n",
    "print(ans)"
   ]
  },
  {
   "cell_type": "code",
   "execution_count": null,
   "metadata": {},
   "outputs": [],
   "source": []
  },
  {
   "cell_type": "code",
   "execution_count": null,
   "metadata": {},
   "outputs": [],
   "source": []
  },
  {
   "cell_type": "code",
   "execution_count": null,
   "metadata": {},
   "outputs": [],
   "source": []
  },
  {
   "cell_type": "code",
   "execution_count": null,
   "metadata": {},
   "outputs": [],
   "source": []
  },
  {
   "cell_type": "code",
   "execution_count": null,
   "metadata": {},
   "outputs": [],
   "source": []
  },
  {
   "cell_type": "code",
   "execution_count": null,
   "metadata": {},
   "outputs": [],
   "source": []
  },
  {
   "cell_type": "code",
   "execution_count": 7,
   "metadata": {},
   "outputs": [
    {
     "name": "stdout",
     "output_type": "stream",
     "text": [
      "No\n"
     ]
    }
   ],
   "source": [
    "K,X=map(int, input().split())\n",
    "\n",
    "if 500*K>=X:\n",
    "    print(\"Yes\")\n",
    "else:\n",
    "    print(\"No\")"
   ]
  },
  {
   "cell_type": "code",
   "execution_count": null,
   "metadata": {},
   "outputs": [],
   "source": []
  },
  {
   "cell_type": "code",
   "execution_count": null,
   "metadata": {},
   "outputs": [],
   "source": []
  },
  {
   "cell_type": "code",
   "execution_count": null,
   "metadata": {},
   "outputs": [],
   "source": []
  },
  {
   "cell_type": "code",
   "execution_count": 5,
   "metadata": {},
   "outputs": [],
   "source": [
    "N=int(input())\n",
    "X=int(input(),2)"
   ]
  },
  {
   "cell_type": "code",
   "execution_count": 6,
   "metadata": {},
   "outputs": [
    {
     "data": {
      "text/plain": [
       "242079196"
      ]
     },
     "execution_count": 6,
     "metadata": {},
     "output_type": "execute_result"
    }
   ],
   "source": [
    "X"
   ]
  },
  {
   "cell_type": "code",
   "execution_count": 4,
   "metadata": {},
   "outputs": [],
   "source": [
    "def op(k):\n",
    "    if k%2==0:\n",
    "        return k//2 + 2**(N-1)\n",
    "    else:\n",
    "        return (k-1)//2"
   ]
  },
  {
   "cell_type": "code",
   "execution_count": null,
   "metadata": {},
   "outputs": [],
   "source": [
    "import numpy as np\n",
    "N=int(input())\n",
    "X=int(input(),2)\n",
    "def op(k):\n",
    "    if k%2==0:\n",
    "        return k//2 + 2**(N-1)\n",
    "    else:\n",
    "        return (k-1)//2\n",
    "def loop(k):\n",
    "    if memo[k]!=-1:\n",
    "        return memo[k]\n",
    "    else:\n",
    "        x=op(k)\n",
    "        count=1\n",
    "        L=[k,x]\n",
    "        while(x!=k):\n",
    "            if memo[x]!=-1:\n",
    "                count=0\n",
    "                if x in L:\n",
    "                    L.remove(x)\n",
    "                break\n",
    "            x=op(x)\n",
    "            L.append(x)\n",
    "            count+=1\n",
    "        \n",
    "#         print(L)\n",
    "        for l in L:\n",
    "            memo[l]=count\n",
    "        return memo[k]\n",
    "ans=0\n",
    "memo=np.full(2**N,-1)\n",
    "for i in range(X+1):\n",
    "    ans+=loop(i)\n",
    "print(ans)"
   ]
  },
  {
   "cell_type": "code",
   "execution_count": 8,
   "metadata": {},
   "outputs": [
    {
     "data": {
      "text/plain": [
       "array([-1, -1, -1, -1, -1, -1, -1, -1, -1, -1, -1, -1, -1, -1, -1, -1, -1,\n",
       "       -1, -1, -1, -1, -1, -1, -1, -1, -1, -1, -1, -1, -1, -1, -1, -1, -1,\n",
       "       -1, -1, -1, -1, -1, -1, -1, -1, -1, -1, -1, -1, -1, -1, -1, -1, -1,\n",
       "       -1, -1, -1, -1, -1, -1, -1, -1, -1, -1, -1, -1, -1])"
      ]
     },
     "execution_count": 8,
     "metadata": {},
     "output_type": "execute_result"
    }
   ],
   "source": [
    "np.full(2**N,-1)"
   ]
  },
  {
   "cell_type": "code",
   "execution_count": 1,
   "metadata": {},
   "outputs": [],
   "source": [
    "memo=[-1]*(2**20)"
   ]
  },
  {
   "cell_type": "code",
   "execution_count": null,
   "metadata": {},
   "outputs": [],
   "source": []
  },
  {
   "cell_type": "code",
   "execution_count": null,
   "metadata": {},
   "outputs": [],
   "source": []
  },
  {
   "cell_type": "code",
   "execution_count": 154,
   "metadata": {},
   "outputs": [
    {
     "name": "stdout",
     "output_type": "stream",
     "text": [
      "2 4 6\n",
      "10\n"
     ]
    }
   ],
   "source": [
    "S=input()\n",
    "K=int(input())\n",
    "count=1\n",
    "ans=0\n",
    "old='old'\n",
    "for x in S:\n",
    "    if old==x:\n",
    "        count+=1\n",
    "    else:\n",
    "        ans+=count//2\n",
    "        count=1\n",
    "    old=x\n",
    "\n",
    "ans+=count//2\n",
    "check1=0\n",
    "check1+=ans\n",
    "\n",
    "ans-=count//2\n",
    "\n",
    "for x in S:\n",
    "    if old==x:\n",
    "        count+=1\n",
    "    else:\n",
    "        ans+=count//2\n",
    "        count=1\n",
    "#     print(count)\n",
    "    old=x\n",
    "\n",
    "ans+=count//2\n",
    "check2=0\n",
    "check2+=ans\n",
    "\n",
    "ans-=count//2\n",
    "\n",
    "for x in S:\n",
    "    if old==x:\n",
    "        count+=1\n",
    "    else:\n",
    "        ans+=count//2\n",
    "        count=1\n",
    "#     print(count)\n",
    "    old=x\n",
    "\n",
    "ans+=count//2\n",
    "\n",
    "# print(check1,check2,ans)\n",
    "\n",
    "if K==1:\n",
    "    print(check1)\n",
    "elif K==2:\n",
    "    print(check2)\n",
    "elif K==3:\n",
    "    print(ans)\n",
    "else:\n",
    "    if (check2-check1)==(ans-check2):\n",
    "        print((check2-check1)*(K-1)+check1)\n",
    "    else:\n",
    "        print((check2-check1)*((K-1)//2+(K-1)%2)+ (ans-check2)*((K-1)//2) +check1)\n"
   ]
  },
  {
   "cell_type": "code",
   "execution_count": 151,
   "metadata": {},
   "outputs": [
    {
     "data": {
      "text/plain": [
       "3"
      ]
     },
     "execution_count": 151,
     "metadata": {},
     "output_type": "execute_result"
    }
   ],
   "source": [
    "(K//2+K%2)"
   ]
  },
  {
   "cell_type": "code",
   "execution_count": 153,
   "metadata": {},
   "outputs": [
    {
     "data": {
      "text/plain": [
       "12"
      ]
     },
     "execution_count": 153,
     "metadata": {},
     "output_type": "execute_result"
    }
   ],
   "source": [
    "25//2"
   ]
  },
  {
   "cell_type": "code",
   "execution_count": null,
   "metadata": {},
   "outputs": [],
   "source": []
  },
  {
   "cell_type": "code",
   "execution_count": null,
   "metadata": {},
   "outputs": [],
   "source": []
  },
  {
   "cell_type": "code",
   "execution_count": null,
   "metadata": {},
   "outputs": [],
   "source": []
  },
  {
   "cell_type": "code",
   "execution_count": 88,
   "metadata": {},
   "outputs": [
    {
     "name": "stdout",
     "output_type": "stream",
     "text": [
      "5 2\n"
     ]
    }
   ],
   "source": [
    "print(ans,check)"
   ]
  },
  {
   "cell_type": "code",
   "execution_count": 146,
   "metadata": {},
   "outputs": [
    {
     "data": {
      "text/plain": [
       "12"
      ]
     },
     "execution_count": 146,
     "metadata": {},
     "output_type": "execute_result"
    }
   ],
   "source": [
    "25//2"
   ]
  },
  {
   "cell_type": "code",
   "execution_count": null,
   "metadata": {},
   "outputs": [],
   "source": []
  },
  {
   "cell_type": "code",
   "execution_count": null,
   "metadata": {},
   "outputs": [],
   "source": []
  },
  {
   "cell_type": "code",
   "execution_count": null,
   "metadata": {},
   "outputs": [],
   "source": []
  },
  {
   "cell_type": "code",
   "execution_count": null,
   "metadata": {},
   "outputs": [],
   "source": []
  },
  {
   "cell_type": "code",
   "execution_count": null,
   "metadata": {},
   "outputs": [],
   "source": []
  },
  {
   "cell_type": "code",
   "execution_count": null,
   "metadata": {},
   "outputs": [],
   "source": []
  },
  {
   "cell_type": "code",
   "execution_count": null,
   "metadata": {},
   "outputs": [],
   "source": []
  },
  {
   "cell_type": "code",
   "execution_count": 89,
   "metadata": {},
   "outputs": [
    {
     "name": "stdout",
     "output_type": "stream",
     "text": [
      "2\n"
     ]
    }
   ],
   "source": [
    "if ans==check*2:\n",
    "    print(check*K)\n",
    "if ans==check*2+1 and K!=1:\n",
    "    print(check*K+1)\n",
    "if ans==check*2+1 and K==1:\n",
    "    print(check*K)\n",
    "\n"
   ]
  },
  {
   "cell_type": "code",
   "execution_count": null,
   "metadata": {},
   "outputs": [],
   "source": []
  },
  {
   "cell_type": "code",
   "execution_count": 5,
   "metadata": {},
   "outputs": [
    {
     "name": "stdout",
     "output_type": "stream",
     "text": [
      "3\n"
     ]
    }
   ],
   "source": [
    " def gcd(a,b):\n",
    "        while b!=0:\n",
    "            a,b=b,a%b\n",
    "        return a\n",
    "\n",
    "    \n",
    "def make_divisors(n):\n",
    "    divisors = []\n",
    "    for i in range(1, int(n**0.5)+1):\n",
    "        if n % i == 0:\n",
    "            divisors.append(i)\n",
    "            if i != n // i:\n",
    "                divisors.append(n//i)\n",
    "\n",
    "    # divisors.sort()\n",
    "    return divisors\n",
    "\n",
    "A,B=map(int, input().split())\n",
    "C=max(A,B)\n",
    "D=min(A,B)\n",
    "lis=make_divisors(D)\n",
    "lis.sort()\n",
    "l=len(lis)\n",
    "ans=[1]\n",
    "j=1\n",
    "\n",
    "for i in range(2,gcd(A,B)+1):\n",
    "    if A % i == 0 and B % i == 0:\n",
    "        j=i\n",
    "        break\n",
    "\n",
    "if j==1:\n",
    "    print(1)\n",
    "else:\n",
    "    for i in range(l):\n",
    "            if C%lis[i]==0 and pow(j,lis[i]-1,lis[i])==1:\n",
    "                ans.append(lis[i])\n",
    "    if C%j==0:\n",
    "        ans.append(j)\n",
    "    print(len(ans))\n"
   ]
  },
  {
   "cell_type": "code",
   "execution_count": 55,
   "metadata": {},
   "outputs": [
    {
     "data": {
      "text/plain": [
       "[1, 2]"
      ]
     },
     "execution_count": 55,
     "metadata": {},
     "output_type": "execute_result"
    }
   ],
   "source": [
    "ans"
   ]
  },
  {
   "cell_type": "code",
   "execution_count": null,
   "metadata": {},
   "outputs": [],
   "source": []
  },
  {
   "cell_type": "code",
   "execution_count": null,
   "metadata": {},
   "outputs": [],
   "source": []
  },
  {
   "cell_type": "code",
   "execution_count": null,
   "metadata": {},
   "outputs": [],
   "source": []
  },
  {
   "cell_type": "code",
   "execution_count": null,
   "metadata": {},
   "outputs": [],
   "source": []
  },
  {
   "cell_type": "code",
   "execution_count": 32,
   "metadata": {},
   "outputs": [],
   "source": [
    "for i in range(1,math.gcd(A,B)+1):\n",
    "    if A % i == 0 and B % i == 0:\n",
    "        j=i\n",
    "        break"
   ]
  },
  {
   "cell_type": "code",
   "execution_count": 33,
   "metadata": {},
   "outputs": [
    {
     "data": {
      "text/plain": [
       "1"
      ]
     },
     "execution_count": 33,
     "metadata": {},
     "output_type": "execute_result"
    }
   ],
   "source": [
    "j"
   ]
  },
  {
   "cell_type": "code",
   "execution_count": null,
   "metadata": {},
   "outputs": [],
   "source": []
  },
  {
   "cell_type": "code",
   "execution_count": null,
   "metadata": {},
   "outputs": [],
   "source": []
  },
  {
   "cell_type": "code",
   "execution_count": 6,
   "metadata": {},
   "outputs": [
    {
     "name": "stdout",
     "output_type": "stream",
     "text": [
      "2\n"
     ]
    }
   ],
   "source": [
    "def make_divisors(n):\n",
    "    divisors = []\n",
    "    for i in range(1, int(n**0.5)+1):\n",
    "        if n % i == 0:\n",
    "            divisors.append(i)\n",
    "            if i != n // i:\n",
    "                divisors.append(n//i)\n",
    "\n",
    "    # divisors.sort()\n",
    "    return divisors\n",
    "\n",
    "A,B=map(int, input().split())\n",
    "C=max(A,B)\n",
    "lis=make_divisors(min(A,B))\n",
    "lis.sort()\n",
    "l=len(lis)\n",
    "ans=[1]\n",
    "if l>1:\n",
    "    j=lis[1]\n",
    "    for i in range(l):\n",
    "            if C%lis[i]==0 and pow(j,lis[i]-1,lis[i])==1:\n",
    "                ans.append(lis[i])\n",
    "    ans.append(j)\n",
    "    print(len(ans))\n",
    "else:\n",
    "    print(1)\n",
    "    "
   ]
  },
  {
   "cell_type": "code",
   "execution_count": null,
   "metadata": {},
   "outputs": [],
   "source": []
  },
  {
   "cell_type": "code",
   "execution_count": null,
   "metadata": {},
   "outputs": [],
   "source": []
  },
  {
   "cell_type": "code",
   "execution_count": null,
   "metadata": {},
   "outputs": [],
   "source": []
  },
  {
   "cell_type": "code",
   "execution_count": 229,
   "metadata": {},
   "outputs": [],
   "source": [
    "A,B=map(int, input().split())\n",
    "C=max(A,B)\n",
    "lis=make_divisors(min(A,B))\n",
    "lis.sort()\n",
    "l=len(lis)\n",
    "ans=[1]\n",
    "if l>1:\n",
    "    j=lis[1]\n",
    "    for i in range(l):\n",
    "            if C%lis[i]==0 and pow(j,lis[i]-1,lis[i])==1:\n",
    "                ans.append(lis[i])\n",
    "    ans.append(j)\n",
    "    print(len(ans))\n",
    "else:\n",
    "    print(1)\n",
    "    "
   ]
  },
  {
   "cell_type": "code",
   "execution_count": 230,
   "metadata": {},
   "outputs": [],
   "source": [
    "lis=make_divisors(min(A,B))\n",
    "lis.sort()\n",
    "l=len(lis)\n",
    "ans=[1]\n",
    "if l>1:\n",
    "    j=lis[1]\n",
    "    for i in range(l):\n",
    "            if C%lis[i]==0 and pow(j,lis[i]-1,lis[i])==1:\n",
    "                ans.append(lis[i])\n",
    "    ans.append(j)\n",
    "    print(len(ans))\n",
    "else:\n",
    "    print(1)\n",
    "    "
   ]
  },
  {
   "cell_type": "code",
   "execution_count": 231,
   "metadata": {},
   "outputs": [
    {
     "name": "stdout",
     "output_type": "stream",
     "text": [
      "4\n"
     ]
    }
   ],
   "source": [
    "ans=[1]\n",
    "if l>1:\n",
    "    j=lis[1]\n",
    "    for i in range(l):\n",
    "            if C%lis[i]==0 and pow(j,lis[i]-1,lis[i])==1:\n",
    "                ans.append(lis[i])\n",
    "    ans.append(j)\n",
    "    print(len(ans))\n",
    "else:\n",
    "    print(1)\n",
    "    "
   ]
  },
  {
   "cell_type": "code",
   "execution_count": 232,
   "metadata": {},
   "outputs": [
    {
     "data": {
      "text/plain": [
       "[1, 3, 5, 2]"
      ]
     },
     "execution_count": 232,
     "metadata": {},
     "output_type": "execute_result"
    }
   ],
   "source": [
    "ans"
   ]
  },
  {
   "cell_type": "code",
   "execution_count": null,
   "metadata": {},
   "outputs": [],
   "source": []
  },
  {
   "cell_type": "code",
   "execution_count": null,
   "metadata": {},
   "outputs": [],
   "source": []
  },
  {
   "cell_type": "code",
   "execution_count": 224,
   "metadata": {},
   "outputs": [
    {
     "name": "stdout",
     "output_type": "stream",
     "text": [
      "3\n"
     ]
    }
   ],
   "source": [
    "def cf(x1,x2):\n",
    "    cf=[]\n",
    "    for i in range(2,min(x1,x2)+1):\n",
    "        if x1 % i == 0 and x2 % i == 0:\n",
    "            cf.append(i)\n",
    "    return cf\n",
    "A,B=map(int, input().split())\n",
    "\n",
    "ans=[]\n",
    "if l>1:\n",
    "    j=koyakusu[1]\n",
    "    for i in range(l):\n",
    "            if pow(j,koyakusu[i]-1,koyakusu[i])==1:\n",
    "                ans.append(koyakusu[i])\n",
    "    ans.append(j)\n",
    "    print(len(ans))\n",
    "else:\n",
    "    print(1)"
   ]
  },
  {
   "cell_type": "code",
   "execution_count": null,
   "metadata": {},
   "outputs": [],
   "source": []
  },
  {
   "cell_type": "code",
   "execution_count": null,
   "metadata": {},
   "outputs": [],
   "source": []
  },
  {
   "cell_type": "code",
   "execution_count": 205,
   "metadata": {},
   "outputs": [
    {
     "data": {
      "text/plain": [
       "60"
      ]
     },
     "execution_count": 205,
     "metadata": {},
     "output_type": "execute_result"
    }
   ],
   "source": [
    "import math\n",
    "math.gcd(A,B)"
   ]
  },
  {
   "cell_type": "code",
   "execution_count": null,
   "metadata": {},
   "outputs": [],
   "source": []
  },
  {
   "cell_type": "code",
   "execution_count": 156,
   "metadata": {},
   "outputs": [],
   "source": [
    "def cf(x1,x2):\n",
    "    cf=[]\n",
    "    for i in range(2,min(x1,x2)+1):\n",
    "        if x1 % i == 0 and x2 % i == 0:\n",
    "            cf.append(i)\n",
    "            break\n",
    "    return cf"
   ]
  },
  {
   "cell_type": "code",
   "execution_count": 209,
   "metadata": {},
   "outputs": [],
   "source": [
    "A,B=map(int, input().split())\n",
    "x=math.gcd(A,B)\n",
    "for i in range(2,x+1):\n",
    "    if A % i == 0 and B % i == 0:\n",
    "        y=i\n",
    "        break\n",
    "        "
   ]
  },
  {
   "cell_type": "code",
   "execution_count": 210,
   "metadata": {},
   "outputs": [
    {
     "data": {
      "text/plain": [
       "2"
      ]
     },
     "execution_count": 210,
     "metadata": {},
     "output_type": "execute_result"
    }
   ],
   "source": [
    "y"
   ]
  },
  {
   "cell_type": "code",
   "execution_count": 207,
   "metadata": {},
   "outputs": [],
   "source": [
    "A,B=map(int, input().split())\n",
    "x=math.gcd(A,B)"
   ]
  },
  {
   "cell_type": "code",
   "execution_count": 208,
   "metadata": {},
   "outputs": [
    {
     "data": {
      "text/plain": [
       "1000000000"
      ]
     },
     "execution_count": 208,
     "metadata": {},
     "output_type": "execute_result"
    }
   ],
   "source": [
    "x"
   ]
  },
  {
   "cell_type": "code",
   "execution_count": null,
   "metadata": {},
   "outputs": [],
   "source": []
  },
  {
   "cell_type": "code",
   "execution_count": 178,
   "metadata": {},
   "outputs": [],
   "source": [
    "koyakusu=cf(A,B)\n",
    "l=len(koyakusu)"
   ]
  },
  {
   "cell_type": "code",
   "execution_count": 179,
   "metadata": {},
   "outputs": [],
   "source": [
    "koyakusu.insert(0,1)"
   ]
  },
  {
   "cell_type": "code",
   "execution_count": 180,
   "metadata": {},
   "outputs": [
    {
     "data": {
      "text/plain": [
       "[1, 2, 3, 4, 5, 6, 10, 12, 15, 20, 30, 60]"
      ]
     },
     "execution_count": 180,
     "metadata": {},
     "output_type": "execute_result"
    }
   ],
   "source": [
    "koyakusu"
   ]
  },
  {
   "cell_type": "code",
   "execution_count": 173,
   "metadata": {},
   "outputs": [
    {
     "name": "stdout",
     "output_type": "stream",
     "text": [
      "3\n"
     ]
    }
   ],
   "source": [
    "ans=[]\n",
    "if l>1:\n",
    "    j=koyakusu[1]\n",
    "    for i in range(l):\n",
    "            if pow(j,koyakusu[i]-1,koyakusu[i])==1:\n",
    "                ans.append(koyakusu[i])\n",
    "    ans.append(j)\n",
    "    print(len(ans))\n",
    "else:\n",
    "    print(1)"
   ]
  },
  {
   "cell_type": "code",
   "execution_count": 150,
   "metadata": {},
   "outputs": [
    {
     "data": {
      "text/plain": [
       "[1, 2]"
      ]
     },
     "execution_count": 150,
     "metadata": {},
     "output_type": "execute_result"
    }
   ],
   "source": [
    "ans"
   ]
  },
  {
   "cell_type": "code",
   "execution_count": null,
   "metadata": {},
   "outputs": [],
   "source": []
  },
  {
   "cell_type": "code",
   "execution_count": null,
   "metadata": {},
   "outputs": [],
   "source": []
  },
  {
   "cell_type": "code",
   "execution_count": null,
   "metadata": {},
   "outputs": [],
   "source": []
  },
  {
   "cell_type": "code",
   "execution_count": 49,
   "metadata": {},
   "outputs": [
    {
     "name": "stdout",
     "output_type": "stream",
     "text": [
      "3 1 2\n"
     ]
    }
   ],
   "source": [
    "import numpy as np\n",
    "N=int(input())\n",
    "A=np.array(list(map(int, input().split())))\n",
    "list1=list(enumerate(A))\n",
    "list2 = np.array(sorted(list1, key=lambda x:x[1]))\n",
    "print(*list2[:,0]+1)"
   ]
  },
  {
   "cell_type": "code",
   "execution_count": null,
   "metadata": {},
   "outputs": [],
   "source": []
  },
  {
   "cell_type": "code",
   "execution_count": 24,
   "metadata": {},
   "outputs": [
    {
     "name": "stdout",
     "output_type": "stream",
     "text": [
      "5\n"
     ]
    }
   ],
   "source": [
    "import numpy as np\n",
    "N,K=map(int, input().split())\n",
    "H=np.array(list(map(int, input().split())))\n",
    "print(np.count_nonzero(H>=K))"
   ]
  },
  {
   "cell_type": "code",
   "execution_count": 23,
   "metadata": {},
   "outputs": [
    {
     "name": "stdout",
     "output_type": "stream",
     "text": [
      "2\n"
     ]
    }
   ],
   "source": []
  },
  {
   "cell_type": "code",
   "execution_count": null,
   "metadata": {},
   "outputs": [],
   "source": []
  },
  {
   "cell_type": "code",
   "execution_count": null,
   "metadata": {},
   "outputs": [],
   "source": []
  },
  {
   "cell_type": "code",
   "execution_count": null,
   "metadata": {},
   "outputs": [],
   "source": []
  },
  {
   "cell_type": "code",
   "execution_count": 17,
   "metadata": {},
   "outputs": [
    {
     "name": "stdout",
     "output_type": "stream",
     "text": [
      "1.0\n"
     ]
    }
   ],
   "source": [
    "N=int(input())\n",
    "print((N//2+N%2)/N)"
   ]
  },
  {
   "cell_type": "code",
   "execution_count": 15,
   "metadata": {},
   "outputs": [
    {
     "data": {
      "text/plain": [
       "0.6"
      ]
     },
     "execution_count": 15,
     "metadata": {},
     "output_type": "execute_result"
    }
   ],
   "source": [
    "print((N//2+N%2)/N)"
   ]
  },
  {
   "cell_type": "code",
   "execution_count": null,
   "metadata": {},
   "outputs": [],
   "source": []
  },
  {
   "cell_type": "code",
   "execution_count": null,
   "metadata": {},
   "outputs": [],
   "source": []
  },
  {
   "cell_type": "code",
   "execution_count": null,
   "metadata": {},
   "outputs": [],
   "source": []
  },
  {
   "cell_type": "code",
   "execution_count": null,
   "metadata": {},
   "outputs": [],
   "source": []
  },
  {
   "cell_type": "code",
   "execution_count": null,
   "metadata": {},
   "outputs": [],
   "source": []
  },
  {
   "cell_type": "code",
   "execution_count": null,
   "metadata": {},
   "outputs": [],
   "source": []
  },
  {
   "cell_type": "code",
   "execution_count": null,
   "metadata": {},
   "outputs": [],
   "source": []
  },
  {
   "cell_type": "code",
   "execution_count": null,
   "metadata": {},
   "outputs": [],
   "source": []
  },
  {
   "cell_type": "code",
   "execution_count": null,
   "metadata": {},
   "outputs": [],
   "source": []
  },
  {
   "cell_type": "code",
   "execution_count": null,
   "metadata": {},
   "outputs": [],
   "source": []
  },
  {
   "cell_type": "code",
   "execution_count": null,
   "metadata": {},
   "outputs": [],
   "source": []
  },
  {
   "cell_type": "code",
   "execution_count": null,
   "metadata": {},
   "outputs": [],
   "source": []
  },
  {
   "cell_type": "code",
   "execution_count": null,
   "metadata": {},
   "outputs": [],
   "source": []
  },
  {
   "cell_type": "code",
   "execution_count": null,
   "metadata": {},
   "outputs": [],
   "source": []
  },
  {
   "cell_type": "code",
   "execution_count": null,
   "metadata": {},
   "outputs": [],
   "source": []
  },
  {
   "cell_type": "code",
   "execution_count": null,
   "metadata": {},
   "outputs": [],
   "source": []
  },
  {
   "cell_type": "code",
   "execution_count": null,
   "metadata": {},
   "outputs": [],
   "source": []
  },
  {
   "cell_type": "code",
   "execution_count": null,
   "metadata": {},
   "outputs": [],
   "source": []
  },
  {
   "cell_type": "code",
   "execution_count": null,
   "metadata": {},
   "outputs": [],
   "source": []
  },
  {
   "cell_type": "code",
   "execution_count": null,
   "metadata": {},
   "outputs": [],
   "source": []
  },
  {
   "cell_type": "code",
   "execution_count": null,
   "metadata": {},
   "outputs": [],
   "source": []
  },
  {
   "cell_type": "code",
   "execution_count": null,
   "metadata": {},
   "outputs": [],
   "source": []
  },
  {
   "cell_type": "code",
   "execution_count": null,
   "metadata": {},
   "outputs": [],
   "source": []
  },
  {
   "cell_type": "code",
   "execution_count": 2,
   "metadata": {},
   "outputs": [],
   "source": [
    "#A"
   ]
  },
  {
   "cell_type": "code",
   "execution_count": 64,
   "metadata": {},
   "outputs": [
    {
     "data": {
      "text/plain": [
       "True"
      ]
     },
     "execution_count": 64,
     "metadata": {},
     "output_type": "execute_result"
    }
   ],
   "source": [
    "type(\"No\")==str"
   ]
  },
  {
   "cell_type": "code",
   "execution_count": 6,
   "metadata": {},
   "outputs": [
    {
     "name": "stdout",
     "output_type": "stream",
     "text": [
      "Sunny\n"
     ]
    }
   ],
   "source": [
    "S=input()\n",
    "if S=='Sunny':\n",
    "    print('Cloudy')\n",
    "elif S=='Cloudy':\n",
    "    print('Rainy')\n",
    "else:\n",
    "    print('Sunny')\n",
    " "
   ]
  },
  {
   "cell_type": "code",
   "execution_count": 7,
   "metadata": {},
   "outputs": [],
   "source": [
    "#B"
   ]
  },
  {
   "cell_type": "code",
   "execution_count": 13,
   "metadata": {},
   "outputs": [],
   "source": []
  },
  {
   "cell_type": "code",
   "execution_count": 21,
   "metadata": {},
   "outputs": [
    {
     "name": "stdout",
     "output_type": "stream",
     "text": [
      "No\n"
     ]
    }
   ],
   "source": [
    "S=input()\n",
    "flag=0\n",
    "for i in range(len(S)):\n",
    "    if i%2==0:\n",
    "        if not (S[i]=='R' or S[i]=='U' or S[i]=='D'):\n",
    "            flag=1\n",
    "    else:\n",
    "        if not (S[i]=='L' or S[i]=='U' or S[i]=='D'):\n",
    "            flag=1\n",
    "if flag==0:\n",
    "    print('Yes')\n",
    "else:\n",
    "    print('No')"
   ]
  },
  {
   "cell_type": "code",
   "execution_count": 16,
   "metadata": {},
   "outputs": [
    {
     "data": {
      "text/plain": [
       "7"
      ]
     },
     "execution_count": 16,
     "metadata": {},
     "output_type": "execute_result"
    }
   ],
   "source": [
    "len(S)"
   ]
  },
  {
   "cell_type": "code",
   "execution_count": 22,
   "metadata": {},
   "outputs": [],
   "source": [
    "#C"
   ]
  },
  {
   "cell_type": "code",
   "execution_count": 28,
   "metadata": {},
   "outputs": [],
   "source": [
    "import numpy as np\n",
    "N,K,Q=map(int, input().split())\n",
    "A=np.array([int(input()) for _ in range(Q)])"
   ]
  },
  {
   "cell_type": "code",
   "execution_count": 35,
   "metadata": {},
   "outputs": [],
   "source": [
    "P=np.array([K]*N)"
   ]
  },
  {
   "cell_type": "code",
   "execution_count": 30,
   "metadata": {},
   "outputs": [
    {
     "data": {
      "text/plain": [
       "array([3, 3, 3, 3, 3, 3])"
      ]
     },
     "execution_count": 30,
     "metadata": {},
     "output_type": "execute_result"
    }
   ],
   "source": [
    "P"
   ]
  },
  {
   "cell_type": "code",
   "execution_count": 31,
   "metadata": {},
   "outputs": [],
   "source": [
    "for a in A:\n",
    "    p=np.array([1]*N)\n",
    "    p[a-1]=0\n",
    "    P-=p"
   ]
  },
  {
   "cell_type": "code",
   "execution_count": 33,
   "metadata": {},
   "outputs": [
    {
     "name": "stdout",
     "output_type": "stream",
     "text": [
      "No\n",
      "No\n",
      "Yes\n",
      "No\n",
      "No\n",
      "No\n"
     ]
    }
   ],
   "source": [
    "for x in P:\n",
    "    if x>0:\n",
    "        print('Yes')\n",
    "    else:\n",
    "        print('No')"
   ]
  },
  {
   "cell_type": "code",
   "execution_count": 42,
   "metadata": {},
   "outputs": [
    {
     "name": "stdout",
     "output_type": "stream",
     "text": [
      "Yes\n",
      "Yes\n",
      "Yes\n",
      "Yes\n",
      "Yes\n",
      "Yes\n"
     ]
    }
   ],
   "source": [
    "N,K,Q=map(int, input().split())\n",
    "A=[int(input()) for _ in range(Q)]\n",
    "P=[0]*N\n",
    "for a in A:\n",
    "    P[a-1]+=1\n",
    "for x in P:\n",
    "    if K-Q+x>0:\n",
    "        print('Yes')\n",
    "    else:\n",
    "        print('No')    \n"
   ]
  },
  {
   "cell_type": "code",
   "execution_count": 40,
   "metadata": {},
   "outputs": [
    {
     "data": {
      "text/plain": [
       "[2, 1, 2, 1, 3, 1, 1, 1, 3, 0]"
      ]
     },
     "execution_count": 40,
     "metadata": {},
     "output_type": "execute_result"
    }
   ],
   "source": [
    "P"
   ]
  },
  {
   "cell_type": "code",
   "execution_count": 43,
   "metadata": {},
   "outputs": [],
   "source": [
    "#D"
   ]
  },
  {
   "cell_type": "code",
   "execution_count": 86,
   "metadata": {},
   "outputs": [],
   "source": [
    "import numpy as np\n",
    "N,M=map(int, input().split())\n",
    "A=np.array(list(map(int, input().split())))"
   ]
  },
  {
   "cell_type": "code",
   "execution_count": 104,
   "metadata": {},
   "outputs": [
    {
     "name": "stdout",
     "output_type": "stream",
     "text": [
      "9500000000\n",
      "CPU times: user 315 µs, sys: 79 µs, total: 394 µs\n",
      "Wall time: 448 µs\n"
     ]
    }
   ],
   "source": [
    "%%time\n",
    "import numpy as np\n",
    "N,M=map(int, input().split())\n",
    "A=np.array(list(map(int, input().split())))\n",
    "for i in range(M):\n",
    "    x=A.argmax()\n",
    "    A[x]=A[x]//2\n",
    "print(sum(A))"
   ]
  },
  {
   "cell_type": "code",
   "execution_count": 105,
   "metadata": {},
   "outputs": [
    {
     "name": "stdout",
     "output_type": "stream",
     "text": [
      "9500000000\n",
      "CPU times: user 538 µs, sys: 264 µs, total: 802 µs\n",
      "Wall time: 632 µs\n"
     ]
    }
   ],
   "source": [
    "%%time\n",
    "import numpy as np\n",
    "N,M=map(int, input().split())\n",
    "A=np.array(list(map(int, input().split())))\n",
    "for i in range(M):\n",
    "    x=np.argmax(A)\n",
    "    A[x]=A[x]//2\n",
    "print(sum(A))"
   ]
  },
  {
   "cell_type": "code",
   "execution_count": 3,
   "metadata": {},
   "outputs": [
    {
     "name": "stdout",
     "output_type": "stream",
     "text": [
      "9500000000\n"
     ]
    }
   ],
   "source": [
    "N,M=map(int, input().split())\n",
    "A=list(map(int, input().split()))\n",
    "A.index(max(A))\n",
    "A.sort()\n",
    "a=A.pop()\n",
    "b=A.pop()\n",
    "for i in range(M):\n",
    "    if a>=b:\n",
    "        a=a//2\n",
    "    else:\n",
    "        A.append(a)\n",
    "        A.append(b//2)\n",
    "        A.sort()\n",
    "        a=A.pop()\n",
    "        b=A.pop()\n",
    "        \n",
    "print(sum(A)+a+b)"
   ]
  },
  {
   "cell_type": "code",
   "execution_count": 80,
   "metadata": {},
   "outputs": [
    {
     "data": {
      "text/plain": [
       "[1, 3, 5]"
      ]
     },
     "execution_count": 80,
     "metadata": {},
     "output_type": "execute_result"
    }
   ],
   "source": [
    "A"
   ]
  },
  {
   "cell_type": "code",
   "execution_count": 81,
   "metadata": {},
   "outputs": [
    {
     "data": {
      "text/plain": [
       "9"
      ]
     },
     "execution_count": 81,
     "metadata": {},
     "output_type": "execute_result"
    }
   ],
   "source": [
    "a"
   ]
  },
  {
   "cell_type": "code",
   "execution_count": 55,
   "metadata": {},
   "outputs": [
    {
     "name": "stdout",
     "output_type": "stream",
     "text": [
      "9500000000\n",
      "CPU times: user 315 µs, sys: 123 µs, total: 438 µs\n",
      "Wall time: 371 µs\n"
     ]
    }
   ],
   "source": [
    "%%time\n",
    "N,M=map(int, input().split())\n",
    "A=list(map(int, input().split()))\n",
    "A.index(max(A))\n",
    "A.sort()\n",
    "B=[A.pop()//2]\n",
    "M-=1\n",
    "\n",
    "while(M):\n",
    "    if A[-1]>B[-1]:\n",
    "        B.insert(0,A.pop()//2)\n",
    "    else:\n",
    "        b=B.pop()//2\n",
    "        B.insert(0,b)\n",
    "    M-=1\n",
    "    \n",
    "print(sum(A)+sum(B))\n"
   ]
  },
  {
   "cell_type": "code",
   "execution_count": 52,
   "metadata": {},
   "outputs": [
    {
     "data": {
      "text/plain": [
       "[1]"
      ]
     },
     "execution_count": 52,
     "metadata": {},
     "output_type": "execute_result"
    }
   ],
   "source": [
    "A"
   ]
  },
  {
   "cell_type": "code",
   "execution_count": 53,
   "metadata": {},
   "outputs": [
    {
     "data": {
      "text/plain": [
       "[1, 2, 2]"
      ]
     },
     "execution_count": 53,
     "metadata": {},
     "output_type": "execute_result"
    }
   ],
   "source": [
    "B"
   ]
  },
  {
   "cell_type": "code",
   "execution_count": 127,
   "metadata": {},
   "outputs": [
    {
     "name": "stdout",
     "output_type": "stream",
     "text": [
      "10\n"
     ]
    }
   ],
   "source": [
    "import numpy as np\n",
    "N,M=map(int, input().split())\n",
    "A=np.array(list(map(int, input().split())))\n",
    "while(M):\n",
    "    a=A[np.argmax(A)]//2\n",
    "    L=(A>=a)\n",
    "    if M-len(L)>=0:\n",
    "        A[L]=A[L]//2\n",
    "        M-=len(L)\n",
    "    else:\n",
    "        x=np.argmax(A)\n",
    "        A[x]=A[x]//2\n",
    "        M-=1\n",
    "print(sum(A))\n"
   ]
  },
  {
   "cell_type": "code",
   "execution_count": 129,
   "metadata": {},
   "outputs": [
    {
     "data": {
      "text/plain": [
       "array([1, 4, 3, 2])"
      ]
     },
     "execution_count": 129,
     "metadata": {},
     "output_type": "execute_result"
    }
   ],
   "source": [
    "A"
   ]
  },
  {
   "cell_type": "code",
   "execution_count": 125,
   "metadata": {},
   "outputs": [
    {
     "data": {
      "text/plain": [
       "4"
      ]
     },
     "execution_count": 125,
     "metadata": {},
     "output_type": "execute_result"
    }
   ],
   "source": [
    "len(A>=a)"
   ]
  },
  {
   "cell_type": "code",
   "execution_count": 126,
   "metadata": {},
   "outputs": [
    {
     "ename": "SyntaxError",
     "evalue": "invalid syntax (<ipython-input-126-e330338694a4>, line 1)",
     "output_type": "error",
     "traceback": [
      "\u001b[0;36m  File \u001b[0;32m\"<ipython-input-126-e330338694a4>\"\u001b[0;36m, line \u001b[0;32m1\u001b[0m\n\u001b[0;31m    1 9 3 5\u001b[0m\n\u001b[0m      ^\u001b[0m\n\u001b[0;31mSyntaxError\u001b[0m\u001b[0;31m:\u001b[0m invalid syntax\n"
     ]
    }
   ],
   "source": [
    "1 9 3 5"
   ]
  },
  {
   "cell_type": "code",
   "execution_count": 152,
   "metadata": {},
   "outputs": [
    {
     "name": "stdout",
     "output_type": "stream",
     "text": [
      "6\n"
     ]
    }
   ],
   "source": [
    "import heapq\n",
    "\n",
    "N,M = map(int, input().split())\n",
    "A = list(-int(i) for i in input().split()) \n",
    "\n",
    "heapq.heapify(A)\n",
    "\n",
    "for i in range(M):\n",
    "    x=heapq.heappop(A)//(-2)\n",
    "    heapq.heappush(A, -x)\n",
    "\n",
    "print(-sum(A))\n"
   ]
  },
  {
   "cell_type": "code",
   "execution_count": 149,
   "metadata": {},
   "outputs": [
    {
     "data": {
      "text/plain": [
       "[-5, -4, -3, -1]"
      ]
     },
     "execution_count": 149,
     "metadata": {},
     "output_type": "execute_result"
    }
   ],
   "source": [
    "A"
   ]
  },
  {
   "cell_type": "code",
   "execution_count": 151,
   "metadata": {},
   "outputs": [
    {
     "data": {
      "text/plain": [
       "4"
      ]
     },
     "execution_count": 151,
     "metadata": {},
     "output_type": "execute_result"
    }
   ],
   "source": [
    "x"
   ]
  },
  {
   "cell_type": "code",
   "execution_count": 2,
   "metadata": {},
   "outputs": [],
   "source": [
    "import numpy as np\n",
    "H,W,A,B = map(int, input().split())"
   ]
  },
  {
   "cell_type": "code",
   "execution_count": 3,
   "metadata": {},
   "outputs": [],
   "source": [
    "matrix=np.zeros([H,W], int)"
   ]
  },
  {
   "cell_type": "code",
   "execution_count": 9,
   "metadata": {},
   "outputs": [
    {
     "data": {
      "text/plain": [
       "array([[0, 0, 0],\n",
       "       [0, 0, 0],\n",
       "       [0, 0, 0]])"
      ]
     },
     "execution_count": 9,
     "metadata": {},
     "output_type": "execute_result"
    }
   ],
   "source": []
  },
  {
   "cell_type": "code",
   "execution_count": 56,
   "metadata": {},
   "outputs": [
    {
     "name": "stdout",
     "output_type": "stream",
     "text": [
      "[[1 1 1 0 0 0]\n",
      " [1 1 1 0 0 0]\n",
      " [1 1 1 0 0 0]\n",
      " [0 0 0 1 1 1]\n",
      " [0 0 0 1 1 1]\n",
      " [0 0 0 1 1 1]]\n"
     ]
    }
   ],
   "source": [
    "import numpy as np\n",
    "H,W,A,B = map(int, input().split())\n",
    "def check(H,W,A,B):\n",
    "    matrix=np.zeros([H,W], int)\n",
    "    flag=0\n",
    "    if A==0:\n",
    "        flag=1\n",
    "        matrix[:B,:]=1\n",
    "        return matrix\n",
    "    \n",
    "    if B==0:\n",
    "        flag=1\n",
    "        matrix[:,:A]=1\n",
    "        return matrix\n",
    "        \n",
    "    if H==W and A==B:\n",
    "        flag=1\n",
    "        for i in range(H//A):\n",
    "            x=i*A\n",
    "            matrix[x:x+A,x:x+A]=1\n",
    "        return matrix\n",
    "    \n",
    "\n",
    "    if H==W and A==W//2 and B<=H//2:\n",
    "        matrix[:B,:A]=1\n",
    "        matrix[B:,A:]=1\n",
    "        return matrix\n",
    "            \n",
    "    if A==W//2 and B==H//2:\n",
    "        flag=1\n",
    "        for i in range(H):\n",
    "            for j in range(W):\n",
    "                if (i+j)%2==0:\n",
    "                    matrix[i][j]=1\n",
    "        return matrix\n",
    "    \n",
    "    return \"No\"\n",
    "\n",
    "if B<=H//2 and A<=W//2:\n",
    "    print(check())\n",
    "else:\n",
    "    print(\"No\")"
   ]
  },
  {
   "cell_type": "code",
   "execution_count": 77,
   "metadata": {},
   "outputs": [],
   "source": [
    "def make_divisors(n):\n",
    "    divisors = []\n",
    "    for i in range(1, int(n**0.5)+1):\n",
    "        if n % i == 0:\n",
    "            divisors.append(i)\n",
    "            if i != n // i:\n",
    "                divisors.append(n//i)\n",
    "\n",
    "    # divisors.sort()\n",
    "    return divisors"
   ]
  },
  {
   "cell_type": "code",
   "execution_count": 123,
   "metadata": {},
   "outputs": [
    {
     "name": "stdout",
     "output_type": "stream",
     "text": [
      "011111111\n",
      "100000000\n",
      "100000000\n",
      "100000000\n",
      "100000000\n",
      "100000000\n",
      "100000000\n",
      "100000000\n",
      "100000000\n"
     ]
    }
   ],
   "source": [
    "import numpy as np\n",
    "H,W,A,B = map(int, input().split())\n",
    "ans=np.zeros([H,W], int)\n",
    "ans[:B,A:]=1\n",
    "ans[B:,:A]=1\n",
    "for x in ans:\n",
    "    maped_num = map(str, x)\n",
    "    mojiretsu = ''.join(maped_num)\n",
    "    print(mojiretsu)\n",
    "\n"
   ]
  },
  {
   "cell_type": "code",
   "execution_count": 125,
   "metadata": {},
   "outputs": [
    {
     "name": "stdout",
     "output_type": "stream",
     "text": [
      "<map object at 0x10b7e2630>\n"
     ]
    }
   ],
   "source": [
    "print(maped_num)"
   ]
  },
  {
   "cell_type": "code",
   "execution_count": 120,
   "metadata": {},
   "outputs": [
    {
     "name": "stdout",
     "output_type": "stream",
     "text": [
      "011111111\n",
      "100000000\n",
      "100000000\n",
      "100000000\n",
      "100000000\n",
      "100000000\n",
      "100000000\n",
      "100000000\n",
      "100000000\n"
     ]
    }
   ],
   "source": [
    "H, W, A, B = map(int, input().split())\n",
    "\n",
    "for _ in range(B):\n",
    "  print(''.join(['0'] * A + ['1'] * (W-A)))\n",
    "for _ in range(H-B):\n",
    "  print(''.join(['1'] * A + ['0'] * (W-A)))\n"
   ]
  },
  {
   "cell_type": "code",
   "execution_count": null,
   "metadata": {},
   "outputs": [],
   "source": []
  }
 ],
 "metadata": {
  "kernelspec": {
   "display_name": "Python 3",
   "language": "python",
   "name": "python3"
  },
  "language_info": {
   "codemirror_mode": {
    "name": "ipython",
    "version": 3
   },
   "file_extension": ".py",
   "mimetype": "text/x-python",
   "name": "python",
   "nbconvert_exporter": "python",
   "pygments_lexer": "ipython3",
   "version": "3.7.5"
  }
 },
 "nbformat": 4,
 "nbformat_minor": 2
}

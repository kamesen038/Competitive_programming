{
 "cells": [
  {
   "cell_type": "markdown",
   "metadata": {},
   "source": [
    "# power with mode (Iterative square method)\n",
    "\n",
    "実際には組み込み関数のpowを使った方が早い"
   ]
  },
  {
   "cell_type": "code",
   "execution_count": 25,
   "metadata": {},
   "outputs": [],
   "source": [
    "def mod_power(x,n):\n",
    "    if n==0:\n",
    "        return 1\n",
    "    elif n%2==0:\n",
    "        half=mod_power(x,n//2)\n",
    "        return half**2 %mod\n",
    "    else:\n",
    "        half=mod_power(x,(n-1)//2)\n",
    "        return  half**2 * x %mod"
   ]
  },
  {
   "cell_type": "code",
   "execution_count": 26,
   "metadata": {},
   "outputs": [],
   "source": [
    "mod=10**9+7\n",
    "n=10**9"
   ]
  },
  {
   "cell_type": "code",
   "execution_count": 27,
   "metadata": {},
   "outputs": [
    {
     "name": "stdout",
     "output_type": "stream",
     "text": [
      "CPU times: user 44 µs, sys: 0 ns, total: 44 µs\n",
      "Wall time: 48.9 µs\n"
     ]
    },
    {
     "data": {
      "text/plain": [
       "140625001"
      ]
     },
     "execution_count": 27,
     "metadata": {},
     "output_type": "execute_result"
    }
   ],
   "source": [
    "%%time\n",
    "mod_power(2,n)"
   ]
  },
  {
   "cell_type": "markdown",
   "metadata": {},
   "source": [
    "以下のように作ると内部でメモリを取りすぎるため遅くなる"
   ]
  },
  {
   "cell_type": "code",
   "execution_count": 32,
   "metadata": {},
   "outputs": [],
   "source": [
    "def mod_power_wrong(x,n):\n",
    "    if n==0:\n",
    "        return 1\n",
    "    elif n%2==0:\n",
    "        return mod_power_wrong(x**2,n//2) %mod\n",
    "    else:\n",
    "        return mod_power_wrong(x**2,(n-1)//2) *x %mod"
   ]
  },
  {
   "cell_type": "code",
   "execution_count": 33,
   "metadata": {},
   "outputs": [
    {
     "name": "stdout",
     "output_type": "stream",
     "text": [
      "CPU times: user 5.35 s, sys: 476 ms, total: 5.83 s\n",
      "Wall time: 5.85 s\n"
     ]
    },
    {
     "data": {
      "text/plain": [
       "140625001"
      ]
     },
     "execution_count": 33,
     "metadata": {},
     "output_type": "execute_result"
    }
   ],
   "source": [
    "%%time\n",
    "mod_power_wrong(2,n)"
   ]
  },
  {
   "cell_type": "markdown",
   "metadata": {},
   "source": [
    "# binomial with mod"
   ]
  },
  {
   "cell_type": "code",
   "execution_count": 34,
   "metadata": {},
   "outputs": [],
   "source": [
    "def mod_binomial(n,k):\n",
    "    x=1\n",
    "    y=1\n",
    "    for i in range(k):\n",
    "        x=x*(n-i)%mod\n",
    "        y=y*(i+1)%mod\n",
    "    return x*mod_power(y,mod-2)%mod"
   ]
  },
  {
   "cell_type": "code",
   "execution_count": 39,
   "metadata": {},
   "outputs": [
    {
     "name": "stdout",
     "output_type": "stream",
     "text": [
      "CPU times: user 13.2 ms, sys: 204 µs, total: 13.5 ms\n",
      "Wall time: 13.4 ms\n"
     ]
    },
    {
     "data": {
      "text/plain": [
       "793955857"
      ]
     },
     "execution_count": 39,
     "metadata": {},
     "output_type": "execute_result"
    }
   ],
   "source": [
    "%%time\n",
    "mod_binomial(n,31231)"
   ]
  },
  {
   "cell_type": "markdown",
   "metadata": {},
   "source": [
    "次のようにやるとちょっと遅い"
   ]
  },
  {
   "cell_type": "code",
   "execution_count": 47,
   "metadata": {},
   "outputs": [],
   "source": [
    "def mod_binomial_wrong(n,k):\n",
    "    x=1\n",
    "    y=1\n",
    "    for i in range(k):\n",
    "        x*=(n-i)%mod\n",
    "        y*=(i+1)%mod\n",
    "    return x*mod_power(y,mod-2)%mod"
   ]
  },
  {
   "cell_type": "code",
   "execution_count": 48,
   "metadata": {},
   "outputs": [
    {
     "name": "stdout",
     "output_type": "stream",
     "text": [
      "CPU times: user 675 ms, sys: 11.7 ms, total: 687 ms\n",
      "Wall time: 691 ms\n"
     ]
    },
    {
     "data": {
      "text/plain": [
       "793955857"
      ]
     },
     "execution_count": 48,
     "metadata": {},
     "output_type": "execute_result"
    }
   ],
   "source": [
    "%%time\n",
    "mod_binomial_wrong(n,31231)"
   ]
  },
  {
   "cell_type": "code",
   "execution_count": null,
   "metadata": {},
   "outputs": [],
   "source": []
  }
 ],
 "metadata": {
  "kernelspec": {
   "display_name": "Python 3",
   "language": "python",
   "name": "python3"
  },
  "language_info": {
   "codemirror_mode": {
    "name": "ipython",
    "version": 3
   },
   "file_extension": ".py",
   "mimetype": "text/x-python",
   "name": "python",
   "nbconvert_exporter": "python",
   "pygments_lexer": "ipython3",
   "version": "3.7.5"
  }
 },
 "nbformat": 4,
 "nbformat_minor": 2
}

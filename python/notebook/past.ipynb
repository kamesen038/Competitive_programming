{
 "cells": [
  {
   "cell_type": "code",
   "execution_count": 1,
   "metadata": {},
   "outputs": [],
   "source": [
    "from ipywidgets import Textarea\n",
    "import compe"
   ]
  },
  {
   "cell_type": "code",
   "execution_count": 2,
   "metadata": {},
   "outputs": [
    {
     "data": {
      "application/vnd.jupyter.widget-view+json": {
       "model_id": "0df4fd4d78d34f8c9a53ecd83df9ef17",
       "version_major": 2,
       "version_minor": 0
      },
      "text/plain": [
       "Textarea(value='')"
      ]
     },
     "metadata": {},
     "output_type": "display_data"
    }
   ],
   "source": [
    "open = compe.custom_open()\n",
    "input = compe.custom_input()\n",
    "\n",
    "text_area = Textarea()\n",
    "text_area.observe(open.updater, names='value')\n",
    "display(text_area)"
   ]
  },
  {
   "cell_type": "code",
   "execution_count": 54,
   "metadata": {},
   "outputs": [],
   "source": []
  },
  {
   "cell_type": "code",
   "execution_count": 85,
   "metadata": {},
   "outputs": [
    {
     "ename": "SyntaxError",
     "evalue": "invalid syntax (<ipython-input-85-04c0ff59b6e9>, line 42)",
     "output_type": "error",
     "traceback": [
      "\u001b[0;36m  File \u001b[0;32m\"<ipython-input-85-04c0ff59b6e9>\"\u001b[0;36m, line \u001b[0;32m42\u001b[0m\n\u001b[0;31m    elif:\u001b[0m\n\u001b[0m        ^\u001b[0m\n\u001b[0;31mSyntaxError\u001b[0m\u001b[0;31m:\u001b[0m invalid syntax\n"
     ]
    }
   ],
   "source": [
    "import copy\n",
    "import numpy as np\n",
    "N=int(input())\n",
    "Q=int(input())\n",
    "\n",
    "row=np.array([i for i in range(N+1)])\n",
    "column=np.array([i for i in range(N+1)])\n",
    "trans=0\n",
    "ans=[]\n",
    "for _ in range(Q):\n",
    "    query=list(map(int,input().split()))\n",
    "    \n",
    "#     print(\"row\",row)\n",
    "#     print(\"column\",column)\n",
    "#     print(\"query\",query)\n",
    "    if flag==0:\n",
    "        if query[0]==1:\n",
    "            tmp=row[query[1]]\n",
    "            row[query[1]]=row[query[2]]\n",
    "            row[query[2]]=tmp\n",
    "        elif query[0]==2:\n",
    "            tmp=column[query[1]]\n",
    "            column[query[1]]=column[query[2]]\n",
    "            column[query[2]]=tmp\n",
    "        elif query[0]==3:\n",
    "            trans=(trans+1)%2\n",
    "        else:\n",
    "            if trans==0:\n",
    "                print(N*(row[query[1]]-1)+column[query[2]]-1)\n",
    "            else:\n",
    "#             print(\"trans\")\n",
    "                print(N*(column[query[2]]-1)+row[query[1]]-1)\n",
    "    else:\n",
    "        if query[0]==2:\n",
    "            tmp=row[query[1]]\n",
    "            row[query[1]]=row[query[2]]\n",
    "            row[query[2]]=tmp\n",
    "        elif query[0]==1:\n",
    "            tmp=column[query[1]]\n",
    "            column[query[1]]=column[query[2]]\n",
    "            column[query[2]]=tmp\n",
    "        elif:\n",
    "            elif query[0]==3:\n",
    "            trans=(trans+1)%\n",
    "\n",
    "#         tmp2=np.copy(row)\n",
    "# #         print(\"tmp\",tmp2)\n",
    "#         row=np.copy(column)\n",
    "#         column=np.copy(tmp2)\n",
    "        else:\n",
    "            if trans==0:\n",
    "                print(N*(row[query[1]]-1)+column[query[2]]-1)\n",
    "            else:\n",
    "    #             print(\"trans\")\n",
    "                print(N*(column[query[2]]-1)+row[query[1]]-1)\n",
    "\n",
    "\n",
    "\n"
   ]
  },
  {
   "cell_type": "code",
   "execution_count": 72,
   "metadata": {},
   "outputs": [],
   "source": [
    "A=[1,2,3]\n",
    "B=[5,6,7]"
   ]
  },
  {
   "cell_type": "code",
   "execution_count": 66,
   "metadata": {},
   "outputs": [],
   "source": [
    "C=copy.copy(A)"
   ]
  },
  {
   "cell_type": "code",
   "execution_count": 67,
   "metadata": {},
   "outputs": [],
   "source": [
    "B=copy.copy(A)"
   ]
  },
  {
   "cell_type": "code",
   "execution_count": null,
   "metadata": {},
   "outputs": [],
   "source": []
  },
  {
   "cell_type": "code",
   "execution_count": 69,
   "metadata": {},
   "outputs": [
    {
     "data": {
      "text/plain": [
       "[1, 2, 3]"
      ]
     },
     "execution_count": 69,
     "metadata": {},
     "output_type": "execute_result"
    }
   ],
   "source": [
    "B"
   ]
  },
  {
   "cell_type": "code",
   "execution_count": 14,
   "metadata": {},
   "outputs": [
    {
     "name": "stdout",
     "output_type": "stream",
     "text": [
      "164\n"
     ]
    }
   ],
   "source": [
    "N,L = map(int,input().split())\n",
    "X=list(map(int,input().split()))\n",
    "T=list(map(int,input().split()))\n",
    "\n",
    "dp=[max(T)*L for _ in range(L+4)]\n",
    "dp[0]=0\n",
    "# print(X)\n",
    "x=X.pop(0)\n",
    "for i in range(L):\n",
    "    dp[i+1] = min(dp[i+1],dp[i]+(T[0]+T[2] if i ==x else T[0]))\n",
    "    dp[i+2] = min(dp[i+2],dp[i]+(T[0]+T[2] if i ==x else T[0])+T[1])\n",
    "    dp[i+4] = min(dp[i+4],dp[i]+(T[0]+T[2] if i ==x else T[0])+3*T[1])\n",
    "    if i==x and X!=[]:\n",
    "        x=X.pop(0)\n",
    "\n",
    "ans=min(dp[L], dp[L+1]-T[0]//2-T[1]//2, dp[L+2]-T[0]//2-T[1]//2-T[1], dp[L+3]-T[0]//2-T[1]//2-2*T[1])\n",
    "\n",
    "print(ans)"
   ]
  },
  {
   "cell_type": "code",
   "execution_count": 8,
   "metadata": {},
   "outputs": [
    {
     "data": {
      "text/plain": [
       "1"
      ]
     },
     "execution_count": 8,
     "metadata": {},
     "output_type": "execute_result"
    }
   ],
   "source": []
  },
  {
   "cell_type": "code",
   "execution_count": null,
   "metadata": {},
   "outputs": [],
   "source": []
  },
  {
   "cell_type": "code",
   "execution_count": null,
   "metadata": {},
   "outputs": [],
   "source": []
  },
  {
   "cell_type": "code",
   "execution_count": null,
   "metadata": {},
   "outputs": [],
   "source": []
  },
  {
   "cell_type": "code",
   "execution_count": 21,
   "metadata": {},
   "outputs": [],
   "source": [
    "INF=10**6\n",
    "d=[[0 for j in range(N)] for i in range(N)]"
   ]
  },
  {
   "cell_type": "code",
   "execution_count": 22,
   "metadata": {},
   "outputs": [],
   "source": [
    "N,X,Y = map(int,input().split())\n",
    "maze=[]\n",
    "for _ in range(N):\n",
    "    maze.append(list(map(int,input().split())))"
   ]
  },
  {
   "cell_type": "code",
   "execution_count": 31,
   "metadata": {},
   "outputs": [],
   "source": [
    "dx=[1,0,-1,1,-1,0]\n",
    "dy=[1,1,1,0,0,-1]\n",
    "sx=0\n",
    "sy=0\n",
    "gx=X\n",
    "gy=Y"
   ]
  },
  {
   "cell_type": "code",
   "execution_count": 32,
   "metadata": {},
   "outputs": [],
   "source": [
    "def bfs():\n",
    "    que=[]\n",
    "    for i in range(N):\n",
    "        for j in range(N):\n",
    "            d[i][j]=INF\n",
    "#     print(d)       \n",
    "    que.append([sx,sy])\n",
    "    d[sx][sy]=0\n",
    "#     print(d)  \n",
    "    while(len(que)>0):\n",
    "        p=que.pop(0)\n",
    "        if p[0]==gx and p[1]==gy:\n",
    "            break\n",
    "        for i in range(4):\n",
    "            nx=p[0]+dx[i]\n",
    "            ny=p[1]+dy[i]\n",
    "#             print(nx,ny, maze[nx][ny], d[nx][ny] )\n",
    "            if check_maze(nx,ny) and d[nx][ny]==INF:\n",
    "\n",
    "                que.append([nx,ny])\n",
    "                d[nx][ny]=d[p[0]][p[1]]+1\n",
    "\n",
    "    return d[gx][gy]\n",
    "        "
   ]
  },
  {
   "cell_type": "code",
   "execution_count": 33,
   "metadata": {},
   "outputs": [],
   "source": [
    "def check_maze(x,y):\n",
    "    ans=True\n",
    "    for i in range(N):\n",
    "        if x==maze[i][0] and y==maze[i][1]:\n",
    "            ans=False\n",
    "            break\n",
    "    return ans"
   ]
  },
  {
   "cell_type": "code",
   "execution_count": 34,
   "metadata": {},
   "outputs": [
    {
     "ename": "IndexError",
     "evalue": "list index out of range",
     "output_type": "error",
     "traceback": [
      "\u001b[0;31m---------------------------------------------------------------------------\u001b[0m",
      "\u001b[0;31mIndexError\u001b[0m                                Traceback (most recent call last)",
      "\u001b[0;32m<ipython-input-34-baf3582eba37>\u001b[0m in \u001b[0;36m<module>\u001b[0;34m\u001b[0m\n\u001b[0;32m----> 1\u001b[0;31m \u001b[0mbfs\u001b[0m\u001b[0;34m(\u001b[0m\u001b[0;34m)\u001b[0m\u001b[0;34m\u001b[0m\u001b[0;34m\u001b[0m\u001b[0m\n\u001b[0m",
      "\u001b[0;32m<ipython-input-32-f794bd580481>\u001b[0m in \u001b[0;36mbfs\u001b[0;34m()\u001b[0m\n\u001b[1;32m     16\u001b[0m             \u001b[0mny\u001b[0m\u001b[0;34m=\u001b[0m\u001b[0mp\u001b[0m\u001b[0;34m[\u001b[0m\u001b[0;36m1\u001b[0m\u001b[0;34m]\u001b[0m\u001b[0;34m+\u001b[0m\u001b[0mdy\u001b[0m\u001b[0;34m[\u001b[0m\u001b[0mi\u001b[0m\u001b[0;34m]\u001b[0m\u001b[0;34m\u001b[0m\u001b[0;34m\u001b[0m\u001b[0m\n\u001b[1;32m     17\u001b[0m \u001b[0;31m#             print(nx,ny, maze[nx][ny], d[nx][ny] )\u001b[0m\u001b[0;34m\u001b[0m\u001b[0;34m\u001b[0m\u001b[0;34m\u001b[0m\u001b[0m\n\u001b[0;32m---> 18\u001b[0;31m             \u001b[0;32mif\u001b[0m \u001b[0mcheck_maze\u001b[0m\u001b[0;34m(\u001b[0m\u001b[0mnx\u001b[0m\u001b[0;34m,\u001b[0m\u001b[0mny\u001b[0m\u001b[0;34m)\u001b[0m \u001b[0;32mand\u001b[0m \u001b[0md\u001b[0m\u001b[0;34m[\u001b[0m\u001b[0mnx\u001b[0m\u001b[0;34m]\u001b[0m\u001b[0;34m[\u001b[0m\u001b[0mny\u001b[0m\u001b[0;34m]\u001b[0m\u001b[0;34m==\u001b[0m\u001b[0mINF\u001b[0m\u001b[0;34m:\u001b[0m\u001b[0;34m\u001b[0m\u001b[0;34m\u001b[0m\u001b[0m\n\u001b[0m\u001b[1;32m     19\u001b[0m \u001b[0;34m\u001b[0m\u001b[0m\n\u001b[1;32m     20\u001b[0m                 \u001b[0mque\u001b[0m\u001b[0;34m.\u001b[0m\u001b[0mappend\u001b[0m\u001b[0;34m(\u001b[0m\u001b[0;34m[\u001b[0m\u001b[0mnx\u001b[0m\u001b[0;34m,\u001b[0m\u001b[0mny\u001b[0m\u001b[0;34m]\u001b[0m\u001b[0;34m)\u001b[0m\u001b[0;34m\u001b[0m\u001b[0;34m\u001b[0m\u001b[0m\n",
      "\u001b[0;31mIndexError\u001b[0m: list index out of range"
     ]
    }
   ],
   "source": [
    "bfs()"
   ]
  },
  {
   "cell_type": "code",
   "execution_count": null,
   "metadata": {},
   "outputs": [],
   "source": []
  },
  {
   "cell_type": "code",
   "execution_count": 248,
   "metadata": {},
   "outputs": [
    {
     "name": "stdout",
     "output_type": "stream",
     "text": [
      "abcba\n"
     ]
    }
   ],
   "source": [
    "N=int(input())\n",
    "A=[]\n",
    "for _ in range(N):\n",
    "    A.append(list(input()))\n",
    "\n",
    "ans=\"\"\n",
    "flag=0\n",
    "if N==1:\n",
    "    print(A[0][0])\n",
    "else:\n",
    "    for i in range(N//2):\n",
    "        s=list(set(A[i]) & set(A[N-1-i]))\n",
    "        if s!=[]:\n",
    "            ans+=s[0]\n",
    "        else:\n",
    "            flag=1\n",
    "            break\n",
    "    if flag==0:\n",
    "        if N%2==0:\n",
    "    #         print(0)\n",
    "            for i in range(N//2):\n",
    "                ans+=ans[N//2-1-i]\n",
    "        else:\n",
    "    #         print(1)\n",
    "            tmp=\"\"\n",
    "            for i in range(N//2):\n",
    "                tmp+=ans[N//2-1-i]\n",
    "            ans+=A[N//2][0]\n",
    "            ans+=tmp\n",
    "        print(ans)\n",
    "    else:\n",
    "        print(-1)"
   ]
  },
  {
   "cell_type": "code",
   "execution_count": 247,
   "metadata": {},
   "outputs": [
    {
     "data": {
      "text/plain": [
       "3"
      ]
     },
     "execution_count": 247,
     "metadata": {},
     "output_type": "execute_result"
    }
   ],
   "source": [
    "N//2+1"
   ]
  },
  {
   "cell_type": "code",
   "execution_count": 240,
   "metadata": {},
   "outputs": [
    {
     "data": {
      "text/plain": [
       "3"
      ]
     },
     "execution_count": 240,
     "metadata": {},
     "output_type": "execute_result"
    }
   ],
   "source": [
    "3"
   ]
  },
  {
   "cell_type": "code",
   "execution_count": null,
   "metadata": {},
   "outputs": [],
   "source": []
  },
  {
   "cell_type": "code",
   "execution_count": 169,
   "metadata": {},
   "outputs": [
    {
     "name": "stdout",
     "output_type": "stream",
     "text": [
      "18\n",
      "19\n",
      "37\n",
      "29\n",
      "8\n",
      "24\n",
      "18\n",
      "25\n",
      "46\n",
      "10\n",
      "18\n",
      "42\n",
      "23\n",
      "4\n",
      "17\n",
      "8\n",
      "24\n",
      "7\n",
      "25\n",
      "16\n"
     ]
    }
   ],
   "source": [
    "import numpy as np\n",
    "N,M,Q = map(int,input().split())\n",
    "graph=[[] for _ in range(N)]\n",
    "for _ in range(M):\n",
    "    a,b = map(int,input().split())\n",
    "    graph[a-1].append(b-1)\n",
    "    graph[b-1].append(a-1)\n",
    "C= list(map(int,input().split()))\n",
    "C=np.array(C)\n",
    "# print(C)\n",
    "for _ in range(Q):\n",
    "    query=list(map(int,input().split()))\n",
    "#     print(\"query: \",query)\n",
    "    if query[0]==1:\n",
    "        print(C[query[1]-1])\n",
    "        C[graph[query[1]-1]]=C[query[1]-1]\n",
    "    else:\n",
    "        print(C[query[1]-1])\n",
    "        C[query[1]-1]=query[2]\n",
    "#     print(C)"
   ]
  },
  {
   "cell_type": "code",
   "execution_count": 161,
   "metadata": {},
   "outputs": [
    {
     "data": {
      "text/plain": [
       "[[1], [0, 2], [1]]"
      ]
     },
     "execution_count": 161,
     "metadata": {},
     "output_type": "execute_result"
    }
   ],
   "source": [
    "graph"
   ]
  },
  {
   "cell_type": "code",
   "execution_count": null,
   "metadata": {},
   "outputs": [],
   "source": []
  },
  {
   "cell_type": "code",
   "execution_count": null,
   "metadata": {},
   "outputs": [],
   "source": []
  },
  {
   "cell_type": "code",
   "execution_count": null,
   "metadata": {},
   "outputs": [],
   "source": []
  },
  {
   "cell_type": "code",
   "execution_count": 156,
   "metadata": {},
   "outputs": [
    {
     "name": "stdout",
     "output_type": "stream",
     "text": [
      "0123456789\n"
     ]
    }
   ],
   "source": [
    "import numpy as np\n",
    "N=int(input())\n",
    "S=[]\n",
    "for _ in range(5):\n",
    "    S.append(list(input()))\n",
    "S=np.array(S)\n",
    "\n",
    "S_base=np.array([list(\".###..#..###.###.#.#.###.###.###.###.###.\"),\n",
    "list(\".#.#.##....#...#.#.#.#...#.....#.#.#.#.#.\"),\n",
    "list(\".#.#..#..###.###.###.###.###...#.###.###.\"),\n",
    "list(\".#.#..#..#.....#...#...#.#.#...#.#.#...#.\"),\n",
    "list(\".###.###.###.###...#.###.###...#.###.###.\")])\n",
    "\n",
    "def denko_number(i,s):\n",
    "    return s[:,4*i:4*(i+1)]\n",
    "\n",
    "def real_number(j,S):\n",
    "    for i in range(10):\n",
    "        if (denko_number(j,S)==denko_number(i,S_base)).all():\n",
    "            break\n",
    "    return i\n",
    "\n",
    "ans=\"\"\n",
    "for i in range(N):\n",
    "    ans+=str(real_number(i,S))\n",
    "print(ans)"
   ]
  },
  {
   "cell_type": "code",
   "execution_count": null,
   "metadata": {},
   "outputs": [],
   "source": []
  },
  {
   "cell_type": "code",
   "execution_count": null,
   "metadata": {},
   "outputs": [],
   "source": []
  },
  {
   "cell_type": "code",
   "execution_count": 80,
   "metadata": {},
   "outputs": [
    {
     "name": "stdout",
     "output_type": "stream",
     "text": [
      "large\n"
     ]
    }
   ],
   "source": [
    "import numpy as np\n",
    "A,R,N = map(int,input().split())\n",
    "b=10**9\n",
    "ans=A*np.power(R,N-1)\n",
    "if ans>b or ans <=0:\n",
    "    print(\"large\")\n",
    "else:\n",
    "    print(ans)"
   ]
  },
  {
   "cell_type": "code",
   "execution_count": 79,
   "metadata": {},
   "outputs": [
    {
     "data": {
      "text/plain": [
       "0"
      ]
     },
     "execution_count": 79,
     "metadata": {},
     "output_type": "execute_result"
    }
   ],
   "source": [
    "np.power(R,54)"
   ]
  },
  {
   "cell_type": "code",
   "execution_count": null,
   "metadata": {},
   "outputs": [],
   "source": []
  },
  {
   "cell_type": "code",
   "execution_count": null,
   "metadata": {},
   "outputs": [],
   "source": []
  },
  {
   "cell_type": "code",
   "execution_count": 62,
   "metadata": {},
   "outputs": [
    {
     "name": "stdout",
     "output_type": "stream",
     "text": [
      "0\n",
      "4\n",
      "3\n",
      "0\n",
      "3\n",
      "10\n",
      "9\n",
      "4\n",
      "4\n",
      "4\n",
      "0\n",
      "0\n",
      "9\n",
      "3\n",
      "9\n",
      "0\n",
      "3\n"
     ]
    }
   ],
   "source": [
    "import numpy as np\n",
    "N,M,Q = map(int,input().split())\n",
    "points=[N for _ in range(N)]\n",
    "points=np.array(points)\n",
    "solve=[[] for _ in range(N)]\n",
    "for i in range(Q):\n",
    "#     print(points)\n",
    "    S=list(map(int,input().split()))\n",
    "    if S[0]==2:\n",
    "        points[S[2]-1]-=1\n",
    "        solve[S[1]-1].append(S[2]-1)\n",
    "    else:\n",
    "        print(sum(points[solve[S[1]-1]]))"
   ]
  },
  {
   "cell_type": "code",
   "execution_count": 41,
   "metadata": {},
   "outputs": [],
   "source": [
    "solve=[[] for _ in range(N)]"
   ]
  },
  {
   "cell_type": "code",
   "execution_count": 51,
   "metadata": {},
   "outputs": [
    {
     "ename": "TypeError",
     "evalue": "'numpy.ndarray' object is not callable",
     "output_type": "error",
     "traceback": [
      "\u001b[0;31m---------------------------------------------------------------------------\u001b[0m",
      "\u001b[0;31mTypeError\u001b[0m                                 Traceback (most recent call last)",
      "\u001b[0;32m<ipython-input-51-2ddbc0a256ee>\u001b[0m in \u001b[0;36m<module>\u001b[0;34m\u001b[0m\n\u001b[0;32m----> 1\u001b[0;31m \u001b[0mpoints\u001b[0m\u001b[0;34m(\u001b[0m\u001b[0;34m[\u001b[0m\u001b[0;34m]\u001b[0m\u001b[0;34m)\u001b[0m\u001b[0;34m\u001b[0m\u001b[0;34m\u001b[0m\u001b[0m\n\u001b[0m",
      "\u001b[0;31mTypeError\u001b[0m: 'numpy.ndarray' object is not callable"
     ]
    }
   ],
   "source": [
    "points([])"
   ]
  },
  {
   "cell_type": "code",
   "execution_count": 43,
   "metadata": {},
   "outputs": [
    {
     "data": {
      "text/plain": [
       "[[], [1]]"
      ]
     },
     "execution_count": 43,
     "metadata": {},
     "output_type": "execute_result"
    }
   ],
   "source": [
    "solve"
   ]
  },
  {
   "cell_type": "code",
   "execution_count": 30,
   "metadata": {},
   "outputs": [
    {
     "data": {
      "text/plain": [
       "[[1], []]"
      ]
     },
     "execution_count": 30,
     "metadata": {},
     "output_type": "execute_result"
    }
   ],
   "source": [
    "solve"
   ]
  },
  {
   "cell_type": "code",
   "execution_count": null,
   "metadata": {},
   "outputs": [],
   "source": []
  },
  {
   "cell_type": "code",
   "execution_count": null,
   "metadata": {},
   "outputs": [],
   "source": []
  },
  {
   "cell_type": "code",
   "execution_count": 10,
   "metadata": {},
   "outputs": [],
   "source": [
    "s=input()\n",
    "t=input()\n",
    "\n",
    "if s==t:\n",
    "    print(\"same\")\n",
    "elif str.upper(s)==str.upper(t):\n",
    "    print(\"case-insensitive\")\n",
    "else:\n",
    "    print(\"different\")\n",
    "\n"
   ]
  }
 ],
 "metadata": {
  "kernelspec": {
   "display_name": "Python 3",
   "language": "python",
   "name": "python3"
  },
  "language_info": {
   "codemirror_mode": {
    "name": "ipython",
    "version": 3
   },
   "file_extension": ".py",
   "mimetype": "text/x-python",
   "name": "python",
   "nbconvert_exporter": "python",
   "pygments_lexer": "ipython3",
   "version": "3.7.5"
  }
 },
 "nbformat": 4,
 "nbformat_minor": 4
}

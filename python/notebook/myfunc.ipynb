{
 "cells": [
  {
   "cell_type": "markdown",
   "metadata": {},
   "source": [
    "# テストケースの標準入力を簡単にする方法\n",
    "https://qiita.com/noca/items/00646efd9d4a7302f522"
   ]
  },
  {
   "cell_type": "code",
   "execution_count": 8,
   "metadata": {},
   "outputs": [
    {
     "data": {
      "application/vnd.jupyter.widget-view+json": {
       "model_id": "80eb457f4aeb401cbcbd3960bf7a3247",
       "version_major": 2,
       "version_minor": 0
      },
      "text/plain": [
       "Textarea(value='')"
      ]
     },
     "metadata": {},
     "output_type": "display_data"
    }
   ],
   "source": [
    "from ipywidgets import Textarea\n",
    "import io\n",
    "\n",
    "if 'open' in globals():\n",
    "    del open\n",
    "if 'input' in globals():\n",
    "    del input\n",
    "\n",
    "original_open = open\n",
    "\n",
    "class custom_open():\n",
    "    def __init__(self):\n",
    "        self.text = ''\n",
    "\n",
    "    def __call__(self, file, *args, **kwargs):\n",
    "        if file == 0:\n",
    "            return io.StringIO(self.text)\n",
    "        return original_open(file, *args, **kwargs)\n",
    "\n",
    "    def updater(self, change):\n",
    "        self.text = change[\"new\"]\n",
    "\n",
    "class custom_input():\n",
    "    def __init__(self):\n",
    "        self.__sio = io.StringIO('')\n",
    "        self.shell = get_ipython()\n",
    "        if self.shell.events.callbacks['pre_run_cell'] != []:\n",
    "            self.shell.events.callbacks['pre_run_cell'] = []\n",
    "        self.shell.events.register('pre_run_cell', self.pre_run_cell)\n",
    "\n",
    "    def __call__(self):\n",
    "        return self.__sio.readline().strip()\n",
    "\n",
    "    def pre_run_cell(self, info):\n",
    "        text = self.shell.user_ns.get('text_area', None).value\n",
    "        self.__sio = io.StringIO(text)\n",
    "\n",
    "open = custom_open()\n",
    "input = custom_input()\n",
    "\n",
    "text_area = Textarea()\n",
    "text_area.observe(open.updater, names='value')\n",
    "display(text_area)"
   ]
  },
  {
   "cell_type": "markdown",
   "metadata": {},
   "source": [
    "## 使い方\n",
    "上のボックスに入力例を代入するだけ\n",
    "inputとopenが再定義されるので例えばもとのopenに戻したいときは\n",
    "```\n",
    "del open\n",
    "```\n",
    "を実行する"
   ]
  },
  {
   "cell_type": "code",
   "execution_count": 27,
   "metadata": {},
   "outputs": [
    {
     "name": "stdout",
     "output_type": "stream",
     "text": [
      "10 10 3\n",
      "\n",
      "1 5\n",
      "\n",
      "3 6\n",
      "\n",
      "7 10\n",
      "\n",
      "5 8\n",
      "\n",
      "4 4\n",
      "\n",
      "1 4\n",
      "\n",
      "2 9\n",
      "\n",
      "1 3\n",
      "\n",
      "1 1\n",
      "\n",
      "4 5\n",
      "\n",
      "1 6\n",
      "\n",
      "2 7\n",
      "\n",
      "10 1\n"
     ]
    }
   ],
   "source": [
    "for s in open(0):\n",
    "    print(s)"
   ]
  },
  {
   "cell_type": "code",
   "execution_count": 29,
   "metadata": {},
   "outputs": [
    {
     "data": {
      "text/plain": [
       "<_io.StringIO at 0x10cc7a5e8>"
      ]
     },
     "execution_count": 29,
     "metadata": {},
     "output_type": "execute_result"
    }
   ],
   "source": [
    "open(0)"
   ]
  },
  {
   "cell_type": "code",
   "execution_count": 30,
   "metadata": {},
   "outputs": [],
   "source": [
    "D = open(0).read()"
   ]
  },
  {
   "cell_type": "code",
   "execution_count": 31,
   "metadata": {},
   "outputs": [
    {
     "data": {
      "text/plain": [
       "'10 10 3\\n1 5\\n3 6\\n7 10\\n5 8\\n4 4\\n1 4\\n2 9\\n1 3\\n1 1\\n4 5\\n1 6\\n2 7\\n10 1'"
      ]
     },
     "execution_count": 31,
     "metadata": {},
     "output_type": "execute_result"
    }
   ],
   "source": [
    "D"
   ]
  },
  {
   "cell_type": "code",
   "execution_count": 32,
   "metadata": {},
   "outputs": [
    {
     "name": "stdout",
     "output_type": "stream",
     "text": [
      "10 10 3\n",
      "1 5\n",
      "3 6\n",
      "7 10\n",
      "5 8\n",
      "4 4\n",
      "1 4\n",
      "2 9\n",
      "1 3\n",
      "1 1\n",
      "4 5\n",
      "1 6\n",
      "2 7\n",
      "10 1\n"
     ]
    }
   ],
   "source": [
    "print(D)"
   ]
  },
  {
   "cell_type": "code",
   "execution_count": 26,
   "metadata": {},
   "outputs": [
    {
     "data": {
      "text/plain": [
       "str"
      ]
     },
     "execution_count": 26,
     "metadata": {},
     "output_type": "execute_result"
    }
   ],
   "source": [
    "type(D[0][0])"
   ]
  },
  {
   "cell_type": "code",
   "execution_count": 13,
   "metadata": {},
   "outputs": [],
   "source": [
    "(W, H, N), *D, = [list(map(int, s.split())) for s in open(0)]"
   ]
  },
  {
   "cell_type": "code",
   "execution_count": 14,
   "metadata": {},
   "outputs": [
    {
     "name": "stdout",
     "output_type": "stream",
     "text": [
      "10 10 3\n"
     ]
    }
   ],
   "source": [
    "print(W,H,N)"
   ]
  },
  {
   "cell_type": "code",
   "execution_count": 15,
   "metadata": {},
   "outputs": [
    {
     "name": "stdout",
     "output_type": "stream",
     "text": [
      "[[1, 5], [3, 6], [7, 10], [5, 8], [4, 4], [1, 4], [2, 9], [1, 3], [1, 1], [4, 5], [1, 6], [2, 7], [10, 1]]\n"
     ]
    }
   ],
   "source": [
    "print(D)"
   ]
  },
  {
   "cell_type": "code",
   "execution_count": 16,
   "metadata": {},
   "outputs": [
    {
     "data": {
      "text/plain": [
       "int"
      ]
     },
     "execution_count": 16,
     "metadata": {},
     "output_type": "execute_result"
    }
   ],
   "source": [
    "type(D[0][0])"
   ]
  },
  {
   "cell_type": "code",
   "execution_count": null,
   "metadata": {},
   "outputs": [],
   "source": []
  },
  {
   "cell_type": "code",
   "execution_count": null,
   "metadata": {},
   "outputs": [],
   "source": []
  },
  {
   "cell_type": "code",
   "execution_count": null,
   "metadata": {},
   "outputs": [],
   "source": []
  },
  {
   "cell_type": "markdown",
   "metadata": {},
   "source": [
    "# 二分探索"
   ]
  },
  {
   "cell_type": "code",
   "execution_count": 1,
   "metadata": {},
   "outputs": [],
   "source": [
    "def binary_search(array,element):\n",
    "    #array must be sorted\n",
    "    n=len(array)\n",
    "    l=0\n",
    "    r=n\n",
    "    while(r-l>=1):\n",
    "        i=(l+r)//2\n",
    "#         print(array[i],l,i,r)\n",
    "        if element == array[i]:\n",
    "            return True\n",
    "           \n",
    "        elif element > array[i]:\n",
    "            l=i+1\n",
    "        else:\n",
    "            r=i\n",
    "        \n",
    "    \n",
    "#         if jf==ji:\n",
    "#             break\n",
    "#     print(l,i,r)\n",
    "    return False    "
   ]
  },
  {
   "cell_type": "markdown",
   "metadata": {},
   "source": [
    "## example"
   ]
  },
  {
   "cell_type": "code",
   "execution_count": 8,
   "metadata": {},
   "outputs": [],
   "source": [
    "a=[1,2,3,4,5,7,8,9,10]"
   ]
  },
  {
   "cell_type": "code",
   "execution_count": 10,
   "metadata": {},
   "outputs": [
    {
     "data": {
      "text/plain": [
       "False"
      ]
     },
     "execution_count": 10,
     "metadata": {},
     "output_type": "execute_result"
    }
   ],
   "source": [
    "# array must be sorted\n",
    "binary_search(a,6)"
   ]
  },
  {
   "cell_type": "markdown",
   "metadata": {},
   "source": [
    "## 二分探索その２"
   ]
  },
  {
   "cell_type": "code",
   "execution_count": 26,
   "metadata": {},
   "outputs": [],
   "source": [
    "n=5\n",
    "a=[1,1,1,1,1,2,3,3,5,6]\n",
    "k=2"
   ]
  },
  {
   "cell_type": "code",
   "execution_count": 27,
   "metadata": {},
   "outputs": [],
   "source": [
    "\n",
    "#array must be sorted\n",
    "n=len(a)\n",
    "lb=-1\n",
    "ub=n\n",
    "while(ub-lb>1):\n",
    "    mid=(lb+ub)//2\n",
    "    if a[mid]>=k:\n",
    "        ub=mid\n",
    "    else:\n",
    "        lb=mid\n",
    "\n",
    "\n"
   ]
  },
  {
   "cell_type": "code",
   "execution_count": 28,
   "metadata": {},
   "outputs": [
    {
     "data": {
      "text/plain": [
       "2"
      ]
     },
     "execution_count": 28,
     "metadata": {},
     "output_type": "execute_result"
    }
   ],
   "source": [
    "a[ub]"
   ]
  },
  {
   "cell_type": "markdown",
   "metadata": {},
   "source": [
    "# 浮動小数点数"
   ]
  },
  {
   "cell_type": "code",
   "execution_count": 5,
   "metadata": {},
   "outputs": [],
   "source": [
    "import math\n",
    "def my_round(x, d=0):\n",
    "    p = 10 ** d\n",
    "    return float(math.floor((x * p) + math.copysign(0.5, x)))/p"
   ]
  },
  {
   "cell_type": "markdown",
   "metadata": {},
   "source": [
    "## example\n",
    "- pythonは桁の丸め方が変(roundは四捨五入の関数)"
   ]
  },
  {
   "cell_type": "code",
   "execution_count": 12,
   "metadata": {},
   "outputs": [
    {
     "data": {
      "text/plain": [
       "2"
      ]
     },
     "execution_count": 12,
     "metadata": {},
     "output_type": "execute_result"
    }
   ],
   "source": [
    "round(1.5)"
   ]
  },
  {
   "cell_type": "code",
   "execution_count": 11,
   "metadata": {},
   "outputs": [
    {
     "data": {
      "text/plain": [
       "2"
      ]
     },
     "execution_count": 11,
     "metadata": {},
     "output_type": "execute_result"
    }
   ],
   "source": [
    "round(2.5)"
   ]
  },
  {
   "cell_type": "code",
   "execution_count": 7,
   "metadata": {},
   "outputs": [
    {
     "data": {
      "text/plain": [
       "0.44"
      ]
     },
     "execution_count": 7,
     "metadata": {},
     "output_type": "execute_result"
    }
   ],
   "source": [
    "my_round(0.44444,2)"
   ]
  },
  {
   "cell_type": "code",
   "execution_count": 9,
   "metadata": {},
   "outputs": [
    {
     "data": {
      "text/plain": [
       "False"
      ]
     },
     "execution_count": 9,
     "metadata": {},
     "output_type": "execute_result"
    }
   ],
   "source": [
    "0.3-0.1==0.2"
   ]
  },
  {
   "cell_type": "code",
   "execution_count": 16,
   "metadata": {},
   "outputs": [
    {
     "name": "stdout",
     "output_type": "stream",
     "text": [
      "0.10000000000000000555\n"
     ]
    }
   ],
   "source": [
    "print(format(0.1, '.20f'))"
   ]
  },
  {
   "cell_type": "code",
   "execution_count": 17,
   "metadata": {},
   "outputs": [
    {
     "name": "stdout",
     "output_type": "stream",
     "text": [
      "0.20000000000000001110\n"
     ]
    }
   ],
   "source": [
    "print(format(0.2, '.20f'))"
   ]
  },
  {
   "cell_type": "code",
   "execution_count": 18,
   "metadata": {},
   "outputs": [
    {
     "name": "stdout",
     "output_type": "stream",
     "text": [
      "0.29999999999999998890\n"
     ]
    }
   ],
   "source": [
    "print(format(0.3, '.20f'))"
   ]
  },
  {
   "cell_type": "markdown",
   "metadata": {},
   "source": [
    "# 深さ優先探索"
   ]
  },
  {
   "cell_type": "code",
   "execution_count": 3,
   "metadata": {},
   "outputs": [],
   "source": [
    "def dfs(x,y):\n",
    "\n",
    "    field[x][y]='.'\n",
    "\n",
    "    \n",
    "    for dx in [-1,0,1]:\n",
    "        for dy in [-1,0,1]:\n",
    "            nx=x+dx\n",
    "            ny=y+dy\n",
    "            \n",
    "            if 0<=nx and nx<N and 0 <=ny and ny <M and field[nx][ny]=='W':\n",
    "                dfs(nx,ny)\n",
    "    return\n",
    "    "
   ]
  },
  {
   "cell_type": "markdown",
   "metadata": {},
   "source": [
    "## example"
   ]
  },
  {
   "cell_type": "code",
   "execution_count": 1,
   "metadata": {},
   "outputs": [],
   "source": [
    "N=10\n",
    "M=12"
   ]
  },
  {
   "cell_type": "code",
   "execution_count": 2,
   "metadata": {},
   "outputs": [],
   "source": [
    "field=[['W','.','.','.','.','.','.','.','.','W','W','.'],\n",
    "       ['.','W','W','W','.','.','.','.','.','W','W','W'],\n",
    "       ['.','.','.','.','W','W','.','.','.','W','W','.'],\n",
    "       ['.','.','.','.','.','.','.','.','.','W','W','.'],\n",
    "       ['.','.','.','.','.','.','.','.','.','W','.','.'],\n",
    "       ['.','.','W','.','.','.','.','.','.','W','W','.'],\n",
    "       ['.','W','.','W','.','.','.','.','.','.','W','.'],\n",
    "       ['W','.','W','.','W','.','.','.','.','.','W','.'],\n",
    "       ['.','W','.','W','.','.','.','.','.','.','W','.'],\n",
    "       ['.','.','W','.','.','.','.','.','.','.','W','.'],\n",
    "      ]"
   ]
  },
  {
   "cell_type": "code",
   "execution_count": 4,
   "metadata": {},
   "outputs": [
    {
     "name": "stdout",
     "output_type": "stream",
     "text": [
      "3\n"
     ]
    }
   ],
   "source": [
    "import copy\n",
    "see=[]\n",
    "field2=copy.deepcopy(field)\n",
    "see.append(field2)\n",
    "res=0\n",
    "for i in range(N):\n",
    "    for j in range(M):\n",
    "\n",
    "        if field[i][j]=='W':\n",
    "            dfs(i,j)\n",
    "            field2=copy.deepcopy(field)\n",
    "            see.append(field2)\n",
    "            \n",
    "            res+=1\n",
    "print(res)"
   ]
  },
  {
   "cell_type": "markdown",
   "metadata": {},
   "source": [
    "# 幅優先探索"
   ]
  },
  {
   "cell_type": "code",
   "execution_count": 11,
   "metadata": {},
   "outputs": [],
   "source": [
    "dx=[1,0,-1,0]\n",
    "dy=[0,1,0,-1]\n",
    "def bfs():\n",
    "    que=[]\n",
    "    for i in range(N):\n",
    "        for j in range(M):\n",
    "            d[i][j]=INF\n",
    "#     print(d)       \n",
    "    que.append([sx,sy])\n",
    "    d[sx][sy]=0\n",
    "#     print(d)  \n",
    "    while(len(que)>0):\n",
    "        p=que.pop(0)\n",
    "        if p[0]==gx and p[1]==gy:\n",
    "            break\n",
    "        for i in range(4):\n",
    "            nx=p[0]+dx[i]\n",
    "            ny=p[1]+dy[i]\n",
    "#             print(nx,ny, maze[nx][ny], d[nx][ny] )\n",
    "            if 0<=nx and nx<N and 0<=ny and ny<M and maze[nx][ny] != '#' and d[nx][ny]==INF:\n",
    "\n",
    "                que.append([nx,ny])\n",
    "                d[nx][ny]=d[p[0]][p[1]]+1\n",
    "\n",
    "    return d[gx][gy]"
   ]
  },
  {
   "cell_type": "markdown",
   "metadata": {},
   "source": [
    "## example"
   ]
  },
  {
   "cell_type": "code",
   "execution_count": 22,
   "metadata": {},
   "outputs": [],
   "source": [
    "INF=99\n",
    "N=10\n",
    "M=10\n",
    "sx=0\n",
    "sy=1\n",
    "gx=9\n",
    "gy=8\n",
    "d=[[0 for j in range(M)] for i in range(N)]"
   ]
  },
  {
   "cell_type": "code",
   "execution_count": 27,
   "metadata": {},
   "outputs": [],
   "source": [
    "maze = [['#','S','#','#','#','#','#','#','.','#'],\n",
    "        ['.','.','.','.','.','.','#','.','.','#'],\n",
    "        ['.','#','.','#','#','.','#','#','.','#'],\n",
    "        ['.','#','.','.','.','.','.','.','.','.'],\n",
    "        ['#','#','.','#','#','.','#','#','#','#'],\n",
    "        ['.','.','.','.','#','.','.','.','.','.'],\n",
    "        ['.','#','#','#','#','#','#','#','.','#'],\n",
    "        ['.','.','.','.','#','.','.','.','.','.'],\n",
    "        ['.','#','#','#','#','.','#','#','#','.'],\n",
    "        ['.','.','.','.','#','.','.','.','G','#'],\n",
    "        ]"
   ]
  },
  {
   "cell_type": "code",
   "execution_count": 28,
   "metadata": {},
   "outputs": [],
   "source": [
    "res=bfs()"
   ]
  },
  {
   "cell_type": "code",
   "execution_count": 29,
   "metadata": {},
   "outputs": [
    {
     "data": {
      "text/plain": [
       "22"
      ]
     },
     "execution_count": 29,
     "metadata": {},
     "output_type": "execute_result"
    }
   ],
   "source": [
    "res"
   ]
  },
  {
   "cell_type": "code",
   "execution_count": 30,
   "metadata": {},
   "outputs": [
    {
     "data": {
      "text/plain": [
       "[[99, 0, 99, 99, 99, 99, 99, 99, 13, 99],\n",
       " [2, 1, 2, 3, 4, 5, 99, 13, 12, 99],\n",
       " [3, 99, 3, 99, 99, 6, 99, 99, 11, 99],\n",
       " [4, 99, 4, 5, 6, 7, 8, 9, 10, 11],\n",
       " [99, 99, 5, 99, 99, 8, 99, 99, 99, 99],\n",
       " [8, 7, 6, 7, 99, 9, 10, 11, 12, 13],\n",
       " [9, 99, 99, 99, 99, 99, 99, 99, 13, 99],\n",
       " [10, 11, 12, 13, 99, 17, 16, 15, 14, 15],\n",
       " [11, 99, 99, 99, 99, 18, 99, 99, 99, 16],\n",
       " [12, 13, 14, 15, 99, 19, 20, 21, 22, 99]]"
      ]
     },
     "execution_count": 30,
     "metadata": {},
     "output_type": "execute_result"
    }
   ],
   "source": [
    "d"
   ]
  },
  {
   "cell_type": "markdown",
   "metadata": {},
   "source": [
    "# ベルマンフォード法"
   ]
  },
  {
   "cell_type": "code",
   "execution_count": 1,
   "metadata": {},
   "outputs": [],
   "source": [
    "\n",
    "def shortest_path(s):\n",
    "    INF = 1<<60\n",
    "    d=[INF]*(V+1)\n",
    "    d[s]=0\n",
    "    update=0\n",
    "    while(update==0):\n",
    "        update=1\n",
    "#         print(d)\n",
    "        for i in range(len(edge)):\n",
    "            e=edge[i]\n",
    "#             print(e)\n",
    "            if d[e[0]]!=INF and d[e[1]]>d[e[0]]+1:\n",
    "                d[e[1]]=d[e[0]]+1\n",
    "                update=0\n",
    "    return d"
   ]
  },
  {
   "cell_type": "code",
   "execution_count": 2,
   "metadata": {},
   "outputs": [],
   "source": [
    "V=9\n",
    "edge=[[1, 2], [1, 3], [4, 2], [4, 3], [4, 5], [4, 6], [7, 5], [7, 6], [8, 9]]\n",
    "ans=[]\n",
    "for e in edge:\n",
    "    ans.append([e[1],e[0]])\n",
    "edge+=ans\n",
    "edge.sort()"
   ]
  },
  {
   "cell_type": "code",
   "execution_count": 3,
   "metadata": {},
   "outputs": [
    {
     "data": {
      "text/plain": [
       "[1152921504606846976,\n",
       " 0,\n",
       " 1,\n",
       " 1,\n",
       " 2,\n",
       " 3,\n",
       " 3,\n",
       " 4,\n",
       " 1152921504606846976,\n",
       " 1152921504606846976]"
      ]
     },
     "execution_count": 3,
     "metadata": {},
     "output_type": "execute_result"
    }
   ],
   "source": [
    "shortest_path(1)"
   ]
  },
  {
   "cell_type": "markdown",
   "metadata": {},
   "source": [
    "# 動的計画法"
   ]
  },
  {
   "cell_type": "code",
   "execution_count": null,
   "metadata": {},
   "outputs": [],
   "source": []
  },
  {
   "cell_type": "code",
   "execution_count": 1,
   "metadata": {},
   "outputs": [],
   "source": [
    "n=4\n",
    "w=[2,1,3,2] #重さ\n",
    "v=[3,2,4,2] #値段\n",
    "W=5 #最大容量"
   ]
  },
  {
   "cell_type": "markdown",
   "metadata": {},
   "source": [
    "## 再帰関数を使った実装"
   ]
  },
  {
   "cell_type": "code",
   "execution_count": 4,
   "metadata": {},
   "outputs": [],
   "source": [
    "def rec(i,j):\n",
    "    \n",
    "    if dp[i][j]>=0:\n",
    "        return dp[i][j] \n",
    "    if i==n:\n",
    "        res=0\n",
    "    elif j<w[i]:\n",
    "        res=rec(i+1,j)\n",
    "    else:\n",
    "        res=max(rec(i+1,j),rec(i+1,j-w[i])+v[i])\n",
    "    \n",
    "    dp[i][j]=res\n",
    "    return dp[i][j]"
   ]
  },
  {
   "cell_type": "code",
   "execution_count": 5,
   "metadata": {},
   "outputs": [
    {
     "data": {
      "text/plain": [
       "7"
      ]
     },
     "execution_count": 5,
     "metadata": {},
     "output_type": "execute_result"
    }
   ],
   "source": [
    "dp=[[-1]*(W+1) for i in range(n+1)]\n",
    "rec(0,W)"
   ]
  },
  {
   "cell_type": "code",
   "execution_count": 6,
   "metadata": {},
   "outputs": [
    {
     "data": {
      "text/plain": [
       "[[-1, -1, -1, -1, -1, 7],\n",
       " [-1, -1, -1, 4, -1, 6],\n",
       " [-1, -1, 0, 4, 4, 4],\n",
       " [0, 0, 0, 0, 2, 2],\n",
       " [0, 0, 0, 0, 0, 0]]"
      ]
     },
     "execution_count": 6,
     "metadata": {},
     "output_type": "execute_result"
    }
   ],
   "source": [
    "dp"
   ]
  },
  {
   "cell_type": "markdown",
   "metadata": {},
   "source": [
    "## for文＋漸化式での実装"
   ]
  },
  {
   "cell_type": "code",
   "execution_count": 7,
   "metadata": {},
   "outputs": [],
   "source": [
    "dp=[[0]*(W+1) for _ in range(n+1)]\n",
    "for i in reversed(range(0,n)):\n",
    "    for j in range(W+1):\n",
    "        if j<w[i]:\n",
    "            dp[i][j]=dp[i+1][j]\n",
    "        else:\n",
    "            dp[i][j]=max(dp[i+1][j], dp[i+1][j-w[i]]+v[i])"
   ]
  },
  {
   "cell_type": "code",
   "execution_count": 8,
   "metadata": {},
   "outputs": [
    {
     "data": {
      "text/plain": [
       "[[0, 2, 3, 5, 6, 7],\n",
       " [0, 2, 2, 4, 6, 6],\n",
       " [0, 0, 0, 4, 4, 4],\n",
       " [0, 0, 0, 0, 2, 2],\n",
       " [0, 0, 0, 0, 0, 0]]"
      ]
     },
     "execution_count": 8,
     "metadata": {},
     "output_type": "execute_result"
    }
   ],
   "source": [
    "dp"
   ]
  },
  {
   "cell_type": "markdown",
   "metadata": {},
   "source": [
    "### 番号も記録"
   ]
  },
  {
   "cell_type": "code",
   "execution_count": 51,
   "metadata": {},
   "outputs": [],
   "source": [
    "dp=[[[0,[]] for _ in range(W+1)] for _ in range(n+1)]\n",
    "for i in reversed(range(0,n)):\n",
    "    for j in range(W+1):\n",
    "        if j<w[i]:\n",
    "            dp[i][j][0]=dp[i+1][j][0]\n",
    "        else:\n",
    "            if dp[i+1][j][0] < dp[i+1][j-w[i]][0]+v[i]:\n",
    "                dp[i][j][0]=dp[i+1][j-w[i]][0]+v[i]\n",
    "                dp[i][j][1]=dp[i+1][j][1].copy()\n",
    "                dp[i][j][1].append(i)\n",
    "            else: \n",
    "                dp[i][j][0]=dp[i+1][j][0]\n",
    "                dp[i][j][1]=dp[i+1][j][1].copy()"
   ]
  },
  {
   "cell_type": "code",
   "execution_count": 52,
   "metadata": {},
   "outputs": [
    {
     "data": {
      "text/plain": [
       "[[[0, []], [2, []], [3, [0]], [5, [3, 2, 0]], [6, [3, 2, 1]], [7, [3, 2, 0]]],\n",
       " [[0, []], [2, [1]], [2, []], [4, [3, 2]], [6, [3, 2, 1]], [6, [3, 2]]],\n",
       " [[0, []], [0, []], [2, []], [4, [3, 2]], [4, [3, 2]], [6, [3, 2]]],\n",
       " [[0, []], [0, []], [2, [3]], [2, [3]], [2, [3]], [2, [3]]],\n",
       " [[0, []], [0, []], [0, []], [0, []], [0, []], [0, []]]]"
      ]
     },
     "execution_count": 52,
     "metadata": {},
     "output_type": "execute_result"
    }
   ],
   "source": [
    "dp"
   ]
  },
  {
   "cell_type": "markdown",
   "metadata": {},
   "source": [
    "- メモを分離"
   ]
  },
  {
   "cell_type": "code",
   "execution_count": 5,
   "metadata": {},
   "outputs": [],
   "source": [
    "dp=[[0 for _ in range(W+1)] for _ in range(n+1)]\n",
    "pick=[[[] for _ in range(W+1)] for _ in range(n+1)]\n",
    "\n",
    "for i in reversed(range(0,n)):\n",
    "    for j in range(W+1):\n",
    "        if j<w[i]:\n",
    "            dp[i][j]=dp[i+1][j]\n",
    "            pick[i][j]=pick[i+1][j].copy()\n",
    "        else:\n",
    "            if dp[i+1][j] < dp[i+1][j-w[i]]+v[i]:\n",
    "                dp[i][j]=dp[i+1][j-w[i]]+v[i]\n",
    "                pick[i][j]=pick[i+1][j-w[i]].copy()\n",
    "                pick[i][j].append(i)\n",
    "            else: \n",
    "                dp[i][j]=dp[i+1][j]\n",
    "                pick[i][j]=pick[i+1][j].copy()"
   ]
  },
  {
   "cell_type": "code",
   "execution_count": 6,
   "metadata": {},
   "outputs": [
    {
     "data": {
      "text/plain": [
       "[[0, 2, 3, 5, 6, 7],\n",
       " [0, 2, 2, 4, 6, 6],\n",
       " [0, 0, 2, 4, 4, 6],\n",
       " [0, 0, 2, 2, 2, 2],\n",
       " [0, 0, 0, 0, 0, 0]]"
      ]
     },
     "execution_count": 6,
     "metadata": {},
     "output_type": "execute_result"
    }
   ],
   "source": [
    "dp"
   ]
  },
  {
   "cell_type": "code",
   "execution_count": 7,
   "metadata": {},
   "outputs": [
    {
     "data": {
      "text/plain": [
       "[[[], [1], [0], [1, 0], [2, 1], [2, 0]],\n",
       " [[], [1], [3], [2], [2, 1], [3, 2]],\n",
       " [[], [], [3], [2], [2], [3, 2]],\n",
       " [[], [], [3], [3], [3], [3]],\n",
       " [[], [], [], [], [], []]]"
      ]
     },
     "execution_count": 7,
     "metadata": {},
     "output_type": "execute_result"
    }
   ],
   "source": [
    "pick"
   ]
  },
  {
   "cell_type": "markdown",
   "metadata": {},
   "source": [
    "## 逆順での実装"
   ]
  },
  {
   "cell_type": "code",
   "execution_count": 23,
   "metadata": {},
   "outputs": [],
   "source": [
    "dp=[[0]*(W+1) for _ in range(n+1)]\n",
    "for i in range(n):\n",
    "    for j in range(W+1):\n",
    "        if j<w[i]:\n",
    "            dp[i+1][j]=dp[i][j]\n",
    "        else:\n",
    "            dp[i+1][j]=max(dp[i][j],dp[i][j-w[i]]+v[i])"
   ]
  },
  {
   "cell_type": "code",
   "execution_count": 24,
   "metadata": {},
   "outputs": [
    {
     "data": {
      "text/plain": [
       "[[0, 0, 0, 0, 0, 0],\n",
       " [0, 0, 3, 3, 3, 3],\n",
       " [0, 2, 3, 5, 5, 5],\n",
       " [0, 2, 3, 5, 6, 7],\n",
       " [0, 2, 3, 5, 6, 7]]"
      ]
     },
     "execution_count": 24,
     "metadata": {},
     "output_type": "execute_result"
    }
   ],
   "source": [
    "dp"
   ]
  },
  {
   "cell_type": "markdown",
   "metadata": {},
   "source": [
    "## その他"
   ]
  },
  {
   "cell_type": "code",
   "execution_count": 27,
   "metadata": {},
   "outputs": [],
   "source": [
    "dp=[[0]*(W+1) for _ in range(n+1)]\n",
    "for i in range(n):\n",
    "    for j in range(W+1):\n",
    "        dp[i+1][j]=max(dp[i+1][j],dp[i][j])\n",
    "        if j+w[i]<=W:\n",
    "            dp[i+1][j+w[i]]=max(dp[i+1][j+w[i]],dp[i][j]+v[i])\n",
    "\n"
   ]
  },
  {
   "cell_type": "code",
   "execution_count": 28,
   "metadata": {},
   "outputs": [
    {
     "data": {
      "text/plain": [
       "[[0, 0, 0, 0, 0, 0],\n",
       " [0, 0, 3, 3, 3, 3],\n",
       " [0, 2, 3, 5, 5, 5],\n",
       " [0, 2, 3, 5, 6, 7],\n",
       " [0, 2, 3, 5, 6, 7]]"
      ]
     },
     "execution_count": 28,
     "metadata": {},
     "output_type": "execute_result"
    }
   ],
   "source": [
    "dp"
   ]
  },
  {
   "cell_type": "markdown",
   "metadata": {},
   "source": [
    "## Longest common subsequence"
   ]
  },
  {
   "cell_type": "code",
   "execution_count": 1,
   "metadata": {},
   "outputs": [],
   "source": [
    "import numpy as np"
   ]
  },
  {
   "cell_type": "code",
   "execution_count": 2,
   "metadata": {},
   "outputs": [],
   "source": [
    "n=4\n",
    "m=4\n",
    "s=\"abcxxde\"\n",
    "n=len(s)\n",
    "t=\"ybyeycydyye\"\n",
    "m=len(t)"
   ]
  },
  {
   "cell_type": "code",
   "execution_count": 3,
   "metadata": {},
   "outputs": [
    {
     "name": "stdout",
     "output_type": "stream",
     "text": [
      "4\n"
     ]
    }
   ],
   "source": [
    "dp=np.zeros((n+1,m+1),int)\n",
    "for i in range(n):\n",
    "    for j in range(m):\n",
    "        #print(i,j, s[i],t[j])\n",
    "        if s[i]==t[j]:\n",
    "            dp[i+1][j+1]=max(dp[i][j]+1,dp[i][j+1],dp[i+1][j])\n",
    "        else:\n",
    "            dp[i+1][j+1]=max(dp[i][j+1],dp[i+1][j])\n",
    "print(dp[n][m])"
   ]
  },
  {
   "cell_type": "code",
   "execution_count": 15,
   "metadata": {},
   "outputs": [
    {
     "data": {
      "text/plain": [
       "array([[0, 0, 0, 0, 0, 0, 0, 0, 0, 0, 0, 0],\n",
       "       [0, 0, 0, 0, 0, 0, 0, 0, 0, 0, 0, 0],\n",
       "       [0, 0, 1, 1, 1, 1, 1, 1, 1, 1, 1, 1],\n",
       "       [0, 0, 1, 1, 1, 1, 2, 2, 2, 2, 2, 2],\n",
       "       [0, 0, 1, 1, 1, 1, 2, 2, 2, 2, 2, 2],\n",
       "       [0, 0, 1, 1, 1, 1, 2, 2, 2, 2, 2, 2],\n",
       "       [0, 0, 1, 1, 1, 1, 2, 2, 3, 3, 3, 3],\n",
       "       [0, 0, 1, 1, 2, 2, 2, 2, 3, 3, 3, 4]])"
      ]
     },
     "execution_count": 15,
     "metadata": {},
     "output_type": "execute_result"
    }
   ],
   "source": [
    "dp"
   ]
  },
  {
   "cell_type": "markdown",
   "metadata": {},
   "source": [
    "# 個数制限なしナップサック問題"
   ]
  },
  {
   "cell_type": "code",
   "execution_count": 33,
   "metadata": {},
   "outputs": [],
   "source": [
    "n=3\n",
    "w=[3,4,2] #重さ\n",
    "v=[4,5,3] #値段\n",
    "W=7 #最大容量"
   ]
  },
  {
   "cell_type": "code",
   "execution_count": 36,
   "metadata": {},
   "outputs": [],
   "source": [
    "dp=[[0]*(W+1) for _ in range(n+1)]\n",
    "for i in range(n):\n",
    "    for j in range(W+1):\n",
    "        if j <w[i]:\n",
    "            dp[i+1][j]=dp[i][j]\n",
    "        else:\n",
    "            dp[i+1][j]=max(dp[i][j],dp[i+1][j-w[i]]+v[i])"
   ]
  },
  {
   "cell_type": "code",
   "execution_count": 37,
   "metadata": {},
   "outputs": [
    {
     "data": {
      "text/plain": [
       "[[0, 0, 0, 0, 0, 0, 0, 0],\n",
       " [0, 0, 0, 4, 4, 4, 8, 8],\n",
       " [0, 0, 0, 4, 5, 5, 8, 9],\n",
       " [0, 0, 3, 4, 6, 7, 9, 10]]"
      ]
     },
     "execution_count": 37,
     "metadata": {},
     "output_type": "execute_result"
    }
   ],
   "source": [
    "dp"
   ]
  },
  {
   "cell_type": "markdown",
   "metadata": {},
   "source": [
    "## 配列を更新"
   ]
  },
  {
   "cell_type": "code",
   "execution_count": 45,
   "metadata": {},
   "outputs": [],
   "source": [
    "n=4\n",
    "w=[2,1,3,2] #重さ\n",
    "v=[3,2,4,2] #値段\n",
    "W=5 #最大容量"
   ]
  },
  {
   "cell_type": "code",
   "execution_count": 53,
   "metadata": {},
   "outputs": [],
   "source": [
    "dp=[0]*(W+1)\n",
    "for i in range(n):\n",
    "    for j in range(W,w[i]-1,-1):\n",
    "#         print(j)\n",
    "#         print(j,dp[j])\n",
    "        dp[j]=max(dp[j],dp[j-w[i]]+v[i])"
   ]
  },
  {
   "cell_type": "code",
   "execution_count": 54,
   "metadata": {},
   "outputs": [
    {
     "data": {
      "text/plain": [
       "[0, 2, 3, 5, 6, 7]"
      ]
     },
     "execution_count": 54,
     "metadata": {},
     "output_type": "execute_result"
    }
   ],
   "source": [
    "dp"
   ]
  },
  {
   "cell_type": "code",
   "execution_count": null,
   "metadata": {},
   "outputs": [],
   "source": [
    "n=3\n",
    "w=[3,4,2] #重さ\n",
    "v=[4,5,3] #値段\n",
    "W=7 #最大容量"
   ]
  },
  {
   "cell_type": "code",
   "execution_count": 55,
   "metadata": {},
   "outputs": [],
   "source": [
    "dp=[0]*(W+1)\n",
    "for i in range(n):\n",
    "    for j in range(W+1):\n",
    "        if j <w[i]:\n",
    "            dp[j]=dp[j]\n",
    "        else:\n",
    "            dp[j]=max(dp[j],dp[j-w[i]]+v[i])"
   ]
  },
  {
   "cell_type": "code",
   "execution_count": 56,
   "metadata": {},
   "outputs": [
    {
     "data": {
      "text/plain": [
       "[0, 2, 4, 6, 8, 10]"
      ]
     },
     "execution_count": 56,
     "metadata": {},
     "output_type": "execute_result"
    }
   ],
   "source": [
    "dp"
   ]
  },
  {
   "cell_type": "markdown",
   "metadata": {},
   "source": [
    "##  偶奇分け"
   ]
  },
  {
   "cell_type": "code",
   "execution_count": 63,
   "metadata": {},
   "outputs": [],
   "source": [
    "dp=np.zeros((2,W+1),int)\n",
    "for i in range(n):\n",
    "    for j in range(W+1):\n",
    "        \n",
    "        if j <w[i]:\n",
    "            dp[(i+1)&1][j]= dp[i&1][j]\n",
    "        else:\n",
    "            dp[(i+1)&1][j]= max(dp[i&1][j], dp[(i+1)&1][j-w[i]]+v[i])\n",
    "#         print(dp)\n",
    "#         print(\"\")"
   ]
  },
  {
   "cell_type": "code",
   "execution_count": 60,
   "metadata": {},
   "outputs": [
    {
     "data": {
      "text/plain": [
       "array([[ 0,  2,  4,  6,  8, 10],\n",
       "       [ 0,  2,  4,  6,  8, 10]])"
      ]
     },
     "execution_count": 60,
     "metadata": {},
     "output_type": "execute_result"
    }
   ],
   "source": [
    "dp"
   ]
  },
  {
   "cell_type": "markdown",
   "metadata": {},
   "source": [
    "## Wが大きい時"
   ]
  },
  {
   "cell_type": "code",
   "execution_count": 96,
   "metadata": {},
   "outputs": [],
   "source": [
    "n=4\n",
    "w=[200,100,300,200] #重さ\n",
    "v=[3,2,4,2] #値段\n",
    "W=500 #最大容量"
   ]
  },
  {
   "cell_type": "code",
   "execution_count": 99,
   "metadata": {},
   "outputs": [
    {
     "name": "stdout",
     "output_type": "stream",
     "text": [
      "7\n"
     ]
    }
   ],
   "source": [
    "dp=np.zeros((n+1, n*max(v)+1),int)\n",
    "dp[0][1:]= 1<<10\n",
    "for i in range(n):\n",
    "    for j in range(n*max(v)+1):\n",
    "        if j <v[i]:\n",
    "            dp[i+1][j]=dp[i][j]\n",
    "        else:\n",
    "            dp[i+1][j]=min(dp[i][j],dp[i][j-v[i]]+w[i])\n",
    "res=0\n",
    "for j in range(n*max(v)+1):\n",
    "    if dp[n][j] <= W:\n",
    "        res=j\n",
    "print(res)"
   ]
  },
  {
   "cell_type": "code",
   "execution_count": 98,
   "metadata": {},
   "outputs": [
    {
     "data": {
      "text/plain": [
       "array([[   0, 1024, 1024, 1024, 1024, 1024, 1024, 1024, 1024, 1024, 1024,\n",
       "        1024, 1024, 1024, 1024, 1024, 1024],\n",
       "       [   0, 1024, 1024,  200, 1024, 1024, 1024, 1024, 1024, 1024, 1024,\n",
       "        1024, 1024, 1024, 1024, 1024, 1024],\n",
       "       [   0, 1024,  100,  200, 1024,  300, 1024, 1024, 1024, 1024, 1024,\n",
       "        1024, 1024, 1024, 1024, 1024, 1024],\n",
       "       [   0, 1024,  100,  200,  300,  300,  400,  500, 1024,  600, 1024,\n",
       "        1024, 1024, 1024, 1024, 1024, 1024],\n",
       "       [   0, 1024,  100,  200,  300,  300,  400,  500,  600,  600, 1024,\n",
       "         800, 1024, 1024, 1024, 1024, 1024]])"
      ]
     },
     "execution_count": 98,
     "metadata": {},
     "output_type": "execute_result"
    }
   ],
   "source": [
    "dp"
   ]
  },
  {
   "cell_type": "markdown",
   "metadata": {},
   "source": [
    "## 個数制限付き部分和問題"
   ]
  },
  {
   "cell_type": "code",
   "execution_count": 106,
   "metadata": {},
   "outputs": [],
   "source": [
    "n=3\n",
    "a=[3,5,8]\n",
    "m=[3,2,2]\n",
    "K=17"
   ]
  },
  {
   "cell_type": "markdown",
   "metadata": {},
   "source": [
    "## うまくないアルゴリズム"
   ]
  },
  {
   "cell_type": "code",
   "execution_count": 134,
   "metadata": {},
   "outputs": [
    {
     "name": "stdout",
     "output_type": "stream",
     "text": [
      "yes\n"
     ]
    }
   ],
   "source": [
    "dp=np.full((n+1,K+1),False)\n",
    "dp[0][0]=True\n",
    "for i in range(n):\n",
    "    for j in range(K+1):\n",
    "        for k in range(m[i]+1):\n",
    "            if k*a[i]<=j:\n",
    "                dp[i+1][j]|=dp[i][j-k*a[i]]\n",
    "if dp[n][K]:\n",
    "    print(\"yes\")\n",
    "else:\n",
    "    print(\"no\")"
   ]
  },
  {
   "cell_type": "code",
   "execution_count": 135,
   "metadata": {},
   "outputs": [
    {
     "data": {
      "text/plain": [
       "array([[ True, False, False, False, False, False, False, False, False,\n",
       "        False, False, False, False, False, False, False, False, False],\n",
       "       [ True, False, False,  True, False, False,  True, False, False,\n",
       "         True, False, False, False, False, False, False, False, False],\n",
       "       [ True, False, False,  True, False,  True,  True, False,  True,\n",
       "         True,  True,  True, False,  True,  True, False,  True, False],\n",
       "       [ True, False, False,  True, False,  True,  True, False,  True,\n",
       "         True,  True,  True, False,  True,  True, False,  True,  True]])"
      ]
     },
     "execution_count": 135,
     "metadata": {},
     "output_type": "execute_result"
    }
   ],
   "source": [
    "dp"
   ]
  },
  {
   "cell_type": "markdown",
   "metadata": {},
   "source": [
    "## うまいコード"
   ]
  },
  {
   "cell_type": "code",
   "execution_count": 151,
   "metadata": {},
   "outputs": [
    {
     "name": "stdout",
     "output_type": "stream",
     "text": [
      "yes\n"
     ]
    }
   ],
   "source": [
    "dp=np.full((K+1),-1)\n",
    "dp[0]=0\n",
    "for i in range(n):\n",
    "    for j in range(K+1):\n",
    "        if dp[j]>=0:\n",
    "            dp[j]=m[i]\n",
    "        elif (j<a[i]) or (dp[j-a[i]]<=0):\n",
    "            dp[j]=-1\n",
    "        else:\n",
    "            dp[j]=dp[j-a[i]]-1\n",
    "\n",
    "if dp[K]>=0:\n",
    "    print(\"yes\")\n",
    "else:\n",
    "    print(\"no\")"
   ]
  },
  {
   "cell_type": "code",
   "execution_count": 152,
   "metadata": {},
   "outputs": [
    {
     "data": {
      "text/plain": [
       "array([ 2, -1, -1,  2, -1,  2,  2, -1,  2,  2,  2,  2, -1,  2,  2, -1,  2,\n",
       "        1])"
      ]
     },
     "execution_count": 152,
     "metadata": {},
     "output_type": "execute_result"
    }
   ],
   "source": [
    "dp"
   ]
  },
  {
   "cell_type": "markdown",
   "metadata": {},
   "source": [
    "## Longest increasing subsequence"
   ]
  },
  {
   "cell_type": "code",
   "execution_count": 32,
   "metadata": {},
   "outputs": [],
   "source": [
    "n=5\n",
    "a=[4,2,3,1,5]"
   ]
  },
  {
   "cell_type": "code",
   "execution_count": 33,
   "metadata": {},
   "outputs": [
    {
     "name": "stdout",
     "output_type": "stream",
     "text": [
      "3\n"
     ]
    }
   ],
   "source": [
    "dp=[0]*(n+1)\n",
    "res = 0\n",
    "for i in range(n):\n",
    "    dp[i]=1\n",
    "    for j in range(i):\n",
    "        if a[j]<a[i]:\n",
    "            dp[i]=max(dp[i],dp[j]+1)\n",
    "    res = max(res,dp[i])\n",
    "print(res)"
   ]
  },
  {
   "cell_type": "code",
   "execution_count": 34,
   "metadata": {},
   "outputs": [
    {
     "data": {
      "text/plain": [
       "[1, 1, 2, 1, 3, 0]"
      ]
     },
     "execution_count": 34,
     "metadata": {},
     "output_type": "execute_result"
    }
   ],
   "source": [
    "dp"
   ]
  },
  {
   "cell_type": "code",
   "execution_count": 158,
   "metadata": {},
   "outputs": [],
   "source": []
  },
  {
   "cell_type": "markdown",
   "metadata": {},
   "source": [
    "## partition"
   ]
  },
  {
   "cell_type": "code",
   "execution_count": 163,
   "metadata": {},
   "outputs": [],
   "source": [
    "n=40\n",
    "m=5\n",
    "M=10000"
   ]
  },
  {
   "cell_type": "code",
   "execution_count": 164,
   "metadata": {},
   "outputs": [
    {
     "name": "stdout",
     "output_type": "stream",
     "text": [
      "1747\n"
     ]
    }
   ],
   "source": [
    "dp=np.zeros((M+1,n+1),int)\n",
    "dp[0][0]=1\n",
    "for i in range(m+1):\n",
    "    for j in range(n+1):\n",
    "        if j>=i:\n",
    "            dp[i][j]=dp[i-1][j]+dp[i][j-i]\n",
    "        else:\n",
    "            dp[i][j]=dp[i-1][j]\n",
    "\n",
    "print(dp[m][n])"
   ]
  },
  {
   "cell_type": "markdown",
   "metadata": {},
   "source": [
    "## 重複組合せ"
   ]
  },
  {
   "cell_type": "code",
   "execution_count": 173,
   "metadata": {},
   "outputs": [],
   "source": [
    "n=3\n",
    "m=3\n",
    "a=[1,2,3]\n",
    "M=10000"
   ]
  },
  {
   "cell_type": "code",
   "execution_count": 178,
   "metadata": {},
   "outputs": [],
   "source": [
    "dp=np.zeros((n+1,m+1),int)\n",
    "for i in range(n+1):\n",
    "    dp[i][0]=1\n",
    "for i in range(n):\n",
    "    for j in range(1,m+1):\n",
    "        if j-1-a[1] >=0:\n",
    "            dp[i+1][j]=dp[i+1][j-1]+dp[i][j]-dp[i][j-1-a[i]]\n",
    "        else:\n",
    "            dp[i+1][j]=dp[i+1][j-1]+dp[i][j]"
   ]
  },
  {
   "cell_type": "code",
   "execution_count": 179,
   "metadata": {},
   "outputs": [
    {
     "data": {
      "text/plain": [
       "6"
      ]
     },
     "execution_count": 179,
     "metadata": {},
     "output_type": "execute_result"
    }
   ],
   "source": [
    "dp[n][m]"
   ]
  },
  {
   "cell_type": "code",
   "execution_count": 180,
   "metadata": {},
   "outputs": [
    {
     "data": {
      "text/plain": [
       "array([[1, 0, 0, 0],\n",
       "       [1, 1, 1, 1],\n",
       "       [1, 2, 3, 3],\n",
       "       [1, 3, 6, 6]])"
      ]
     },
     "execution_count": 180,
     "metadata": {},
     "output_type": "execute_result"
    }
   ],
   "source": [
    "dp"
   ]
  },
  {
   "cell_type": "markdown",
   "metadata": {},
   "source": [
    "## 最長共通部分列"
   ]
  },
  {
   "cell_type": "code",
   "execution_count": null,
   "metadata": {},
   "outputs": [],
   "source": [
    "s=\"abcxxde\"\n",
    "n=len(s)\n",
    "t=\"ybyeycydyye\"\n",
    "m=len(t)"
   ]
  },
  {
   "cell_type": "code",
   "execution_count": 75,
   "metadata": {},
   "outputs": [],
   "source": [
    "def LCSsequence(s1,s2):\n",
    "    n=len(s1)\n",
    "    m=len(s2)\n",
    "    dp=np.zeros((n+1,m+1),int)\n",
    "    for i in range(n):\n",
    "        for j in range(m):\n",
    "            #print(i,j, s[i],t[j])\n",
    "            if s1[i]==s2[j]:\n",
    "                dp[i+1][j+1]=max(dp[i][j]+1,dp[i][j+1],dp[i+1][j])\n",
    "            else:\n",
    "                dp[i+1][j+1]=max(dp[i][j+1],dp[i+1][j])\n",
    "    print(dp)\n",
    "    return dp[n][m]\n",
    "    "
   ]
  },
  {
   "cell_type": "code",
   "execution_count": 77,
   "metadata": {},
   "outputs": [
    {
     "name": "stdout",
     "output_type": "stream",
     "text": [
      "[[0 0 0 0 0 0 0 0 0]\n",
      " [0 0 1 1 1 1 1 1 1]\n",
      " [0 0 1 1 1 1 1 1 1]\n",
      " [0 0 1 1 1 1 1 1 1]\n",
      " [0 1 1 1 1 1 1 1 1]\n",
      " [0 1 1 1 1 2 2 2 2]\n",
      " [0 1 1 1 1 2 2 2 2]\n",
      " [0 1 1 1 1 2 2 2 2]\n",
      " [0 1 1 1 1 2 2 2 2]\n",
      " [0 1 1 1 1 2 2 3 3]\n",
      " [0 1 1 1 1 2 2 3 3]]\n"
     ]
    },
    {
     "data": {
      "text/plain": [
       "3"
      ]
     },
     "execution_count": 77,
     "metadata": {},
     "output_type": "execute_result"
    }
   ],
   "source": [
    "LCSsequence(\"aaabcdefg1\", \"baxxcxg0\")"
   ]
  },
  {
   "cell_type": "code",
   "execution_count": null,
   "metadata": {},
   "outputs": [],
   "source": []
  },
  {
   "cell_type": "code",
   "execution_count": 89,
   "metadata": {},
   "outputs": [],
   "source": [
    "# wrong code\n",
    "def LCSsequence(s1, s2):\n",
    "    l1, l2 = len(s1), len(s2)\n",
    "    if l1 == 0 or l2 == 0: return ''\n",
    "\n",
    "    # memorization of m[l1][l2]\n",
    "    m = []\n",
    "    for x in range(l1):\n",
    "        m.append([0]*(l2))\n",
    "\n",
    "    # Fill 0th row\n",
    "    isSameFound = False\n",
    "    for i in range(l1):\n",
    "        if isSameFound or s1[i] == s2[0]:\n",
    "            m[i][0] = 1\n",
    "            isSameFound = True\n",
    "\n",
    "    # Fill 0th column\n",
    "    isSameFound = False\n",
    "    for j in range(l2):\n",
    "        if isSameFound or s2[j] == s1[0]:\n",
    "            m[0][j] = 1\n",
    "            isSameFound = True\n",
    "\n",
    "    max_len = 0\n",
    "    # m[i][j] stores the maximum length of subsequence of s1[:i+1], s2[:j+1]\n",
    "    for i in range(0, l1-1):\n",
    "        for j in range(0, l2-1):\n",
    "            if s1[i+1] == s2[j+1]:\n",
    "                m[i+1][j+1] = m[i][j] + 1\n",
    "                max_len = max(m[i+1][j+1], max_len)\n",
    "            else:\n",
    "                m[i+1][j+1] = max(m[i][j+1], m[i+1][j])\n",
    "                \n",
    "    #If you want to know just the length of the lcs, return maxLen.\n",
    "    #Here we'll try to print the lcs.\n",
    "    lcs_str = ''\n",
    "    i, j = l1-1, l2-1\n",
    "    while i >= 0 and j >= 0:\n",
    "        if s1[i] == s2[j]:\n",
    "            lcs_str += s1[i] #or s2[j-1]\n",
    "            i -= 1\n",
    "            j -= 1\n",
    "        else:\n",
    "            if m[i-1][j] > m[i][j-1]:\n",
    "                i -= 1\n",
    "            else:\n",
    "                j -= 1\n",
    "    return lcs_str[::-1]"
   ]
  },
  {
   "cell_type": "code",
   "execution_count": 90,
   "metadata": {},
   "outputs": [
    {
     "data": {
      "text/plain": [
       "'acg'"
      ]
     },
     "execution_count": 90,
     "metadata": {},
     "output_type": "execute_result"
    }
   ],
   "source": [
    "LCSsequence(\"zzzbaxxcxg\",\"yyyabcdefg\")"
   ]
  },
  {
   "cell_type": "markdown",
   "metadata": {},
   "source": [
    "解がuniqueにならない. 上の例ではacgとbcgの２種類解"
   ]
  },
  {
   "cell_type": "code",
   "execution_count": 92,
   "metadata": {},
   "outputs": [
    {
     "data": {
      "text/plain": [
       "'cg'"
      ]
     },
     "execution_count": 92,
     "metadata": {},
     "output_type": "execute_result"
    }
   ],
   "source": [
    "LCSsequence(\"aaaaxxcxg\",\"abcdefg\")"
   ]
  },
  {
   "cell_type": "markdown",
   "metadata": {},
   "source": [
    "更に上のコードではacgが帰ってこない"
   ]
  },
  {
   "cell_type": "markdown",
   "metadata": {},
   "source": [
    "## 最長共通部分文字列"
   ]
  },
  {
   "cell_type": "code",
   "execution_count": 27,
   "metadata": {},
   "outputs": [],
   "source": [
    "def LCSstring(s1, s2):\n",
    "    if not s1 or not s2:\n",
    "        return 0\n",
    "\n",
    "    len1, len2 = len(s1), len(s2)\n",
    "\n",
    "    # memorization\n",
    "    m = []\n",
    "    for i in range(len1):\n",
    "        m.append([0]*len2) #m[len1][len2]\n",
    "\n",
    "    lcs = 0\n",
    "\n",
    "    # set 1st index value\n",
    "    for i, ch in enumerate(s1):\n",
    "        if ch == s2[0]:\n",
    "            m[i][0] = 1\n",
    "            lcs = 1\n",
    "    for i, ch in enumerate(s2):\n",
    "        if ch == s1[0]:\n",
    "            m[0][i] = 1\n",
    "            lcs = 1\n",
    "\n",
    "    # m[i][j] stands for s1[i] and s2[j]\n",
    "    # is the m[i][j] th bit of a common substring\n",
    "    i_position=0\n",
    "    for i in range(1, len1):\n",
    "        for j in range(1, len2):\n",
    "            if s1[i] == s2[j]:\n",
    "                m[i][j] = m[i-1][j-1] + 1\n",
    "                if m[i][j] > lcs:\n",
    "                    lcs=m[i][j]\n",
    "                    i_position=i\n",
    "            else:\n",
    "                m[i][j] = 0\n",
    "    \n",
    "    #print(lcs,i_position)\n",
    "    #return lcs\n",
    "    #return m        \n",
    "    return s1[i_position-lcs+1:i_position+1] \n",
    "     "
   ]
  },
  {
   "cell_type": "code",
   "execution_count": 28,
   "metadata": {},
   "outputs": [
    {
     "data": {
      "text/plain": [
       "'ab'"
      ]
     },
     "execution_count": 28,
     "metadata": {},
     "output_type": "execute_result"
    }
   ],
   "source": [
    "LCSstring(\"abcdefg\", \"abxxxcxxg\")"
   ]
  },
  {
   "cell_type": "code",
   "execution_count": null,
   "metadata": {},
   "outputs": [],
   "source": []
  },
  {
   "cell_type": "markdown",
   "metadata": {},
   "source": [
    "# 巡回セールスマン問題"
   ]
  },
  {
   "cell_type": "code",
   "execution_count": null,
   "metadata": {},
   "outputs": [],
   "source": []
  },
  {
   "cell_type": "code",
   "execution_count": 40,
   "metadata": {},
   "outputs": [],
   "source": [
    "# S=既に訪れた頂点(２進数を使って表現している), v=現在の位置\n",
    "INF = 1<<60\n",
    "def rec(S,v):\n",
    "    if dp[S][v]>=0:\n",
    "        return dp[S][v]\n",
    "    \n",
    "    if S==(1<<N)-1 and v==0:\n",
    "        dp[S][v]=0\n",
    "        return dp[S][v]\n",
    "    \n",
    "    res=INF\n",
    "    for u in range(N):\n",
    "        if (S>>u & 1)!=1:\n",
    "            res=min(res,rec(S|1<<u,u)+G[v][u])\n",
    "    \n",
    "    dp[S][v]=res\n",
    "    return dp[S][v]"
   ]
  },
  {
   "cell_type": "code",
   "execution_count": 41,
   "metadata": {},
   "outputs": [],
   "source": [
    "N=5\n",
    "# G=[[0,3,0,4,0],\n",
    "#    [0,0,5,0,0],\n",
    "#    [4,0,0,5,0],\n",
    "#    [0,0,0,0,3],\n",
    "#    [7,6,0,0,0]]\n",
    "\n",
    "G=[[INF,3,INF,4,INF],\n",
    "   [INF,INF,5,INF,INF],\n",
    "   [4,INF,INF,5,INF],\n",
    "   [INF,INF,INF,INF,3],\n",
    "   [7,6,INF,INF,INF]]"
   ]
  },
  {
   "cell_type": "code",
   "execution_count": 42,
   "metadata": {},
   "outputs": [
    {
     "data": {
      "text/plain": [
       "22"
      ]
     },
     "execution_count": 42,
     "metadata": {},
     "output_type": "execute_result"
    }
   ],
   "source": [
    "dp=[[-1]*N for _ in range((1<<5))]\n",
    "rec(0,0)"
   ]
  },
  {
   "cell_type": "markdown",
   "metadata": {},
   "source": [
    "# mod計算"
   ]
  },
  {
   "cell_type": "code",
   "execution_count": 1,
   "metadata": {},
   "outputs": [],
   "source": [
    "mod=10 ** 9 + 7"
   ]
  },
  {
   "cell_type": "markdown",
   "metadata": {},
   "source": [
    "# power"
   ]
  },
  {
   "cell_type": "code",
   "execution_count": 5,
   "metadata": {},
   "outputs": [
    {
     "data": {
      "text/plain": [
       "140625001"
      ]
     },
     "execution_count": 5,
     "metadata": {},
     "output_type": "execute_result"
    }
   ],
   "source": [
    "pow(2,n,mod)"
   ]
  },
  {
   "cell_type": "markdown",
   "metadata": {},
   "source": [
    "## binomial"
   ]
  },
  {
   "cell_type": "code",
   "execution_count": 3,
   "metadata": {},
   "outputs": [],
   "source": [
    "n=10**9\n",
    "a=12345"
   ]
  },
  {
   "cell_type": "code",
   "execution_count": 2,
   "metadata": {},
   "outputs": [],
   "source": [
    "def binomial(n,k):\n",
    "    x=1\n",
    "    y=1\n",
    "    for i in range(k):\n",
    "        x=x*(n-i)%mod\n",
    "        y=y*(i+1)%mod\n",
    "    return x*pow(y,mod-2,mod)%mod"
   ]
  },
  {
   "cell_type": "code",
   "execution_count": 4,
   "metadata": {},
   "outputs": [
    {
     "data": {
      "text/plain": [
       "463571078"
      ]
     },
     "execution_count": 4,
     "metadata": {},
     "output_type": "execute_result"
    }
   ],
   "source": [
    "binomial(n,a)"
   ]
  },
  {
   "cell_type": "markdown",
   "metadata": {},
   "source": [
    "# しゃくとり法"
   ]
  },
  {
   "cell_type": "code",
   "execution_count": 6,
   "metadata": {},
   "outputs": [],
   "source": [
    "n=10\n",
    "S=15\n",
    "a=[5,1,3,5,10,7,4,9,2,8]"
   ]
  },
  {
   "cell_type": "code",
   "execution_count": 7,
   "metadata": {},
   "outputs": [
    {
     "name": "stdout",
     "output_type": "stream",
     "text": [
      "0 5 24\n",
      "1 5 19\n",
      "2 5 18\n",
      "3 5 15\n",
      "4 6 17\n",
      "5 8 20\n",
      "6 9 15\n",
      "7 10 19\n"
     ]
    }
   ],
   "source": [
    "res=n+1\n",
    "s=0\n",
    "t=0\n",
    "summation=0\n",
    "while(True):\n",
    "    while(t<n and summation<S):\n",
    "        summation+=a[t]\n",
    "        t+=1\n",
    "    if (summation<S):\n",
    "        break\n",
    "    print(s,t,summation)\n",
    "    res=min(res,t-s)\n",
    "    summation-=a[s]\n",
    "    s+=1"
   ]
  },
  {
   "cell_type": "code",
   "execution_count": 8,
   "metadata": {},
   "outputs": [
    {
     "data": {
      "text/plain": [
       "2"
      ]
     },
     "execution_count": 8,
     "metadata": {},
     "output_type": "execute_result"
    }
   ],
   "source": [
    "res"
   ]
  },
  {
   "cell_type": "code",
   "execution_count": null,
   "metadata": {},
   "outputs": [],
   "source": []
  }
 ],
 "metadata": {
  "kernelspec": {
   "display_name": "Python 3",
   "language": "python",
   "name": "python3"
  },
  "language_info": {
   "codemirror_mode": {
    "name": "ipython",
    "version": 3
   },
   "file_extension": ".py",
   "mimetype": "text/x-python",
   "name": "python",
   "nbconvert_exporter": "python",
   "pygments_lexer": "ipython3",
   "version": "3.7.5"
  }
 },
 "nbformat": 4,
 "nbformat_minor": 2
}

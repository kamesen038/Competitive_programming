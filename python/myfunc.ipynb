{
 "cells": [
  {
   "cell_type": "markdown",
   "metadata": {},
   "source": [
    "# 二分探索"
   ]
  },
  {
   "cell_type": "code",
   "execution_count": 4,
   "metadata": {},
   "outputs": [],
   "source": [
    "def binary_search(array,element):\n",
    "    #array must be sorted\n",
    "    n=len(array)\n",
    "    l=0\n",
    "    r=n\n",
    "    while(r-l>=1):\n",
    "        i=(l+r)//2\n",
    "#         print(array[i],l,i,r)\n",
    "        if element == array[i]:\n",
    "            return True\n",
    "           \n",
    "        elif element > array[i]:\n",
    "            l=i+1\n",
    "        else:\n",
    "            r=i\n",
    "        \n",
    "    \n",
    "#         if jf==ji:\n",
    "#             break\n",
    "#     print(l,i,r)\n",
    "    return False    "
   ]
  },
  {
   "cell_type": "markdown",
   "metadata": {},
   "source": [
    "## example"
   ]
  },
  {
   "cell_type": "code",
   "execution_count": 5,
   "metadata": {},
   "outputs": [],
   "source": [
    "a=[1,2,3,4,5,6,7,8,9,10]"
   ]
  },
  {
   "cell_type": "code",
   "execution_count": 7,
   "metadata": {},
   "outputs": [
    {
     "data": {
      "text/plain": [
       "True"
      ]
     },
     "execution_count": 7,
     "metadata": {},
     "output_type": "execute_result"
    }
   ],
   "source": [
    "# array must be sorted\n",
    "binary_search(a,5)"
   ]
  },
  {
   "cell_type": "markdown",
   "metadata": {},
   "source": [
    "# 浮動小数点数"
   ]
  },
  {
   "cell_type": "code",
   "execution_count": 5,
   "metadata": {},
   "outputs": [],
   "source": [
    "import math\n",
    "def my_round(x, d=0):\n",
    "    p = 10 ** d\n",
    "    return float(math.floor((x * p) + math.copysign(0.5, x)))/p"
   ]
  },
  {
   "cell_type": "markdown",
   "metadata": {},
   "source": [
    "## example\n",
    "- pythonは桁の丸め方が変(roundは四捨五入の関数)"
   ]
  },
  {
   "cell_type": "code",
   "execution_count": 12,
   "metadata": {},
   "outputs": [
    {
     "data": {
      "text/plain": [
       "2"
      ]
     },
     "execution_count": 12,
     "metadata": {},
     "output_type": "execute_result"
    }
   ],
   "source": [
    "round(1.5)"
   ]
  },
  {
   "cell_type": "code",
   "execution_count": 11,
   "metadata": {},
   "outputs": [
    {
     "data": {
      "text/plain": [
       "2"
      ]
     },
     "execution_count": 11,
     "metadata": {},
     "output_type": "execute_result"
    }
   ],
   "source": [
    "round(2.5)"
   ]
  },
  {
   "cell_type": "code",
   "execution_count": 7,
   "metadata": {},
   "outputs": [
    {
     "data": {
      "text/plain": [
       "0.44"
      ]
     },
     "execution_count": 7,
     "metadata": {},
     "output_type": "execute_result"
    }
   ],
   "source": [
    "my_round(0.44444,2)"
   ]
  },
  {
   "cell_type": "code",
   "execution_count": 9,
   "metadata": {},
   "outputs": [
    {
     "data": {
      "text/plain": [
       "False"
      ]
     },
     "execution_count": 9,
     "metadata": {},
     "output_type": "execute_result"
    }
   ],
   "source": [
    "0.3-0.1==0.2"
   ]
  },
  {
   "cell_type": "code",
   "execution_count": 16,
   "metadata": {},
   "outputs": [
    {
     "name": "stdout",
     "output_type": "stream",
     "text": [
      "0.10000000000000000555\n"
     ]
    }
   ],
   "source": [
    "print(format(0.1, '.20f'))"
   ]
  },
  {
   "cell_type": "code",
   "execution_count": 17,
   "metadata": {},
   "outputs": [
    {
     "name": "stdout",
     "output_type": "stream",
     "text": [
      "0.20000000000000001110\n"
     ]
    }
   ],
   "source": [
    "print(format(0.2, '.20f'))"
   ]
  },
  {
   "cell_type": "code",
   "execution_count": 18,
   "metadata": {},
   "outputs": [
    {
     "name": "stdout",
     "output_type": "stream",
     "text": [
      "0.29999999999999998890\n"
     ]
    }
   ],
   "source": [
    "print(format(0.3, '.20f'))"
   ]
  },
  {
   "cell_type": "markdown",
   "metadata": {},
   "source": [
    "# 深さ優先探索"
   ]
  },
  {
   "cell_type": "code",
   "execution_count": 3,
   "metadata": {},
   "outputs": [],
   "source": [
    "def dfs(x,y):\n",
    "\n",
    "    field[x][y]='.'\n",
    "\n",
    "    \n",
    "    for dx in [-1,0,1]:\n",
    "        for dy in [-1,0,1]:\n",
    "            nx=x+dx\n",
    "            ny=y+dy\n",
    "            \n",
    "            if 0<=nx and nx<N and 0 <=ny and ny <M and field[nx][ny]=='W':\n",
    "                dfs(nx,ny)\n",
    "    return\n",
    "    "
   ]
  },
  {
   "cell_type": "markdown",
   "metadata": {},
   "source": [
    "## example"
   ]
  },
  {
   "cell_type": "code",
   "execution_count": 1,
   "metadata": {},
   "outputs": [],
   "source": [
    "N=10\n",
    "M=12"
   ]
  },
  {
   "cell_type": "code",
   "execution_count": 2,
   "metadata": {},
   "outputs": [],
   "source": [
    "field=[['W','.','.','.','.','.','.','.','.','W','W','.'],\n",
    "       ['.','W','W','W','.','.','.','.','.','W','W','W'],\n",
    "       ['.','.','.','.','W','W','.','.','.','W','W','.'],\n",
    "       ['.','.','.','.','.','.','.','.','.','W','W','.'],\n",
    "       ['.','.','.','.','.','.','.','.','.','W','.','.'],\n",
    "       ['.','.','W','.','.','.','.','.','.','W','W','.'],\n",
    "       ['.','W','.','W','.','.','.','.','.','.','W','.'],\n",
    "       ['W','.','W','.','W','.','.','.','.','.','W','.'],\n",
    "       ['.','W','.','W','.','.','.','.','.','.','W','.'],\n",
    "       ['.','.','W','.','.','.','.','.','.','.','W','.'],\n",
    "      ]"
   ]
  },
  {
   "cell_type": "code",
   "execution_count": 4,
   "metadata": {},
   "outputs": [
    {
     "name": "stdout",
     "output_type": "stream",
     "text": [
      "3\n"
     ]
    }
   ],
   "source": [
    "import copy\n",
    "see=[]\n",
    "field2=copy.deepcopy(field)\n",
    "see.append(field2)\n",
    "res=0\n",
    "for i in range(N):\n",
    "    for j in range(M):\n",
    "\n",
    "        if field[i][j]=='W':\n",
    "            dfs(i,j)\n",
    "            field2=copy.deepcopy(field)\n",
    "            see.append(field2)\n",
    "            \n",
    "            res+=1\n",
    "print(res)"
   ]
  },
  {
   "cell_type": "markdown",
   "metadata": {},
   "source": [
    "# 幅優先探索"
   ]
  },
  {
   "cell_type": "code",
   "execution_count": 11,
   "metadata": {},
   "outputs": [],
   "source": [
    "dx=[1,0,-1,0]\n",
    "dy=[0,1,0,-1]\n",
    "def bfs():\n",
    "    que=[]\n",
    "    for i in range(N):\n",
    "        for j in range(M):\n",
    "            d[i][j]=INF\n",
    "#     print(d)       \n",
    "    que.append([sx,sy])\n",
    "    d[sx][sy]=0\n",
    "#     print(d)  \n",
    "    while(len(que)>0):\n",
    "        p=que.pop(0)\n",
    "        if p[0]==gx and p[1]==gy:\n",
    "            break\n",
    "        for i in range(4):\n",
    "            nx=p[0]+dx[i]\n",
    "            ny=p[1]+dy[i]\n",
    "#             print(nx,ny, maze[nx][ny], d[nx][ny] )\n",
    "            if 0<=nx and nx<N and 0<=ny and ny<M and maze[nx][ny] != '#' and d[nx][ny]==INF:\n",
    "\n",
    "                que.append([nx,ny])\n",
    "                d[nx][ny]=d[p[0]][p[1]]+1\n",
    "\n",
    "    return d[gx][gy]"
   ]
  },
  {
   "cell_type": "markdown",
   "metadata": {},
   "source": [
    "## example"
   ]
  },
  {
   "cell_type": "code",
   "execution_count": 22,
   "metadata": {},
   "outputs": [],
   "source": [
    "INF=99\n",
    "N=10\n",
    "M=10\n",
    "sx=0\n",
    "sy=1\n",
    "gx=9\n",
    "gy=8\n",
    "d=[[0 for j in range(M)] for i in range(N)]"
   ]
  },
  {
   "cell_type": "code",
   "execution_count": 27,
   "metadata": {},
   "outputs": [],
   "source": [
    "maze = [['#','S','#','#','#','#','#','#','.','#'],\n",
    "        ['.','.','.','.','.','.','#','.','.','#'],\n",
    "        ['.','#','.','#','#','.','#','#','.','#'],\n",
    "        ['.','#','.','.','.','.','.','.','.','.'],\n",
    "        ['#','#','.','#','#','.','#','#','#','#'],\n",
    "        ['.','.','.','.','#','.','.','.','.','.'],\n",
    "        ['.','#','#','#','#','#','#','#','.','#'],\n",
    "        ['.','.','.','.','#','.','.','.','.','.'],\n",
    "        ['.','#','#','#','#','.','#','#','#','.'],\n",
    "        ['.','.','.','.','#','.','.','.','G','#'],\n",
    "        ]"
   ]
  },
  {
   "cell_type": "code",
   "execution_count": 28,
   "metadata": {},
   "outputs": [],
   "source": [
    "res=bfs()"
   ]
  },
  {
   "cell_type": "code",
   "execution_count": 29,
   "metadata": {},
   "outputs": [
    {
     "data": {
      "text/plain": [
       "22"
      ]
     },
     "execution_count": 29,
     "metadata": {},
     "output_type": "execute_result"
    }
   ],
   "source": [
    "res"
   ]
  },
  {
   "cell_type": "code",
   "execution_count": 30,
   "metadata": {},
   "outputs": [
    {
     "data": {
      "text/plain": [
       "[[99, 0, 99, 99, 99, 99, 99, 99, 13, 99],\n",
       " [2, 1, 2, 3, 4, 5, 99, 13, 12, 99],\n",
       " [3, 99, 3, 99, 99, 6, 99, 99, 11, 99],\n",
       " [4, 99, 4, 5, 6, 7, 8, 9, 10, 11],\n",
       " [99, 99, 5, 99, 99, 8, 99, 99, 99, 99],\n",
       " [8, 7, 6, 7, 99, 9, 10, 11, 12, 13],\n",
       " [9, 99, 99, 99, 99, 99, 99, 99, 13, 99],\n",
       " [10, 11, 12, 13, 99, 17, 16, 15, 14, 15],\n",
       " [11, 99, 99, 99, 99, 18, 99, 99, 99, 16],\n",
       " [12, 13, 14, 15, 99, 19, 20, 21, 22, 99]]"
      ]
     },
     "execution_count": 30,
     "metadata": {},
     "output_type": "execute_result"
    }
   ],
   "source": [
    "d"
   ]
  },
  {
   "cell_type": "markdown",
   "metadata": {},
   "source": [
    "# ベルマンフォード法"
   ]
  },
  {
   "cell_type": "code",
   "execution_count": 31,
   "metadata": {},
   "outputs": [],
   "source": [
    "\n",
    "def shortest_path(s):\n",
    "    INF = 1<<60\n",
    "    d=[INF]*(V+1)\n",
    "    d[s]=0\n",
    "    update=0\n",
    "    while(update==0):\n",
    "        update=1\n",
    "#         print(d)\n",
    "        for i in range(len(edge)):\n",
    "            e=edge[i]\n",
    "#             print(e)\n",
    "            if d[e[0]]!=INF and d[e[1]]>d[e[0]]+1:\n",
    "                d[e[1]]=d[e[0]]+1\n",
    "                update=0\n",
    "    return d"
   ]
  },
  {
   "cell_type": "code",
   "execution_count": 32,
   "metadata": {},
   "outputs": [],
   "source": [
    "V=9\n",
    "edge=[[1, 2], [1, 3], [4, 2], [4, 3], [4, 5], [4, 6], [7, 5], [7, 6], [8, 9]]\n",
    "ans=[]\n",
    "for e in edge:\n",
    "    ans.append([e[1],e[0]])\n",
    "edge+=ans\n",
    "edge.sort()"
   ]
  },
  {
   "cell_type": "code",
   "execution_count": 33,
   "metadata": {},
   "outputs": [
    {
     "data": {
      "text/plain": [
       "[1152921504606846976,\n",
       " 0,\n",
       " 1,\n",
       " 1,\n",
       " 2,\n",
       " 3,\n",
       " 3,\n",
       " 4,\n",
       " 1152921504606846976,\n",
       " 1152921504606846976]"
      ]
     },
     "execution_count": 33,
     "metadata": {},
     "output_type": "execute_result"
    }
   ],
   "source": [
    "shortest_path(1)"
   ]
  },
  {
   "cell_type": "markdown",
   "metadata": {},
   "source": [
    "# 動的計画法"
   ]
  },
  {
   "cell_type": "code",
   "execution_count": 34,
   "metadata": {},
   "outputs": [],
   "source": [
    "n=4\n",
    "w=[2,1,3,4]\n",
    "v=[3,2,4,2]\n",
    "wv=[[2,3],[1,2],[3,4],[2,2]]\n",
    "W=5"
   ]
  },
  {
   "cell_type": "code",
   "execution_count": 35,
   "metadata": {},
   "outputs": [],
   "source": [
    "def rec(i,j):\n",
    "    \n",
    "    if dp[i][j]>=0:\n",
    "        return dp[i][j] \n",
    "    if i==n-1:\n",
    "        res=0\n",
    "    elif j<w[i]:\n",
    "        res=rec(i+1,j)\n",
    "    else:\n",
    "        res=max(rec(i+1,j),rec(i+1,j-w[i])+v[i])\n",
    "    \n",
    "    dp[i][j]=res\n",
    "    return dp[i][j]"
   ]
  },
  {
   "cell_type": "code",
   "execution_count": 36,
   "metadata": {},
   "outputs": [
    {
     "data": {
      "text/plain": [
       "7"
      ]
     },
     "execution_count": 36,
     "metadata": {},
     "output_type": "execute_result"
    }
   ],
   "source": [
    "dp=[[-1]*(W+1) for i in range(n+1)]\n",
    "rec(0,W)"
   ]
  },
  {
   "cell_type": "code",
   "execution_count": 37,
   "metadata": {},
   "outputs": [
    {
     "data": {
      "text/plain": [
       "[[-1, -1, -1, -1, -1, 7],\n",
       " [-1, -1, -1, 4, -1, 6],\n",
       " [-1, -1, 0, 4, 4, 4],\n",
       " [0, 0, 0, 0, 0, 0],\n",
       " [-1, -1, -1, -1, -1, -1]]"
      ]
     },
     "execution_count": 37,
     "metadata": {},
     "output_type": "execute_result"
    }
   ],
   "source": [
    "dp"
   ]
  },
  {
   "cell_type": "markdown",
   "metadata": {},
   "source": [
    "# 巡回セールスマン問題"
   ]
  },
  {
   "cell_type": "code",
   "execution_count": 40,
   "metadata": {},
   "outputs": [],
   "source": [
    "# S=既に訪れた頂点(２進数を使って表現している), v=現在の位置\n",
    "INF = 1<<60\n",
    "def rec(S,v):\n",
    "    if dp[S][v]>=0:\n",
    "        return dp[S][v]\n",
    "    \n",
    "    if S==(1<<N)-1 and v==0:\n",
    "        dp[S][v]=0\n",
    "        return dp[S][v]\n",
    "    \n",
    "    res=INF\n",
    "    for u in range(N):\n",
    "        if (S>>u & 1)!=1:\n",
    "            res=min(res,rec(S|1<<u,u)+G[v][u])\n",
    "    \n",
    "    dp[S][v]=res\n",
    "    return dp[S][v]"
   ]
  },
  {
   "cell_type": "code",
   "execution_count": 41,
   "metadata": {},
   "outputs": [],
   "source": [
    "N=5\n",
    "# G=[[0,3,0,4,0],\n",
    "#    [0,0,5,0,0],\n",
    "#    [4,0,0,5,0],\n",
    "#    [0,0,0,0,3],\n",
    "#    [7,6,0,0,0]]\n",
    "\n",
    "G=[[INF,3,INF,4,INF],\n",
    "   [INF,INF,5,INF,INF],\n",
    "   [4,INF,INF,5,INF],\n",
    "   [INF,INF,INF,INF,3],\n",
    "   [7,6,INF,INF,INF]]"
   ]
  },
  {
   "cell_type": "code",
   "execution_count": 42,
   "metadata": {},
   "outputs": [
    {
     "data": {
      "text/plain": [
       "22"
      ]
     },
     "execution_count": 42,
     "metadata": {},
     "output_type": "execute_result"
    }
   ],
   "source": [
    "dp=[[-1]*N for _ in range((1<<5))]\n",
    "rec(0,0)"
   ]
  },
  {
   "cell_type": "code",
   "execution_count": null,
   "metadata": {},
   "outputs": [],
   "source": []
  }
 ],
 "metadata": {
  "kernelspec": {
   "display_name": "Python 3",
   "language": "python",
   "name": "python3"
  },
  "language_info": {
   "codemirror_mode": {
    "name": "ipython",
    "version": 3
   },
   "file_extension": ".py",
   "mimetype": "text/x-python",
   "name": "python",
   "nbconvert_exporter": "python",
   "pygments_lexer": "ipython3",
   "version": "3.6.8"
  }
 },
 "nbformat": 4,
 "nbformat_minor": 2
}

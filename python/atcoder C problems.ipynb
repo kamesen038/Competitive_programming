{
 "cells": [
  {
   "cell_type": "code",
   "execution_count": 1,
   "metadata": {},
   "outputs": [],
   "source": [
    "#1"
   ]
  },
  {
   "cell_type": "code",
   "execution_count": 2,
   "metadata": {},
   "outputs": [
    {
     "name": "stdout",
     "output_type": "stream",
     "text": [
      "2750 628\n"
     ]
    }
   ],
   "source": [
    "Deg, Dis = map(int, input().split())\n"
   ]
  },
  {
   "cell_type": "code",
   "execution_count": 3,
   "metadata": {},
   "outputs": [],
   "source": [
    "W=Dis/60"
   ]
  },
  {
   "cell_type": "code",
   "execution_count": 4,
   "metadata": {},
   "outputs": [
    {
     "data": {
      "text/plain": [
       "10.466666666666667"
      ]
     },
     "execution_count": 4,
     "metadata": {},
     "output_type": "execute_result"
    }
   ],
   "source": [
    "W"
   ]
  },
  {
   "cell_type": "code",
   "execution_count": 6,
   "metadata": {},
   "outputs": [],
   "source": [
    "if 0<=W and W<=0.2:\n",
    "    w=0\n",
    "elif 0.3<=W and W<=1.5:\n",
    "    w=1\n",
    "elif 1.6<=W and W<=3.3:\n",
    "    w=2\n",
    "elif 3.4<=W and W<=5.4:\n",
    "    w=3\n",
    "elif 5.5<=W and W<=7.9:\n",
    "    w=4\n",
    "elif 8.0<=W and W<=10.7:\n",
    "    w=5\n",
    "elif 10.8<=W and W<=13.8:\n",
    "    w=6\n",
    "elif 13.9<=W and W<=17.1:\n",
    "    w=7\n",
    "elif 17.2<=W and W<=1.5:\n",
    "    w=8\n",
    "elif 20.8<=W and W<=1.5:\n",
    "    w=9\n",
    "elif 24.5<=W and W<=1.5:\n",
    "    w=10\n",
    "elif 28.5<=W and W<=1.5:\n",
    "    w=11\n",
    "elif 32.7<=W:\n",
    "    w=12\n",
    "\n",
    "\n"
   ]
  },
  {
   "cell_type": "code",
   "execution_count": 7,
   "metadata": {},
   "outputs": [
    {
     "data": {
      "text/plain": [
       "5"
      ]
     },
     "execution_count": 7,
     "metadata": {},
     "output_type": "execute_result"
    }
   ],
   "source": [
    "w"
   ]
  },
  {
   "cell_type": "code",
   "execution_count": 15,
   "metadata": {},
   "outputs": [],
   "source": [
    "x=33.75-11.25\n",
    "direction=[]\n",
    "for i in range(16):\n",
    "    direction.append(11.25 + x*i)"
   ]
  },
  {
   "cell_type": "code",
   "execution_count": 16,
   "metadata": {},
   "outputs": [
    {
     "data": {
      "text/plain": [
       "[11.25,\n",
       " 33.75,\n",
       " 56.25,\n",
       " 78.75,\n",
       " 101.25,\n",
       " 123.75,\n",
       " 146.25,\n",
       " 168.75,\n",
       " 191.25,\n",
       " 213.75,\n",
       " 236.25,\n",
       " 258.75,\n",
       " 281.25,\n",
       " 303.75,\n",
       " 326.25,\n",
       " 348.75]"
      ]
     },
     "execution_count": 16,
     "metadata": {},
     "output_type": "execute_result"
    }
   ],
   "source": [
    "direction"
   ]
  },
  {
   "cell_type": "code",
   "execution_count": 17,
   "metadata": {},
   "outputs": [],
   "source": [
    "if Deg/10 < direction[0]:\n",
    "    d=\"N\"\n",
    "elif direction[0]<=Deg/10 and Deg/10 < direction[1]:\n",
    "    d=\"NNE\"\n",
    "elif direction[1]<=Deg/10 and Deg/10 < direction[2]:\n",
    "    d=\"NE\"\n",
    "elif direction[2]<=Deg/10 and Deg/10 < direction[3]:\n",
    "    d=\"ENE\"\n",
    "elif direction[3]<=Deg/10 and Deg/10 < direction[4]:\n",
    "    d=\"E\"\n",
    "elif direction[4]<=Deg/10 and Deg/10 < direction[5]:\n",
    "    d=\"ESE\"\n",
    "elif direction[5]<=Deg/10 and Deg/10 < direction[6]:\n",
    "    d=\"SE\"\n",
    "elif direction[6]<=Deg/10 and Deg/10 < direction[7]:\n",
    "    d=\"SSE\"\n",
    "elif direction[7]<=Deg/10 and Deg/10 < direction[8]:\n",
    "    d=\"S\"\n",
    "elif direction[8]<=Deg/10 and Deg/10 < direction[9]:\n",
    "    d=\"SSW\"\n",
    "elif direction[9]<=Deg/10 and Deg/10 < direction[10]:\n",
    "    d=\"SW\"\n",
    "elif direction[10]<=Deg/10 and Deg/10 < direction[11]:\n",
    "    d=\"WSW\"\n",
    "elif direction[11]<=Deg/10 and Deg/10 < direction[12]:\n",
    "    d=\"W\"\n",
    "elif direction[12]<=Deg/10 and Deg/10 < direction[13]:\n",
    "    d=\"WNW\"\n",
    "elif direction[13]<=Deg/10 and Deg/10 < direction[14]:\n",
    "    d=\"NW\"\n",
    "elif direction[14]<=Deg/10 and Deg/10 < direction[15]:\n",
    "    d=\"NNW\"\n",
    "elif direction[15]<=Deg/10 and Deg/10 < direction[16]:\n",
    "    d=\"N\"\n",
    "else:\n",
    "    d=\"NNE\""
   ]
  },
  {
   "cell_type": "code",
   "execution_count": 18,
   "metadata": {},
   "outputs": [
    {
     "data": {
      "text/plain": [
       "'W'"
      ]
     },
     "execution_count": 18,
     "metadata": {},
     "output_type": "execute_result"
    }
   ],
   "source": [
    "d"
   ]
  },
  {
   "cell_type": "markdown",
   "metadata": {},
   "source": [
    "- submitted code"
   ]
  },
  {
   "cell_type": "code",
   "execution_count": 61,
   "metadata": {},
   "outputs": [
    {
     "name": "stdout",
     "output_type": "stream",
     "text": [
      "1 1\n",
      "C 0\n"
     ]
    }
   ],
   "source": [
    "import math\n",
    "def my_round(x, d=0):\n",
    "    p = 10 ** d\n",
    "    return float(math.floor((x * p) + math.copysign(0.5, x)))/p\n",
    "\n",
    "Deg, Dis = map(int, input().split())\n",
    "round=lambda x:(x*2+1)//2\n",
    "WW=(Dis+0.00001)/60\n",
    "W=my_round(WW,1)\n",
    "if 0<=W and W<=0.2:\n",
    "    w=0\n",
    "elif 0.3<=W and W<=1.5:\n",
    "    w=1\n",
    "elif 1.6<=W and W<=3.3:\n",
    "    w=2\n",
    "elif 3.4<=W and W<=5.4:\n",
    "    w=3\n",
    "elif 5.5<=W and W<=7.9:\n",
    "    w=4\n",
    "elif 8.0<=W and W<=10.7:\n",
    "    w=5\n",
    "elif 10.8<=W and W<=13.8:\n",
    "    w=6\n",
    "elif 13.9<=W and W<=17.1:\n",
    "    w=7\n",
    "elif 17.2<=W and W<=20.7:\n",
    "    w=8\n",
    "elif 20.8<=W and W<=24.4:\n",
    "    w=9\n",
    "elif 24.5<=W and W<=28.4:\n",
    "    w=10\n",
    "elif 28.5<=W and W<=32.6:\n",
    "    w=11\n",
    "elif 32.7<=W:\n",
    "    w=12\n",
    "x=33.75-11.25\n",
    "direction=[]\n",
    "for i in range(16):\n",
    "    direction.append(11.25 + x*i)\n",
    "if Deg/10 < direction[0]:\n",
    "    d=\"N\"\n",
    "elif direction[0]<=Deg/10 and Deg/10 < direction[1]:\n",
    "    d=\"NNE\"\n",
    "elif direction[1]<=Deg/10 and Deg/10 < direction[2]:\n",
    "    d=\"NE\"\n",
    "elif direction[2]<=Deg/10 and Deg/10 < direction[3]:\n",
    "    d=\"ENE\"\n",
    "elif direction[3]<=Deg/10 and Deg/10 < direction[4]:\n",
    "    d=\"E\"\n",
    "elif direction[4]<=Deg/10 and Deg/10 < direction[5]:\n",
    "    d=\"ESE\"\n",
    "elif direction[5]<=Deg/10 and Deg/10 < direction[6]:\n",
    "    d=\"SE\"\n",
    "elif direction[6]<=Deg/10 and Deg/10 < direction[7]:\n",
    "    d=\"SSE\"\n",
    "elif direction[7]<=Deg/10 and Deg/10 < direction[8]:\n",
    "    d=\"S\"\n",
    "elif direction[8]<=Deg/10 and Deg/10 < direction[9]:\n",
    "    d=\"SSW\"\n",
    "elif direction[9]<=Deg/10 and Deg/10 < direction[10]:\n",
    "    d=\"SW\"\n",
    "elif direction[10]<=Deg/10 and Deg/10 < direction[11]:\n",
    "    d=\"WSW\"\n",
    "elif direction[11]<=Deg/10 and Deg/10 < direction[12]:\n",
    "    d=\"W\"\n",
    "elif direction[12]<=Deg/10 and Deg/10 < direction[13]:\n",
    "    d=\"WNW\"\n",
    "elif direction[13]<=Deg/10 and Deg/10 < direction[14]:\n",
    "    d=\"NW\"\n",
    "elif direction[14]<=Deg/10 and Deg/10 < direction[15]:\n",
    "    d=\"NNW\"\n",
    "else:\n",
    "    d=\"N\"\n",
    "\n",
    "    \n",
    "if w==0:\n",
    "    d=\"C\"\n",
    "print(d,w)"
   ]
  },
  {
   "cell_type": "markdown",
   "metadata": {},
   "source": [
    "- better code"
   ]
  },
  {
   "cell_type": "code",
   "execution_count": 129,
   "metadata": {},
   "outputs": [
    {
     "name": "stdout",
     "output_type": "stream",
     "text": [
      "1462 1959\n",
      "SE 12\n"
     ]
    }
   ],
   "source": [
    "import math\n",
    "def my_round(x, d=0):\n",
    "    p = 10 ** d\n",
    "    return float(math.floor((x * p) + math.copysign(0.5, x)))/p\n",
    "\n",
    "Deg, Dis = map(int, input().split())\n",
    "WW=(Dis+0.00001)/60\n",
    "W=my_round(WW,1)\n",
    "direction=[\"N\",\"NNE\",\"NE\",\"ENE\",\"E\",\"ESE\",\"SE\",\"SSE\",\"S\",\"SSW\",\"SW\",\"WSW\",\"W\",\"WNW\",\"NW\",\"NNW\",\"N\"]\n",
    "W_power=[0.0, 0.3, 1.6, 3.4, 5.5, 8.0, 10.8, 13.9, 17.2, 20.8, 24.5, 28.5,32.7]\n",
    "x=33.75-11.25\n",
    "direction_range=[0]\n",
    "d=\"N\"\n",
    "for i in range(16):\n",
    "    direction_range.append(11.25 + x*i)\n",
    "for i in range(16):\n",
    "    if direction_range[i]<=Deg/10 and Deg/10<direction_range[i+1]:\n",
    "        d=direction[i]\n",
    "w=12\n",
    "for i in range(12):\n",
    "#     print(W_power[i], W, my_round(W_power[i+1]-0.1,1),w)\n",
    "    if W_power[i]<=W and  W<=my_round(W_power[i+1]-0.1,1):        \n",
    "        w=i\n",
    "#         print(\"Now\")\n",
    "    \n",
    "    \n",
    "if w==0:\n",
    "    d=\"C\"\n",
    "print(d,w)"
   ]
  },
  {
   "cell_type": "code",
   "execution_count": 138,
   "metadata": {},
   "outputs": [
    {
     "data": {
      "text/plain": [
       "0.19999999999999998"
      ]
     },
     "execution_count": 138,
     "metadata": {},
     "output_type": "execute_result"
    }
   ],
   "source": [
    "0.3-0.1"
   ]
  },
  {
   "cell_type": "code",
   "execution_count": 132,
   "metadata": {},
   "outputs": [
    {
     "data": {
      "text/plain": [
       "0.1"
      ]
     },
     "execution_count": 132,
     "metadata": {},
     "output_type": "execute_result"
    }
   ],
   "source": [
    "0.2-0.1"
   ]
  },
  {
   "cell_type": "code",
   "execution_count": 133,
   "metadata": {},
   "outputs": [
    {
     "data": {
      "text/plain": [
       "0.30000000000000004"
      ]
     },
     "execution_count": 133,
     "metadata": {},
     "output_type": "execute_result"
    }
   ],
   "source": [
    "0.4-0.1"
   ]
  },
  {
   "cell_type": "code",
   "execution_count": 134,
   "metadata": {},
   "outputs": [
    {
     "data": {
      "text/plain": [
       "0.4"
      ]
     },
     "execution_count": 134,
     "metadata": {},
     "output_type": "execute_result"
    }
   ],
   "source": [
    "0.5-0.1"
   ]
  },
  {
   "cell_type": "code",
   "execution_count": 136,
   "metadata": {},
   "outputs": [
    {
     "data": {
      "text/plain": [
       "0.09999999999999998"
      ]
     },
     "execution_count": 136,
     "metadata": {},
     "output_type": "execute_result"
    }
   ],
   "source": [
    "\n",
    "0.3-0.2"
   ]
  },
  {
   "cell_type": "code",
   "execution_count": 139,
   "metadata": {},
   "outputs": [
    {
     "name": "stdout",
     "output_type": "stream",
     "text": [
      "0.10000000000000000555\n"
     ]
    }
   ],
   "source": [
    "print(format(0.1, '.20f'))"
   ]
  },
  {
   "cell_type": "code",
   "execution_count": 140,
   "metadata": {},
   "outputs": [
    {
     "name": "stdout",
     "output_type": "stream",
     "text": [
      "0.19999999999999998335\n"
     ]
    }
   ],
   "source": [
    "print(format(0.3-0.1, '.20f'))"
   ]
  },
  {
   "cell_type": "code",
   "execution_count": 152,
   "metadata": {},
   "outputs": [
    {
     "name": "stdout",
     "output_type": "stream",
     "text": [
      "3 9\n"
     ]
    }
   ],
   "source": [
    "N,M = map(int, input().split())"
   ]
  },
  {
   "cell_type": "code",
   "execution_count": 196,
   "metadata": {},
   "outputs": [
    {
     "name": "stdout",
     "output_type": "stream",
     "text": [
      "100 200\n",
      "100 0 0\n"
     ]
    }
   ],
   "source": [
    "N,M = map(int, input().split())\n",
    "flag=1\n",
    "for a in range(N+1):\n",
    "    b=4*N-M-2*a\n",
    "#     print(a,b)\n",
    "    l=0\n",
    "    r=N-a+1\n",
    "\n",
    "    while(r-l>=1):\n",
    "        j=(l+r)//2\n",
    "#         print(a,b,l,j,r)\n",
    "        if b==j:\n",
    "            A=a\n",
    "            B=b\n",
    "            C=N-A-B\n",
    "            flag=0\n",
    "            break\n",
    "        elif b>j:\n",
    "            l=j+1\n",
    "        else:\n",
    "            r=j\n",
    "    if flag==0:\n",
    "        break\n",
    "if flag==1:\n",
    "    A=-1\n",
    "    B=-1\n",
    "    C=-1\n",
    "print(A,B,C)"
   ]
  },
  {
   "cell_type": "code",
   "execution_count": 171,
   "metadata": {},
   "outputs": [
    {
     "data": {
      "text/plain": [
       "0"
      ]
     },
     "execution_count": 171,
     "metadata": {},
     "output_type": "execute_result"
    }
   ],
   "source": [
    "b"
   ]
  },
  {
   "cell_type": "code",
   "execution_count": 172,
   "metadata": {},
   "outputs": [
    {
     "data": {
      "text/plain": [
       "100"
      ]
     },
     "execution_count": 172,
     "metadata": {},
     "output_type": "execute_result"
    }
   ],
   "source": [
    "a"
   ]
  },
  {
   "cell_type": "code",
   "execution_count": 174,
   "metadata": {},
   "outputs": [
    {
     "data": {
      "text/plain": [
       "0"
      ]
     },
     "execution_count": 174,
     "metadata": {},
     "output_type": "execute_result"
    }
   ],
   "source": [
    "N-a-b"
   ]
  },
  {
   "cell_type": "code",
   "execution_count": 180,
   "metadata": {},
   "outputs": [
    {
     "data": {
      "text/plain": [
       "0"
      ]
     },
     "execution_count": 180,
     "metadata": {},
     "output_type": "execute_result"
    }
   ],
   "source": [
    "j"
   ]
  },
  {
   "cell_type": "code",
   "execution_count": 183,
   "metadata": {},
   "outputs": [
    {
     "name": "stdout",
     "output_type": "stream",
     "text": [
      "0\n",
      "1\n",
      "2\n",
      "3\n",
      "4\n",
      "5\n",
      "6\n",
      "7\n",
      "8\n",
      "9\n",
      "10\n",
      "11\n",
      "12\n",
      "13\n",
      "14\n",
      "15\n",
      "16\n",
      "17\n",
      "18\n",
      "19\n",
      "20\n",
      "21\n",
      "22\n",
      "23\n",
      "24\n",
      "25\n",
      "26\n",
      "27\n",
      "28\n",
      "29\n",
      "30\n",
      "31\n",
      "32\n",
      "33\n",
      "34\n",
      "35\n",
      "36\n",
      "37\n",
      "38\n",
      "39\n",
      "40\n",
      "41\n",
      "42\n",
      "43\n",
      "44\n",
      "45\n",
      "46\n",
      "47\n",
      "48\n",
      "49\n",
      "50\n",
      "51\n",
      "52\n",
      "53\n",
      "54\n",
      "55\n",
      "56\n",
      "57\n",
      "58\n",
      "59\n",
      "60\n",
      "61\n",
      "62\n",
      "63\n",
      "64\n",
      "65\n",
      "66\n",
      "67\n",
      "68\n",
      "69\n",
      "70\n",
      "71\n",
      "72\n",
      "73\n",
      "74\n",
      "75\n",
      "76\n",
      "77\n",
      "78\n",
      "79\n",
      "80\n",
      "81\n",
      "82\n",
      "83\n",
      "84\n",
      "85\n",
      "86\n",
      "87\n",
      "88\n",
      "89\n",
      "90\n",
      "91\n",
      "92\n",
      "93\n",
      "94\n",
      "95\n",
      "96\n",
      "97\n",
      "98\n",
      "99\n",
      "100\n",
      "101\n"
     ]
    }
   ],
   "source": [
    "for a in range(N+2):\n",
    "    print(a)"
   ]
  },
  {
   "cell_type": "code",
   "execution_count": 203,
   "metadata": {},
   "outputs": [],
   "source": [
    "from sys import stdin\n",
    "\n",
    "from queue import Queue"
   ]
  },
  {
   "cell_type": "code",
   "execution_count": 199,
   "metadata": {},
   "outputs": [],
   "source": [
    "a=[1,2,3,4,5]\n",
    "x=Queue(2)"
   ]
  },
  {
   "cell_type": "code",
   "execution_count": 200,
   "metadata": {},
   "outputs": [
    {
     "data": {
      "text/plain": [
       "<queue.Queue at 0x10dfb0550>"
      ]
     },
     "execution_count": 200,
     "metadata": {},
     "output_type": "execute_result"
    }
   ],
   "source": [
    "x"
   ]
  },
  {
   "cell_type": "code",
   "execution_count": 201,
   "metadata": {},
   "outputs": [],
   "source": [
    "from sys import stdin\n",
    "from collections import deque"
   ]
  },
  {
   "cell_type": "code",
   "execution_count": 236,
   "metadata": {},
   "outputs": [
    {
     "name": "stdout",
     "output_type": "stream",
     "text": [
      "7 8\n",
      "2 2\n",
      "4 5\n"
     ]
    }
   ],
   "source": [
    "R,C = map(int, input().split())\n",
    "sy,sx = map(int, input().split())\n",
    "gy,gx = map(int, input().split())\n",
    "maze = [stdin.readline().rstrip().split() for _ in range(R)]"
   ]
  },
  {
   "cell_type": "code",
   "execution_count": 208,
   "metadata": {},
   "outputs": [],
   "source": [
    "INF=10**5\n",
    "d=[[INF for i in range(C)] for j in range(R)]"
   ]
  },
  {
   "cell_type": "code",
   "execution_count": 220,
   "metadata": {},
   "outputs": [
    {
     "ename": "IndexError",
     "evalue": "list index out of range",
     "output_type": "error",
     "traceback": [
      "\u001b[0;31m---------------------------------------------------------------------------\u001b[0m",
      "\u001b[0;31mIndexError\u001b[0m                                Traceback (most recent call last)",
      "\u001b[0;32m<ipython-input-220-951e5e9fb0cc>\u001b[0m in \u001b[0;36m<module>\u001b[0;34m\u001b[0m\n\u001b[1;32m     15\u001b[0m         \u001b[0my\u001b[0m\u001b[0;34m=\u001b[0m\u001b[0mp\u001b[0m\u001b[0;34m[\u001b[0m\u001b[0;36m1\u001b[0m\u001b[0;34m]\u001b[0m\u001b[0;34m+\u001b[0m\u001b[0mdy\u001b[0m\u001b[0;34m[\u001b[0m\u001b[0mi\u001b[0m\u001b[0;34m]\u001b[0m\u001b[0;34m\u001b[0m\u001b[0;34m\u001b[0m\u001b[0m\n\u001b[1;32m     16\u001b[0m \u001b[0;34m\u001b[0m\u001b[0m\n\u001b[0;32m---> 17\u001b[0;31m         \u001b[0;32mif\u001b[0m \u001b[0;36m0\u001b[0m\u001b[0;34m<=\u001b[0m\u001b[0mx\u001b[0m \u001b[0;32mand\u001b[0m \u001b[0mx\u001b[0m\u001b[0;34m<\u001b[0m\u001b[0mR\u001b[0m \u001b[0;32mand\u001b[0m \u001b[0;36m0\u001b[0m\u001b[0;34m<=\u001b[0m\u001b[0my\u001b[0m \u001b[0;32mand\u001b[0m \u001b[0my\u001b[0m\u001b[0;34m<\u001b[0m\u001b[0mC\u001b[0m \u001b[0;32mand\u001b[0m \u001b[0mmaze\u001b[0m\u001b[0;34m[\u001b[0m\u001b[0mx\u001b[0m\u001b[0;34m]\u001b[0m\u001b[0;34m[\u001b[0m\u001b[0my\u001b[0m\u001b[0;34m]\u001b[0m \u001b[0;34m==\u001b[0m \u001b[0;34m'.'\u001b[0m \u001b[0;32mand\u001b[0m \u001b[0md\u001b[0m\u001b[0;34m[\u001b[0m\u001b[0mx\u001b[0m\u001b[0;34m]\u001b[0m\u001b[0;34m[\u001b[0m\u001b[0my\u001b[0m\u001b[0;34m]\u001b[0m \u001b[0;34m==\u001b[0m\u001b[0mINF\u001b[0m\u001b[0;34m:\u001b[0m\u001b[0;34m\u001b[0m\u001b[0;34m\u001b[0m\u001b[0m\n\u001b[0m\u001b[1;32m     18\u001b[0m             \u001b[0md\u001b[0m\u001b[0;34m[\u001b[0m\u001b[0mx\u001b[0m\u001b[0;34m]\u001b[0m\u001b[0;34m[\u001b[0m\u001b[0my\u001b[0m\u001b[0;34m]\u001b[0m\u001b[0;34m=\u001b[0m\u001b[0md\u001b[0m\u001b[0;34m[\u001b[0m\u001b[0mp\u001b[0m\u001b[0;34m[\u001b[0m\u001b[0;36m0\u001b[0m\u001b[0;34m]\u001b[0m\u001b[0;34m]\u001b[0m\u001b[0;34m[\u001b[0m\u001b[0mp\u001b[0m\u001b[0;34m[\u001b[0m\u001b[0;36m1\u001b[0m\u001b[0;34m]\u001b[0m\u001b[0;34m]\u001b[0m\u001b[0;34m+\u001b[0m\u001b[0;36m1\u001b[0m\u001b[0;34m\u001b[0m\u001b[0;34m\u001b[0m\u001b[0m\n\u001b[1;32m     19\u001b[0m             \u001b[0mque\u001b[0m\u001b[0;34m.\u001b[0m\u001b[0mappend\u001b[0m\u001b[0;34m(\u001b[0m\u001b[0;34m[\u001b[0m\u001b[0mx\u001b[0m\u001b[0;34m,\u001b[0m\u001b[0my\u001b[0m\u001b[0;34m]\u001b[0m\u001b[0;34m)\u001b[0m\u001b[0;34m\u001b[0m\u001b[0;34m\u001b[0m\u001b[0m\n",
      "\u001b[0;31mIndexError\u001b[0m: list index out of range"
     ]
    }
   ],
   "source": [
    "d[sx][sy]=0\n",
    "que=deque(maxlen=100)\n",
    "que.append([sx,sy])\n",
    "\n",
    "dx=[0,0,1,-1]\n",
    "dy=[1,-1,0,0]\n",
    "\n",
    "while(len(que)>0):\n",
    "    p=que.popleft()\n",
    "    \n",
    "    if p==[gx,gy]:\n",
    "        break\n",
    "    for i in range(4):\n",
    "        x=p[0]+dx[i]\n",
    "        y=p[1]+dy[i]\n",
    "        \n",
    "        if 0<=x and x<R and 0<=y and y<C and maze[x][y] == '.' and d[x][y] ==INF:\n",
    "            d[x][y]=d[p[0]][p[1]]+1\n",
    "            que.append([x,y])\n",
    "print(d[gx][gy])"
   ]
  },
  {
   "cell_type": "code",
   "execution_count": 216,
   "metadata": {},
   "outputs": [],
   "source": [
    "que.append([sx,sy])"
   ]
  },
  {
   "cell_type": "code",
   "execution_count": 217,
   "metadata": {},
   "outputs": [
    {
     "data": {
      "text/plain": [
       "deque([[2, 2], [2, 2]])"
      ]
     },
     "execution_count": 217,
     "metadata": {},
     "output_type": "execute_result"
    }
   ],
   "source": [
    "\n",
    "que"
   ]
  },
  {
   "cell_type": "code",
   "execution_count": 219,
   "metadata": {},
   "outputs": [
    {
     "data": {
      "text/plain": [
       "2"
      ]
     },
     "execution_count": 219,
     "metadata": {},
     "output_type": "execute_result"
    }
   ],
   "source": [
    "len(que)"
   ]
  },
  {
   "cell_type": "code",
   "execution_count": null,
   "metadata": {},
   "outputs": [],
   "source": [
    "from collections import deque\n",
    "\n",
    "R,C = map(int, input().split())\n",
    "sy,sx = map(int, input().split())\n",
    "gy,gx = map(int, input().split())\n",
    "maze = [list(input()) for _ in range(R)]\n",
    "\n"
   ]
  },
  {
   "cell_type": "code",
   "execution_count": 231,
   "metadata": {},
   "outputs": [],
   "source": [
    "sx-=1\n",
    "sy-=1\n",
    "gx-=1\n",
    "gy-=1"
   ]
  },
  {
   "cell_type": "code",
   "execution_count": 232,
   "metadata": {},
   "outputs": [
    {
     "data": {
      "text/plain": [
       "1"
      ]
     },
     "execution_count": 232,
     "metadata": {},
     "output_type": "execute_result"
    }
   ],
   "source": [
    "sx"
   ]
  },
  {
   "cell_type": "code",
   "execution_count": 221,
   "metadata": {},
   "outputs": [
    {
     "ename": "IndexError",
     "evalue": "list index out of range",
     "output_type": "error",
     "traceback": [
      "\u001b[0;31m---------------------------------------------------------------------------\u001b[0m",
      "\u001b[0;31mIndexError\u001b[0m                                Traceback (most recent call last)",
      "\u001b[0;32m<ipython-input-221-abc1f9568ee9>\u001b[0m in \u001b[0;36m<module>\u001b[0;34m\u001b[0m\n\u001b[1;32m     27\u001b[0m         \u001b[0my\u001b[0m\u001b[0;34m=\u001b[0m\u001b[0mp\u001b[0m\u001b[0;34m[\u001b[0m\u001b[0;36m1\u001b[0m\u001b[0;34m]\u001b[0m\u001b[0;34m+\u001b[0m\u001b[0mdy\u001b[0m\u001b[0;34m[\u001b[0m\u001b[0mi\u001b[0m\u001b[0;34m]\u001b[0m\u001b[0;34m\u001b[0m\u001b[0;34m\u001b[0m\u001b[0m\n\u001b[1;32m     28\u001b[0m \u001b[0;34m\u001b[0m\u001b[0m\n\u001b[0;32m---> 29\u001b[0;31m         \u001b[0;32mif\u001b[0m \u001b[0;36m0\u001b[0m\u001b[0;34m<=\u001b[0m\u001b[0mx\u001b[0m \u001b[0;32mand\u001b[0m \u001b[0mx\u001b[0m\u001b[0;34m<\u001b[0m\u001b[0mR\u001b[0m \u001b[0;32mand\u001b[0m \u001b[0;36m0\u001b[0m\u001b[0;34m<=\u001b[0m\u001b[0my\u001b[0m \u001b[0;32mand\u001b[0m \u001b[0my\u001b[0m\u001b[0;34m<\u001b[0m\u001b[0mC\u001b[0m \u001b[0;32mand\u001b[0m \u001b[0mmaze\u001b[0m\u001b[0;34m[\u001b[0m\u001b[0mx\u001b[0m\u001b[0;34m]\u001b[0m\u001b[0;34m[\u001b[0m\u001b[0my\u001b[0m\u001b[0;34m]\u001b[0m \u001b[0;34m==\u001b[0m \u001b[0;34m'.'\u001b[0m \u001b[0;32mand\u001b[0m \u001b[0md\u001b[0m\u001b[0;34m[\u001b[0m\u001b[0mx\u001b[0m\u001b[0;34m]\u001b[0m\u001b[0;34m[\u001b[0m\u001b[0my\u001b[0m\u001b[0;34m]\u001b[0m \u001b[0;34m==\u001b[0m\u001b[0mINF\u001b[0m\u001b[0;34m:\u001b[0m\u001b[0;34m\u001b[0m\u001b[0;34m\u001b[0m\u001b[0m\n\u001b[0m\u001b[1;32m     30\u001b[0m             \u001b[0md\u001b[0m\u001b[0;34m[\u001b[0m\u001b[0mx\u001b[0m\u001b[0;34m]\u001b[0m\u001b[0;34m[\u001b[0m\u001b[0my\u001b[0m\u001b[0;34m]\u001b[0m\u001b[0;34m=\u001b[0m\u001b[0md\u001b[0m\u001b[0;34m[\u001b[0m\u001b[0mp\u001b[0m\u001b[0;34m[\u001b[0m\u001b[0;36m0\u001b[0m\u001b[0;34m]\u001b[0m\u001b[0;34m]\u001b[0m\u001b[0;34m[\u001b[0m\u001b[0mp\u001b[0m\u001b[0;34m[\u001b[0m\u001b[0;36m1\u001b[0m\u001b[0;34m]\u001b[0m\u001b[0;34m]\u001b[0m\u001b[0;34m+\u001b[0m\u001b[0;36m1\u001b[0m\u001b[0;34m\u001b[0m\u001b[0;34m\u001b[0m\u001b[0m\n\u001b[1;32m     31\u001b[0m             \u001b[0mque\u001b[0m\u001b[0;34m.\u001b[0m\u001b[0mappend\u001b[0m\u001b[0;34m(\u001b[0m\u001b[0;34m[\u001b[0m\u001b[0mx\u001b[0m\u001b[0;34m,\u001b[0m\u001b[0my\u001b[0m\u001b[0;34m]\u001b[0m\u001b[0;34m)\u001b[0m\u001b[0;34m\u001b[0m\u001b[0;34m\u001b[0m\u001b[0m\n",
      "\u001b[0;31mIndexError\u001b[0m: list index out of range"
     ]
    }
   ],
   "source": [
    "\n",
    "sx-=-1\n",
    "sy-=-1\n",
    "gx-=-1\n",
    "gy-=-1\n",
    "\n",
    "\n",
    "\n",
    "\n",
    "INF=10**5\n",
    "d=[[INF for i in range(C)] for j in range(R)]\n",
    "\n",
    "d[sx][sy]=0\n",
    "que=deque(maxlen=100)\n",
    "que.append([sx,sy])\n",
    "\n",
    "dx=[0,0,1,-1]\n",
    "dy=[1,-1,0,0]\n",
    "\n",
    "while(len(que)>0):\n",
    "    p=que.popleft()\n",
    "    \n",
    "    if p==[gx,gy]:\n",
    "        break\n",
    "    for i in range(4):\n",
    "        x=p[0]+dx[i]\n",
    "        y=p[1]+dy[i]\n",
    "        \n",
    "        if 0<=x and x<R and 0<=y and y<C and maze[x][y] == '.' and d[x][y] ==INF:\n",
    "            d[x][y]=d[p[0]][p[1]]+1\n",
    "            que.append([x,y])\n",
    "print(d[gx][gy])"
   ]
  },
  {
   "cell_type": "code",
   "execution_count": 227,
   "metadata": {},
   "outputs": [],
   "source": [
    "ans=[[100000, 100000, 100000, 100000, 100000, 100000, 100000, 100000], [100000, 0, 1, 2, 3, 4, 5, 100000], [100000, 1, 100000, 100000, 100000, 100000, 100000, 100000], [100000, 2, 3, 100000, 11, 10, 11, 100000], [100000, 3, 4, 100000, 100000, 9, 10, 100000], [100000, 100000, 5, 6, 7, 8, 9, 100000], [100000, 100000, 100000, 100000, 100000, 100000, 100000, 100000]]"
   ]
  },
  {
   "cell_type": "code",
   "execution_count": 228,
   "metadata": {},
   "outputs": [
    {
     "name": "stdout",
     "output_type": "stream",
     "text": [
      "[[100000, 100000, 100000, 100000, 100000, 100000, 100000, 100000],\n",
      " [100000, 0, 1, 2, 3, 4, 5, 100000],\n",
      " [100000, 1, 100000, 100000, 100000, 100000, 100000, 100000],\n",
      " [100000, 2, 3, 100000, 11, 10, 11, 100000],\n",
      " [100000, 3, 4, 100000, 100000, 9, 10, 100000],\n",
      " [100000, 100000, 5, 6, 7, 8, 9, 100000],\n",
      " [100000, 100000, 100000, 100000, 100000, 100000, 100000, 100000]]\n"
     ]
    }
   ],
   "source": [
    "import pprint\n",
    "pprint.pprint(ans)"
   ]
  },
  {
   "cell_type": "code",
   "execution_count": 242,
   "metadata": {},
   "outputs": [
    {
     "data": {
      "text/plain": [
       "11"
      ]
     },
     "execution_count": 242,
     "metadata": {},
     "output_type": "execute_result"
    }
   ],
   "source": [
    "ans[gy-1][gx-1]"
   ]
  },
  {
   "cell_type": "code",
   "execution_count": 241,
   "metadata": {},
   "outputs": [
    {
     "data": {
      "text/plain": [
       "5"
      ]
     },
     "execution_count": 241,
     "metadata": {},
     "output_type": "execute_result"
    }
   ],
   "source": [
    "gx"
   ]
  },
  {
   "cell_type": "code",
   "execution_count": 239,
   "metadata": {},
   "outputs": [
    {
     "data": {
      "text/plain": [
       "4"
      ]
     },
     "execution_count": 239,
     "metadata": {},
     "output_type": "execute_result"
    }
   ],
   "source": [
    "gy"
   ]
  },
  {
   "cell_type": "code",
   "execution_count": null,
   "metadata": {},
   "outputs": [],
   "source": [
    "from collections import deque\n",
    "\n",
    "R,C = map(int, input().split())\n",
    "sx,sy = map(int, input().split())\n",
    "gx,gy = map(int, input().split())\n",
    "maze = [list(input()) for _ in range(R)]\n",
    "\n",
    "sx-=1\n",
    "sy-=1\n",
    "gx-=1\n",
    "gy-=1\n",
    "\n",
    "\n",
    "\n",
    "INF=10**5\n",
    "d=[[INF for i in range(C)] for j in range(R)]\n",
    "\n",
    "d[sx][sy]=0\n",
    "que=deque(maxlen=100)\n",
    "que.append([sx,sy])\n",
    "\n",
    "dx=[0,0,1,-1]\n",
    "dy=[1,-1,0,0]\n",
    "\n",
    "while(len(que)>0):\n",
    "    p=que.popleft()\n",
    "    \n",
    "    if p==[gx,gy]:\n",
    "        break\n",
    "    for i in range(4):\n",
    "        x=p[0]+dx[i]\n",
    "        y=p[1]+dy[i]\n",
    "        \n",
    "        if 0<=x and x<R and 0<=y and y<C and maze[x][y] == '.' and d[x][y] ==INF:\n",
    "            d[x][y]=d[p[0]][p[1]]+1\n",
    "            que.append([x,y])\n",
    "print(d[gx][gy])\n"
   ]
  },
  {
   "cell_type": "code",
   "execution_count": null,
   "metadata": {},
   "outputs": [],
   "source": []
  },
  {
   "cell_type": "code",
   "execution_count": null,
   "metadata": {},
   "outputs": [],
   "source": []
  },
  {
   "cell_type": "code",
   "execution_count": null,
   "metadata": {},
   "outputs": [],
   "source": []
  },
  {
   "cell_type": "code",
   "execution_count": null,
   "metadata": {},
   "outputs": [],
   "source": [
    "import numpy as np\n",
    "import itertools \n",
    "import random\n",
    "\n",
    "N=int(input())\n",
    "C=np.array([int(input()) for i in range(N)])\n",
    "ans=[]\n",
    "\n",
    "def frac(n):\n",
    "    if n==0: return 1\n",
    "    return n*frac(n-1)\n",
    "\n",
    "M=frac(N)\n",
    "\n",
    "if N*M<=1000**2:\n",
    "    C_perm=list(itertools.permutations(C))\n",
    "    for j in range(M):\n",
    "        CC=np.array(C_perm[j])\n",
    "        p=np.array([1]*N)\n",
    "        for i in  range(N):\n",
    "            p[i+1:][CC[i+1:]%CC[i]==0]=(p[i+1:][CC[i+1:]%CC[i]==0]+1)%2\n",
    "        ans.append(sum(p))\n",
    "    print(sum(ans)/len(ans))\n",
    "else:\n",
    "    ans=[]\n",
    "    for i in range(1000**2):\n",
    "        random.shuffle(C)\n",
    "        p=np.array([1]*N)\n",
    "        for i in  range(N):\n",
    "            p[i+1:][C[i+1:]%C[i]==0]=(p[i+1:][C[i+1:]%C[i]==0]+1)%2\n",
    "        ans.append(sum(p))\n",
    "    print(sum(ans)/len(ans))"
   ]
  },
  {
   "cell_type": "code",
   "execution_count": 266,
   "metadata": {},
   "outputs": [],
   "source": [
    "L=[1,2,3,4]"
   ]
  },
  {
   "cell_type": "code",
   "execution_count": 267,
   "metadata": {},
   "outputs": [
    {
     "data": {
      "text/plain": [
       "True"
      ]
     },
     "execution_count": 267,
     "metadata": {},
     "output_type": "execute_result"
    }
   ],
   "source": [
    "\n",
    "next_permutation(L)"
   ]
  },
  {
   "cell_type": "code",
   "execution_count": 265,
   "metadata": {},
   "outputs": [
    {
     "data": {
      "text/plain": [
       "[2, 1, 4, 3]"
      ]
     },
     "execution_count": 265,
     "metadata": {},
     "output_type": "execute_result"
    }
   ],
   "source": [
    "L"
   ]
  },
  {
   "cell_type": "code",
   "execution_count": 244,
   "metadata": {},
   "outputs": [],
   "source": [
    "def next_permutation(L):\n",
    "    '''\n",
    "    Permute the list L in-place to generate the next lexicographic permutation.\n",
    "    Return True if such a permutation exists, else return False.\n",
    "    '''\n",
    "     \n",
    "    n = len(L)\n",
    " \n",
    "    #------------------------------------------------------------\n",
    " \n",
    "    # Step 1: find rightmost position i such that L[i] < L[i+1]\n",
    "    i = n - 2\n",
    "    while i >= 0 and L[i] >= L[i+1]:\n",
    "        i -= 1\n",
    "     \n",
    "    if i == -1:\n",
    "        return False\n",
    " \n",
    "    #------------------------------------------------------------\n",
    " \n",
    "    # Step 2: find rightmost position j to the right of i such that L[j] > L[i]\n",
    "    j = i + 1\n",
    "    while j < n and L[j] > L[i]:\n",
    "        j += 1\n",
    "    j -= 1\n",
    "     \n",
    "    #------------------------------------------------------------\n",
    " \n",
    "    # Step 3: swap L[i] and L[j]\n",
    "    L[i], L[j] = L[j], L[i]\n",
    "     \n",
    "    #------------------------------------------------------------\n",
    " \n",
    "    # Step 4: reverse everything to the right of i\n",
    "    left = i + 1\n",
    "    right = n - 1\n",
    " \n",
    "    while left < right:\n",
    "        L[left], L[right] = L[right], L[left]\n",
    "        left += 1\n",
    "        right -= 1\n",
    "             \n",
    "    return True"
   ]
  },
  {
   "cell_type": "code",
   "execution_count": 303,
   "metadata": {},
   "outputs": [],
   "source": [
    "def next_permutation(case):\n",
    "    for index in range(1,len(case)):\n",
    "        Px_index = len(case) - 1 - index\n",
    "        #Start travelling from the end of the Data Structure\n",
    "        Px = case[-index-1]\n",
    "        Px_1 = case[-index]\n",
    "\n",
    "        #Search for a pair where latter the is greater than prior\n",
    "        if Px < Px_1 :\n",
    "            suffix = case[-index:]\n",
    "            pivot = Px\n",
    "            minimum_greater_than_pivot_suffix_index = -1\n",
    "            suffix_index=0\n",
    "\n",
    "            #Find the index inside the suffix where ::: [minimum value is greater than the pivot]\n",
    "            for Py in suffix:\n",
    "                if pivot < Py:\n",
    "                    if minimum_greater_than_pivot_suffix_index == -1 or   suffix[minimum_greater_than_pivot_suffix_index] >= Py:\n",
    "                        minimum_greater_than_pivot_suffix_index=suffix_index\n",
    "                suffix_index +=1\n",
    "            #index in the main array\n",
    "            minimum_greater_than_pivot_index = minimum_greater_than_pivot_suffix_index + Px_index +1\n",
    "\n",
    "            #SWAP\n",
    "            temp = case[minimum_greater_than_pivot_index]\n",
    "            case[minimum_greater_than_pivot_index] = case[Px_index]\n",
    "            case[Px_index] = temp\n",
    "\n",
    "            #Sort suffix\n",
    "            new_suffix = case[Px_index+1:]\n",
    "            new_suffix.sort()\n",
    "\n",
    "            #Build final Version\n",
    "            new_prefix = case[:Px_index+1]\n",
    "            next_permutation = new_prefix + new_suffix\n",
    "            return next_permutation\n",
    "        elif index == (len(case) -1):\n",
    "            #This means that this is at the highest possible lexicographic order\n",
    "            return False"
   ]
  },
  {
   "cell_type": "code",
   "execution_count": 306,
   "metadata": {},
   "outputs": [],
   "source": [
    "def next_permutation(a):\n",
    "    \"\"\"\n",
    "    Generates the lexicographically next permutation.\n",
    "\n",
    "    Input: a permutation, called \"a\". This method modifies\n",
    "    \"a\" in place. Returns True if we could generate a next\n",
    "    permutation. Returns False if it was the last permutation\n",
    "    lexicographically.\n",
    "    \"\"\"\n",
    "    i = len(a) - 2\n",
    "    while not (i < 0 or a[i] < a[i+1]):\n",
    "        i -= 1\n",
    "    if i < 0:\n",
    "        return False\n",
    "    # else\n",
    "    j = len(a) - 1\n",
    "    while not (a[j] > a[i]):\n",
    "        j -= 1\n",
    "    a[i], a[j] = a[j], a[i]        # swap\n",
    "    a[i+1:] = reversed(a[i+1:])    # reverse elements from position i+1 till the end of the sequence\n",
    "    return True"
   ]
  },
  {
   "cell_type": "code",
   "execution_count": 307,
   "metadata": {},
   "outputs": [
    {
     "name": "stdout",
     "output_type": "stream",
     "text": [
      "[1, 2, 3, 1, 4]\n",
      "[1, 2, 3, 4, 1]\n",
      "[1, 2, 4, 1, 3]\n",
      "[1, 2, 4, 3, 1]\n",
      "[1, 3, 1, 2, 4]\n",
      "[1, 3, 1, 4, 2]\n",
      "[1, 3, 2, 1, 4]\n",
      "[1, 3, 2, 4, 1]\n",
      "[1, 3, 4, 1, 2]\n",
      "[1, 3, 4, 2, 1]\n",
      "[1, 4, 1, 2, 3]\n",
      "[1, 4, 1, 3, 2]\n",
      "[1, 4, 2, 1, 3]\n",
      "[1, 4, 2, 3, 1]\n",
      "[1, 4, 3, 1, 2]\n",
      "[1, 4, 3, 2, 1]\n",
      "[2, 1, 1, 3, 4]\n",
      "[2, 1, 1, 4, 3]\n",
      "[2, 1, 3, 1, 4]\n",
      "[2, 1, 3, 4, 1]\n",
      "[2, 1, 4, 1, 3]\n",
      "[2, 1, 4, 3, 1]\n",
      "[2, 3, 1, 1, 4]\n",
      "[2, 3, 1, 4, 1]\n",
      "[2, 3, 4, 1, 1]\n",
      "[2, 4, 1, 1, 3]\n",
      "[2, 4, 1, 3, 1]\n",
      "[2, 4, 3, 1, 1]\n",
      "[3, 1, 1, 2, 4]\n",
      "[3, 1, 1, 4, 2]\n",
      "[3, 1, 2, 1, 4]\n",
      "[3, 1, 2, 4, 1]\n",
      "[3, 1, 4, 1, 2]\n",
      "[3, 1, 4, 2, 1]\n",
      "[3, 2, 1, 1, 4]\n",
      "[3, 2, 1, 4, 1]\n",
      "[3, 2, 4, 1, 1]\n",
      "[3, 4, 1, 1, 2]\n",
      "[3, 4, 1, 2, 1]\n",
      "[3, 4, 2, 1, 1]\n",
      "[4, 1, 1, 2, 3]\n",
      "[4, 1, 1, 3, 2]\n",
      "[4, 1, 2, 1, 3]\n",
      "[4, 1, 2, 3, 1]\n",
      "[4, 1, 3, 1, 2]\n",
      "[4, 1, 3, 2, 1]\n",
      "[4, 2, 1, 1, 3]\n",
      "[4, 2, 1, 3, 1]\n",
      "[4, 2, 3, 1, 1]\n",
      "[4, 3, 1, 1, 2]\n",
      "[4, 3, 1, 2, 1]\n",
      "[4, 3, 2, 1, 1]\n"
     ]
    }
   ],
   "source": [
    "L = [1, 2, 3,1,4]\n",
    "nn=0\n",
    "while True:\n",
    "    print(L)\n",
    "    nn+=1\n",
    "    if not next_permutation(L):\n",
    "        break\n",
    " "
   ]
  },
  {
   "cell_type": "code",
   "execution_count": 308,
   "metadata": {},
   "outputs": [
    {
     "data": {
      "text/plain": [
       "52"
      ]
     },
     "execution_count": 308,
     "metadata": {},
     "output_type": "execute_result"
    }
   ],
   "source": [
    "nn"
   ]
  },
  {
   "cell_type": "code",
   "execution_count": 385,
   "metadata": {},
   "outputs": [
    {
     "name": "stdout",
     "output_type": "stream",
     "text": [
      "3\n",
      "2\n",
      "4\n",
      "8\n",
      "2.1666666666666665\n"
     ]
    }
   ],
   "source": [
    "import numpy as np\n",
    "import itertools \n",
    "\n",
    "\n",
    "N=int(input())\n",
    "C=[int(input()) for i in range(N)]\n",
    "ans=[]\n",
    "\n",
    "def frac(n):\n",
    "    memo=[0]*(10*8)\n",
    "    if n==0: return 1\n",
    "    if memo[n]!=0: return memo[n]\n",
    "    memo[n] = n*frac(n-1)\n",
    "    return memo[n]\n",
    "\n",
    "C_perm=itertools.permutations(C)\n",
    "\n",
    "for C in C_perm:\n",
    "    p=[1]*N\n",
    "    for i in range(N):\n",
    "        for j in range(i+1,N):\n",
    "            if C[j]%C[i] == 0:\n",
    "                p[j] = (p[j]+1)%2\n",
    "    \n",
    "    ans.append(sum(p))\n",
    "\n",
    "\n",
    "print(sum(ans)/frac(N))\n"
   ]
  },
  {
   "cell_type": "code",
   "execution_count": 1,
   "metadata": {},
   "outputs": [],
   "source": [
    "def frac(n):\n",
    "    memo=[0]*(10*8)\n",
    "    if n==0: return 1\n",
    "    if memo[n]!=0: return memo[n]\n",
    "    memo[n] = n*frac(n-1)\n",
    "    return memo[n]\n",
    "\n",
    "\n"
   ]
  },
  {
   "cell_type": "code",
   "execution_count": 326,
   "metadata": {},
   "outputs": [],
   "source": [
    "C=np.array(C)"
   ]
  },
  {
   "cell_type": "code",
   "execution_count": 335,
   "metadata": {},
   "outputs": [
    {
     "ename": "ValueError",
     "evalue": "invalid number of arguments",
     "output_type": "error",
     "traceback": [
      "\u001b[0;31m---------------------------------------------------------------------------\u001b[0m",
      "\u001b[0;31mValueError\u001b[0m                                Traceback (most recent call last)",
      "\u001b[0;32m<ipython-input-335-ca8664f91d8a>\u001b[0m in \u001b[0;36m<module>\u001b[0;34m\u001b[0m\n\u001b[0;32m----> 1\u001b[0;31m \u001b[0mnp\u001b[0m\u001b[0;34m.\u001b[0m\u001b[0mlogical_or\u001b[0m\u001b[0;34m(\u001b[0m\u001b[0mC\u001b[0m\u001b[0;34m[\u001b[0m\u001b[0;36m2\u001b[0m\u001b[0;34m]\u001b[0m\u001b[0;34m%\u001b[0m\u001b[0mC\u001b[0m\u001b[0;34m[\u001b[0m\u001b[0;34m:\u001b[0m\u001b[0;36m2\u001b[0m\u001b[0;34m]\u001b[0m\u001b[0;34m==\u001b[0m\u001b[0;36m0\u001b[0m\u001b[0;34m)\u001b[0m\u001b[0;34m\u001b[0m\u001b[0;34m\u001b[0m\u001b[0m\n\u001b[0m",
      "\u001b[0;31mValueError\u001b[0m: invalid number of arguments"
     ]
    }
   ],
   "source": [
    "np.logical_or(C[2]%C[:2]==0)"
   ]
  },
  {
   "cell_type": "code",
   "execution_count": 357,
   "metadata": {},
   "outputs": [
    {
     "data": {
      "text/plain": [
       "False"
      ]
     },
     "execution_count": 357,
     "metadata": {},
     "output_type": "execute_result"
    }
   ],
   "source": [
    "not np.all(np.logical_not(C[i]%C[:i]==0))"
   ]
  },
  {
   "cell_type": "code",
   "execution_count": 375,
   "metadata": {},
   "outputs": [],
   "source": [
    "i=2\n",
    "C=np.array([2,4,8])"
   ]
  },
  {
   "cell_type": "code",
   "execution_count": 378,
   "metadata": {},
   "outputs": [
    {
     "data": {
      "text/plain": [
       "2"
      ]
     },
     "execution_count": 378,
     "metadata": {},
     "output_type": "execute_result"
    }
   ],
   "source": [
    "sum(C[i]%C[:i]==0)"
   ]
  },
  {
   "cell_type": "code",
   "execution_count": 377,
   "metadata": {},
   "outputs": [
    {
     "data": {
      "text/plain": [
       "True"
      ]
     },
     "execution_count": 377,
     "metadata": {},
     "output_type": "execute_result"
    }
   ],
   "source": [
    "not np.all(np.logical_not(C[i]%C[:i]==0))"
   ]
  },
  {
   "cell_type": "code",
   "execution_count": 382,
   "metadata": {},
   "outputs": [
    {
     "data": {
      "text/plain": [
       "40320"
      ]
     },
     "execution_count": 382,
     "metadata": {},
     "output_type": "execute_result"
    }
   ],
   "source": [
    "frac(8)"
   ]
  },
  {
   "cell_type": "code",
   "execution_count": 8,
   "metadata": {},
   "outputs": [
    {
     "name": "stdout",
     "output_type": "stream",
     "text": [
      "10\n",
      "2\n",
      "4\n",
      "6\n",
      "8\n",
      "2\n",
      "4\n",
      "6\n",
      "8\n",
      "6\n",
      "2\n"
     ]
    }
   ],
   "source": [
    "\n",
    "N=int(input())\n",
    "C=[int(input()) for i in range(N)]\n",
    "ans=[]"
   ]
  },
  {
   "cell_type": "code",
   "execution_count": 415,
   "metadata": {},
   "outputs": [
    {
     "name": "stdout",
     "output_type": "stream",
     "text": [
      "CPU times: user 3 µs, sys: 1 µs, total: 4 µs\n",
      "Wall time: 4.77 µs\n"
     ]
    }
   ],
   "source": [
    "%time\n",
    "for C in C_perm:\n",
    "    C=np.array(C)\n",
    "    for i in range(N):\n",
    "        if sum(C[i]%C[:i]==0)%2==0:\n",
    "            ans.append(1)"
   ]
  },
  {
   "cell_type": "code",
   "execution_count": 420,
   "metadata": {},
   "outputs": [
    {
     "name": "stdout",
     "output_type": "stream",
     "text": [
      "CPU times: user 2 µs, sys: 0 ns, total: 2 µs\n",
      "Wall time: 5.01 µs\n"
     ]
    }
   ],
   "source": [
    "%time\n",
    "for C in C_perm:\n",
    "    C=np.array(C)\n",
    "    for i in range(N):\n",
    "        if sum(C[i]%C[:i]==0)%2==0:\n",
    "            ans.append(1)"
   ]
  },
  {
   "cell_type": "code",
   "execution_count": 10,
   "metadata": {},
   "outputs": [
    {
     "data": {
      "text/plain": [
       "(4, 4, 6, 8, 4, 2, 6, 2, 8)"
      ]
     },
     "execution_count": 10,
     "metadata": {},
     "output_type": "execute_result"
    }
   ],
   "source": [
    "C"
   ]
  },
  {
   "cell_type": "code",
   "execution_count": 9,
   "metadata": {},
   "outputs": [
    {
     "name": "stdout",
     "output_type": "stream",
     "text": [
      "CPU times: user 2 µs, sys: 1 µs, total: 3 µs\n",
      "Wall time: 4.29 µs\n"
     ]
    },
    {
     "ename": "IndexError",
     "evalue": "tuple index out of range",
     "output_type": "error",
     "traceback": [
      "\u001b[0;31m---------------------------------------------------------------------------\u001b[0m",
      "\u001b[0;31mIndexError\u001b[0m                                Traceback (most recent call last)",
      "\u001b[0;32m<ipython-input-9-a81c839fdcb9>\u001b[0m in \u001b[0;36m<module>\u001b[0;34m\u001b[0m\n\u001b[1;32m      6\u001b[0m     \u001b[0;32mfor\u001b[0m \u001b[0mi\u001b[0m \u001b[0;32min\u001b[0m \u001b[0mrange\u001b[0m\u001b[0;34m(\u001b[0m\u001b[0mN\u001b[0m\u001b[0;34m)\u001b[0m\u001b[0;34m:\u001b[0m\u001b[0;34m\u001b[0m\u001b[0;34m\u001b[0m\u001b[0m\n\u001b[1;32m      7\u001b[0m         \u001b[0;32mfor\u001b[0m \u001b[0mj\u001b[0m \u001b[0;32min\u001b[0m \u001b[0mrange\u001b[0m\u001b[0;34m(\u001b[0m\u001b[0mi\u001b[0m\u001b[0;34m+\u001b[0m\u001b[0;36m1\u001b[0m\u001b[0;34m,\u001b[0m\u001b[0mN\u001b[0m\u001b[0;34m)\u001b[0m\u001b[0;34m:\u001b[0m\u001b[0;34m\u001b[0m\u001b[0;34m\u001b[0m\u001b[0m\n\u001b[0;32m----> 8\u001b[0;31m             \u001b[0;32mif\u001b[0m \u001b[0mC\u001b[0m\u001b[0;34m[\u001b[0m\u001b[0mj\u001b[0m\u001b[0;34m]\u001b[0m\u001b[0;34m%\u001b[0m\u001b[0mC\u001b[0m\u001b[0;34m[\u001b[0m\u001b[0mi\u001b[0m\u001b[0;34m]\u001b[0m \u001b[0;34m==\u001b[0m \u001b[0;36m0\u001b[0m\u001b[0;34m:\u001b[0m\u001b[0;34m\u001b[0m\u001b[0;34m\u001b[0m\u001b[0m\n\u001b[0m\u001b[1;32m      9\u001b[0m                 \u001b[0mp\u001b[0m\u001b[0;34m[\u001b[0m\u001b[0mj\u001b[0m\u001b[0;34m]\u001b[0m \u001b[0;34m=\u001b[0m \u001b[0;34m(\u001b[0m\u001b[0mp\u001b[0m\u001b[0;34m[\u001b[0m\u001b[0mj\u001b[0m\u001b[0;34m]\u001b[0m\u001b[0;34m+\u001b[0m\u001b[0;36m1\u001b[0m\u001b[0;34m)\u001b[0m\u001b[0;34m%\u001b[0m\u001b[0;36m2\u001b[0m\u001b[0;34m\u001b[0m\u001b[0;34m\u001b[0m\u001b[0m\n\u001b[1;32m     10\u001b[0m \u001b[0;34m\u001b[0m\u001b[0m\n",
      "\u001b[0;31mIndexError\u001b[0m: tuple index out of range"
     ]
    }
   ],
   "source": [
    "%time\n",
    "# C_perm=itertools.permutations(C)\n",
    "\n",
    "for C in C_perm:\n",
    "    p=[1]*N\n",
    "    for i in range(N):\n",
    "        for j in range(i+1,N):\n",
    "            if C[j]%C[i] == 0:\n",
    "                p[j] = (p[j]+1)%2\n",
    "    \n",
    "    ans.append(sum(p))\n",
    "\n",
    "\n",
    "print(sum(ans)/frac(N))\n",
    "\n"
   ]
  },
  {
   "cell_type": "code",
   "execution_count": 11,
   "metadata": {},
   "outputs": [
    {
     "name": "stdout",
     "output_type": "stream",
     "text": [
      "CPU times: user 2 µs, sys: 1 µs, total: 3 µs\n",
      "Wall time: 5.25 µs\n"
     ]
    },
    {
     "ename": "IndexError",
     "evalue": "index 9 is out of bounds for axis 0 with size 9",
     "output_type": "error",
     "traceback": [
      "\u001b[0;31m---------------------------------------------------------------------------\u001b[0m",
      "\u001b[0;31mIndexError\u001b[0m                                Traceback (most recent call last)",
      "\u001b[0;32m<ipython-input-11-4dbb18839e5c>\u001b[0m in \u001b[0;36m<module>\u001b[0;34m\u001b[0m\n\u001b[1;32m      6\u001b[0m     \u001b[0mC\u001b[0m\u001b[0;34m=\u001b[0m\u001b[0mnp\u001b[0m\u001b[0;34m.\u001b[0m\u001b[0marray\u001b[0m\u001b[0;34m(\u001b[0m\u001b[0mC\u001b[0m\u001b[0;34m)\u001b[0m\u001b[0;34m\u001b[0m\u001b[0;34m\u001b[0m\u001b[0m\n\u001b[1;32m      7\u001b[0m     \u001b[0;32mfor\u001b[0m \u001b[0mi\u001b[0m \u001b[0;32min\u001b[0m \u001b[0mrange\u001b[0m\u001b[0;34m(\u001b[0m\u001b[0mN\u001b[0m\u001b[0;34m)\u001b[0m\u001b[0;34m:\u001b[0m\u001b[0;34m\u001b[0m\u001b[0;34m\u001b[0m\u001b[0m\n\u001b[0;32m----> 8\u001b[0;31m         \u001b[0;32mif\u001b[0m \u001b[0msum\u001b[0m\u001b[0;34m(\u001b[0m\u001b[0mC\u001b[0m\u001b[0;34m[\u001b[0m\u001b[0mi\u001b[0m\u001b[0;34m]\u001b[0m\u001b[0;34m%\u001b[0m\u001b[0mC\u001b[0m\u001b[0;34m[\u001b[0m\u001b[0;34m:\u001b[0m\u001b[0mi\u001b[0m\u001b[0;34m]\u001b[0m\u001b[0;34m==\u001b[0m\u001b[0;36m0\u001b[0m\u001b[0;34m)\u001b[0m\u001b[0;34m%\u001b[0m\u001b[0;36m2\u001b[0m\u001b[0;34m==\u001b[0m\u001b[0;36m0\u001b[0m\u001b[0;34m:\u001b[0m\u001b[0;34m\u001b[0m\u001b[0;34m\u001b[0m\u001b[0m\n\u001b[0m\u001b[1;32m      9\u001b[0m             \u001b[0mans\u001b[0m\u001b[0;34m.\u001b[0m\u001b[0mappend\u001b[0m\u001b[0;34m(\u001b[0m\u001b[0;36m1\u001b[0m\u001b[0;34m)\u001b[0m\u001b[0;34m\u001b[0m\u001b[0;34m\u001b[0m\u001b[0m\n\u001b[1;32m     10\u001b[0m \u001b[0;34m\u001b[0m\u001b[0m\n",
      "\u001b[0;31mIndexError\u001b[0m: index 9 is out of bounds for axis 0 with size 9"
     ]
    }
   ],
   "source": [
    "%time\n",
    "\n",
    "# C_perm=itertools.permutations(C)\n",
    " \n",
    "for C in C_perm:\n",
    "    C=np.array(C)\n",
    "    for i in range(N):\n",
    "        if sum(C[i]%C[:i]==0)%2==0:\n",
    "            ans.append(1)\n",
    "            \n",
    " \n",
    " \n",
    "print(sum(ans)/frac(N))\n"
   ]
  },
  {
   "cell_type": "code",
   "execution_count": 3,
   "metadata": {},
   "outputs": [],
   "source": [
    "import numpy as np\n",
    "import itertools \n",
    "\n"
   ]
  },
  {
   "cell_type": "code",
   "execution_count": 16,
   "metadata": {},
   "outputs": [
    {
     "name": "stdout",
     "output_type": "stream",
     "text": [
      "8\n",
      "2\n",
      "4\n",
      "6\n",
      "8\n",
      "3\n",
      "6\n",
      "9\n",
      "12\n",
      "5.166666666666667\n",
      "CPU times: user 3.78 s, sys: 23.4 ms, total: 3.8 s\n",
      "Wall time: 9.56 s\n"
     ]
    }
   ],
   "source": [
    "%%time\n",
    "import numpy as np\n",
    "import itertools \n",
    "\n",
    "\n",
    "N=int(input())\n",
    "C=[int(input()) for i in range(N)]\n",
    "ans=[]\n",
    "\n",
    "def frac(n):\n",
    "    memo=[0]*(10*8)\n",
    "    if n==0: return 1\n",
    "    if memo[n]!=0: return memo[n]\n",
    "    memo[n] = n*frac(n-1)\n",
    "    return memo[n]\n",
    "\n",
    "C_perm=itertools.permutations(C)\n",
    "\n",
    "for C in C_perm:\n",
    "    C=np.array(C)\n",
    "    for i in range(N):\n",
    "        if sum(C[i]%C[:i]==0)%2==0:\n",
    "            ans.append(1)\n",
    "            \n",
    "\n",
    "\n",
    "print(sum(ans)/frac(N))\n",
    "\n"
   ]
  },
  {
   "cell_type": "code",
   "execution_count": 18,
   "metadata": {},
   "outputs": [
    {
     "name": "stdout",
     "output_type": "stream",
     "text": [
      "8\n",
      "2\n",
      "4\n",
      "6\n",
      "8\n",
      "3\n",
      "6\n",
      "9\n",
      "12\n",
      "5.166666666666667\n",
      "CPU times: user 354 ms, sys: 4.62 ms, total: 358 ms\n",
      "Wall time: 4.42 s\n"
     ]
    }
   ],
   "source": [
    "%%time\n",
    "import numpy as np\n",
    "import itertools \n",
    "\n",
    "\n",
    "N=int(input())\n",
    "C=[int(input()) for i in range(N)]\n",
    "ans=[]\n",
    "\n",
    "def frac(n):\n",
    "    memo=[0]*(10*8)\n",
    "    if n==0: return 1\n",
    "    if memo[n]!=0: return memo[n]\n",
    "    memo[n] = n*frac(n-1)\n",
    "    return memo[n]\n",
    "\n",
    "C_perm=itertools.permutations(C)\n",
    "\n",
    "for C in C_perm:\n",
    "    p=[1]*N\n",
    "    for i in range(N):\n",
    "        for j in range(i+1,N):\n",
    "            if C[j]%C[i] == 0:\n",
    "                p[j] = (p[j]+1)%2\n",
    "    \n",
    "    ans.append(sum(p))\n",
    "\n",
    "\n",
    "print(sum(ans)/frac(N))\n",
    "\n"
   ]
  },
  {
   "cell_type": "code",
   "execution_count": 21,
   "metadata": {},
   "outputs": [
    {
     "ename": "TypeError",
     "evalue": "unsupported operand type(s) for %: 'int' and 'tuple'",
     "output_type": "error",
     "traceback": [
      "\u001b[0;31m---------------------------------------------------------------------------\u001b[0m",
      "\u001b[0;31mTypeError\u001b[0m                                 Traceback (most recent call last)",
      "\u001b[0;32m<ipython-input-21-b5c8e2136974>\u001b[0m in \u001b[0;36m<module>\u001b[0;34m\u001b[0m\n\u001b[0;32m----> 1\u001b[0;31m \u001b[0msum\u001b[0m\u001b[0;34m(\u001b[0m\u001b[0mC\u001b[0m\u001b[0;34m[\u001b[0m\u001b[0mi\u001b[0m\u001b[0;34m]\u001b[0m\u001b[0;34m%\u001b[0m\u001b[0mC\u001b[0m\u001b[0;34m[\u001b[0m\u001b[0;34m:\u001b[0m\u001b[0mi\u001b[0m\u001b[0;34m]\u001b[0m\u001b[0;34m==\u001b[0m\u001b[0;36m0\u001b[0m\u001b[0;34m)\u001b[0m\u001b[0;34m%\u001b[0m\u001b[0;36m2\u001b[0m\u001b[0;34m\u001b[0m\u001b[0;34m\u001b[0m\u001b[0m\n\u001b[0m",
      "\u001b[0;31mTypeError\u001b[0m: unsupported operand type(s) for %: 'int' and 'tuple'"
     ]
    }
   ],
   "source": [
    "sum(C[i]%C[:i]==0)%2"
   ]
  },
  {
   "cell_type": "code",
   "execution_count": 23,
   "metadata": {},
   "outputs": [
    {
     "data": {
      "text/plain": [
       "array([False, False, False, False, False, False, False])"
      ]
     },
     "execution_count": 23,
     "metadata": {},
     "output_type": "execute_result"
    }
   ],
   "source": [
    "C=np.array(C)\n",
    "C[i]%C[:i]==0"
   ]
  },
  {
   "cell_type": "code",
   "execution_count": 24,
   "metadata": {},
   "outputs": [
    {
     "name": "stdout",
     "output_type": "stream",
     "text": [
      "CPU times: user 162 µs, sys: 7 µs, total: 169 µs\n",
      "Wall time: 166 µs\n"
     ]
    }
   ],
   "source": [
    "%%time\n",
    "    C=np.array(C)\n",
    "\n",
    "    for i in range(N):\n",
    "        if sum(C[i]%C[:i]==0)%2==0:\n",
    "            ans.append(1)\n",
    "            "
   ]
  },
  {
   "cell_type": "code",
   "execution_count": 26,
   "metadata": {},
   "outputs": [
    {
     "name": "stdout",
     "output_type": "stream",
     "text": [
      "CPU times: user 31 µs, sys: 1 µs, total: 32 µs\n",
      "Wall time: 33.9 µs\n"
     ]
    }
   ],
   "source": [
    "%%time\n",
    "    p=[1]*N\n",
    "    for i in range(N):\n",
    "        for j in range(i+1,N):\n",
    "            if C[j]%C[i] == 0:\n",
    "                p[j] = (p[j]+1)%2\n",
    "    \n",
    "    ans.append(sum(p))"
   ]
  },
  {
   "cell_type": "code",
   "execution_count": 30,
   "metadata": {},
   "outputs": [
    {
     "name": "stdout",
     "output_type": "stream",
     "text": [
      "20\n",
      "1\n",
      "2\n",
      "3\n",
      "4\n",
      "5\n",
      "6\n",
      "7\n",
      "8\n",
      "9\n",
      "10\n",
      "11\n",
      "12\n",
      "13\n",
      "14\n",
      "15\n",
      "16\n",
      "17\n",
      "18\n",
      "19\n",
      "20\n",
      "10.933333333333332\n",
      "CPU times: user 29.9 ms, sys: 6.83 ms, total: 36.7 ms\n",
      "Wall time: 22.1 s\n"
     ]
    }
   ],
   "source": [
    "%%time\n",
    "e=enumerate\n",
    "n=int(input())\n",
    "c=[int(input()) for i in range(n)]\n",
    "a=0\n",
    "for i,x in e(c):\n",
    "    s=sum(x%y<1for j,y in e(c)if i!=j)\n",
    "    a-=(s//2+1)/~s\n",
    "print(a)"
   ]
  },
  {
   "cell_type": "code",
   "execution_count": 32,
   "metadata": {},
   "outputs": [
    {
     "name": "stdout",
     "output_type": "stream",
     "text": [
      "3\n",
      "2\n",
      "4\n",
      "8\n",
      "2.1666666666666665\n"
     ]
    }
   ],
   "source": [
    "import numpy as np\n",
    "import itertools \n",
    " \n",
    " \n",
    "N=int(input())\n",
    "C=[int(input()) for i in range(N)]\n",
    "ans=[]\n",
    " \n",
    "def frac(n):\n",
    "    memo=[0]*(10*8)\n",
    "    if n==0: return 1\n",
    "    if memo[n]!=0: return memo[n]\n",
    "    memo[n] = n*frac(n-1)\n",
    "    return memo[n]\n",
    " \n",
    "C_perm=itertools.permutations(C)\n",
    " \n",
    "for C in C_perm:\n",
    "    C=np.array(C)\n",
    "    p=[1]*N\n",
    "    for i in range(N):\n",
    "        for j in range(i+1,N):\n",
    "            if C[j]%C[i] == 0:\n",
    "                p[j] = (p[j]+1)%2\n",
    "    \n",
    "    ans.append(sum(p))\n",
    " \n",
    " \n",
    "print(sum(ans)/frac(N))"
   ]
  },
  {
   "cell_type": "code",
   "execution_count": 44,
   "metadata": {},
   "outputs": [
    {
     "data": {
      "text/plain": [
       "-0.5"
      ]
     },
     "execution_count": 44,
     "metadata": {},
     "output_type": "execute_result"
    }
   ],
   "source": [
    "s=1\n",
    "(s//2+1)/~s"
   ]
  },
  {
   "cell_type": "code",
   "execution_count": 37,
   "metadata": {},
   "outputs": [
    {
     "data": {
      "text/plain": [
       "-1"
      ]
     },
     "execution_count": 37,
     "metadata": {},
     "output_type": "execute_result"
    }
   ],
   "source": [
    "~0"
   ]
  },
  {
   "cell_type": "code",
   "execution_count": 38,
   "metadata": {},
   "outputs": [
    {
     "data": {
      "text/plain": [
       "-2"
      ]
     },
     "execution_count": 38,
     "metadata": {},
     "output_type": "execute_result"
    }
   ],
   "source": [
    "~1"
   ]
  },
  {
   "cell_type": "code",
   "execution_count": 40,
   "metadata": {},
   "outputs": [
    {
     "data": {
      "text/plain": [
       "-11"
      ]
     },
     "execution_count": 40,
     "metadata": {},
     "output_type": "execute_result"
    }
   ],
   "source": [
    "~10"
   ]
  },
  {
   "cell_type": "code",
   "execution_count": 46,
   "metadata": {},
   "outputs": [
    {
     "name": "stdout",
     "output_type": "stream",
     "text": [
      "3\n",
      "2\n",
      "4\n",
      "8\n"
     ]
    }
   ],
   "source": [
    "import numpy as np\n",
    "import itertools \n",
    " \n",
    " \n",
    "N=int(input())\n",
    "C=np.array([int(input()) for i in range(N)])\n"
   ]
  },
  {
   "cell_type": "code",
   "execution_count": 75,
   "metadata": {},
   "outputs": [
    {
     "name": "stdout",
     "output_type": "stream",
     "text": [
      "5\n",
      "2\n",
      "3\n",
      "2\n",
      "6\n",
      "12\n",
      "3.1\n"
     ]
    }
   ],
   "source": [
    "import numpy as np\n",
    "import itertools \n",
    " \n",
    " \n",
    "N=int(input())\n",
    "C=np.array([int(input()) for i in range(N)])\n",
    "ans=[]\n",
    "for i in range(N):\n",
    "    s=sum(C[i]%C==0)  \n",
    "    if s%2==1:\n",
    "        ans.append((s//2+1)/s)\n",
    "    else:\n",
    "        ans.append(1/2)\n",
    "\n",
    "print(sum(ans))"
   ]
  },
  {
   "cell_type": "code",
   "execution_count": 70,
   "metadata": {},
   "outputs": [
    {
     "data": {
      "text/plain": [
       "[0.5, 0.6666666666666666, 0.5, 1.0, 0.5]"
      ]
     },
     "execution_count": 70,
     "metadata": {},
     "output_type": "execute_result"
    }
   ],
   "source": [
    "ans"
   ]
  },
  {
   "cell_type": "code",
   "execution_count": 74,
   "metadata": {},
   "outputs": [
    {
     "data": {
      "text/plain": [
       "2"
      ]
     },
     "execution_count": 74,
     "metadata": {},
     "output_type": "execute_result"
    }
   ],
   "source": [
    "sum(C[i]%C==0)"
   ]
  },
  {
   "cell_type": "code",
   "execution_count": 148,
   "metadata": {},
   "outputs": [
    {
     "name": "stdout",
     "output_type": "stream",
     "text": [
      "7 7\n",
      "atcoder\n"
     ]
    }
   ],
   "source": [
    "N,K = map(int,input().split())\n",
    "\n",
    "S=list(input())\n"
   ]
  },
  {
   "cell_type": "code",
   "execution_count": 266,
   "metadata": {},
   "outputs": [],
   "source": [
    "S=['a', 't', 'c', 'o', 'd', 'e', 'r']"
   ]
  },
  {
   "cell_type": "code",
   "execution_count": 267,
   "metadata": {},
   "outputs": [],
   "source": [
    "import copy\n",
    "S_sort=copy.copy(S)\n",
    "S_sort.sort()"
   ]
  },
  {
   "cell_type": "code",
   "execution_count": 133,
   "metadata": {},
   "outputs": [
    {
     "data": {
      "text/plain": [
       "['a', 'c', 'd', 'e', 'o', 'r', 't']"
      ]
     },
     "execution_count": 133,
     "metadata": {},
     "output_type": "execute_result"
    }
   ],
   "source": [
    "\n",
    "S_sort"
   ]
  },
  {
   "cell_type": "code",
   "execution_count": 268,
   "metadata": {},
   "outputs": [],
   "source": [
    "S=['a', 't', 'c', 'o', 'd', 'e', 'r']"
   ]
  },
  {
   "cell_type": "code",
   "execution_count": 270,
   "metadata": {},
   "outputs": [
    {
     "name": "stdout",
     "output_type": "stream",
     "text": [
      "7 3\n",
      "atcoder\n"
     ]
    }
   ],
   "source": [
    "import copy\n",
    "N,K = map(int,input().split())\n",
    "\n",
    "S=list(input())\n"
   ]
  },
  {
   "cell_type": "code",
   "execution_count": 277,
   "metadata": {},
   "outputs": [
    {
     "name": "stdout",
     "output_type": "stream",
     "text": [
      "actoder\n"
     ]
    }
   ],
   "source": [
    "ans=copy.copy(S)\n",
    "S_sort=copy.copy(S)\n",
    "S_sort.sort()\n",
    "i=0\n",
    "k=K//2\n",
    "while(k>0):    \n",
    "    j=S.index(S_sort[i])\n",
    "    ans[i],ans[j]=ans[j],ans[i]\n",
    "    if not i==j:\n",
    "        k-=1\n",
    "        \n",
    "    i+=1\n",
    "    if i>N:\n",
    "        break\n",
    "print(''.join(ans))"
   ]
  },
  {
   "cell_type": "code",
   "execution_count": 278,
   "metadata": {},
   "outputs": [],
   "source": [
    "def notmatch(ans):\n",
    "    n_not_match=0\n",
    "    for i in range(N):\n",
    "        if not S[i]==ans[i]:\n",
    "            n_not_match+=1\n",
    "    return n_not_match"
   ]
  },
  {
   "cell_type": "code",
   "execution_count": 279,
   "metadata": {},
   "outputs": [],
   "source": [
    "n_not_match=notmatch(ans)\n",
    "if not n_not_match==K:\n",
    "    k=K-n_not_match\n"
   ]
  },
  {
   "cell_type": "code",
   "execution_count": 280,
   "metadata": {},
   "outputs": [
    {
     "data": {
      "text/plain": [
       "1"
      ]
     },
     "execution_count": 280,
     "metadata": {},
     "output_type": "execute_result"
    }
   ],
   "source": [
    "k"
   ]
  },
  {
   "cell_type": "code",
   "execution_count": 258,
   "metadata": {},
   "outputs": [
    {
     "name": "stdout",
     "output_type": "stream",
     "text": [
      "amogrpr\n"
     ]
    }
   ],
   "source": [
    "if k==1:\n",
    "    "
   ]
  },
  {
   "cell_type": "code",
   "execution_count": 259,
   "metadata": {},
   "outputs": [],
   "source": [
    "n_not_match=0\n",
    "for i in range(N):\n",
    "    if not S[i]==ans[i]:\n",
    "        n_not_match+=1"
   ]
  },
  {
   "cell_type": "code",
   "execution_count": 260,
   "metadata": {},
   "outputs": [
    {
     "data": {
      "text/plain": [
       "4"
      ]
     },
     "execution_count": 260,
     "metadata": {},
     "output_type": "execute_result"
    }
   ],
   "source": [
    "\n",
    "n_not_match"
   ]
  },
  {
   "cell_type": "code",
   "execution_count": 257,
   "metadata": {},
   "outputs": [
    {
     "data": {
      "text/plain": [
       "1"
      ]
     },
     "execution_count": 257,
     "metadata": {},
     "output_type": "execute_result"
    }
   ],
   "source": [
    "k"
   ]
  },
  {
   "cell_type": "code",
   "execution_count": 291,
   "metadata": {},
   "outputs": [
    {
     "ename": "TypeError",
     "evalue": "sequence item 2: expected str instance, int found",
     "output_type": "error",
     "traceback": [
      "\u001b[0;31m---------------------------------------------------------------------------\u001b[0m",
      "\u001b[0;31mTypeError\u001b[0m                                 Traceback (most recent call last)",
      "\u001b[0;32m<ipython-input-291-a0f8caaeb47a>\u001b[0m in \u001b[0;36m<module>\u001b[0;34m\u001b[0m\n\u001b[1;32m     19\u001b[0m \u001b[0;34m\u001b[0m\u001b[0m\n\u001b[1;32m     20\u001b[0m \u001b[0;34m\u001b[0m\u001b[0m\n\u001b[0;32m---> 21\u001b[0;31m \u001b[0mprint\u001b[0m\u001b[0;34m(\u001b[0m\u001b[0;34m''\u001b[0m\u001b[0;34m.\u001b[0m\u001b[0mjoin\u001b[0m\u001b[0;34m(\u001b[0m\u001b[0mans\u001b[0m\u001b[0;34m)\u001b[0m\u001b[0;34m)\u001b[0m\u001b[0;34m\u001b[0m\u001b[0;34m\u001b[0m\u001b[0m\n\u001b[0m",
      "\u001b[0;31mTypeError\u001b[0m: sequence item 2: expected str instance, int found"
     ]
    }
   ],
   "source": [
    "ans=copy.copy(S)\n",
    "S_sort=copy.copy(S)\n",
    "S_sort.sort()\n",
    "i=0\n",
    "k=K//2\n",
    "stack=[]\n",
    "while(k>0):    \n",
    "    j=ans.index(S_sort[i])\n",
    "\n",
    "    if not i==j:\n",
    "        k-=1\n",
    "        stack.append(ans.pop(j))\n",
    "        ans.insert(j,j)\n",
    "        \n",
    "    i+=1\n",
    "    if i>N:\n",
    "        break\n",
    "stack.sort()\n",
    "\n",
    "    \n",
    "print(''.join(ans))"
   ]
  },
  {
   "cell_type": "code",
   "execution_count": 292,
   "metadata": {},
   "outputs": [
    {
     "data": {
      "text/plain": [
       "['a', 't', 2, 'o', 'd', 'e', 'r']"
      ]
     },
     "execution_count": 292,
     "metadata": {},
     "output_type": "execute_result"
    }
   ],
   "source": [
    "ans"
   ]
  },
  {
   "cell_type": "code",
   "execution_count": 447,
   "metadata": {},
   "outputs": [
    {
     "name": "stdout",
     "output_type": "stream",
     "text": [
      "4\n",
      "2 3 4\n",
      "1 3 4\n",
      "4 1 2\n",
      "3 1 2\n"
     ]
    }
   ],
   "source": [
    "from collections import deque\n",
    "\n",
    "N=int(input())\n",
    "A=[]\n",
    "for i in range(N):\n",
    "    A.append(deque(list(map(int,input().split()))))\n",
    "\n"
   ]
  },
  {
   "cell_type": "code",
   "execution_count": 296,
   "metadata": {},
   "outputs": [],
   "source": []
  },
  {
   "cell_type": "code",
   "execution_count": 496,
   "metadata": {},
   "outputs": [],
   "source": [
    "A=[deque([2, 3, 4]), deque([1, 3, 4]), deque([4, 1, 2]), deque([3, 1, 2])]\n",
    "memo=[i for i in range(N)]\n",
    "ans=[]\n",
    "    "
   ]
  },
  {
   "cell_type": "code",
   "execution_count": 509,
   "metadata": {},
   "outputs": [],
   "source": [
    "def d(i,loop):\n",
    "    if len(A[i])>0:\n",
    "        j=A[i][0]-1\n",
    "        if i==A[j][0]-1:\n",
    "            A[i].popleft()\n",
    "            A[j].popleft()\n",
    "            if i in memo or j in memo:\n",
    "                ans.append(1)\n",
    "                memo.clear()\n",
    "                memo.append(i)\n",
    "                memo.append(j)\n",
    "\n",
    "            else:\n",
    "                memo.append(i)\n",
    "                memo.append(j)\n",
    "            return\n",
    "        \n",
    "        else:\n",
    "            if loop<=N:\n",
    "                loop+=1\n",
    "                return d(j,loop)\n",
    "            else:\n",
    "                return\n",
    "    \n",
    "    elif loop==N-1:\n",
    "        return \n",
    "    else:\n",
    "        loop+=1\n",
    "        return d(i+1,loop)"
   ]
  },
  {
   "cell_type": "code",
   "execution_count": 518,
   "metadata": {},
   "outputs": [
    {
     "name": "stdout",
     "output_type": "stream",
     "text": [
      "4\n"
     ]
    }
   ],
   "source": [
    "\n",
    "\n",
    "# for ii in range(N*(N-1)//2):\n",
    "d(0,0)\n",
    "\n",
    "check=0\n",
    "for a in A:\n",
    "    check+=len(a)\n",
    "if check==0:\n",
    "    print(sum(ans))\n",
    "else:\n",
    "    print(-1)"
   ]
  },
  {
   "cell_type": "code",
   "execution_count": 522,
   "metadata": {},
   "outputs": [
    {
     "data": {
      "text/plain": [
       "[deque([]), deque([]), deque([]), deque([])]"
      ]
     },
     "execution_count": 522,
     "metadata": {},
     "output_type": "execute_result"
    }
   ],
   "source": [
    "A"
   ]
  },
  {
   "cell_type": "code",
   "execution_count": 531,
   "metadata": {},
   "outputs": [
    {
     "data": {
      "text/plain": [
       "[1, 3]"
      ]
     },
     "execution_count": 531,
     "metadata": {},
     "output_type": "execute_result"
    }
   ],
   "source": [
    "memo"
   ]
  },
  {
   "cell_type": "code",
   "execution_count": 532,
   "metadata": {},
   "outputs": [
    {
     "data": {
      "text/plain": [
       "[1, 1, 1, 1]"
      ]
     },
     "execution_count": 532,
     "metadata": {},
     "output_type": "execute_result"
    }
   ],
   "source": [
    "ans"
   ]
  },
  {
   "cell_type": "code",
   "execution_count": 533,
   "metadata": {},
   "outputs": [],
   "source": [
    "d(0,0)"
   ]
  },
  {
   "cell_type": "code",
   "execution_count": 464,
   "metadata": {},
   "outputs": [
    {
     "name": "stdout",
     "output_type": "stream",
     "text": [
      "3\n",
      "2 3\n",
      "1 3\n",
      "1 2\n",
      "1\n"
     ]
    }
   ],
   "source": [
    "from collections import deque\n",
    "\n",
    "N=int(input())\n",
    "A=[]\n",
    "for i in range(N):\n",
    "    A.append(deque(list(map(int,input().split()))))\n",
    "def d(i,loop):\n",
    "    if len(A[i])>0:\n",
    "        j=A[i][0]-1\n",
    "        if i==A[j][0]-1:\n",
    "            A[i].popleft()\n",
    "            A[j].popleft()\n",
    "            if i in memo or j in memo:\n",
    "                ans.append(1)\n",
    "                memo.clear()\n",
    "                if i in memo:\n",
    "                    memo.append(i)\n",
    "                if j in memo:\n",
    "                    memo.append(j)\n",
    "            else:\n",
    "                memo.append(i)\n",
    "                memo.append(j)\n",
    "            return\n",
    "        \n",
    "        else:\n",
    "            if loop<=N:\n",
    "                loop+=1\n",
    "                return d(j,loop)\n",
    "            else:\n",
    "                return\n",
    "    \n",
    "    elif loop==N-1:\n",
    "        return \n",
    "    else:\n",
    "        loop+=1\n",
    "        return d(i+1,loop)\n",
    "    \n",
    "A=[deque([2,3]), deque([1,3]), deque([1,2])]\n",
    "memo=[]\n",
    "ans=[]\n",
    "    \n",
    "for ii in range(N*(N-1)//2):\n",
    "    d(0,0)\n",
    "\n",
    "check=0\n",
    "for a in A:\n",
    "    check+=len(a)\n",
    "if check==0:\n",
    "    print(sum(ans))\n",
    "else:\n",
    "    print(-1)\n",
    "\n",
    "\n"
   ]
  },
  {
   "cell_type": "code",
   "execution_count": 537,
   "metadata": {},
   "outputs": [],
   "source": [
    "sys.stdin = open('input.txt', 'r')"
   ]
  },
  {
   "cell_type": "code",
   "execution_count": null,
   "metadata": {},
   "outputs": [],
   "source": [
    "import sys\n",
    "from collections import deque\n",
    "\n",
    "n = int(input())\n",
    "matches = [[a - 1 for a in map(int, line.split())] for line in sys.stdin]"
   ]
  },
  {
   "cell_type": "code",
   "execution_count": 609,
   "metadata": {},
   "outputs": [],
   "source": [
    "n=4\n",
    "matches=[[1,2,3],[0,2,3],[3,0,1],[2,0,1]]"
   ]
  },
  {
   "cell_type": "code",
   "execution_count": 610,
   "metadata": {},
   "outputs": [],
   "source": [
    "\n",
    "q = deque(range(n))\n",
    "depth = [0] * n\n",
    "waiting = [-1] * n\n"
   ]
  },
  {
   "cell_type": "code",
   "execution_count": 581,
   "metadata": {},
   "outputs": [
    {
     "data": {
      "text/plain": [
       "deque([0, 1, 2, 3])"
      ]
     },
     "execution_count": 581,
     "metadata": {},
     "output_type": "execute_result"
    }
   ],
   "source": [
    "q"
   ]
  },
  {
   "cell_type": "code",
   "execution_count": 568,
   "metadata": {},
   "outputs": [
    {
     "data": {
      "text/plain": [
       "[0, 0, 0, 0]"
      ]
     },
     "execution_count": 568,
     "metadata": {},
     "output_type": "execute_result"
    }
   ],
   "source": [
    "depth"
   ]
  },
  {
   "cell_type": "code",
   "execution_count": 611,
   "metadata": {},
   "outputs": [
    {
     "name": "stdout",
     "output_type": "stream",
     "text": [
      "deque([0, 1, 2, 3])\n",
      "[[1, 2, 3], [0, 2, 3], [3, 0, 1], [2, 0, 1]]\n",
      "[-1, -1, -1, -1]\n",
      "deque([1, 2, 3])\n",
      "[[1, 2], [0, 2, 3], [3, 0, 1], [2, 0, 1]]\n",
      "[3, -1, -1, -1]\n",
      "deque([2, 3])\n",
      "[[1, 2], [0, 2], [3, 0, 1], [2, 0, 1]]\n",
      "[3, 3, -1, -1]\n",
      "deque([3])\n",
      "[[1, 2], [0, 2], [3, 0], [2, 0, 1]]\n",
      "[3, 3, 1, -1]\n",
      "deque([1, 3])\n",
      "[[1, 2], [0, 2], [3, 0], [2, 0]]\n",
      "[3, 3, 1, -1]\n",
      "deque([2, 1, 3])\n",
      "[[1, 2], [0], [3, 0], [2, 0]]\n",
      "[3, 3, 1, -1]\n",
      "deque([1, 3])\n",
      "[[1, 2], [0], [3], [2, 0]]\n",
      "[3, 3, 0, -1]\n",
      "deque([3])\n",
      "[[1, 2], [], [3], [2, 0]]\n",
      "[3, 0, 0, -1]\n",
      "deque([0, 3])\n",
      "[[1, 2], [], [3], [2]]\n",
      "[3, 0, 0, -1]\n",
      "deque([2, 0, 3])\n",
      "[[1], [], [3], [2]]\n",
      "[3, 0, 0, -1]\n",
      "deque([0, 3])\n",
      "[[1], [], [], [2]]\n",
      "[3, 0, 3, -1]\n",
      "deque([3])\n",
      "[[], [], [], [2]]\n",
      "[3, 0, 3, -1]\n",
      "4\n"
     ]
    }
   ],
   "source": [
    "\n",
    "while q:\n",
    "    print(q),\n",
    "    print(matches)\n",
    "    print(waiting)\n",
    "    a = q.popleft()\n",
    "    b = matches[a].pop()\n",
    "    if waiting[b] == a:\n",
    "        depth[a] = depth[b] = max(depth[a], depth[b]) + 1\n",
    "        if matches[a]:\n",
    "            q.appendleft(a)\n",
    "        if matches[b]:\n",
    "            q.appendleft(b)\n",
    "    else:\n",
    "        waiting[a] = b\n",
    "\n",
    "if any(matches):\n",
    "    print(-1)\n",
    "else:\n",
    "    print(max(depth))\n",
    "\n"
   ]
  },
  {
   "cell_type": "code",
   "execution_count": 608,
   "metadata": {},
   "outputs": [
    {
     "ename": "IndexError",
     "evalue": "pop from an empty deque",
     "output_type": "error",
     "traceback": [
      "\u001b[0;31m---------------------------------------------------------------------------\u001b[0m",
      "\u001b[0;31mIndexError\u001b[0m                                Traceback (most recent call last)",
      "\u001b[0;32m<ipython-input-608-17fb2b125ed0>\u001b[0m in \u001b[0;36m<module>\u001b[0;34m\u001b[0m\n\u001b[0;32m----> 1\u001b[0;31m \u001b[0ma\u001b[0m \u001b[0;34m=\u001b[0m \u001b[0mq\u001b[0m\u001b[0;34m.\u001b[0m\u001b[0mpopleft\u001b[0m\u001b[0;34m(\u001b[0m\u001b[0;34m)\u001b[0m\u001b[0;34m\u001b[0m\u001b[0;34m\u001b[0m\u001b[0m\n\u001b[0m\u001b[1;32m      2\u001b[0m \u001b[0mb\u001b[0m \u001b[0;34m=\u001b[0m \u001b[0mmatches\u001b[0m\u001b[0;34m[\u001b[0m\u001b[0ma\u001b[0m\u001b[0;34m]\u001b[0m\u001b[0;34m.\u001b[0m\u001b[0mpop\u001b[0m\u001b[0;34m(\u001b[0m\u001b[0;34m)\u001b[0m\u001b[0;34m\u001b[0m\u001b[0;34m\u001b[0m\u001b[0m\n",
      "\u001b[0;31mIndexError\u001b[0m: pop from an empty deque"
     ]
    }
   ],
   "source": [
    "a = q.popleft()\n",
    "b = matches[a].pop()"
   ]
  },
  {
   "cell_type": "code",
   "execution_count": 596,
   "metadata": {},
   "outputs": [
    {
     "data": {
      "text/plain": [
       "True"
      ]
     },
     "execution_count": 596,
     "metadata": {},
     "output_type": "execute_result"
    }
   ],
   "source": [
    " waiting[b] == a"
   ]
  },
  {
   "cell_type": "code",
   "execution_count": 593,
   "metadata": {},
   "outputs": [],
   "source": [
    " waiting[a] = b"
   ]
  },
  {
   "cell_type": "code",
   "execution_count": 597,
   "metadata": {},
   "outputs": [],
   "source": [
    "        depth[a] = depth[b] = max(depth[a], depth[b]) + 1"
   ]
  },
  {
   "cell_type": "code",
   "execution_count": 598,
   "metadata": {},
   "outputs": [
    {
     "data": {
      "text/plain": [
       "[2, 0]"
      ]
     },
     "execution_count": 598,
     "metadata": {},
     "output_type": "execute_result"
    }
   ],
   "source": [
    "matches[a]"
   ]
  },
  {
   "cell_type": "code",
   "execution_count": 594,
   "metadata": {},
   "outputs": [
    {
     "name": "stdout",
     "output_type": "stream",
     "text": [
      "deque([3]) [3, 3, 1, -1] [[1, 2], [0, 2], [3, 0], [2, 0, 1]]\n"
     ]
    }
   ],
   "source": []
  },
  {
   "cell_type": "code",
   "execution_count": 613,
   "metadata": {},
   "outputs": [],
   "source": [
    "from collections import defaultdict"
   ]
  },
  {
   "cell_type": "code",
   "execution_count": null,
   "metadata": {},
   "outputs": [],
   "source": [
    "from collections import defaultdict\n",
    "N = int(input())\n",
    "A = [[0 for _ in range(N - 1)] for _ in range(N)]\n",
    "for i in range(N):\n",
    "  A[i] = [int(x) - 1 for x in input().split()]\n"
   ]
  },
  {
   "cell_type": "code",
   "execution_count": 659,
   "metadata": {},
   "outputs": [],
   "source": [
    "day = 0\n",
    "M = defaultdict(int)\n",
    "N=4\n",
    "A=[[2-1, 3-1, 4-1],[1-1, 3-1, 4-1], [4-1, 1-1, 2-1], [3-1, 1-1, 2-1]]"
   ]
  },
  {
   "cell_type": "code",
   "execution_count": 660,
   "metadata": {},
   "outputs": [
    {
     "data": {
      "text/plain": [
       "[[1, 2, 3], [0, 2, 3], [3, 0, 1], [2, 0, 1]]"
      ]
     },
     "execution_count": 660,
     "metadata": {},
     "output_type": "execute_result"
    }
   ],
   "source": [
    "A"
   ]
  },
  {
   "cell_type": "code",
   "execution_count": 661,
   "metadata": {},
   "outputs": [],
   "source": [
    "for i in range(N):\n",
    "  M[i] += 1\n",
    "W = [0] * N"
   ]
  },
  {
   "cell_type": "code",
   "execution_count": 662,
   "metadata": {},
   "outputs": [
    {
     "data": {
      "text/plain": [
       "defaultdict(int, {0: 1, 1: 1, 2: 1, 3: 1})"
      ]
     },
     "execution_count": 662,
     "metadata": {},
     "output_type": "execute_result"
    }
   ],
   "source": [
    "M"
   ]
  },
  {
   "cell_type": "code",
   "execution_count": 665,
   "metadata": {},
   "outputs": [
    {
     "name": "stdout",
     "output_type": "stream",
     "text": [
      "defaultdict(<class 'int'>, {0: 1, 1: 1, 2: 1, 3: 1})\n",
      "defaultdict(<class 'int'>, {0: 2, 1: 2, 2: 2, 3: 2})\n",
      "defaultdict(<class 'int'>, {0: 2, 2: 2})\n",
      "defaultdict(<class 'int'>, {0: 1, 3: 1, 2: 1, 1: 1})\n",
      "defaultdict(<class 'int'>, {3: 2, 1: 2})\n"
     ]
    }
   ],
   "source": [
    "while M:\n",
    "  print(M)\n",
    "  day += 1\n",
    "  for m in M:\n",
    "    W[m] = A[m].pop(0) if A[m] else -1\n",
    "  _M = defaultdict(int)\n",
    "  for m in M:\n",
    "    if W[m] >= 0 and W[W[m]] == m:\n",
    "      _M[m] += 1\n",
    "      _M[W[m]] += 1\n",
    "  M = _M"
   ]
  },
  {
   "cell_type": "code",
   "execution_count": 652,
   "metadata": {},
   "outputs": [
    {
     "data": {
      "text/plain": [
       "defaultdict(int, {})"
      ]
     },
     "execution_count": 652,
     "metadata": {},
     "output_type": "execute_result"
    }
   ],
   "source": [
    "M"
   ]
  },
  {
   "cell_type": "code",
   "execution_count": null,
   "metadata": {},
   "outputs": [],
   "source": [
    "\n",
    "\n",
    "for w in W:\n",
    "  if w > 0:\n",
    "    print(-1)\n",
    "    break\n",
    "else:\n",
    "  print(day - 1)\n",
    "\n"
   ]
  },
  {
   "cell_type": "code",
   "execution_count": 629,
   "metadata": {},
   "outputs": [
    {
     "name": "stdout",
     "output_type": "stream",
     "text": [
      "0\n",
      "1\n",
      "2\n",
      "3\n"
     ]
    }
   ],
   "source": [
    "for m in M:\n",
    "    print(m)"
   ]
  },
  {
   "cell_type": "code",
   "execution_count": 638,
   "metadata": {},
   "outputs": [
    {
     "data": {
      "text/plain": [
       "[2, 3]"
      ]
     },
     "execution_count": 638,
     "metadata": {},
     "output_type": "execute_result"
    }
   ],
   "source": [
    "A[0]"
   ]
  },
  {
   "cell_type": "code",
   "execution_count": 637,
   "metadata": {},
   "outputs": [],
   "source": [
    "  for m in M:\n",
    "    W[m] = A[m].pop(0) if A[m] else -1"
   ]
  },
  {
   "cell_type": "code",
   "execution_count": 641,
   "metadata": {},
   "outputs": [
    {
     "data": {
      "text/plain": [
       "[1, 0, 3, 2]"
      ]
     },
     "execution_count": 641,
     "metadata": {},
     "output_type": "execute_result"
    }
   ],
   "source": [
    "\n",
    "W"
   ]
  },
  {
   "cell_type": "code",
   "execution_count": 643,
   "metadata": {},
   "outputs": [],
   "source": [
    "_M = defaultdict(int)\n",
    "for m in M:\n",
    "    if W[m] >= 0 and W[W[m]] == m:\n",
    "      _M[m] += 1\n",
    "      _M[W[m]] += 1"
   ]
  },
  {
   "cell_type": "code",
   "execution_count": 644,
   "metadata": {},
   "outputs": [
    {
     "data": {
      "text/plain": [
       "[1, 0, 3, 2]"
      ]
     },
     "execution_count": 644,
     "metadata": {},
     "output_type": "execute_result"
    }
   ],
   "source": [
    "W"
   ]
  },
  {
   "cell_type": "code",
   "execution_count": 645,
   "metadata": {},
   "outputs": [
    {
     "data": {
      "text/plain": [
       "defaultdict(int, {0: 2, 1: 2, 2: 2, 3: 2})"
      ]
     },
     "execution_count": 645,
     "metadata": {},
     "output_type": "execute_result"
    }
   ],
   "source": [
    "_M"
   ]
  },
  {
   "cell_type": "code",
   "execution_count": 744,
   "metadata": {},
   "outputs": [
    {
     "name": "stdout",
     "output_type": "stream",
     "text": [
      "9 23\n",
      "170 8 120 5 12\n"
     ]
    }
   ],
   "source": [
    "N,H = map(int,input().split())\n",
    "A,B,C,D,E= map(int,input().split())"
   ]
  },
  {
   "cell_type": "code",
   "execution_count": 758,
   "metadata": {},
   "outputs": [],
   "source": [
    "N=9\n",
    "H=23\n"
   ]
  },
  {
   "cell_type": "code",
   "execution_count": 754,
   "metadata": {},
   "outputs": [
    {
     "name": "stdout",
     "output_type": "stream",
     "text": [
      "23 0\n",
      "11 0\n",
      "19 170\n",
      "7 170\n",
      "15 340\n",
      "3 340\n",
      "11 510\n",
      "19 680\n",
      "7 680\n",
      "800\n"
     ]
    }
   ],
   "source": [
    "ans=0\n",
    "for i in range(N):\n",
    "    print(H,ans)\n",
    "    if H-E>0:\n",
    "        H-=E\n",
    "    else:\n",
    "\n",
    "        x=(E-H)//B+1\n",
    "        y=(E-H)//D+1\n",
    "        if N-i<=min(x,y):\n",
    "#             print(i,H,x,y)\n",
    "            if A>= C:\n",
    "                ans+=C\n",
    "                H+=D\n",
    "            else:\n",
    "                ans+=A\n",
    "                H+=B\n",
    "        else:\n",
    "            if A/B>C/D:\n",
    "                ans+=C\n",
    "                H+=D\n",
    "            else:\n",
    "                ans+=A\n",
    "                H+=B\n",
    "print(ans)        "
   ]
  },
  {
   "cell_type": "code",
   "execution_count": 752,
   "metadata": {},
   "outputs": [
    {
     "data": {
      "text/plain": [
       "False"
      ]
     },
     "execution_count": 752,
     "metadata": {},
     "output_type": "execute_result"
    }
   ],
   "source": [
    "A/B >= C/D"
   ]
  },
  {
   "cell_type": "code",
   "execution_count": 719,
   "metadata": {},
   "outputs": [],
   "source": [
    "H=1"
   ]
  },
  {
   "cell_type": "code",
   "execution_count": 713,
   "metadata": {},
   "outputs": [
    {
     "data": {
      "text/plain": [
       "100"
      ]
     },
     "execution_count": 713,
     "metadata": {},
     "output_type": "execute_result"
    }
   ],
   "source": [
    "A*x"
   ]
  },
  {
   "cell_type": "code",
   "execution_count": 776,
   "metadata": {},
   "outputs": [
    {
     "name": "stdout",
     "output_type": "stream",
     "text": [
      "10 1\n",
      "5000 2 2000 1 300\n"
     ]
    }
   ],
   "source": [
    "N,H = map(int,input().split())\n",
    "A,B,C,D,E= map(int,input().split())"
   ]
  },
  {
   "cell_type": "code",
   "execution_count": 779,
   "metadata": {},
   "outputs": [],
   "source": [
    "M=-C*(((B+E)/(D+E)=1)*x)+((H-E*N)//(D+E)+1)+A*x"
   ]
  },
  {
   "cell_type": "code",
   "execution_count": 807,
   "metadata": {},
   "outputs": [
    {
     "name": "stdout",
     "output_type": "stream",
     "text": [
      "19926\n"
     ]
    }
   ],
   "source": [
    "ans=[]\n",
    "for x in range(N+1):\n",
    "    M=-C*((B+E)*x+H-E*N)/(D+E)+A*x\n",
    "    ans.append(M)\n",
    "print(int(min(ans)))"
   ]
  },
  {
   "cell_type": "code",
   "execution_count": 805,
   "metadata": {},
   "outputs": [],
   "source": [
    "x=0\n",
    "MM=-C*((B+E))/(D+E)*x-C*(H-E*N)/(D+E)+A*x"
   ]
  },
  {
   "cell_type": "code",
   "execution_count": 806,
   "metadata": {},
   "outputs": [
    {
     "data": {
      "text/plain": [
       "19926.91029900332"
      ]
     },
     "execution_count": 806,
     "metadata": {},
     "output_type": "execute_result"
    }
   ],
   "source": [
    "MM"
   ]
  },
  {
   "cell_type": "code",
   "execution_count": 831,
   "metadata": {},
   "outputs": [
    {
     "name": "stdout",
     "output_type": "stream",
     "text": [
      "9 23\n",
      "170 8 120 5 12\n"
     ]
    }
   ],
   "source": [
    "import math\n",
    "N,H = map(int,input().split())\n",
    "A,B,C,D,E= map(int,input().split())\n",
    "\n"
   ]
  },
  {
   "cell_type": "code",
   "execution_count": 841,
   "metadata": {},
   "outputs": [
    {
     "name": "stdout",
     "output_type": "stream",
     "text": [
      "650\n"
     ]
    }
   ],
   "source": [
    "import math\n",
    "N,H = map(int,input().split())\n",
    "A,B,C,D,E= map(int,input().split())\n",
    "ans=[]\n",
    "for x in range(N):\n",
    "    y=math.ceil(((N-x)*E-H-B*x)/(D+E))\n",
    "    if y>=0 and B*x+D*y-E*(N-x-y)+H>0:\n",
    "        ans.append(A*x+C*y)\n",
    "ans.append(A*N)\n",
    "print(min(ans))"
   ]
  },
  {
   "cell_type": "code",
   "execution_count": 842,
   "metadata": {},
   "outputs": [
    {
     "data": {
      "text/plain": [
       "[650, 700, 750, 800, 850, 1530]"
      ]
     },
     "execution_count": 842,
     "metadata": {},
     "output_type": "execute_result"
    }
   ],
   "source": [
    "ans"
   ]
  },
  {
   "cell_type": "code",
   "execution_count": 840,
   "metadata": {},
   "outputs": [
    {
     "data": {
      "text/plain": [
       "[0, 3, 6, 9, 12, 15, 1, 4, 7]"
      ]
     },
     "execution_count": 840,
     "metadata": {},
     "output_type": "execute_result"
    }
   ],
   "source": [
    "ans2"
   ]
  },
  {
   "cell_type": "code",
   "execution_count": 8,
   "metadata": {},
   "outputs": [
    {
     "name": "stdout",
     "output_type": "stream",
     "text": [
      "4\n",
      "1000000 1000000\n",
      "1000000 1000000\n",
      "0 1000000\n",
      "1 1000000\n"
     ]
    }
   ],
   "source": [
    "N = int(input())\n",
    "A=[list(map(int,input().split())) for i in range(N)]"
   ]
  },
  {
   "cell_type": "code",
   "execution_count": 57,
   "metadata": {},
   "outputs": [],
   "source": [
    "A.sort()"
   ]
  },
  {
   "cell_type": "code",
   "execution_count": 76,
   "metadata": {},
   "outputs": [],
   "source": [
    "A=[[0, 1000000], [1, 1000000], [1000000, 1000000], [1000000, 1000000]]"
   ]
  },
  {
   "cell_type": "code",
   "execution_count": 77,
   "metadata": {},
   "outputs": [],
   "source": [
    "M=A[-1][1]+1"
   ]
  },
  {
   "cell_type": "code",
   "execution_count": 78,
   "metadata": {},
   "outputs": [
    {
     "name": "stdout",
     "output_type": "stream",
     "text": [
      "4\n"
     ]
    }
   ],
   "source": [
    "x=0\n",
    "y=0\n",
    "count=0\n",
    "ans=0\n",
    "for i in range(M):\n",
    "    if A[x][1]<i:\n",
    "\n",
    "        for j in range(x,N):\n",
    "            if A[j][0]<=i and i<=A[j][1]:\n",
    "                x=j\n",
    "                break\n",
    "    count=0\n",
    "    for j in range(x,N):\n",
    "        if A[j][0]<=i:\n",
    "            count+=1\n",
    "        else:\n",
    "            break\n",
    "\n",
    "    ans=max(ans,count)\n",
    "    \n",
    "print(ans)"
   ]
  },
  {
   "cell_type": "code",
   "execution_count": 52,
   "metadata": {},
   "outputs": [
    {
     "data": {
      "text/plain": [
       "4"
      ]
     },
     "execution_count": 52,
     "metadata": {},
     "output_type": "execute_result"
    }
   ],
   "source": [
    "\n",
    "ans"
   ]
  },
  {
   "cell_type": "code",
   "execution_count": 42,
   "metadata": {},
   "outputs": [
    {
     "data": {
      "text/plain": [
       "1000000"
      ]
     },
     "execution_count": 42,
     "metadata": {},
     "output_type": "execute_result"
    }
   ],
   "source": [
    "i"
   ]
  },
  {
   "cell_type": "code",
   "execution_count": 43,
   "metadata": {},
   "outputs": [
    {
     "data": {
      "text/plain": [
       "0"
      ]
     },
     "execution_count": 43,
     "metadata": {},
     "output_type": "execute_result"
    }
   ],
   "source": [
    "x"
   ]
  },
  {
   "cell_type": "code",
   "execution_count": 44,
   "metadata": {},
   "outputs": [
    {
     "data": {
      "text/plain": [
       "1000000"
      ]
     },
     "execution_count": 44,
     "metadata": {},
     "output_type": "execute_result"
    }
   ],
   "source": [
    "A[x][1]"
   ]
  },
  {
   "cell_type": "code",
   "execution_count": 46,
   "metadata": {},
   "outputs": [
    {
     "data": {
      "text/plain": [
       "False"
      ]
     },
     "execution_count": 46,
     "metadata": {},
     "output_type": "execute_result"
    }
   ],
   "source": [
    "A[x][1]<i"
   ]
  },
  {
   "cell_type": "code",
   "execution_count": null,
   "metadata": {},
   "outputs": [],
   "source": [
    "N = int(input())\n",
    "A=[list(map(int,input().split())) for i in range(N)]\n",
    "A.sort()\n",
    "M=A[-1][1]\n",
    "x=0\n",
    "y=0\n",
    "count=0\n",
    "ans=0\n",
    "for i in range(M):\n",
    "    for j in range(y,N):\n",
    "        if i < A[j][0]:\n",
    "            y=j-1\n",
    "            break\n",
    "    \n",
    "    if A[x][1]<i:\n",
    "        for j in range(x+1,y+1):\n",
    "            if i<=A[j][1]:\n",
    "                x=j\n",
    "                break\n",
    "    count=y-x+1\n",
    "    ans=max(ans,count)\n",
    "    \n",
    "print(ans)"
   ]
  },
  {
   "cell_type": "code",
   "execution_count": 72,
   "metadata": {},
   "outputs": [
    {
     "name": "stdout",
     "output_type": "stream",
     "text": [
      "4\n",
      "1000000 1000000\n",
      "1000000 1000000\n",
      "0 1000000\n",
      "1 1000000\n"
     ]
    }
   ],
   "source": [
    "N = int(input())\n",
    "A=[list(map(int,input().split())) for i in range(N)]\n",
    "A.sort()\n",
    "M=A[-1][1]+1\n",
    "x=0\n",
    "y=0\n",
    "count=0\n",
    "ans=0\n",
    "for i in range(M):\n",
    "\n",
    "    if A[x][1]<i:\n",
    "\n",
    "        for j in range(x,N):\n",
    "            if A[j][0]<=i and i<=A[j][1]:\n",
    "                x=j\n",
    "                break\n",
    "    count=0\n",
    "    for j in range(max(x,y),N):\n",
    "        if i<A[j][0]:\n",
    "            y=j-1\n",
    "            break\n",
    "        else:\n",
    "            y=j\n",
    "#     print(x,y)\n",
    "    count=y-x+1\n",
    "    ans=max(ans,count)\n",
    "    \n",
    "print(ans)"
   ]
  },
  {
   "cell_type": "code",
   "execution_count": 73,
   "metadata": {},
   "outputs": [
    {
     "data": {
      "text/plain": [
       "[[0, 1000000], [1, 1000000], [1000000, 1000000], [1000000, 1000000]]"
      ]
     },
     "execution_count": 73,
     "metadata": {},
     "output_type": "execute_result"
    }
   ],
   "source": [
    "A"
   ]
  },
  {
   "cell_type": "code",
   "execution_count": 91,
   "metadata": {},
   "outputs": [
    {
     "name": "stdout",
     "output_type": "stream",
     "text": [
      "4\n"
     ]
    }
   ],
   "source": [
    "x=0\n",
    "y=0\n",
    "count=0\n",
    "ans=0\n",
    "for i in range(M):\n",
    "\n",
    "    if A[x][1]<i:\n",
    "\n",
    "        for j in range(x,N):\n",
    "            if A[j][0]<=i and i<=A[j][1]:\n",
    "                x=j\n",
    "                break\n",
    "    count=0\n",
    "    for j in range(max(x,y),N):\n",
    "        if i<A[j][0]:\n",
    "            y=j-1\n",
    "            break\n",
    "        else:\n",
    "            y=j\n",
    "#     print(x,y)\n",
    "    count=y-x+1\n",
    "    ans=max(ans,count)\n",
    "    \n",
    "print(ans)"
   ]
  },
  {
   "cell_type": "code",
   "execution_count": 43,
   "metadata": {},
   "outputs": [
    {
     "name": "stdout",
     "output_type": "stream",
     "text": [
      "3 4\n",
      "1 3 5 17\n",
      "2 4 2 3\n",
      "1 3 2 9\n"
     ]
    }
   ],
   "source": [
    "N,K=map(int,input().split())\n",
    "T=[list(map(int,input().split())) for i in range(N)]"
   ]
  },
  {
   "cell_type": "code",
   "execution_count": 317,
   "metadata": {},
   "outputs": [],
   "source": [
    "def XOR(index,i,j):\n",
    "    index2=index+j*(K+1)**(i-1)\n",
    "    if index2<=(K+1)**N:\n",
    "        ans[index2]=ans[index]^T[i-1][j-1]\n",
    "#         print(index2,ans[index2])\n",
    "    for k in range(K):\n",
    "        if XOR(index,i+1,k+1):\n",
    "            return True\n",
    "    \n",
    "    if i==N:\n",
    "        return ans[index2]==0\n",
    "\n",
    "        \n",
    "    return False\n",
    "\n",
    "        \n",
    "\n",
    "     "
   ]
  },
  {
   "cell_type": "code",
   "execution_count": 318,
   "metadata": {},
   "outputs": [],
   "source": [
    "ans=np.array([-1]*((K+1)**N))\n",
    "ans[:K+1]=0\n"
   ]
  },
  {
   "cell_type": "code",
   "execution_count": 319,
   "metadata": {},
   "outputs": [],
   "source": [
    "import numpy as np"
   ]
  },
  {
   "cell_type": "code",
   "execution_count": 320,
   "metadata": {},
   "outputs": [
    {
     "ename": "IndexError",
     "evalue": "list index out of range",
     "output_type": "error",
     "traceback": [
      "\u001b[0;31m---------------------------------------------------------------------------\u001b[0m",
      "\u001b[0;31mIndexError\u001b[0m                                Traceback (most recent call last)",
      "\u001b[0;32m<ipython-input-320-07661935ed49>\u001b[0m in \u001b[0;36m<module>\u001b[0;34m\u001b[0m\n\u001b[0;32m----> 1\u001b[0;31m \u001b[0mXOR\u001b[0m\u001b[0;34m(\u001b[0m\u001b[0;36m0\u001b[0m\u001b[0;34m,\u001b[0m\u001b[0;36m1\u001b[0m\u001b[0;34m,\u001b[0m\u001b[0;36m1\u001b[0m\u001b[0;34m)\u001b[0m\u001b[0;34m\u001b[0m\u001b[0;34m\u001b[0m\u001b[0m\n\u001b[0m",
      "\u001b[0;32m<ipython-input-317-14d87f1ab926>\u001b[0m in \u001b[0;36mXOR\u001b[0;34m(index, i, j)\u001b[0m\n\u001b[1;32m      5\u001b[0m \u001b[0;31m#         print(index2,ans[index2])\u001b[0m\u001b[0;34m\u001b[0m\u001b[0;34m\u001b[0m\u001b[0;34m\u001b[0m\u001b[0m\n\u001b[1;32m      6\u001b[0m     \u001b[0;32mfor\u001b[0m \u001b[0mk\u001b[0m \u001b[0;32min\u001b[0m \u001b[0mrange\u001b[0m\u001b[0;34m(\u001b[0m\u001b[0mK\u001b[0m\u001b[0;34m)\u001b[0m\u001b[0;34m:\u001b[0m\u001b[0;34m\u001b[0m\u001b[0;34m\u001b[0m\u001b[0m\n\u001b[0;32m----> 7\u001b[0;31m         \u001b[0;32mif\u001b[0m \u001b[0mXOR\u001b[0m\u001b[0;34m(\u001b[0m\u001b[0mindex\u001b[0m\u001b[0;34m,\u001b[0m\u001b[0mi\u001b[0m\u001b[0;34m+\u001b[0m\u001b[0;36m1\u001b[0m\u001b[0;34m,\u001b[0m\u001b[0mk\u001b[0m\u001b[0;34m+\u001b[0m\u001b[0;36m1\u001b[0m\u001b[0;34m)\u001b[0m\u001b[0;34m:\u001b[0m\u001b[0;34m\u001b[0m\u001b[0;34m\u001b[0m\u001b[0m\n\u001b[0m\u001b[1;32m      8\u001b[0m             \u001b[0;32mreturn\u001b[0m \u001b[0;32mTrue\u001b[0m\u001b[0;34m\u001b[0m\u001b[0;34m\u001b[0m\u001b[0m\n\u001b[1;32m      9\u001b[0m \u001b[0;34m\u001b[0m\u001b[0m\n",
      "\u001b[0;32m<ipython-input-317-14d87f1ab926>\u001b[0m in \u001b[0;36mXOR\u001b[0;34m(index, i, j)\u001b[0m\n\u001b[1;32m      5\u001b[0m \u001b[0;31m#         print(index2,ans[index2])\u001b[0m\u001b[0;34m\u001b[0m\u001b[0;34m\u001b[0m\u001b[0;34m\u001b[0m\u001b[0m\n\u001b[1;32m      6\u001b[0m     \u001b[0;32mfor\u001b[0m \u001b[0mk\u001b[0m \u001b[0;32min\u001b[0m \u001b[0mrange\u001b[0m\u001b[0;34m(\u001b[0m\u001b[0mK\u001b[0m\u001b[0;34m)\u001b[0m\u001b[0;34m:\u001b[0m\u001b[0;34m\u001b[0m\u001b[0;34m\u001b[0m\u001b[0m\n\u001b[0;32m----> 7\u001b[0;31m         \u001b[0;32mif\u001b[0m \u001b[0mXOR\u001b[0m\u001b[0;34m(\u001b[0m\u001b[0mindex\u001b[0m\u001b[0;34m,\u001b[0m\u001b[0mi\u001b[0m\u001b[0;34m+\u001b[0m\u001b[0;36m1\u001b[0m\u001b[0;34m,\u001b[0m\u001b[0mk\u001b[0m\u001b[0;34m+\u001b[0m\u001b[0;36m1\u001b[0m\u001b[0;34m)\u001b[0m\u001b[0;34m:\u001b[0m\u001b[0;34m\u001b[0m\u001b[0;34m\u001b[0m\u001b[0m\n\u001b[0m\u001b[1;32m      8\u001b[0m             \u001b[0;32mreturn\u001b[0m \u001b[0;32mTrue\u001b[0m\u001b[0;34m\u001b[0m\u001b[0;34m\u001b[0m\u001b[0m\n\u001b[1;32m      9\u001b[0m \u001b[0;34m\u001b[0m\u001b[0m\n",
      "\u001b[0;32m<ipython-input-317-14d87f1ab926>\u001b[0m in \u001b[0;36mXOR\u001b[0;34m(index, i, j)\u001b[0m\n\u001b[1;32m      5\u001b[0m \u001b[0;31m#         print(index2,ans[index2])\u001b[0m\u001b[0;34m\u001b[0m\u001b[0;34m\u001b[0m\u001b[0;34m\u001b[0m\u001b[0m\n\u001b[1;32m      6\u001b[0m     \u001b[0;32mfor\u001b[0m \u001b[0mk\u001b[0m \u001b[0;32min\u001b[0m \u001b[0mrange\u001b[0m\u001b[0;34m(\u001b[0m\u001b[0mK\u001b[0m\u001b[0;34m)\u001b[0m\u001b[0;34m:\u001b[0m\u001b[0;34m\u001b[0m\u001b[0;34m\u001b[0m\u001b[0m\n\u001b[0;32m----> 7\u001b[0;31m         \u001b[0;32mif\u001b[0m \u001b[0mXOR\u001b[0m\u001b[0;34m(\u001b[0m\u001b[0mindex\u001b[0m\u001b[0;34m,\u001b[0m\u001b[0mi\u001b[0m\u001b[0;34m+\u001b[0m\u001b[0;36m1\u001b[0m\u001b[0;34m,\u001b[0m\u001b[0mk\u001b[0m\u001b[0;34m+\u001b[0m\u001b[0;36m1\u001b[0m\u001b[0;34m)\u001b[0m\u001b[0;34m:\u001b[0m\u001b[0;34m\u001b[0m\u001b[0;34m\u001b[0m\u001b[0m\n\u001b[0m\u001b[1;32m      8\u001b[0m             \u001b[0;32mreturn\u001b[0m \u001b[0;32mTrue\u001b[0m\u001b[0;34m\u001b[0m\u001b[0;34m\u001b[0m\u001b[0m\n\u001b[1;32m      9\u001b[0m \u001b[0;34m\u001b[0m\u001b[0m\n",
      "\u001b[0;32m<ipython-input-317-14d87f1ab926>\u001b[0m in \u001b[0;36mXOR\u001b[0;34m(index, i, j)\u001b[0m\n\u001b[1;32m      2\u001b[0m     \u001b[0mindex2\u001b[0m\u001b[0;34m=\u001b[0m\u001b[0mindex\u001b[0m\u001b[0;34m+\u001b[0m\u001b[0mj\u001b[0m\u001b[0;34m*\u001b[0m\u001b[0;34m(\u001b[0m\u001b[0mK\u001b[0m\u001b[0;34m+\u001b[0m\u001b[0;36m1\u001b[0m\u001b[0;34m)\u001b[0m\u001b[0;34m**\u001b[0m\u001b[0;34m(\u001b[0m\u001b[0mi\u001b[0m\u001b[0;34m-\u001b[0m\u001b[0;36m1\u001b[0m\u001b[0;34m)\u001b[0m\u001b[0;34m\u001b[0m\u001b[0;34m\u001b[0m\u001b[0m\n\u001b[1;32m      3\u001b[0m     \u001b[0;32mif\u001b[0m \u001b[0mindex2\u001b[0m\u001b[0;34m<=\u001b[0m\u001b[0;34m(\u001b[0m\u001b[0mK\u001b[0m\u001b[0;34m+\u001b[0m\u001b[0;36m1\u001b[0m\u001b[0;34m)\u001b[0m\u001b[0;34m**\u001b[0m\u001b[0mN\u001b[0m\u001b[0;34m:\u001b[0m\u001b[0;34m\u001b[0m\u001b[0;34m\u001b[0m\u001b[0m\n\u001b[0;32m----> 4\u001b[0;31m         \u001b[0mans\u001b[0m\u001b[0;34m[\u001b[0m\u001b[0mindex2\u001b[0m\u001b[0;34m]\u001b[0m\u001b[0;34m=\u001b[0m\u001b[0mans\u001b[0m\u001b[0;34m[\u001b[0m\u001b[0mindex\u001b[0m\u001b[0;34m]\u001b[0m\u001b[0;34m^\u001b[0m\u001b[0mT\u001b[0m\u001b[0;34m[\u001b[0m\u001b[0mi\u001b[0m\u001b[0;34m-\u001b[0m\u001b[0;36m1\u001b[0m\u001b[0;34m]\u001b[0m\u001b[0;34m[\u001b[0m\u001b[0mj\u001b[0m\u001b[0;34m-\u001b[0m\u001b[0;36m1\u001b[0m\u001b[0;34m]\u001b[0m\u001b[0;34m\u001b[0m\u001b[0;34m\u001b[0m\u001b[0m\n\u001b[0m\u001b[1;32m      5\u001b[0m \u001b[0;31m#         print(index2,ans[index2])\u001b[0m\u001b[0;34m\u001b[0m\u001b[0;34m\u001b[0m\u001b[0;34m\u001b[0m\u001b[0m\n\u001b[1;32m      6\u001b[0m     \u001b[0;32mfor\u001b[0m \u001b[0mk\u001b[0m \u001b[0;32min\u001b[0m \u001b[0mrange\u001b[0m\u001b[0;34m(\u001b[0m\u001b[0mK\u001b[0m\u001b[0;34m)\u001b[0m\u001b[0;34m:\u001b[0m\u001b[0;34m\u001b[0m\u001b[0;34m\u001b[0m\u001b[0m\n",
      "\u001b[0;31mIndexError\u001b[0m: list index out of range"
     ]
    }
   ],
   "source": [
    "XOR(0,1,1)"
   ]
  },
  {
   "cell_type": "code",
   "execution_count": 306,
   "metadata": {},
   "outputs": [
    {
     "data": {
      "text/plain": [
       "array([ 0,  1,  3,  5, 17])"
      ]
     },
     "execution_count": 306,
     "metadata": {},
     "output_type": "execute_result"
    }
   ],
   "source": [
    "ans[:K+1]"
   ]
  },
  {
   "cell_type": "code",
   "execution_count": 316,
   "metadata": {},
   "outputs": [
    {
     "data": {
      "text/plain": [
       "array([ 0,  1,  0,  0,  0, -1, -1, -1, -1, -1, -1, -1, -1, -1, -1, -1, -1,\n",
       "       -1, -1, -1, -1, -1, -1, -1, -1, -1, -1, -1, -1, -1, -1, -1, -1, -1,\n",
       "       -1, -1, -1, -1, -1, -1, -1, -1, -1, -1, -1, -1, -1, -1, -1, -1, -1,\n",
       "       -1, -1, -1, -1, -1, -1, -1, -1, -1, -1, -1, -1, -1, -1, -1, -1, -1,\n",
       "       -1, -1, -1, -1, -1, -1, -1, -1, -1, -1, -1, -1, -1, -1, -1, -1, -1,\n",
       "       -1, -1, -1, -1, -1, -1, -1, -1, -1, -1, -1, -1, -1, -1, -1, -1, -1,\n",
       "       -1, -1, -1, -1, -1, -1, -1, -1, -1, -1, -1, -1, -1, -1, -1, -1, -1,\n",
       "       -1, -1, -1, -1, -1, -1])"
      ]
     },
     "execution_count": 316,
     "metadata": {},
     "output_type": "execute_result"
    }
   ],
   "source": [
    "ans"
   ]
  },
  {
   "cell_type": "code",
   "execution_count": 173,
   "metadata": {},
   "outputs": [
    {
     "data": {
      "text/plain": [
       "2"
      ]
     },
     "execution_count": 173,
     "metadata": {},
     "output_type": "execute_result"
    }
   ],
   "source": [
    "1^2^1"
   ]
  },
  {
   "cell_type": "code",
   "execution_count": 172,
   "metadata": {},
   "outputs": [
    {
     "data": {
      "text/plain": [
       "2"
      ]
     },
     "execution_count": 172,
     "metadata": {},
     "output_type": "execute_result"
    }
   ],
   "source": [
    "ans[31]"
   ]
  },
  {
   "cell_type": "code",
   "execution_count": 329,
   "metadata": {},
   "outputs": [],
   "source": [
    "def dfs(index,i,j):\n",
    "    index2=index+j*(K+1)**(i-1)\n",
    "    ans[index2]=ans[index]^T[i-1][j-1]\n",
    "    print(index2)\n",
    "    if i==N:\n",
    "        return ans[index2]==0\n",
    "    for k in range(K):\n",
    "        if dfs(index2,i+1,k+1):\n",
    "            return True\n",
    "    return False\n",
    "    "
   ]
  },
  {
   "cell_type": "code",
   "execution_count": 330,
   "metadata": {},
   "outputs": [
    {
     "name": "stdout",
     "output_type": "stream",
     "text": [
      "1\n",
      "6\n",
      "31\n",
      "56\n"
     ]
    },
    {
     "data": {
      "text/plain": [
       "True"
      ]
     },
     "execution_count": 330,
     "metadata": {},
     "output_type": "execute_result"
    }
   ],
   "source": [
    "ans=np.array([-1]*((K+1)**N))\n",
    "ans[:K+1]=0\n",
    "dfs(0,1,1)"
   ]
  },
  {
   "cell_type": "code",
   "execution_count": 325,
   "metadata": {},
   "outputs": [
    {
     "data": {
      "text/plain": [
       "array([ 0, 11,  0,  0,  0, -1,  0, -1, -1, -1, -1, -1, -1, -1, -1, -1, -1,\n",
       "       -1, -1, -1, -1, -1, -1, -1, -1, -1, 10, -1, -1, -1, -1, -1, -1, -1,\n",
       "       -1, -1, -1, -1, -1, -1, -1, -1, -1, -1, -1, -1, -1, -1, -1, -1, -1,\n",
       "        8, -1, -1, -1, -1, -1, -1, -1, -1, -1, -1, -1, -1, -1, -1, -1, -1,\n",
       "       -1, -1, -1, -1, -1, -1, -1, -1,  9, -1, -1, -1, -1, -1, -1, -1, -1,\n",
       "       -1, -1, -1, -1, -1, -1, -1, -1, -1, -1, -1, -1, -1, -1, -1, -1, -1,\n",
       "       -1, -1, -1, -1, -1, -1, -1, -1, -1, -1, -1, -1, -1, -1, -1, -1, -1,\n",
       "       -1, -1, -1, -1, -1, -1])"
      ]
     },
     "execution_count": 325,
     "metadata": {},
     "output_type": "execute_result"
    }
   ],
   "source": [
    "ans"
   ]
  },
  {
   "cell_type": "code",
   "execution_count": 335,
   "metadata": {},
   "outputs": [],
   "source": [
    "\n",
    "N,K=map(int,input().split())\n",
    "T=[list(map(int,input().split())) for i in range(N)]\n",
    "\n",
    "def dfs(i,value):\n",
    "    if i==N:\n",
    "        return value==0\n",
    "    for j in range(K):\n",
    "        if dfs(i+1,value^T[i][j]):\n",
    "            return True\n",
    "    return False\n",
    "\n",
    "if dfs(0,0):\n",
    "    print('Found')\n",
    "else:\n",
    "    print('Notthing')\n",
    "    "
   ]
  },
  {
   "cell_type": "code",
   "execution_count": 337,
   "metadata": {},
   "outputs": [
    {
     "name": "stdout",
     "output_type": "stream",
     "text": [
      "Found\n"
     ]
    }
   ],
   "source": [
    "if dfs(0,0):\n",
    "    print('Found')\n",
    "else:\n",
    "    print('Notthing')\n",
    "    "
   ]
  },
  {
   "cell_type": "code",
   "execution_count": 362,
   "metadata": {},
   "outputs": [],
   "source": [
    "\n",
    "def dfs(i,value):\n",
    "    \n",
    "    if i==N:\n",
    "        return value==0\n",
    "    for j in range(K):\n",
    "#         print(i,j)\n",
    "        if dfs(i+1,value^T[i][j]):\n",
    "            return True\n",
    "    return False"
   ]
  },
  {
   "cell_type": "code",
   "execution_count": 360,
   "metadata": {},
   "outputs": [
    {
     "name": "stdout",
     "output_type": "stream",
     "text": [
      "0 0\n",
      "1 0\n",
      "2 0\n",
      "2 1\n",
      "1 0\n",
      "2 0\n",
      "2 1\n",
      "2 2\n"
     ]
    },
    {
     "data": {
      "text/plain": [
       "True"
      ]
     },
     "execution_count": 360,
     "metadata": {},
     "output_type": "execute_result"
    }
   ],
   "source": [
    "dfs(0,0)\n"
   ]
  },
  {
   "cell_type": "code",
   "execution_count": 357,
   "metadata": {},
   "outputs": [
    {
     "data": {
      "text/plain": [
       "2"
      ]
     },
     "execution_count": 357,
     "metadata": {},
     "output_type": "execute_result"
    }
   ],
   "source": [
    "0^T[0][0]^T[1][0]^T[2][0]"
   ]
  },
  {
   "cell_type": "code",
   "execution_count": 358,
   "metadata": {},
   "outputs": [
    {
     "data": {
      "text/plain": [
       "0"
      ]
     },
     "execution_count": 358,
     "metadata": {},
     "output_type": "execute_result"
    }
   ],
   "source": [
    "0^T[0][0]^T[1][0]^T[2][1]"
   ]
  },
  {
   "cell_type": "code",
   "execution_count": 361,
   "metadata": {},
   "outputs": [
    {
     "name": "stdout",
     "output_type": "stream",
     "text": [
      "1 0\n",
      "2 0\n",
      "2 1\n",
      "2 2\n"
     ]
    },
    {
     "data": {
      "text/plain": [
       "True"
      ]
     },
     "execution_count": 361,
     "metadata": {},
     "output_type": "execute_result"
    }
   ],
   "source": [
    "dfs(1,0)"
   ]
  },
  {
   "cell_type": "code",
   "execution_count": null,
   "metadata": {},
   "outputs": [],
   "source": [
    "def dfs(i,index):\n",
    "    ans[index]=ans[index]^T[i][j]\n",
    "    if i==N:\n",
    "        return ans[index]==0\n",
    "    for j in range(K):\n",
    "        if dfs(i+1,value+j*(K+1)**(i-1)):\n",
    "            return True\n",
    "    return False"
   ]
  },
  {
   "cell_type": "code",
   "execution_count": 370,
   "metadata": {},
   "outputs": [
    {
     "name": "stdout",
     "output_type": "stream",
     "text": [
      "3 2\n",
      "1 2\n",
      "2 3\n"
     ]
    }
   ],
   "source": [
    "N,M=map(int,input().split())\n",
    "AB=[list(map(int,input().split())) for i in range(M)]"
   ]
  },
  {
   "cell_type": "code",
   "execution_count": 382,
   "metadata": {},
   "outputs": [],
   "source": [
    "frends=[]\n",
    "for i in range(N):\n",
    "    d1=[]\n",
    "    for ab in AB:\n",
    "        if i+1==ab[0]:\n",
    "            d1.append(ab[1])\n",
    "        if i+1==ab[1]:\n",
    "            d1.append(ab[0])\n",
    "\n",
    "    frends.append(set(d1))\n",
    "    "
   ]
  },
  {
   "cell_type": "code",
   "execution_count": 426,
   "metadata": {},
   "outputs": [],
   "source": [
    "ans=[]\n",
    "for i in range(N):\n",
    "    d2=set([])\n",
    "    for f in list(frends[i]):\n",
    "        d2=d2 | frends[f-1]\n",
    "    frends_of_frends=d2-set([i+1])-frends[i]\n",
    "    ans.append(len(frends_of_frends))"
   ]
  },
  {
   "cell_type": "code",
   "execution_count": 427,
   "metadata": {},
   "outputs": [
    {
     "name": "stdout",
     "output_type": "stream",
     "text": [
      "1\n",
      "0\n",
      "1\n"
     ]
    }
   ],
   "source": [
    "for a in ans:\n",
    "    print(a)"
   ]
  },
  {
   "cell_type": "code",
   "execution_count": 419,
   "metadata": {},
   "outputs": [
    {
     "data": {
      "text/plain": [
       "set()"
      ]
     },
     "execution_count": 419,
     "metadata": {},
     "output_type": "execute_result"
    }
   ],
   "source": [
    "N,M=map(int,input().split())\n",
    "AB=[list(map(int,input().split())) for i in range(M)]\n",
    "frends=[]\n",
    "for i in range(N):\n",
    "    d1=[]\n",
    "    for ab in AB:\n",
    "        if i+1==ab[0]:\n",
    "            d1.append(ab[1])\n",
    "        if i+1==ab[1]:\n",
    "            d1.append(ab[0])\n",
    "\n",
    "    frends.append(set(d1))\n",
    "ans=[]\n",
    "for i in range(N):\n",
    "    d2=set([])\n",
    "    for f in list(frends[i]):\n",
    "        d2=d2 | frends[f-1]\n",
    "    frends_of_frends=d2-set([i+1])-frends[i]\n",
    "    ans.append(len(frends_of_frends))\n",
    "for a in ans:\n",
    "    print(a)"
   ]
  },
  {
   "cell_type": "code",
   "execution_count": 422,
   "metadata": {},
   "outputs": [
    {
     "data": {
      "text/plain": [
       "0"
      ]
     },
     "execution_count": 422,
     "metadata": {},
     "output_type": "execute_result"
    }
   ],
   "source": []
  },
  {
   "cell_type": "code",
   "execution_count": 474,
   "metadata": {},
   "outputs": [
    {
     "name": "stdout",
     "output_type": "stream",
     "text": [
      "2 3\n",
      "1 2 3\n",
      "1 2\n",
      "1 2\n"
     ]
    }
   ],
   "source": [
    "N,M=map(int,input().split())\n",
    "LRS=[list(map(int,input().split())) for i in range(M)]"
   ]
  },
  {
   "cell_type": "code",
   "execution_count": 430,
   "metadata": {},
   "outputs": [],
   "source": [
    "import numpy as np"
   ]
  },
  {
   "cell_type": "code",
   "execution_count": 441,
   "metadata": {},
   "outputs": [],
   "source": [
    "matrix=np.zeros((N,M), dtype=np.int)"
   ]
  },
  {
   "cell_type": "code",
   "execution_count": 444,
   "metadata": {},
   "outputs": [],
   "source": [
    "for i, x in enumerate(LRS):\n",
    "    matrix[i][x[0]-1:x[1]]=1"
   ]
  },
  {
   "cell_type": "code",
   "execution_count": 445,
   "metadata": {},
   "outputs": [
    {
     "data": {
      "text/plain": [
       "array([[1, 1, 1, 0, 0, 0],\n",
       "       [0, 1, 1, 0, 0, 0],\n",
       "       [0, 0, 1, 1, 1, 1],\n",
       "       [0, 0, 0, 0, 0, 1]])"
      ]
     },
     "execution_count": 445,
     "metadata": {},
     "output_type": "execute_result"
    }
   ],
   "source": [
    "matrix"
   ]
  },
  {
   "cell_type": "code",
   "execution_count": 475,
   "metadata": {},
   "outputs": [
    {
     "ename": "IndexError",
     "evalue": "list index out of range",
     "output_type": "error",
     "traceback": [
      "\u001b[0;31m---------------------------------------------------------------------------\u001b[0m",
      "\u001b[0;31mIndexError\u001b[0m                                Traceback (most recent call last)",
      "\u001b[0;32m<ipython-input-475-52adda842684>\u001b[0m in \u001b[0;36m<module>\u001b[0;34m\u001b[0m\n\u001b[1;32m     11\u001b[0m     \u001b[0;32mfor\u001b[0m \u001b[0mk\u001b[0m \u001b[0;32min\u001b[0m \u001b[0mrange\u001b[0m\u001b[0;34m(\u001b[0m\u001b[0mN\u001b[0m\u001b[0;34m)\u001b[0m\u001b[0;34m:\u001b[0m\u001b[0;34m\u001b[0m\u001b[0;34m\u001b[0m\u001b[0m\n\u001b[1;32m     12\u001b[0m         \u001b[0;32mif\u001b[0m \u001b[0;32mnot\u001b[0m \u001b[0mk\u001b[0m \u001b[0;32min\u001b[0m \u001b[0miseki\u001b[0m\u001b[0;34m:\u001b[0m\u001b[0;34m\u001b[0m\u001b[0;34m\u001b[0m\u001b[0m\n\u001b[0;32m---> 13\u001b[0;31m             \u001b[0mwa\u001b[0m\u001b[0;34m+=\u001b[0m\u001b[0mLRS\u001b[0m\u001b[0;34m[\u001b[0m\u001b[0mk\u001b[0m\u001b[0;34m]\u001b[0m\u001b[0;34m[\u001b[0m\u001b[0;36m2\u001b[0m\u001b[0;34m]\u001b[0m\u001b[0;34m\u001b[0m\u001b[0;34m\u001b[0m\u001b[0m\n\u001b[0m\u001b[1;32m     14\u001b[0m     \u001b[0mans\u001b[0m\u001b[0;34m.\u001b[0m\u001b[0mappend\u001b[0m\u001b[0;34m(\u001b[0m\u001b[0mwa\u001b[0m\u001b[0;34m)\u001b[0m\u001b[0;34m\u001b[0m\u001b[0;34m\u001b[0m\u001b[0m\n\u001b[1;32m     15\u001b[0m \u001b[0;34m\u001b[0m\u001b[0m\n",
      "\u001b[0;31mIndexError\u001b[0m: list index out of range"
     ]
    }
   ],
   "source": [
    "ans=[]\n",
    "for i in range(1,M+1):\n",
    "    iseki=[]\n",
    "    for j, x in enumerate(LRS):\n",
    "        if x[0]<=i and i<=x[1]:\n",
    "            iseki.append(j)\n",
    "        if i<x[0]:\n",
    "            break\n",
    "            \n",
    "    wa=0\n",
    "    for k in range(N):\n",
    "        if not k in iseki:\n",
    "            wa+=LRS[k][2]\n",
    "    ans.append(wa)\n",
    "\n",
    "print(max(ans))\n",
    "        \n",
    "        \n",
    "        \n",
    "        \n",
    "        \n",
    "        \n",
    "        \n",
    "        \n",
    "        \n",
    "        "
   ]
  },
  {
   "cell_type": "code",
   "execution_count": 472,
   "metadata": {},
   "outputs": [
    {
     "data": {
      "text/plain": [
       "[75, 35, 10, 80, 80, 70]"
      ]
     },
     "execution_count": 472,
     "metadata": {},
     "output_type": "execute_result"
    }
   ],
   "source": [
    "ans"
   ]
  },
  {
   "cell_type": "code",
   "execution_count": 479,
   "metadata": {},
   "outputs": [
    {
     "name": "stdout",
     "output_type": "stream",
     "text": [
      "4 6\n",
      "1 3 30\n",
      "2 3 40\n",
      "3 6 25\n",
      "6 6 10\n",
      "80\n"
     ]
    }
   ],
   "source": [
    "N,M=map(int,input().split())\n",
    "LRS=[list(map(int,input().split())) for i in range(N)]\n",
    "ans=[]\n",
    "for i in range(1,M+1):\n",
    "    iseki=[]\n",
    "    for j, x in enumerate(LRS):\n",
    "        if x[0]<=i and i<=x[1]:\n",
    "            iseki.append(j)\n",
    "        if i<x[0]:\n",
    "            break\n",
    "            \n",
    "    wa=0\n",
    "    for k in range(N):\n",
    "        if not k in iseki:\n",
    "            wa+=LRS[k][2]\n",
    "    ans.append(wa)\n",
    "\n",
    "print(max(ans))\n",
    "        \n",
    "        \n",
    "        \n",
    "        "
   ]
  },
  {
   "cell_type": "code",
   "execution_count": null,
   "metadata": {},
   "outputs": [],
   "source": []
  },
  {
   "cell_type": "code",
   "execution_count": null,
   "metadata": {},
   "outputs": [],
   "source": [
    "N,M=map(int,input().split())\n",
    "LRS=[list(map(int,input().split())) for i in range(N)]\n",
    "LRS.sort()\n",
    "ans=[]\n",
    "wa=0\n",
    "for x in LRS:\n",
    "    wa+=x[2]\n",
    "    \n",
    "for i in range(1,M+1):\n",
    "    wa2=wa\n",
    "    for j, x in enumerate(LRS):\n",
    "        if x[0]<=i and i<=x[1]:\n",
    "            wa2-=x[2]\n",
    "        if i<x[0]:\n",
    "            break\n",
    "    ans.append(wa2)\n",
    "\n",
    "print(max(ans))\n",
    "        "
   ]
  },
  {
   "cell_type": "code",
   "execution_count": 487,
   "metadata": {},
   "outputs": [
    {
     "name": "stdout",
     "output_type": "stream",
     "text": [
      "105\n"
     ]
    }
   ],
   "source": [
    "LRS.sort()\n",
    "ans=[]\n",
    "wa=0\n",
    "for x in LRS:\n",
    "    wa+=x[2]\n",
    "    \n",
    "for i in range(1,M+1):\n",
    "    wa2=wa\n",
    "    for j, x in enumerate(LRS):\n",
    "        if x[0]<=i and i<=x[1]:\n",
    "            wa2_=x[2]\n",
    "        if i<x[0]:\n",
    "            break\n",
    "    ans.append(wa2)\n",
    "\n",
    "print(max(ans))\n",
    "        "
   ]
  },
  {
   "cell_type": "code",
   "execution_count": 485,
   "metadata": {},
   "outputs": [],
   "source": [
    "LRS.sort()"
   ]
  },
  {
   "cell_type": "code",
   "execution_count": 486,
   "metadata": {},
   "outputs": [
    {
     "data": {
      "text/plain": [
       "[[1, 3, 30], [2, 3, 40], [3, 6, 25], [6, 6, 10]]"
      ]
     },
     "execution_count": 486,
     "metadata": {},
     "output_type": "execute_result"
    }
   ],
   "source": [
    "LRS"
   ]
  },
  {
   "cell_type": "code",
   "execution_count": null,
   "metadata": {},
   "outputs": [],
   "source": [
    "N,M=map(int,input().split())\n",
    "LRS=[list(map(int,input().split())) for i in range(N)]\n",
    "LRS.sort()\n",
    "ans=[]\n",
    "wa=0\n",
    "k=0\n",
    "for x in LRS:\n",
    "    wa+=x[2]\n",
    "    \n",
    "for i in range(1,M+1):\n",
    "    iseki=[]\n",
    "    flag=0\n",
    "    for j in range(k,N):\n",
    "        if LRS[j][0]<=i and i<=LRS[j][1]:\n",
    "            iseki.append(j)\n",
    "            if flag==0:\n",
    "                k=j\n",
    "                flag=1\n",
    "        if i<x[0]:\n",
    "            break\n",
    "    wa2=wa\n",
    "    for y in iseki:\n",
    "        wa2-=LRS[y][2]\n",
    "    ans.append(wa2)\n",
    "\n",
    "print(max(ans))\n",
    "        "
   ]
  },
  {
   "cell_type": "code",
   "execution_count": null,
   "metadata": {},
   "outputs": [],
   "source": []
  },
  {
   "cell_type": "code",
   "execution_count": null,
   "metadata": {},
   "outputs": [],
   "source": []
  },
  {
   "cell_type": "code",
   "execution_count": null,
   "metadata": {},
   "outputs": [],
   "source": []
  },
  {
   "cell_type": "code",
   "execution_count": 490,
   "metadata": {},
   "outputs": [],
   "source": [
    "INF = 1<<60"
   ]
  },
  {
   "cell_type": "code",
   "execution_count": 498,
   "metadata": {},
   "outputs": [
    {
     "name": "stdout",
     "output_type": "stream",
     "text": [
      "4 5 2\n",
      "xoooo\n",
      "oooox\n",
      "ooooo\n",
      "oxxoo\n"
     ]
    }
   ],
   "source": [
    "## input\n",
    "R,C,K = map(int, input().split())\n",
    "matrix = [str(input()) for _ in range(R)]\n",
    "check = [[INF for _ in range(C)] for _ in range(R)]"
   ]
  },
  {
   "cell_type": "code",
   "execution_count": null,
   "metadata": {},
   "outputs": [],
   "source": [
    "check = [[INF for _ in range(C)] for _ in range(R)]"
   ]
  },
  {
   "cell_type": "code",
   "execution_count": 502,
   "metadata": {},
   "outputs": [
    {
     "name": "stdout",
     "output_type": "stream",
     "text": [
      "[1152921504606846976, 1152921504606846976, 1152921504606846976, 1152921504606846976, 1152921504606846976]\n",
      "[1152921504606846976, 1152921504606846976, 1152921504606846976, 1152921504606846976, 1152921504606846976]\n",
      "[1152921504606846976, 1152921504606846976, 1152921504606846976, 1152921504606846976, 1152921504606846976]\n",
      "[1152921504606846976, 1152921504606846976, 1152921504606846976, 1152921504606846976, 1152921504606846976]\n"
     ]
    }
   ],
   "source": [
    "for x in check:\n",
    "  print(x)    "
   ]
  },
  {
   "cell_type": "code",
   "execution_count": 9,
   "metadata": {
    "scrolled": true
   },
   "outputs": [
    {
     "name": "stdout",
     "output_type": "stream",
     "text": [
      "4 5 2  \n",
      "xoooo\n",
      "oooox\n",
      "ooooo\n",
      "oxxoo\n",
      "3\n"
     ]
    }
   ],
   "source": [
    "INF = 1<<60\n",
    "R,C,K = map(int, input().split())\n",
    "matrix = [str(input()) for _ in range(R)]\n",
    "check = [[INF for _ in range(C)] for _ in range(R)]\n",
    "\n",
    "\n",
    "## Search continuous size\n",
    "for i in range(R):\n",
    "  for j in range(C):\n",
    "    if (i in [0,R-1] or j in [0,C-1]):\n",
    "        mx = 1  \n",
    "    else:\n",
    "        mx=INF\n",
    "    \n",
    "    if matrix[i][j]==\"o\":\n",
    "        check[i][j] = mx  \n",
    "    else:\n",
    "        check[i][j] = 0\n",
    "\n",
    "# for x in check:\n",
    "#   print(x)    \n",
    "# print()\n",
    "\n",
    "for i in range(1,R-1):\n",
    "  for j in range(1,C-1):\n",
    "    check[i][j] = min(check[i][j],check[i-1][j]+1,check[i][j-1]+1,check[i-1][j-1]+2)\n",
    "\n",
    "# for x in check:\n",
    "#   print(x)    \n",
    "# print()\n",
    "\n",
    "for i in range(R-2,0,-1):\n",
    "  for j in range(C-2,0,-1):\n",
    "    check[i][j] = min(check[i][j],check[i+1][j]+1,check[i][j+1]+1,check[i+1][j+1]+2)\n",
    "\n",
    "# for x in check:\n",
    "#   print(x)    \n",
    "    \n",
    "ans = 0\n",
    "for i in range(R):\n",
    "  for j in range(C):\n",
    "    if check[i][j]>=K:\n",
    "        ans += 1\n",
    "print(ans)\n"
   ]
  },
  {
   "cell_type": "code",
   "execution_count": 4,
   "metadata": {},
   "outputs": [
    {
     "name": "stdout",
     "output_type": "stream",
     "text": [
      "[0, 0, 1, 1, 1]\n",
      "[0, 1, 2, 2, 1]\n",
      "[1, 1, 1, 2, 1]\n",
      "[1, 0, 0, 1, 1]\n"
     ]
    }
   ],
   "source": [
    "\n",
    "for x in check:\n",
    "  print(x)    \n",
    "    "
   ]
  },
  {
   "cell_type": "code",
   "execution_count": 10,
   "metadata": {},
   "outputs": [
    {
     "name": "stdout",
     "output_type": "stream",
     "text": [
      "0\n",
      "1\n",
      "1\n",
      "1\n",
      "1\n",
      "1\n",
      "1152921504606846976\n",
      "1152921504606846976\n",
      "1152921504606846976\n",
      "0\n",
      "1\n",
      "1152921504606846976\n",
      "1152921504606846976\n",
      "1152921504606846976\n",
      "1\n",
      "1\n",
      "0\n",
      "0\n",
      "1\n",
      "1\n",
      "[0, 1, 1, 1, 1]\n",
      "[1, 1152921504606846976, 1152921504606846976, 1152921504606846976, 0]\n",
      "[1, 1152921504606846976, 1152921504606846976, 1152921504606846976, 1]\n",
      "[1, 0, 0, 1, 1]\n",
      "\n"
     ]
    }
   ],
   "source": [
    "check = [[INF for _ in range(C)] for _ in range(R)]\n",
    "\n",
    "\n",
    "## Search continuous size\n",
    "for i in range(R):\n",
    "  for j in range(C):\n",
    "    if (i in [0,R-1] or j in [0,C-1]):\n",
    "        mx = 1  \n",
    "    else:\n",
    "        mx=INF\n",
    "    \n",
    "    if matrix[i][j]==\"o\":\n",
    "        \n",
    "        check[i][j] = mx  \n",
    "    else:\n",
    "        check[i][j] = 0\n",
    "    print(check[i][j])\n",
    "\n",
    "for x in check:\n",
    "  print(x)    \n",
    "print()\n",
    "\n",
    "# for i in range(1,R-1):\n",
    "#   for j in range(1,C-1):\n",
    "#     check[i][j] = min(check[i][j],check[i-1][j]+1,check[i][j-1]+1,check[i-1][j-1]+2)\n",
    "\n",
    "# for x in check:\n",
    "#   print(x)    \n",
    "# print()\n",
    "\n",
    "# for i in range(R-2,0,-1):\n",
    "#   for j in range(C-2,0,-1):\n",
    "#     check[i][j] = min(check[i][j],check[i+1][j]+1,check[i][j+1]+1,check[i+1][j+1]+2)\n",
    "\n",
    "# for x in check:\n",
    "#   print(x)    \n",
    "    \n",
    "# ans = 0\n",
    "# for i in range(R):\n",
    "#   for j in range(C):\n",
    "#     if check[i][j]>=K:\n",
    "#         ans += 1\n",
    "# print(ans)"
   ]
  },
  {
   "cell_type": "code",
   "execution_count": 65,
   "metadata": {},
   "outputs": [
    {
     "name": "stdout",
     "output_type": "stream",
     "text": [
      "3\n",
      "1 2 3\n"
     ]
    }
   ],
   "source": [
    "N=input()\n",
    "A=list(map(int,input().split()))"
   ]
  },
  {
   "cell_type": "code",
   "execution_count": 13,
   "metadata": {},
   "outputs": [],
   "source": [
    "A.sort()"
   ]
  },
  {
   "cell_type": "code",
   "execution_count": 14,
   "metadata": {},
   "outputs": [
    {
     "data": {
      "text/plain": [
       "[2, 4, 8, 16]"
      ]
     },
     "execution_count": 14,
     "metadata": {},
     "output_type": "execute_result"
    }
   ],
   "source": [
    "A"
   ]
  },
  {
   "cell_type": "code",
   "execution_count": 15,
   "metadata": {},
   "outputs": [],
   "source": [
    "from collections import deque"
   ]
  },
  {
   "cell_type": "code",
   "execution_count": 39,
   "metadata": {},
   "outputs": [],
   "source": [
    "que=deque(A)"
   ]
  },
  {
   "cell_type": "code",
   "execution_count": null,
   "metadata": {},
   "outputs": [],
   "source": [
    "\n"
   ]
  },
  {
   "cell_type": "code",
   "execution_count": 40,
   "metadata": {},
   "outputs": [
    {
     "name": "stdout",
     "output_type": "stream",
     "text": [
      "1\n"
     ]
    }
   ],
   "source": [
    "count=1\n",
    "while(que):\n",
    "    x=que.popleft()\n",
    "    for y in que:\n",
    "        if 2*x == y:\n",
    "            x=y\n",
    "            que.remove(y)\n",
    "            count-=1\n",
    "            break\n",
    "        if x>y:            \n",
    "            break\n",
    "    count+=1\n",
    "print(count)"
   ]
  },
  {
   "cell_type": "code",
   "execution_count": 41,
   "metadata": {},
   "outputs": [],
   "source": [
    "import numpy as np"
   ]
  },
  {
   "cell_type": "code",
   "execution_count": 66,
   "metadata": {},
   "outputs": [],
   "source": [
    "A=np.array(A)"
   ]
  },
  {
   "cell_type": "code",
   "execution_count": 67,
   "metadata": {},
   "outputs": [
    {
     "data": {
      "text/plain": [
       "array([1, 2, 3])"
      ]
     },
     "execution_count": 67,
     "metadata": {},
     "output_type": "execute_result"
    }
   ],
   "source": [
    "A"
   ]
  },
  {
   "cell_type": "code",
   "execution_count": 68,
   "metadata": {},
   "outputs": [],
   "source": [
    "even=A[A%2==0]//2"
   ]
  },
  {
   "cell_type": "code",
   "execution_count": 69,
   "metadata": {},
   "outputs": [
    {
     "data": {
      "text/plain": [
       "array([1])"
      ]
     },
     "execution_count": 69,
     "metadata": {},
     "output_type": "execute_result"
    }
   ],
   "source": [
    "even"
   ]
  },
  {
   "cell_type": "code",
   "execution_count": 70,
   "metadata": {},
   "outputs": [
    {
     "data": {
      "text/plain": [
       "array([2, 3])"
      ]
     },
     "execution_count": 70,
     "metadata": {},
     "output_type": "execute_result"
    }
   ],
   "source": [
    "np.setdiff1d(A,even)"
   ]
  },
  {
   "cell_type": "code",
   "execution_count": null,
   "metadata": {},
   "outputs": [],
   "source": []
  },
  {
   "cell_type": "code",
   "execution_count": 75,
   "metadata": {},
   "outputs": [
    {
     "name": "stdout",
     "output_type": "stream",
     "text": [
      "4\n",
      "2 3 5 7\n",
      "4\n"
     ]
    }
   ],
   "source": [
    "import numpy as np\n",
    "N=input()\n",
    "A=list(map(int,input().split()))\n",
    "A=np.array(A)\n",
    "even=A[A%2==0]//2\n",
    "while(len(even)!=0):\n",
    "    A=np.setdiff1d(A,even)\n",
    "    even=even[even%2==0]//2\n",
    "print(len(A))"
   ]
  },
  {
   "cell_type": "code",
   "execution_count": null,
   "metadata": {},
   "outputs": [],
   "source": [
    "\n"
   ]
  },
  {
   "cell_type": "code",
   "execution_count": 87,
   "metadata": {},
   "outputs": [
    {
     "name": "stdout",
     "output_type": "stream",
     "text": [
      "2 3 10\n",
      "S##\n",
      ".#G\n"
     ]
    }
   ],
   "source": [
    "H,W,T=map(int,input().split())\n",
    "S=[list(input()) for i in range(H)]"
   ]
  },
  {
   "cell_type": "code",
   "execution_count": 121,
   "metadata": {},
   "outputs": [],
   "source": [
    "inf=10**3\n",
    "d=[[inf]*W for i in range(H)]"
   ]
  },
  {
   "cell_type": "code",
   "execution_count": 122,
   "metadata": {},
   "outputs": [],
   "source": [
    "flag=0\n",
    "for i in range(H):\n",
    "    for j in range(W):\n",
    "        if S[i][j]=='S':\n",
    "            sx=i\n",
    "            sy=j\n",
    "            flag+=1\n",
    "        \n",
    "        if S[i][j]=='G':\n",
    "            gx=i\n",
    "            gy=j\n",
    "            flag+=1\n",
    "            \n",
    "        if flag==2:\n",
    "            break"
   ]
  },
  {
   "cell_type": "code",
   "execution_count": 136,
   "metadata": {},
   "outputs": [],
   "source": [
    "dx=[1,0,-1,0]\n",
    "dy=[0,1,0,-1]\n",
    "def bfs(x):\n",
    "    que=[]\n",
    "    for i in range(H):\n",
    "        for j in range(W):\n",
    "            d[i][j]=inf\n",
    "#     print(d)       \n",
    "    que.append([sx,sy])\n",
    "    d[sx][sy]=0\n",
    "    \n",
    "    while(len(que)>0):\n",
    "        p=que.pop(0)\n",
    "        print(que) \n",
    "        if p[0]==gx and p[1]==gy:\n",
    "            break\n",
    "        for i in range(4):\n",
    "            nx=p[0]+dx[i]\n",
    "            ny=p[1]+dy[i]\n",
    "#             print(nx,ny, maze[nx][ny], d[nx][ny] )\n",
    "            if 0<=nx and nx<H and 0<=ny and ny<W and d[nx][ny]==inf:\n",
    "                que.append([nx,ny])\n",
    "                if S[nx][ny] == '.':\n",
    "                    d[nx][ny]=min(d[nx][ny],d[p[0]][p[1]]+1)\n",
    "                else:\n",
    "                    d[nx][ny]=min(d[nx][ny],d[p[0]][p[1]]+x)\n",
    "                    \n",
    "    return d[gx][gy]"
   ]
  },
  {
   "cell_type": "code",
   "execution_count": 137,
   "metadata": {},
   "outputs": [
    {
     "name": "stdout",
     "output_type": "stream",
     "text": [
      "[]\n",
      "[[0, 1]]\n",
      "[[1, 1]]\n",
      "[[0, 2]]\n",
      "[[1, 2]]\n",
      "[]\n"
     ]
    }
   ],
   "source": [
    "res=bfs(8)"
   ]
  },
  {
   "cell_type": "code",
   "execution_count": 138,
   "metadata": {},
   "outputs": [
    {
     "data": {
      "text/plain": [
       "17"
      ]
     },
     "execution_count": 138,
     "metadata": {},
     "output_type": "execute_result"
    }
   ],
   "source": [
    "res"
   ]
  },
  {
   "cell_type": "code",
   "execution_count": 139,
   "metadata": {},
   "outputs": [
    {
     "data": {
      "text/plain": [
       "[[0, 8, 16], [1, 9, 17]]"
      ]
     },
     "execution_count": 139,
     "metadata": {},
     "output_type": "execute_result"
    }
   ],
   "source": [
    "d"
   ]
  },
  {
   "cell_type": "code",
   "execution_count": null,
   "metadata": {},
   "outputs": [],
   "source": [
    "INF = 1<<60\n",
    "H,W,T = map(int, input().split())\n",
    "S = [list(input()) for _ in range(H)]\n",
    "d = [[INF for _ in range(W)] for _ in range(H)]\n",
    "\n",
    "\n",
    "flag=0\n",
    "for i in range(H):\n",
    "    for j in range(W):\n",
    "        if S[i][j]=='S':\n",
    "            sx=i\n",
    "            sy=j\n",
    "            flag+=1\n",
    "        \n",
    "        if S[i][j]=='G':\n",
    "            gx=i\n",
    "            gy=j\n",
    "            flag+=1\n",
    "            \n",
    "        if flag==2:\n",
    "            break\n",
    "\n",
    "d[sx][sy]=0\n",
    "for i in range(sx,H):\n",
    "    for j in range(sy,W):\n",
    "        if i+1<H and S[i+1][j]=='.':\n",
    "            d[i+1][j]=min(d[i+1][j],d[i][j]+1)\n",
    "        else:\n",
    "            d[i+1][j]=min(d[i+1][j],d[i][j]+x)\n",
    "            \n",
    "        if j+1<W and S[i][j+1]=='.':\n",
    "            d[i][j+1]=min(d[i][j+1],d[i][j]+1)\n",
    "        else:\n",
    "            d[i][j+1]=min(d[i][j+1],d[i][j]+x)\n",
    "            \n",
    "        if i-1<H and S[i-1][j]=='.':\n",
    "            d[i-1][j]=min(d[i-1][j],d[i][j]+1)\n",
    "        else:\n",
    "            d[i-1][j]=min(d[i-1][j],d[i][j]+x)\n",
    "            \n",
    "        if j-1<W and S[i][j-1]=='.':\n",
    "            d[i][j-1]=min(d[i][j-1],d[i][j]+1)\n",
    "        else:\n",
    "            d[i][j-1]=min(d[i][j-1],d[i][j]+x)\n",
    "\n",
    "for i in range(sx,-1.-1):\n",
    "    for j in range(sy,-1.,-1):\n",
    "        if i+1<H and S[i+1][j]=='.':\n",
    "            d[i+1][j]=min(d[i+1][j],d[i][j]+1)\n",
    "        else:\n",
    "            d[i+1][j]=min(d[i+1][j],d[i][j]+x)\n",
    "            \n",
    "        if j+1<W and S[i][j+1]=='.':\n",
    "            d[i][j+1]=min(d[i][j+1],d[i][j]+1)\n",
    "        else:\n",
    "            d[i][j+1]=min(d[i][j+1],d[i][j]+x)\n",
    "            \n",
    "        if i-1<H and S[i-1][j]=='.':\n",
    "            d[i-1][j]=min(d[i-1][j],d[i][j]+1)\n",
    "        else:\n",
    "            d[i-1][j]=min(d[i-1][j],d[i][j]+x)\n",
    "            \n",
    "        if j-1<W and S[i][j-1]=='.':\n",
    "            d[i][j-1]=min(d[i][j-1],d[i][j]+1)\n",
    "        else:\n",
    "            d[i][j-1]=min(d[i][j-1],d[i][j]+x)\n",
    "\n",
    "for i in range(H):\n",
    "    for j in range(W):\n",
    "        if i+1<H and S[i+1][j]=='.':\n",
    "            d[i+1][j]=min(d[i+1][j],d[i][j]+1)\n",
    "        else:\n",
    "            d[i+1][j]=min(d[i+1][j],d[i][j]+x)\n",
    "            \n",
    "        if j+1<W and S[i][j+1]=='.':\n",
    "            d[i][j+1]=min(d[i][j+1],d[i][j]+1)\n",
    "        else:\n",
    "            d[i][j+1]=min(d[i][j+1],d[i][j]+x)\n",
    "            \n",
    "        if i-1<H and S[i-1][j]=='.':\n",
    "            d[i-1][j]=min(d[i-1][j],d[i][j]+1)\n",
    "        else:\n",
    "            d[i-1][j]=min(d[i-1][j],d[i][j]+x)\n",
    "            \n",
    "        if j-1<W and S[i][j-1]=='.':\n",
    "            d[i][j-1]=min(d[i][j-1],d[i][j]+1)\n",
    "        else:\n",
    "            d[i][j-1]=min(d[i][j-1],d[i][j]+x)\n",
    "\n",
    "\n",
    "\n",
    "# for x in check:\n",
    "#   print(x)    \n",
    "# print()\n",
    "\n",
    "for i in range(1,R-1):\n",
    "  for j in range(1,C-1):\n",
    "    check[i][j] = min(check[i][j],check[i-1][j]+1,check[i][j-1]+1,check[i-1][j-1]+2)\n",
    "\n",
    "# for x in check:\n",
    "#   print(x)    \n",
    "# print()\n",
    "\n",
    "for i in range(R-2,0,-1):\n",
    "  for j in range(C-2,0,-1):\n",
    "    check[i][j] = min(check[i][j],check[i+1][j]+1,check[i][j+1]+1,check[i+1][j+1]+2)\n",
    "\n",
    "# for x in check:\n",
    "#   print(x)    \n",
    "    \n",
    "ans = 0\n",
    "for i in range(R):\n",
    "  for j in range(C):\n",
    "    if check[i][j]>=K:\n",
    "        ans += 1\n",
    "print(ans)\n",
    "\n"
   ]
  },
  {
   "cell_type": "code",
   "execution_count": 195,
   "metadata": {},
   "outputs": [],
   "source": [
    "def fill(i,j):\n",
    "#     print(d[gx][gy])\n",
    "    if 0<= i+1 and i+1<H:\n",
    "        if S[i+1][j]=='.':\n",
    "            d[i+1][j]=min(d[i+1][j],d[i][j]+1)\n",
    "        elif S[i+1][j]=='G':\n",
    "            d[i+1][j]=min(d[i+1][j],d[i][j]+1)\n",
    "        else:\n",
    "            d[i+1][j]=min(d[i+1][j],d[i][j]+x)\n",
    "\n",
    "    if 0<=j+1 and j+1<W:\n",
    "        if S[i][j+1]=='.':\n",
    "            d[i][j+1]=min(d[i][j+1],d[i][j]+1)\n",
    "        elif S[i][j+1]=='G':\n",
    "            d[i][j+1]=min(d[i][j+1],d[i][j]+1)\n",
    "        else:\n",
    "            d[i][j+1]=min(d[i][j+1],d[i][j]+x)\n",
    "\n",
    "    if 0<=i-1 and i-1<H:\n",
    "        if S[i-1][j]=='.':\n",
    "            d[i-1][j]=min(d[i-1][j],d[i][j]+1)\n",
    "        elif S[i-1][j]=='G':\n",
    "            d[i-1][j]=min(d[i-1][j],d[i][j]+1)\n",
    "        else:\n",
    "            d[i-1][j]=min(d[i-1][j],d[i][j]+x)\n",
    "\n",
    "    if 0<=j-1 and j-1<W:\n",
    "        if S[i][j-1]=='.':\n",
    "            d[i][j-1]=min(d[i][j-1],d[i][j]+1)\n",
    "        elif S[i][j-1]=='G':\n",
    "            d[i][j-1]=min(d[i][j-1],d[i][j]+1)\n",
    "        else:\n",
    "            d[i][j-1]=min(d[i][j-1],d[i][j]+x)\n",
    "    return "
   ]
  },
  {
   "cell_type": "code",
   "execution_count": 203,
   "metadata": {},
   "outputs": [],
   "source": [
    "d = [[INF for _ in range(W)] for _ in range(H)]\n",
    "d[sx][sy]=0\n",
    "x=8\n",
    "for i in range(sx,H):\n",
    "    for j in range(sy,W):\n",
    "        fill(i,j)\n",
    "for i in range(sx,-1,-1):\n",
    "    for j in range(sy,-1,-1):\n",
    "        fill(i,j)\n",
    "\n",
    "for i in range(H):\n",
    "    for j in range(W):\n",
    "        fill(i,j)"
   ]
  },
  {
   "cell_type": "code",
   "execution_count": 204,
   "metadata": {},
   "outputs": [
    {
     "data": {
      "text/plain": [
       "[[0, 8, 16], [1, 9, 10]]"
      ]
     },
     "execution_count": 204,
     "metadata": {},
     "output_type": "execute_result"
    }
   ],
   "source": [
    "d"
   ]
  },
  {
   "cell_type": "code",
   "execution_count": 250,
   "metadata": {},
   "outputs": [
    {
     "name": "stdout",
     "output_type": "stream",
     "text": [
      "199999999\n"
     ]
    }
   ],
   "source": [
    "def fill(i,j):\n",
    "#     print(d[gx][gy])\n",
    "    if 0<= i+1 and i+1<H:\n",
    "        if S[i+1][j]=='.':\n",
    "            d[i+1][j]=min(d[i+1][j],d[i][j]+1)\n",
    "        elif S[i+1][j]=='G':\n",
    "            d[i+1][j]=min(d[i+1][j],d[i][j]+1)\n",
    "        else:\n",
    "            d[i+1][j]=min(d[i+1][j],d[i][j]+x)\n",
    "\n",
    "    if 0<=j+1 and j+1<W:\n",
    "        if S[i][j+1]=='.':\n",
    "            d[i][j+1]=min(d[i][j+1],d[i][j]+1)\n",
    "        elif S[i][j+1]=='G':\n",
    "            d[i][j+1]=min(d[i][j+1],d[i][j]+1)\n",
    "        else:\n",
    "            d[i][j+1]=min(d[i][j+1],d[i][j]+x)\n",
    "\n",
    "    if 0<=i-1 and i-1<H:\n",
    "        if S[i-1][j]=='.':\n",
    "            d[i-1][j]=min(d[i-1][j],d[i][j]+1)\n",
    "        elif S[i-1][j]=='G':\n",
    "            d[i-1][j]=min(d[i-1][j],d[i][j]+1)\n",
    "        else:\n",
    "            d[i-1][j]=min(d[i-1][j],d[i][j]+x)\n",
    "\n",
    "    if 0<=j-1 and j-1<W:\n",
    "        if S[i][j-1]=='.':\n",
    "            d[i][j-1]=min(d[i][j-1],d[i][j]+1)\n",
    "        elif S[i][j-1]=='G':\n",
    "            d[i][j-1]=min(d[i][j-1],d[i][j]+1)\n",
    "        else:\n",
    "            d[i][j-1]=min(d[i][j-1],d[i][j]+x)\n",
    "    return \n",
    "\n",
    "INF = 1<<60\n",
    "H,W,T = map(int, input().split())\n",
    "S = [list(input()) for _ in range(H)]\n",
    "d = [[INF for _ in range(W)] for _ in range(H)]\n",
    "\n",
    "\n",
    "flag=0\n",
    "for i in range(H):\n",
    "    for j in range(W):\n",
    "        if S[i][j]=='S':\n",
    "            sx=i\n",
    "            sy=j\n",
    "            flag+=1\n",
    "        \n",
    "        if S[i][j]=='G':\n",
    "            gx=i\n",
    "            gy=j\n",
    "            flag+=1\n",
    "            \n",
    "        if flag==2:\n",
    "            break\n",
    "\n",
    "\n",
    "y=1\n",
    "z=T\n",
    "while(z-y!=1):\n",
    "    x=(y+z)//2\n",
    "#     print(y,x,z)\n",
    "    d = [[INF for _ in range(W)] for _ in range(H)]\n",
    "    d[sx][sy]=0\n",
    "\n",
    "    for i in range(sx,H):\n",
    "        for j in range(sy,W):\n",
    "            fill(i,j)\n",
    "\n",
    "    for i in range(H-1,-1,-1):\n",
    "        for j in range(W-1,-1,-1):\n",
    "            fill(i,j)\n",
    "            \n",
    "    for i in range(sx,-1,-1):\n",
    "        for j in range(sy,W):\n",
    "            fill(i,j)\n",
    "\n",
    "    for i in range(H-1):\n",
    "        for j in range(W-1,-1,-1):\n",
    "            fill(i,j)\n",
    "            \n",
    "    for i in range(sx,H):\n",
    "        for j in range(sy,-1,-1):\n",
    "            fill(i,j)\n",
    "            \n",
    "    for i in range(H-1,-1,-1):\n",
    "        for j in range(W):\n",
    "            fill(i,j)\n",
    "\n",
    "\n",
    "    for i in range(sx,-1,-1):\n",
    "        for j in range(sy,-1,-1):\n",
    "            fill(i,j)\n",
    "\n",
    "    for i in range(H):\n",
    "        for j in range(W):\n",
    "            fill(i,j)\n",
    "            \n",
    "    if d[gx][gy]>T:\n",
    "        z=x\n",
    "    elif d[gx][gy]<T:\n",
    "        y=x\n",
    "    else:\n",
    "        break\n",
    "x=(y+z)//2\n",
    "print(x)"
   ]
  },
  {
   "cell_type": "code",
   "execution_count": 249,
   "metadata": {},
   "outputs": [
    {
     "name": "stdout",
     "output_type": "stream",
     "text": [
      "199999999 199999999 200000000\n"
     ]
    }
   ],
   "source": [
    "print(y,x,z)"
   ]
  },
  {
   "cell_type": "code",
   "execution_count": 244,
   "metadata": {},
   "outputs": [
    {
     "data": {
      "text/plain": [
       "[[0, 199999999, 399999998, 599999997],\n",
       " [199999999, 399999998, 599999997, 799999996],\n",
       " [399999998, 599999997, 799999996, 999999995],\n",
       " [599999997, 799999996, 999999995, 999999996]]"
      ]
     },
     "execution_count": 244,
     "metadata": {},
     "output_type": "execute_result"
    }
   ],
   "source": [
    "d"
   ]
  },
  {
   "cell_type": "code",
   "execution_count": null,
   "metadata": {},
   "outputs": [],
   "source": []
  },
  {
   "cell_type": "code",
   "execution_count": 232,
   "metadata": {},
   "outputs": [
    {
     "name": "stdout",
     "output_type": "stream",
     "text": [
      "4580 4580 4581\n"
     ]
    }
   ],
   "source": [
    "y=1\n",
    "z=10000000000\n",
    "T=4580\n",
    "while(z-y>=1):\n",
    "    x=(y+z)//2\n",
    "            \n",
    "    if x>T:\n",
    "        z=x\n",
    "    elif x<T:\n",
    "        y=x+1\n",
    "    else:\n",
    "        break\n",
    "print(y,x,z)"
   ]
  },
  {
   "cell_type": "code",
   "execution_count": 253,
   "metadata": {},
   "outputs": [
    {
     "ename": "KeyboardInterrupt",
     "evalue": "",
     "output_type": "error",
     "traceback": [
      "\u001b[0;31m---------------------------------------------------------------------------\u001b[0m",
      "\u001b[0;31mKeyboardInterrupt\u001b[0m                         Traceback (most recent call last)",
      "\u001b[0;32m/usr/local/var/pyenv/versions/3.6.8/lib/python3.6/site-packages/ipykernel/kernelbase.py\u001b[0m in \u001b[0;36m_input_request\u001b[0;34m(self, prompt, ident, parent, password)\u001b[0m\n\u001b[1;32m    884\u001b[0m             \u001b[0;32mtry\u001b[0m\u001b[0;34m:\u001b[0m\u001b[0;34m\u001b[0m\u001b[0;34m\u001b[0m\u001b[0m\n\u001b[0;32m--> 885\u001b[0;31m                 \u001b[0mident\u001b[0m\u001b[0;34m,\u001b[0m \u001b[0mreply\u001b[0m \u001b[0;34m=\u001b[0m \u001b[0mself\u001b[0m\u001b[0;34m.\u001b[0m\u001b[0msession\u001b[0m\u001b[0;34m.\u001b[0m\u001b[0mrecv\u001b[0m\u001b[0;34m(\u001b[0m\u001b[0mself\u001b[0m\u001b[0;34m.\u001b[0m\u001b[0mstdin_socket\u001b[0m\u001b[0;34m,\u001b[0m \u001b[0;36m0\u001b[0m\u001b[0;34m)\u001b[0m\u001b[0;34m\u001b[0m\u001b[0;34m\u001b[0m\u001b[0m\n\u001b[0m\u001b[1;32m    886\u001b[0m             \u001b[0;32mexcept\u001b[0m \u001b[0mException\u001b[0m\u001b[0;34m:\u001b[0m\u001b[0;34m\u001b[0m\u001b[0;34m\u001b[0m\u001b[0m\n",
      "\u001b[0;32m/usr/local/var/pyenv/versions/3.6.8/lib/python3.6/site-packages/jupyter_client/session.py\u001b[0m in \u001b[0;36mrecv\u001b[0;34m(self, socket, mode, content, copy)\u001b[0m\n\u001b[1;32m    802\u001b[0m         \u001b[0;32mtry\u001b[0m\u001b[0;34m:\u001b[0m\u001b[0;34m\u001b[0m\u001b[0;34m\u001b[0m\u001b[0m\n\u001b[0;32m--> 803\u001b[0;31m             \u001b[0mmsg_list\u001b[0m \u001b[0;34m=\u001b[0m \u001b[0msocket\u001b[0m\u001b[0;34m.\u001b[0m\u001b[0mrecv_multipart\u001b[0m\u001b[0;34m(\u001b[0m\u001b[0mmode\u001b[0m\u001b[0;34m,\u001b[0m \u001b[0mcopy\u001b[0m\u001b[0;34m=\u001b[0m\u001b[0mcopy\u001b[0m\u001b[0;34m)\u001b[0m\u001b[0;34m\u001b[0m\u001b[0;34m\u001b[0m\u001b[0m\n\u001b[0m\u001b[1;32m    804\u001b[0m         \u001b[0;32mexcept\u001b[0m \u001b[0mzmq\u001b[0m\u001b[0;34m.\u001b[0m\u001b[0mZMQError\u001b[0m \u001b[0;32mas\u001b[0m \u001b[0me\u001b[0m\u001b[0;34m:\u001b[0m\u001b[0;34m\u001b[0m\u001b[0;34m\u001b[0m\u001b[0m\n",
      "\u001b[0;32m/usr/local/var/pyenv/versions/3.6.8/lib/python3.6/site-packages/zmq/sugar/socket.py\u001b[0m in \u001b[0;36mrecv_multipart\u001b[0;34m(self, flags, copy, track)\u001b[0m\n\u001b[1;32m    469\u001b[0m         \"\"\"\n\u001b[0;32m--> 470\u001b[0;31m         \u001b[0mparts\u001b[0m \u001b[0;34m=\u001b[0m \u001b[0;34m[\u001b[0m\u001b[0mself\u001b[0m\u001b[0;34m.\u001b[0m\u001b[0mrecv\u001b[0m\u001b[0;34m(\u001b[0m\u001b[0mflags\u001b[0m\u001b[0;34m,\u001b[0m \u001b[0mcopy\u001b[0m\u001b[0;34m=\u001b[0m\u001b[0mcopy\u001b[0m\u001b[0;34m,\u001b[0m \u001b[0mtrack\u001b[0m\u001b[0;34m=\u001b[0m\u001b[0mtrack\u001b[0m\u001b[0;34m)\u001b[0m\u001b[0;34m]\u001b[0m\u001b[0;34m\u001b[0m\u001b[0;34m\u001b[0m\u001b[0m\n\u001b[0m\u001b[1;32m    471\u001b[0m         \u001b[0;31m# have first part already, only loop while more to receive\u001b[0m\u001b[0;34m\u001b[0m\u001b[0;34m\u001b[0m\u001b[0;34m\u001b[0m\u001b[0m\n",
      "\u001b[0;32mzmq/backend/cython/socket.pyx\u001b[0m in \u001b[0;36mzmq.backend.cython.socket.Socket.recv\u001b[0;34m()\u001b[0m\n",
      "\u001b[0;32mzmq/backend/cython/socket.pyx\u001b[0m in \u001b[0;36mzmq.backend.cython.socket.Socket.recv\u001b[0;34m()\u001b[0m\n",
      "\u001b[0;32mzmq/backend/cython/socket.pyx\u001b[0m in \u001b[0;36mzmq.backend.cython.socket._recv_copy\u001b[0;34m()\u001b[0m\n",
      "\u001b[0;32m/usr/local/var/pyenv/versions/3.6.8/lib/python3.6/site-packages/zmq/backend/cython/checkrc.pxd\u001b[0m in \u001b[0;36mzmq.backend.cython.checkrc._check_rc\u001b[0;34m()\u001b[0m\n",
      "\u001b[0;31mKeyboardInterrupt\u001b[0m: ",
      "\nDuring handling of the above exception, another exception occurred:\n",
      "\u001b[0;31mKeyboardInterrupt\u001b[0m                         Traceback (most recent call last)",
      "\u001b[0;32m<ipython-input-253-c466edadfc60>\u001b[0m in \u001b[0;36m<module>\u001b[0;34m\u001b[0m\n\u001b[1;32m     31\u001b[0m \u001b[0;34m\u001b[0m\u001b[0m\n\u001b[1;32m     32\u001b[0m \u001b[0mINF\u001b[0m \u001b[0;34m=\u001b[0m \u001b[0;36m1\u001b[0m\u001b[0;34m<<\u001b[0m\u001b[0;36m60\u001b[0m\u001b[0;34m\u001b[0m\u001b[0;34m\u001b[0m\u001b[0m\n\u001b[0;32m---> 33\u001b[0;31m \u001b[0mH\u001b[0m\u001b[0;34m,\u001b[0m\u001b[0mW\u001b[0m\u001b[0;34m,\u001b[0m\u001b[0mT\u001b[0m \u001b[0;34m=\u001b[0m \u001b[0mmap\u001b[0m\u001b[0;34m(\u001b[0m\u001b[0mint\u001b[0m\u001b[0;34m,\u001b[0m \u001b[0minput\u001b[0m\u001b[0;34m(\u001b[0m\u001b[0;34m)\u001b[0m\u001b[0;34m.\u001b[0m\u001b[0msplit\u001b[0m\u001b[0;34m(\u001b[0m\u001b[0;34m)\u001b[0m\u001b[0;34m)\u001b[0m\u001b[0;34m\u001b[0m\u001b[0;34m\u001b[0m\u001b[0m\n\u001b[0m\u001b[1;32m     34\u001b[0m \u001b[0mS\u001b[0m \u001b[0;34m=\u001b[0m \u001b[0;34m[\u001b[0m\u001b[0mlist\u001b[0m\u001b[0;34m(\u001b[0m\u001b[0minput\u001b[0m\u001b[0;34m(\u001b[0m\u001b[0;34m)\u001b[0m\u001b[0;34m)\u001b[0m \u001b[0;32mfor\u001b[0m \u001b[0m_\u001b[0m \u001b[0;32min\u001b[0m \u001b[0mrange\u001b[0m\u001b[0;34m(\u001b[0m\u001b[0mH\u001b[0m\u001b[0;34m)\u001b[0m\u001b[0;34m]\u001b[0m\u001b[0;34m\u001b[0m\u001b[0;34m\u001b[0m\u001b[0m\n\u001b[1;32m     35\u001b[0m \u001b[0md\u001b[0m \u001b[0;34m=\u001b[0m \u001b[0;34m[\u001b[0m\u001b[0;34m[\u001b[0m\u001b[0mINF\u001b[0m \u001b[0;32mfor\u001b[0m \u001b[0m_\u001b[0m \u001b[0;32min\u001b[0m \u001b[0mrange\u001b[0m\u001b[0;34m(\u001b[0m\u001b[0mW\u001b[0m\u001b[0;34m)\u001b[0m\u001b[0;34m]\u001b[0m \u001b[0;32mfor\u001b[0m \u001b[0m_\u001b[0m \u001b[0;32min\u001b[0m \u001b[0mrange\u001b[0m\u001b[0;34m(\u001b[0m\u001b[0mH\u001b[0m\u001b[0;34m)\u001b[0m\u001b[0;34m]\u001b[0m\u001b[0;34m\u001b[0m\u001b[0;34m\u001b[0m\u001b[0m\n",
      "\u001b[0;32m/usr/local/var/pyenv/versions/3.6.8/lib/python3.6/site-packages/ipykernel/kernelbase.py\u001b[0m in \u001b[0;36mraw_input\u001b[0;34m(self, prompt)\u001b[0m\n\u001b[1;32m    858\u001b[0m             \u001b[0mself\u001b[0m\u001b[0;34m.\u001b[0m\u001b[0m_parent_ident\u001b[0m\u001b[0;34m,\u001b[0m\u001b[0;34m\u001b[0m\u001b[0;34m\u001b[0m\u001b[0m\n\u001b[1;32m    859\u001b[0m             \u001b[0mself\u001b[0m\u001b[0;34m.\u001b[0m\u001b[0m_parent_header\u001b[0m\u001b[0;34m,\u001b[0m\u001b[0;34m\u001b[0m\u001b[0;34m\u001b[0m\u001b[0m\n\u001b[0;32m--> 860\u001b[0;31m             \u001b[0mpassword\u001b[0m\u001b[0;34m=\u001b[0m\u001b[0;32mFalse\u001b[0m\u001b[0;34m,\u001b[0m\u001b[0;34m\u001b[0m\u001b[0;34m\u001b[0m\u001b[0m\n\u001b[0m\u001b[1;32m    861\u001b[0m         )\n\u001b[1;32m    862\u001b[0m \u001b[0;34m\u001b[0m\u001b[0m\n",
      "\u001b[0;32m/usr/local/var/pyenv/versions/3.6.8/lib/python3.6/site-packages/ipykernel/kernelbase.py\u001b[0m in \u001b[0;36m_input_request\u001b[0;34m(self, prompt, ident, parent, password)\u001b[0m\n\u001b[1;32m    888\u001b[0m             \u001b[0;32mexcept\u001b[0m \u001b[0mKeyboardInterrupt\u001b[0m\u001b[0;34m:\u001b[0m\u001b[0;34m\u001b[0m\u001b[0;34m\u001b[0m\u001b[0m\n\u001b[1;32m    889\u001b[0m                 \u001b[0;31m# re-raise KeyboardInterrupt, to truncate traceback\u001b[0m\u001b[0;34m\u001b[0m\u001b[0;34m\u001b[0m\u001b[0;34m\u001b[0m\u001b[0m\n\u001b[0;32m--> 890\u001b[0;31m                 \u001b[0;32mraise\u001b[0m \u001b[0mKeyboardInterrupt\u001b[0m\u001b[0;34m\u001b[0m\u001b[0;34m\u001b[0m\u001b[0m\n\u001b[0m\u001b[1;32m    891\u001b[0m             \u001b[0;32melse\u001b[0m\u001b[0;34m:\u001b[0m\u001b[0;34m\u001b[0m\u001b[0;34m\u001b[0m\u001b[0m\n\u001b[1;32m    892\u001b[0m                 \u001b[0;32mbreak\u001b[0m\u001b[0;34m\u001b[0m\u001b[0;34m\u001b[0m\u001b[0m\n",
      "\u001b[0;31mKeyboardInterrupt\u001b[0m: "
     ]
    }
   ],
   "source": [
    "dx=[1,0,-1,0]\n",
    "dy=[0,1,0,-1]\n",
    "def bfs(xx):\n",
    "    que=[]\n",
    "    for i in range(H):\n",
    "        for j in range(W):\n",
    "            d[i][j]=INF\n",
    "#     print(d)       \n",
    "    que.append([sx,sy])\n",
    "    d[sx][sy]=0\n",
    "#     print(d)  \n",
    "    while(len(que)>0):\n",
    "        p=que.pop(0)\n",
    "#         if p[0]==gx and p[1]==gy:\n",
    "#             break\n",
    "        for i in range(4):\n",
    "            nx=p[0]+dx[i]\n",
    "            ny=p[1]+dy[i]\n",
    "#             print(nx,ny, maze[nx][ny], d[nx][ny] )\n",
    "            if 0<=nx and nx<H and 0<=ny and ny<W:\n",
    "                if S[nx][ny]=='.' or S[nx][ny]=='G':\n",
    "                    add=1\n",
    "                else:\n",
    "                    add=xx\n",
    "                if d[nx][ny]>d[p[0]][p[1]]+add:\n",
    "                    d[nx][ny]=d[p[0]][p[1]]+add\n",
    "                    que.append([nx,ny])\n",
    "\n",
    "\n",
    "    return d[gx][gy]\n",
    "\n",
    "INF = 1<<60\n",
    "H,W,T = map(int, input().split())\n",
    "S = [list(input()) for _ in range(H)]\n",
    "d = [[INF for _ in range(W)] for _ in range(H)]\n",
    "\n",
    "\n",
    "flag=0\n",
    "for i in range(H):\n",
    "    for j in range(W):\n",
    "        if S[i][j]=='S':\n",
    "            sx=i\n",
    "            sy=j\n",
    "            flag+=1\n",
    "        \n",
    "        if S[i][j]=='G':\n",
    "            gx=i\n",
    "            gy=j\n",
    "            flag+=1\n",
    "            \n",
    "        if flag==2:\n",
    "            break\n",
    "\n",
    "\n",
    "y=1\n",
    "z=T\n",
    "while(z-y!=1):\n",
    "    x=(y+z)//2\n",
    "#     print(y,x,z)\n",
    "    d = [[INF for _ in range(W)] for _ in range(H)]\n",
    "    d[sx][sy]=0\n",
    "    ans=bfs(x)\n",
    "\n",
    "    if ans>T:\n",
    "        z=x\n",
    "    elif ans<T:\n",
    "        y=x\n",
    "    else:\n",
    "        break\n",
    "x=(y+z)//2\n",
    "print(x)"
   ]
  },
  {
   "cell_type": "code",
   "execution_count": 254,
   "metadata": {},
   "outputs": [
    {
     "name": "stdout",
     "output_type": "stream",
     "text": [
      "7\n",
      "1 7\n",
      "8\n",
      "1 2\n",
      "1 3\n",
      "4 2\n",
      "4 3\n",
      "4 5\n",
      "4 6\n",
      "7 5\n",
      "7 6\n"
     ]
    }
   ],
   "source": [
    "N=int(input())\n",
    "a,b= map(int, input().split())\n",
    "M=int(input())\n",
    "E=[list(map(int, input().split())) for i in range(M)]"
   ]
  },
  {
   "cell_type": "code",
   "execution_count": 285,
   "metadata": {},
   "outputs": [],
   "source": [
    "mod = 10**9+7"
   ]
  },
  {
   "cell_type": "code",
   "execution_count": null,
   "metadata": {},
   "outputs": [],
   "source": []
  },
  {
   "cell_type": "code",
   "execution_count": 361,
   "metadata": {},
   "outputs": [],
   "source": [
    "E=[[1, 2],\n",
    "[1, 3],\n",
    "[4, 2],\n",
    "[4, 3],\n",
    "[4, 5],\n",
    "[4, 6],\n",
    "[7, 5],\n",
    "[7, 6],\n",
    "]"
   ]
  },
  {
   "cell_type": "code",
   "execution_count": 362,
   "metadata": {},
   "outputs": [],
   "source": [
    "E2=[]\n",
    "for e in E:\n",
    "    E2.append([e[1],e[0]])\n",
    "E=E+E2\n",
    "E.sort()"
   ]
  },
  {
   "cell_type": "code",
   "execution_count": 363,
   "metadata": {},
   "outputs": [],
   "source": [
    "edge=E\n",
    "V=9"
   ]
  },
  {
   "cell_type": "code",
   "execution_count": 364,
   "metadata": {},
   "outputs": [
    {
     "data": {
      "text/plain": [
       "[[1, 2],\n",
       " [1, 3],\n",
       " [2, 1],\n",
       " [2, 4],\n",
       " [3, 1],\n",
       " [3, 4],\n",
       " [4, 2],\n",
       " [4, 3],\n",
       " [4, 5],\n",
       " [4, 6],\n",
       " [5, 4],\n",
       " [5, 7],\n",
       " [6, 4],\n",
       " [6, 7],\n",
       " [7, 5],\n",
       " [7, 6]]"
      ]
     },
     "execution_count": 364,
     "metadata": {},
     "output_type": "execute_result"
    }
   ],
   "source": [
    "edge"
   ]
  },
  {
   "cell_type": "code",
   "execution_count": 369,
   "metadata": {},
   "outputs": [],
   "source": [
    "def shortest_path(s):\n",
    "    INF = 1<<60\n",
    "    d=[INF]*(V+1)\n",
    "    count=[INF]*(V+1)\n",
    "    d[s]=0\n",
    "    count[s]=1\n",
    "    update=0\n",
    "    que=[s]\n",
    "    while(que):\n",
    "        q=que.pop(0)\n",
    "        for e in edge:\n",
    "            if q==e[0]:\n",
    "                if d[e[1]]>d[q]+1:\n",
    "                    d[e[1]]=d[q]+1\n",
    "                    count[e[1]]=0\n",
    "                    que.append(e[1])\n",
    "                if d[e[1]]==d[q]+1:\n",
    "                    count[e[1]]+=count[q]\n",
    "    return count"
   ]
  },
  {
   "cell_type": "code",
   "execution_count": 370,
   "metadata": {},
   "outputs": [
    {
     "data": {
      "text/plain": [
       "4"
      ]
     },
     "execution_count": 370,
     "metadata": {},
     "output_type": "execute_result"
    }
   ],
   "source": [
    "c=shortest_path(1)\n",
    "c[7]"
   ]
  },
  {
   "cell_type": "code",
   "execution_count": 371,
   "metadata": {},
   "outputs": [
    {
     "data": {
      "text/plain": [
       "[1152921504606846976,\n",
       " 0,\n",
       " 1,\n",
       " 1,\n",
       " 2,\n",
       " 3,\n",
       " 3,\n",
       " 4,\n",
       " 1152921504606846976,\n",
       " 1152921504606846976]"
      ]
     },
     "execution_count": 371,
     "metadata": {},
     "output_type": "execute_result"
    }
   ],
   "source": [
    "d"
   ]
  },
  {
   "cell_type": "code",
   "execution_count": 368,
   "metadata": {},
   "outputs": [
    {
     "data": {
      "text/plain": [
       "[1152921504606846976,\n",
       " 1,\n",
       " 1,\n",
       " 1,\n",
       " 2,\n",
       " 2,\n",
       " 2,\n",
       " 4,\n",
       " 1152921504606846976,\n",
       " 1152921504606846976]"
      ]
     },
     "execution_count": 368,
     "metadata": {},
     "output_type": "execute_result"
    }
   ],
   "source": [
    "c"
   ]
  },
  {
   "cell_type": "code",
   "execution_count": null,
   "metadata": {},
   "outputs": [],
   "source": [
    "\n"
   ]
  },
  {
   "cell_type": "code",
   "execution_count": null,
   "metadata": {},
   "outputs": [],
   "source": [
    "\n",
    "\n",
    "N=int(input())\n",
    "a,b= map(int, input().split())\n",
    "M=int(input())\n",
    "edge=[list(map(int, input().split())) for i in range(M)]\n",
    "E=[]\n",
    "for e in E:\n",
    "    E.append([e[1],e[0]])\n",
    "edge=edge+E\n",
    "\n",
    "def shortest_path(s):\n",
    "    INF = 1<<60\n",
    "    d=[INF]*(N+1)\n",
    "    count=[INF]*(N+1)\n",
    "    d[s]=0\n",
    "    count[s]=1\n",
    "    update=0\n",
    "    que=[s]\n",
    "    while(que):\n",
    "        q=que.pop(0)\n",
    "        for e in edge:\n",
    "            if q==e[0]:\n",
    "                if d[e[1]]>d[q]+1:\n",
    "                    d[e[1]]=d[q]+1\n",
    "                    count[e[1]]=0\n",
    "                    que.append(e[1])\n",
    "                if d[e[1]]==d[q]+1:\n",
    "                    count[e[1]]+=count[q]\n",
    "    return count\n",
    "\n",
    "c=shortest_path(a)\n",
    "print(c[b])"
   ]
  },
  {
   "cell_type": "code",
   "execution_count": null,
   "metadata": {},
   "outputs": [],
   "source": []
  },
  {
   "cell_type": "code",
   "execution_count": null,
   "metadata": {},
   "outputs": [],
   "source": []
  },
  {
   "cell_type": "code",
   "execution_count": 54,
   "metadata": {},
   "outputs": [
    {
     "name": "stdout",
     "output_type": "stream",
     "text": [
      "5 7\n",
      "1 2 2\n",
      "1 4 1\n",
      "2 3 7\n",
      "1 5 12\n",
      "3 5 2\n",
      "2 5 3\n",
      "3 4 5\n"
     ]
    }
   ],
   "source": [
    "N,M= map(int, input().split())\n",
    "edge=[list(map(int, input().split())) for i in range(M)]\n",
    "E=[]\n",
    "for e in edge:\n",
    "    E.append([e[1],e[0],e[2]])\n",
    "edge=edge+E"
   ]
  },
  {
   "cell_type": "code",
   "execution_count": 55,
   "metadata": {},
   "outputs": [],
   "source": [
    "edge_without1=[]\n",
    "for e in edge:\n",
    "    if not(1 in e[:2]):\n",
    "        edge_without1.append(e)"
   ]
  },
  {
   "cell_type": "code",
   "execution_count": 56,
   "metadata": {},
   "outputs": [],
   "source": [
    "\n",
    "def shortest_path(s):\n",
    "    INF = 1<<60\n",
    "    d=[INF]*(N+1)\n",
    "    d[s]=0\n",
    "    update=0\n",
    "    while(update==0):\n",
    "        update=1\n",
    "#         print(d)\n",
    "        for e in edge_without1:\n",
    "            if d[e[0]]!=INF and d[e[1]]>d[e[0]]+e[2]:\n",
    "                d[e[1]]=d[e[0]]+e[2]\n",
    "                update=0\n",
    "    return d"
   ]
  },
  {
   "cell_type": "code",
   "execution_count": 57,
   "metadata": {},
   "outputs": [],
   "source": [
    "short_path_wothout1=[]\n",
    "for i in range(N+1):\n",
    "    short_path_wothout1.append(shortest_path(i))"
   ]
  },
  {
   "cell_type": "code",
   "execution_count": 58,
   "metadata": {},
   "outputs": [
    {
     "data": {
      "text/plain": [
       "[[0,\n",
       "  1152921504606846976,\n",
       "  1152921504606846976,\n",
       "  1152921504606846976,\n",
       "  1152921504606846976,\n",
       "  1152921504606846976],\n",
       " [1152921504606846976,\n",
       "  0,\n",
       "  1152921504606846976,\n",
       "  1152921504606846976,\n",
       "  1152921504606846976,\n",
       "  1152921504606846976],\n",
       " [1152921504606846976, 1152921504606846976, 0, 5, 10, 3],\n",
       " [1152921504606846976, 1152921504606846976, 5, 0, 5, 2],\n",
       " [1152921504606846976, 1152921504606846976, 10, 5, 0, 7],\n",
       " [1152921504606846976, 1152921504606846976, 3, 2, 7, 0]]"
      ]
     },
     "execution_count": 58,
     "metadata": {},
     "output_type": "execute_result"
    }
   ],
   "source": [
    "short_path_wothout1"
   ]
  },
  {
   "cell_type": "code",
   "execution_count": 67,
   "metadata": {},
   "outputs": [],
   "source": [
    "ans=[]\n",
    "for i in range(2,N):\n",
    "    for j in range(i+1,N+1):\n",
    "        dd=0\n",
    "        flag=0\n",
    "        for e in edge:\n",
    "            \n",
    "            if i==e[0] and 1==e[1]:\n",
    "                dd+=e[2]\n",
    "                flag+=1\n",
    "            if j==e[0] and 1==e[1]:\n",
    "                dd+=e[2]\n",
    "                flag+=1\n",
    "        if flag==2:\n",
    "            dd+=short_path_wothout1[i][j]\n",
    "        else:\n",
    "            dd=1<<60\n",
    "        ans.append(dd)"
   ]
  },
  {
   "cell_type": "code",
   "execution_count": 68,
   "metadata": {},
   "outputs": [
    {
     "data": {
      "text/plain": [
       "13"
      ]
     },
     "execution_count": 68,
     "metadata": {},
     "output_type": "execute_result"
    }
   ],
   "source": [
    "min(ans)"
   ]
  },
  {
   "cell_type": "code",
   "execution_count": null,
   "metadata": {},
   "outputs": [],
   "source": [
    "N,M= map(int, input().split())\n",
    "edge=[list(map(int, input().split())) for i in range(M)]\n",
    "E=[]\n",
    "for e in edge:\n",
    "    E.append([e[1],e[0],e[2]])\n",
    "edge=edge+E\n",
    "edge_without1=[]\n",
    "edge_with1=[]\n",
    "\n",
    "\n",
    "for e in edge:\n",
    "    if not(1 in e[:2]):\n",
    "        edge_without1.append(e)\n",
    "    else:\n",
    "        edge_with1.append(e)\n",
    "        \n",
    "def shortest_path(s):\n",
    "    INF = 1<<60\n",
    "    d=[INF]*(N+1)\n",
    "    d[s]=0\n",
    "    update=0\n",
    "    while(update==0):\n",
    "        update=1\n",
    "#         print(d)\n",
    "        for e in edge_without1:\n",
    "            if d[e[0]]!=INF and d[e[1]]>d[e[0]]+e[2]:\n",
    "                d[e[1]]=d[e[0]]+e[2]\n",
    "                update=0\n",
    "    return d\n",
    "short_path_wothout1=[]\n",
    "for i in range(N+1):\n",
    "    short_path_wothout1.append(shortest_path(i))\n",
    "ans=[]\n",
    "for i in range(2,N):\n",
    "    for j in range(i+1,N+1):\n",
    "        dd=0\n",
    "        flag=0\n",
    "        for e in edge_with1:\n",
    "            \n",
    "            if i==e[0] and 1==e[1]:\n",
    "                dd+=e[2]\n",
    "                flag+=1\n",
    "            if j==e[0] and 1==e[1]:\n",
    "                dd+=e[2]\n",
    "                flag+=1\n",
    "        if flag==2:\n",
    "            dd+=short_path_wothout1[i][j]\n",
    "        else:\n",
    "            dd=1<<60\n",
    "        ans.append(dd)\n",
    "a=min(ans)\n",
    "if a==1<<60:\n",
    "    a=-1\n",
    "\n",
    "    \n",
    "print(a)"
   ]
  },
  {
   "cell_type": "code",
   "execution_count": null,
   "metadata": {},
   "outputs": [],
   "source": []
  },
  {
   "cell_type": "code",
   "execution_count": null,
   "metadata": {},
   "outputs": [],
   "source": []
  },
  {
   "cell_type": "code",
   "execution_count": null,
   "metadata": {},
   "outputs": [],
   "source": []
  },
  {
   "cell_type": "code",
   "execution_count": null,
   "metadata": {},
   "outputs": [],
   "source": [
    "N,M= map(int, input().split())\n",
    "edge_without1=[]\n",
    "edge_with1=[]\n",
    "for _ in range(M):\n",
    "    a,b,c=map(int, input().split())\n",
    "    if a==1 or b==1:\n",
    "        edge_with1.append([a,b,c])\n",
    "        edge_with1.append([b,a,c])\n",
    "        \n",
    "    else:\n",
    "        edge_without1.append([a,b,c])\n",
    "        edge_without1.append([b,a,c])\n",
    "        \n",
    "        \n",
    "def shortest_path(s):\n",
    "    INF = 1<<60\n",
    "    d=[INF]*(N+1)\n",
    "    d[s]=0\n",
    "    update=0\n",
    "    while(update==0):\n",
    "        update=1\n",
    "#         print(d)\n",
    "        for e in edge_without1:\n",
    "            if d[e[0]]!=INF and d[e[1]]>d[e[0]]+e[2]:\n",
    "                d[e[1]]=d[e[0]]+e[2]\n",
    "                update=0\n",
    "    return d\n",
    "\n",
    "short_path_wothout1=[]\n",
    "for i in range(N+1):\n",
    "    short_path_wothout1.append(shortest_path(i))\n",
    "    \n",
    "ans=[]\n",
    "for i in range(2,N):\n",
    "    for j in range(i+1,N+1):\n",
    "        dd=0\n",
    "        flag=0\n",
    "        for e in edge_with1:\n",
    "            \n",
    "            if i==e[0] and 1==e[1]:\n",
    "                dd+=e[2]\n",
    "                flag+=1\n",
    "            if j==e[0] and 1==e[1]:\n",
    "                dd+=e[2]\n",
    "                flag+=1\n",
    "        if flag==2:\n",
    "            dd+=short_path_wothout1[i][j]\n",
    "        else:\n",
    "            dd=1<<60\n",
    "        ans.append(dd)\n",
    "        \n",
    "a=min(ans)\n",
    "if a>=1<<60:\n",
    "    a=-1\n",
    "\n",
    "    \n",
    "print(a)"
   ]
  },
  {
   "cell_type": "code",
   "execution_count": 69,
   "metadata": {},
   "outputs": [
    {
     "name": "stdout",
     "output_type": "stream",
     "text": [
      "5 7\n",
      "1 2 2\n",
      "1 4 1\n",
      "2 3 7\n",
      "1 5 12\n",
      "3 5 2\n",
      "2 5 3\n",
      "3 4 5\n"
     ]
    }
   ],
   "source": [
    "import numpy as np\n",
    "from scipy.sparse.csgraph import floyd_warshall\n",
    "dmatrix=np.array([[0]*(N+1) for _ in range(N+1)])\n",
    "N,M= map(int, input().split())\n",
    "for _ in range(M):\n",
    "    a,b,c=map(int, input().split())\n",
    "    dmatrix[a][b]=c\n",
    "    dmatrix[b][a]=c\n",
    "    \n"
   ]
  },
  {
   "cell_type": "code",
   "execution_count": 123,
   "metadata": {},
   "outputs": [],
   "source": [
    "import numpy as np\n",
    "from scipy.sparse import csr_matrix\n",
    "dmatrix=np.array(dmatrix)"
   ]
  },
  {
   "cell_type": "code",
   "execution_count": 117,
   "metadata": {},
   "outputs": [],
   "source": [
    "import copy\n",
    "dmatrix_without1=copy.copy(dmatrix)\n",
    "dmatrix_without1[1,:]=0\n",
    "dmatrix_without1[:,1]=0"
   ]
  },
  {
   "cell_type": "code",
   "execution_count": 118,
   "metadata": {},
   "outputs": [
    {
     "data": {
      "text/plain": [
       "array([[ 0,  0,  0,  0,  0,  0],\n",
       "       [ 0,  0,  2,  0,  1, 12],\n",
       "       [ 0,  2,  0,  7,  0,  3],\n",
       "       [ 0,  0,  7,  0,  5,  2],\n",
       "       [ 0,  1,  0,  5,  0,  0],\n",
       "       [ 0, 12,  3,  2,  0,  0]])"
      ]
     },
     "execution_count": 118,
     "metadata": {},
     "output_type": "execute_result"
    }
   ],
   "source": [
    "dmatrix"
   ]
  },
  {
   "cell_type": "code",
   "execution_count": 119,
   "metadata": {},
   "outputs": [
    {
     "data": {
      "text/plain": [
       "array([[0, 0, 0, 0, 0, 0],\n",
       "       [0, 0, 0, 0, 0, 0],\n",
       "       [0, 0, 0, 7, 0, 3],\n",
       "       [0, 0, 7, 0, 5, 2],\n",
       "       [0, 0, 0, 5, 0, 0],\n",
       "       [0, 0, 3, 2, 0, 0]])"
      ]
     },
     "execution_count": 119,
     "metadata": {},
     "output_type": "execute_result"
    }
   ],
   "source": [
    "dmatrix_without1"
   ]
  },
  {
   "cell_type": "code",
   "execution_count": 147,
   "metadata": {},
   "outputs": [],
   "source": [
    "graph = csr_matrix(dmatrix_without1)\n",
    "shortest=floyd_warshall(csgraph=graph,directed=False)"
   ]
  },
  {
   "cell_type": "code",
   "execution_count": 148,
   "metadata": {},
   "outputs": [
    {
     "data": {
      "text/plain": [
       "array([[ 0., inf, inf, inf, inf, inf],\n",
       "       [inf,  0., inf, inf, inf, inf],\n",
       "       [inf, inf,  0.,  5., 10.,  3.],\n",
       "       [inf, inf,  5.,  0.,  5.,  2.],\n",
       "       [inf, inf, 10.,  5.,  0.,  7.],\n",
       "       [inf, inf,  3.,  2.,  7.,  0.]])"
      ]
     },
     "execution_count": 148,
     "metadata": {},
     "output_type": "execute_result"
    }
   ],
   "source": [
    "shortest"
   ]
  },
  {
   "cell_type": "code",
   "execution_count": 149,
   "metadata": {},
   "outputs": [],
   "source": [
    "inf=1<<60"
   ]
  },
  {
   "cell_type": "code",
   "execution_count": 150,
   "metadata": {},
   "outputs": [
    {
     "name": "stdout",
     "output_type": "stream",
     "text": [
      "13\n"
     ]
    }
   ],
   "source": [
    "ans=[]\n",
    "for i in range(1,N):\n",
    "    for j in range(i+1,N+1):\n",
    "        dd=shortest[i,j]\n",
    "        if dmatrix[1,i]==0 or dmatrix[1,j]==0:\n",
    "            dd=inf\n",
    "        else:\n",
    "            dd+=dmatrix[1,i]+dmatrix[1,j]\n",
    "        ans.append(dd)\n",
    "ans=int(min(ans)+0.001)\n",
    "if ans>=inf:\n",
    "    print(-1)\n",
    "else:\n",
    "    print(ans)"
   ]
  },
  {
   "cell_type": "code",
   "execution_count": null,
   "metadata": {},
   "outputs": [],
   "source": []
  },
  {
   "cell_type": "code",
   "execution_count": null,
   "metadata": {},
   "outputs": [],
   "source": [
    "import numpy as np\n",
    "import copy\n",
    "from scipy.sparse.csgraph import floyd_warshall\n",
    "from scipy.sparse import csr_matrix\n",
    "\n",
    "dmatrix=np.array([[0]*(N+1) for _ in range(N+1)])\n",
    "N,M= map(int, input().split())\n",
    "for _ in range(M):\n",
    "    a,b,c=map(int, input().split())\n",
    "    dmatrix[a][b]=c\n",
    "    dmatrix[b][a]=c\n",
    "    \n",
    "graph = csr_matrix(dmatrix_without1)\n",
    "shortest=floyd_warshall(csgraph=graph,directed=False)\n",
    "\n",
    "inf=1<<60\n",
    "ans=[]\n",
    "for i in range(1,N):\n",
    "    for j in range(i+1,N+1):\n",
    "        dd=shortest[i,j]\n",
    "        if dmatrix[1,i]==0 or dmatrix[1,j]==0:\n",
    "            dd=inf\n",
    "        else:\n",
    "            dd+=dmatrix[1,i]+dmatrix[1,j]\n",
    "        ans.append(dd)\n",
    "ans=int(min(ans)+0.001)\n",
    "if ans>=inf:\n",
    "    print(-1)\n",
    "else:\n",
    "    print(ans)"
   ]
  },
  {
   "cell_type": "code",
   "execution_count": null,
   "metadata": {},
   "outputs": [],
   "source": []
  },
  {
   "cell_type": "code",
   "execution_count": null,
   "metadata": {},
   "outputs": [],
   "source": []
  },
  {
   "cell_type": "code",
   "execution_count": 158,
   "metadata": {},
   "outputs": [
    {
     "name": "stdout",
     "output_type": "stream",
     "text": [
      "3 5 3\n",
      "5\n",
      "1 2\n",
      "2 1\n",
      "2 5\n",
      "3 2\n",
      "3 5\n"
     ]
    }
   ],
   "source": [
    "import numpy as np\n",
    "R,C,K= map(int, input().split())\n",
    "N=int(input())\n",
    "matrix=np.array([[0]*C for _ in range(R)])\n",
    "for _ in range(N):\n",
    "    i,j=map(int, input().split())\n",
    "    matrix[i-1][j-1]=1"
   ]
  },
  {
   "cell_type": "code",
   "execution_count": null,
   "metadata": {},
   "outputs": [],
   "source": []
  },
  {
   "cell_type": "code",
   "execution_count": 185,
   "metadata": {},
   "outputs": [],
   "source": [
    "\n",
    "row=[]\n",
    "for i in range(R):\n",
    "    row.append(sum(matrix[i]))\n",
    "\n",
    "column=[]\n",
    "for i in range(C):\n",
    "    column.append(sum(matrix.T[i]))\n",
    "\n",
    "row=np.array(row)\n",
    "column=np.array(column)"
   ]
  },
  {
   "cell_type": "code",
   "execution_count": 217,
   "metadata": {},
   "outputs": [
    {
     "name": "stdout",
     "output_type": "stream",
     "text": [
      "5\n"
     ]
    }
   ],
   "source": [
    "r=np.array([row for i in range(C)]).T\n",
    "c=np.array([column for i in range(R)])\n",
    "\n",
    "ans=r+c-matrix\n",
    "print( np.count_nonzero(ans==K))"
   ]
  },
  {
   "cell_type": "code",
   "execution_count": null,
   "metadata": {},
   "outputs": [],
   "source": [
    "import numpy as np\n",
    "R,C,K= map(int, input().split())\n",
    "N=int(input())\n",
    "matrix=np.array([[0]*C for _ in range(R)])\n",
    "for _ in range(N):\n",
    "    i,j=map(int, input().split())\n",
    "    matrix[i-1][j-1]=1\n",
    "\n",
    "row=[]\n",
    "for i in range(R):\n",
    "    row.append(sum(matrix[i]))\n",
    "\n",
    "column=[]\n",
    "for i in range(C):\n",
    "    column.append(sum(matrix.T[i]))\n",
    "\n",
    "row=np.array(row)\n",
    "column=np.array(column)\n",
    "r=np.array([row for i in range(C)]).T\n",
    "c=np.array([column for i in range(R)])\n",
    "\n",
    "ans=r+c-matrix\n",
    "print( np.count_nonzero(ans==K))"
   ]
  },
  {
   "cell_type": "code",
   "execution_count": 9,
   "metadata": {},
   "outputs": [
    {
     "name": "stdout",
     "output_type": "stream",
     "text": [
      "7 3 1\n",
      "4\n",
      "3 2\n",
      "3 3\n",
      "4 2\n",
      "4 3\n",
      "8\n"
     ]
    }
   ],
   "source": [
    "import numpy as np\n",
    "R,C,K= map(int, input().split())\n",
    "N=int(input())\n",
    "matrix=np.array([[0]*C for _ in range(R)])\n",
    "for _ in range(N):\n",
    "    i,j=map(int, input().split())\n",
    "    matrix[i-1][j-1]=1\n",
    "\n",
    "row=[]\n",
    "for i in range(R):\n",
    "    row.append(sum(matrix[i]))\n",
    "\n",
    "column=[]\n",
    "for i in range(C):\n",
    "    column.append(sum(matrix.T[i]))\n",
    "\n",
    "import collections\n",
    "r=collections.Counter(row)\n",
    "c=collections.Counter(column)\n",
    "ans=0\n",
    "for i in r:\n",
    "    for j in c:\n",
    "        if i+j==K or i+j==K+1:\n",
    "            ans+=r[i]*c[j]\n",
    "print(ans-N)"
   ]
  },
  {
   "cell_type": "code",
   "execution_count": 14,
   "metadata": {},
   "outputs": [
    {
     "name": "stdout",
     "output_type": "stream",
     "text": [
      "12\n"
     ]
    }
   ],
   "source": [
    "import collections\n",
    "r=collections.Counter(row)\n",
    "c=collections.Counter(column)\n",
    "ans=0\n",
    "for i in r:\n",
    "    for j in c:\n",
    "        if i+j==K+1:\n",
    "            ans+=r[i]*c[j]\n",
    "print(ans)"
   ]
  },
  {
   "cell_type": "code",
   "execution_count": 15,
   "metadata": {},
   "outputs": [],
   "source": [
    "r=collections.Counter([1,1,0,0,2])"
   ]
  },
  {
   "cell_type": "code",
   "execution_count": 18,
   "metadata": {},
   "outputs": [
    {
     "data": {
      "text/plain": [
       "0"
      ]
     },
     "execution_count": 18,
     "metadata": {},
     "output_type": "execute_result"
    }
   ],
   "source": [
    "r[3]"
   ]
  },
  {
   "cell_type": "code",
   "execution_count": 12,
   "metadata": {},
   "outputs": [
    {
     "data": {
      "text/plain": [
       "Counter({0: 1, 2: 2})"
      ]
     },
     "execution_count": 12,
     "metadata": {},
     "output_type": "execute_result"
    }
   ],
   "source": [
    "c"
   ]
  },
  {
   "cell_type": "code",
   "execution_count": null,
   "metadata": {},
   "outputs": [],
   "source": [
    "import numpy as np\n",
    "import collections\n",
    "R,C,K= map(int, input().split())\n",
    "N=int(input())\n",
    "RC=[]\n",
    "row=[0]*R\n",
    "column=[0]*C\n",
    "\n",
    "r=collections.Counter(row)\n",
    "c=collections.Counter(column)\n",
    "\n",
    "ans=0\n",
    "for i in range(N):\n",
    "    r, c = map(int, input().split())\n",
    "    row[r-1] += 1\n",
    "    column[c-1] += 1\n",
    "    RC.append((r-1,c-1))\n",
    "ans=0\n",
    "for i in range(K=1):\n",
    "    ans+=r[i]*c[K-i]\n",
    "for i,j in RC:\n",
    "    if row[i]+column[j]==K:\n",
    "        ans-=1\n",
    "    if row[i]+column[j]==K+1:\n",
    "        ans+=1\n",
    "print(ans)"
   ]
  },
  {
   "cell_type": "code",
   "execution_count": null,
   "metadata": {},
   "outputs": [],
   "source": [
    "ans=0\n",
    "for i in range(K=1):\n",
    "    ans+=r[i]*c[K-i]\n",
    "for i,j in RC:\n",
    "    if row[i]+column[j]==K:\n",
    "        ans-=1\n",
    "    if row[i]+column[j]==K+1:\n",
    "        ans+=1\n",
    "print(ans)"
   ]
  },
  {
   "cell_type": "code",
   "execution_count": 19,
   "metadata": {},
   "outputs": [
    {
     "name": "stdout",
     "output_type": "stream",
     "text": [
      "5 5 2\n",
      "5\n",
      "1 1\n",
      "2 2\n",
      "3 3\n",
      "4 4\n",
      "5 5\n",
      "70\n"
     ]
    }
   ],
   "source": [
    "import numpy as np\n",
    "import collections\n",
    "R,C,K= map(int, input().split())\n",
    "N=int(input())\n",
    "RC=[]\n",
    "row=[0]*R\n",
    "column=[0]*C\n",
    "\n",
    "\n",
    "for i in range(N):\n",
    "    r, c = map(int, input().split())\n",
    "    row[r-1] += 1\n",
    "    column[c-1] += 1\n",
    "    RC.append((r-1,c-1))\n",
    "\n",
    "r=collections.Counter(row)\n",
    "c=collections.Counter(column)\n",
    "\n",
    "ans=0\n",
    "for i in range(K+1):\n",
    "    ans+=r[i]*c[i]\n",
    "    \n",
    "for i,j in RC:\n",
    "    if row[i]+column[j]==K:\n",
    "        ans-=1\n",
    "    if row[i]+column[j]==K+1:\n",
    "        ans+=1\n",
    "        \n",
    "print(ans)"
   ]
  },
  {
   "cell_type": "code",
   "execution_count": 20,
   "metadata": {},
   "outputs": [],
   "source": [
    "ans=0\n",
    "for i in range(K+1):\n",
    "    ans+=r[1]*c[1]\n",
    "    "
   ]
  },
  {
   "cell_type": "code",
   "execution_count": 22,
   "metadata": {},
   "outputs": [
    {
     "data": {
      "text/plain": [
       "Counter({1: 5})"
      ]
     },
     "execution_count": 22,
     "metadata": {},
     "output_type": "execute_result"
    }
   ],
   "source": [
    "r"
   ]
  },
  {
   "cell_type": "code",
   "execution_count": 23,
   "metadata": {},
   "outputs": [
    {
     "data": {
      "text/plain": [
       "Counter({1: 5})"
      ]
     },
     "execution_count": 23,
     "metadata": {},
     "output_type": "execute_result"
    }
   ],
   "source": [
    "c"
   ]
  },
  {
   "cell_type": "code",
   "execution_count": 25,
   "metadata": {},
   "outputs": [
    {
     "name": "stdout",
     "output_type": "stream",
     "text": [
      "18 22 15\n",
      "11 16 17\n",
      "4 25\n",
      "22 15\n",
      "10 4\n"
     ]
    }
   ],
   "source": [
    "B=[list(map(int, input().split())) for _ in range(2)]\n",
    "C=[list(map(int, input().split())) for _ in range(3)]"
   ]
  },
  {
   "cell_type": "code",
   "execution_count": 29,
   "metadata": {},
   "outputs": [
    {
     "data": {
      "text/plain": [
       "72"
      ]
     },
     "execution_count": 29,
     "metadata": {},
     "output_type": "execute_result"
    }
   ],
   "source": [
    "sum(B[0])+sum(B[1])+sum(C[0])+sum(C[1])+sum(C[2])-107"
   ]
  },
  {
   "cell_type": "code",
   "execution_count": null,
   "metadata": {},
   "outputs": [],
   "source": [
    "put=[0]*9\n",
    "def score(put,i):\n",
    "    if sum(put)==9:\n",
    "        return score\n",
    "    \n",
    "    for j in range(9):\n",
    "        if i%2==1:\n",
    "            ans=\n",
    "        if put[j]!=0:\n",
    "            put[j]+=1\n",
    "            \n",
    "            return score(put,i)"
   ]
  },
  {
   "cell_type": "code",
   "execution_count": null,
   "metadata": {},
   "outputs": [],
   "source": [
    "x = [[int(i) for i in input().split()] for i in range(2)]\n",
    "y = [[int(i) for i in input().split()] for i in range(3)]\n",
    "p = [0 for i in range(9)]\n",
    "m = {}\n",
    "s = sum(x[0])+sum(x[1])+sum(y[0])+sum(y[1])+sum(y[2])\n",
    "\n",
    "def ox(t,a):\n",
    "\tif t==9:\n",
    "\t\ts2 = 0\n",
    "\t\tfor i in range(6): # bの判定\n",
    "\t\t\tif p[i]==p[i+3]: \n",
    "                s2+=x[i//3][i%3]\n",
    "\t\tfor i in [0,1,3,4,6,7]: # cの判定\n",
    "\t\t\tif p[i]==p[i+1]: \n",
    "                s2+=y[i//3][i%3]\n",
    "\t\treturn s2\n",
    "    \n",
    "\tif a and (a in m): \n",
    "        return m[a]\n",
    "\tr = -10**10\n",
    "    n = (-1 if t%2 else 1)\n",
    "    \n",
    "\tfor i in range(9):\n",
    "\t\tif p[i]==0:\n",
    "\t\t\tp[i] = n\n",
    "\t\t\tr = max(r,n*ox(t+1,tuple([j for j in p])))\n",
    "\t\t\tp[i] = 0\n",
    "\tm[tuple([i for i in p])] = n*r\n",
    "\treturn n*r\n",
    "print(ox(0,None))\n",
    "print(s-ox(0,None))\n"
   ]
  }
 ],
 "metadata": {
  "kernelspec": {
   "display_name": "Python 3",
   "language": "python",
   "name": "python3"
  },
  "language_info": {
   "codemirror_mode": {
    "name": "ipython",
    "version": 3
   },
   "file_extension": ".py",
   "mimetype": "text/x-python",
   "name": "python",
   "nbconvert_exporter": "python",
   "pygments_lexer": "ipython3",
   "version": "3.6.8"
  }
 },
 "nbformat": 4,
 "nbformat_minor": 2
}

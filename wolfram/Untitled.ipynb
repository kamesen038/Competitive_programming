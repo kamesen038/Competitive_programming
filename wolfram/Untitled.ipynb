{
 "cells": [
  {
   "cell_type": "code",
   "execution_count": 1,
   "metadata": {},
   "outputs": [],
   "source": [
    "<< Combinatorica`"
   ]
  },
  {
   "cell_type": "code",
   "execution_count": 4,
   "metadata": {},
   "outputs": [],
   "source": [
    "P[n_]:=Partitions[n]"
   ]
  },
  {
   "cell_type": "code",
   "execution_count": 56,
   "metadata": {},
   "outputs": [
    {
     "data": {
      "text/html": [
       "<div><pre style=\"&#102;&#111;&#110;&#116;&#45;&#102;&#97;&#109;&#105;&#108;&#121;&#58;&#32;&#34;&#67;&#111;&#117;&#114;&#105;&#101;&#114;&#32;&#78;&#101;&#119;&#34;&#44;&#67;&#111;&#117;&#114;&#105;&#101;&#114;&#44;&#109;&#111;&#110;&#111;&#115;&#112;&#97;&#99;&#101;&#59;\">&#123;&#123;&#52;&#125;&#44;&#32;&#123;&#51;&#44;&#32;&#49;&#125;&#44;&#32;&#123;&#50;&#44;&#32;&#50;&#125;&#44;&#32;&#123;&#50;&#44;&#32;&#49;&#44;&#32;&#49;&#125;&#44;&#32;&#123;&#49;&#44;&#32;&#49;&#44;&#32;&#49;&#44;&#32;&#49;&#125;&#125;</pre></div>"
      ]
     },
     "execution_count": 56,
     "metadata": {
      "text/html": []
     },
     "output_type": "execute_result"
    }
   ],
   "source": [
    "x=P[4]"
   ]
  },
  {
   "cell_type": "code",
   "execution_count": 57,
   "metadata": {},
   "outputs": [],
   "source": [
    "\n",
    "pick[n_]:=Table[ If[ Length[x[[i]]]<=n, x[[i]] ], {i,1,Length[x]}]\n"
   ]
  },
  {
   "cell_type": "code",
   "execution_count": 59,
   "metadata": {},
   "outputs": [
    {
     "data": {
      "text/html": [
       "<div><img alt=\"Output\" src=\"data:image/png;base64,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\"></div>"
      ]
     },
     "execution_count": 59,
     "metadata": {
      "text/html": []
     },
     "output_type": "execute_result"
    }
   ],
   "source": [
    "y=pick[2]\n"
   ]
  },
  {
   "cell_type": "code",
   "execution_count": 44,
   "metadata": {},
   "outputs": [
    {
     "data": {
      "text/html": [
       "<div><pre style=\"&#102;&#111;&#110;&#116;&#45;&#102;&#97;&#109;&#105;&#108;&#121;&#58;&#32;&#34;&#67;&#111;&#117;&#114;&#105;&#101;&#114;&#32;&#78;&#101;&#119;&#34;&#44;&#67;&#111;&#117;&#114;&#105;&#101;&#114;&#44;&#109;&#111;&#110;&#111;&#115;&#112;&#97;&#99;&#101;&#59;\">&#51;&#55;&#51;&#51;&#56;</pre></div>"
      ]
     },
     "execution_count": 44,
     "metadata": {
      "text/html": []
     },
     "output_type": "execute_result"
    }
   ],
   "source": [
    "Length[x]"
   ]
  },
  {
   "cell_type": "code",
   "execution_count": 55,
   "metadata": {},
   "outputs": [
    {
     "data": {
      "text/html": [
       "<div><pre style=\"&#102;&#111;&#110;&#116;&#45;&#102;&#97;&#109;&#105;&#108;&#121;&#58;&#32;&#34;&#67;&#111;&#117;&#114;&#105;&#101;&#114;&#32;&#78;&#101;&#119;&#34;&#44;&#67;&#111;&#117;&#114;&#105;&#101;&#114;&#44;&#109;&#111;&#110;&#111;&#115;&#112;&#97;&#99;&#101;&#59;\">&#51;&#55;&#51;&#51;&#56;</pre></div>"
      ]
     },
     "execution_count": 55,
     "metadata": {
      "text/html": []
     },
     "output_type": "execute_result"
    }
   ],
   "source": [
    "Length[y]"
   ]
  },
  {
   "cell_type": "code",
   "execution_count": null,
   "metadata": {},
   "outputs": [],
   "source": []
  }
 ],
 "metadata": {
  "kernelspec": {
   "display_name": "Wolfram Language 12",
   "language": "Wolfram Language",
   "name": "wolframlanguage12"
  },
  "language_info": {
   "codemirror_mode": "mathematica",
   "file_extension": ".m",
   "mimetype": "application/vnd.wolfram.m",
   "name": "Wolfram Language",
   "pygments_lexer": "mathematica",
   "version": "12.0"
  }
 },
 "nbformat": 4,
 "nbformat_minor": 2
}
